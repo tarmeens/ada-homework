{
 "cells": [
  {
   "cell_type": "markdown",
   "metadata": {},
   "source": [
    "# 02 - Data from the Web"
   ]
  },
  {
   "cell_type": "code",
   "execution_count": null,
   "metadata": {},
   "outputs": [],
   "source": [
    "# Needed imports\n",
    "import requests\n",
    "from bs4 import BeautifulSoup\n",
    "import pandas as pd\n",
    "import matplotlib.pyplot as plt\n",
    "from IPython.display import display\n",
    "import difflib\n",
    "%matplotlib inline"
   ]
  },
  {
   "cell_type": "markdown",
   "metadata": {},
   "source": [
    "## Some functions we need"
   ]
  },
  {
   "cell_type": "code",
   "execution_count": null,
   "metadata": {},
   "outputs": [],
   "source": [
    "def parseInt(numStr):\n",
    "    cleaned = [x for x in numStr if x.isdigit()]\n",
    "    return int(\"\".join(cleaned))\n",
    "\n",
    "def parseDecimal(numStr):\n",
    "    cleaned = [x for x in numStr if x.isdigit() or x == '.']\n",
    "    return float(\"\".join(cleaned))"
   ]
  },
  {
   "cell_type": "markdown",
   "metadata": {},
   "source": [
    "## Task 1\n",
    "- Obtain the 200 top-ranking universities in www.topuniversities.com ([ranking 2018](https://www.topuniversities.com/university-rankings/world-university-rankings/2018)) "
   ]
  },
  {
   "cell_type": "code",
   "execution_count": null,
   "metadata": {},
   "outputs": [],
   "source": [
    "r = requests.get('https://www.topuniversities.com/sites/default/files/qs-rankings-data/357051.txt')\n",
    "qs_dataset = r.json()['data']"
   ]
  },
  {
   "cell_type": "code",
   "execution_count": null,
   "metadata": {},
   "outputs": [],
   "source": [
    "qs_dataset[0]"
   ]
  },
  {
   "cell_type": "markdown",
   "metadata": {},
   "source": [
    "- Extract for each university: name, rank, country and region, number of faculty members (international and total) and number of students (international and total). The not available information is gathered from the pages relative the relative university. "
   ]
  },
  {
   "cell_type": "code",
   "execution_count": null,
   "metadata": {},
   "outputs": [],
   "source": [
    "results = []\n",
    "for university in qs_dataset[:200]:\n",
    "    url = 'https://www.topuniversities.com' + university['url']\n",
    "    details_html = requests.get(url)\n",
    "    soup = BeautifulSoup(details_html.text, 'html.parser')\n",
    "\n",
    "    def parseAttribute(className):\n",
    "        attr = soup.find('div', class_=className)\n",
    "        if attr is not None:\n",
    "            return parseInt(attr.find('div', class_='number').text)\n",
    "        else:\n",
    "            return 0 # Missing value \n",
    "        # I would return None\n",
    "        \n",
    "    results.append({\n",
    "            'name': university['title'],\n",
    "            'rank': parseInt(university['rank_display']),\n",
    "            'country': university['country'],\n",
    "            'region': university['region'],\n",
    "            'faculty_international': parseAttribute('inter faculty'),\n",
    "            'faculty_total': parseAttribute('total faculty'),\n",
    "            'students_international': parseAttribute('total inter'),\n",
    "            'students_total': parseAttribute('total student')\n",
    "        })"
   ]
  },
  {
   "cell_type": "markdown",
   "metadata": {},
   "source": [
    "- Store the resulting dataset in a DataFrame and store it to file (for later reuse without recomputing it)"
   ]
  },
  {
   "cell_type": "code",
   "execution_count": null,
   "metadata": {},
   "outputs": [],
   "source": [
    "qs_df = pd.DataFrame.from_dict(results).set_index('name')\n",
    "qs_df.to_pickle('qs_dataset')"
   ]
  },
  {
   "cell_type": "code",
   "execution_count": null,
   "metadata": {},
   "outputs": [],
   "source": [
    "qs_df = pd.read_pickle('qs_dataset')\n",
    "qs_df.head()"
   ]
  },
  {
   "cell_type": "markdown",
   "metadata": {},
   "source": [
    "- We now add two new columns 'faculty_students_ratio' and 'international_ratio' so that, sorting along those columns we can find which are the best universities in term of (a) ratio between faculty members and students and (b) ratio of international students."
   ]
  },
  {
   "cell_type": "code",
   "execution_count": null,
   "metadata": {},
   "outputs": [],
   "source": [
    "qs_df['faculty_students_ratio'] = qs_df['faculty_total']/qs_df['students_total']\n",
    "qs_df['international_ratio'] = qs_df['students_international']/qs_df['students_total']\n",
    "qs_df.head()"
   ]
  },
  {
   "cell_type": "code",
   "execution_count": null,
   "metadata": {},
   "outputs": [],
   "source": [
    "qs_df.sort_values('faculty_students_ratio', ascending=False).head()"
   ]
  },
  {
   "cell_type": "code",
   "execution_count": null,
   "metadata": {},
   "outputs": [],
   "source": [
    "qs_df.sort_values('international_ratio', ascending=False).head()"
   ]
  },
  {
   "cell_type": "markdown",
   "metadata": {},
   "source": [
    "- We answer the same question aggregating the data by (c) country and (d) region."
   ]
  },
  {
   "cell_type": "code",
   "execution_count": null,
   "metadata": {},
   "outputs": [],
   "source": [
    "# Inputs:\n",
    "# -grouping_col: we will group data with regard to this column. We will pass 'country' or 'region'.\n",
    "# -value_col: for each group we will pick the university with higher value in this column. We will pass \n",
    "#     'faculty_students_ratio' or 'international_ratio'\n",
    "def aggregate_analyze(df, grouping_col, value_col):\n",
    "    # We group by 'grouping_col' and compute, for each group, the index corresponding to the entry with higher \n",
    "    # 'value_col'. These indices are stored in maxIdx.\n",
    "    maxIdx = df.groupby([grouping_col])[value_col].idxmax()\n",
    "    \n",
    "    # We use those indices to access the original table and retrieve the needed list of universities. \n",
    "    # Moreover, we keep the columns we are interested in, i.e. [grouping_col, 'name', value_col].\n",
    "    res = df.loc[maxIdx][[grouping_col, 'name', value_col]].set_index(grouping_col)\n",
    "    res = res.sort_values(value_col, ascending=False)\n",
    "    \n",
    "    # We finally plot the data in a bar chart\n",
    "    res.plot.bar(sort_columns=True)\n",
    "    display(res)"
   ]
  },
  {
   "cell_type": "code",
   "execution_count": null,
   "metadata": {},
   "outputs": [],
   "source": [
    "qs_df = qs_df.reset_index()\n",
    "aggregate_analyze(qs_df, 'country', 'faculty_students_ratio')"
   ]
  },
  {
   "cell_type": "code",
   "execution_count": null,
   "metadata": {},
   "outputs": [],
   "source": [
    "aggregate_analyze(qs_df, 'country', 'international_ratio')"
   ]
  },
  {
   "cell_type": "code",
   "execution_count": null,
   "metadata": {},
   "outputs": [],
   "source": [
    "aggregate_analyze(qs_df, 'region', 'faculty_students_ratio')"
   ]
  },
  {
   "cell_type": "code",
   "execution_count": null,
   "metadata": {},
   "outputs": [],
   "source": [
    "aggregate_analyze(qs_df, 'region', 'international_ratio')"
   ]
  },
  {
   "cell_type": "markdown",
   "metadata": {},
   "source": [
    "## Task 2\n",
    "We now obtain the 200 top-ranking universities from www.timeshighereducation.com ([ranking 2018](http://timeshighereducation.com/world-university-rankings/2018/world-ranking)) and repeat the previous analysis."
   ]
  },
  {
   "cell_type": "code",
   "execution_count": null,
   "metadata": {},
   "outputs": [],
   "source": [
    "r = requests.get('https://www.timeshighereducation.com/sites/default/files/the_data_rankings/world_university_rankings_2018_limit0_369a9045a203e176392b9fb8f8c1cb2a.json')\n",
    "the_dataset = r.json()['data']"
   ]
  },
  {
   "cell_type": "code",
   "execution_count": null,
   "metadata": {},
   "outputs": [],
   "source": [
    "the_dataset[0]"
   ]
  },
  {
   "cell_type": "code",
   "execution_count": null,
   "metadata": {},
   "outputs": [],
   "source": [
    "results = []\n",
    "# For each univerity we gather the needed information and extract the ratios we are interested into\n",
    "for university in the_dataset[:200]:\n",
    "    results.append({\n",
    "            'name': university['name'],\n",
    "            'rank': parseInt(university['rank']),\n",
    "            'country': university['location'],\n",
    "            'faculty_students_ratio': 1 / parseDecimal(university['stats_student_staff_ratio']),\n",
    "            'international_ratio': parseDecimal(university['stats_pc_intl_students']) / 100,\n",
    "            'students_total': parseInt(university['stats_number_students'])\n",
    "        })\n",
    "\n",
    "the_df = pd.DataFrame.from_dict(results).set_index('name')\n",
    "\n",
    "# Compute derived attributes (where applicable)\n",
    "the_df['students_international'] = (the_df['students_total'] * the_df['international_ratio']).astype('int')\n",
    "the_df['faculty_total'] = (the_df['students_total'] * the_df['faculty_students_ratio']).astype('int')"
   ]
  },
  {
   "cell_type": "code",
   "execution_count": null,
   "metadata": {},
   "outputs": [],
   "source": [
    "# Map countries to regions using the QS dataset\n",
    "mapping = qs_df[['country', 'region']].set_index('country').to_dict()['region']\n",
    "\n",
    "# Manually add missing mappings\n",
    "mapping['Luxembourg'] = 'Europe'\n",
    "mapping['Russian Federation'] = 'Europe'\n",
    "\n",
    "the_df['region'] = the_df['country'].replace(mapping)\n",
    "the_df.head()"
   ]
  },
  {
   "cell_type": "code",
   "execution_count": null,
   "metadata": {},
   "outputs": [],
   "source": [
    "the_df = the_df.reset_index()\n",
    "aggregate_analyze(the_df, 'country', 'faculty_students_ratio')"
   ]
  },
  {
   "cell_type": "code",
   "execution_count": null,
   "metadata": {},
   "outputs": [],
   "source": [
    "aggregate_analyze(the_df, 'country', 'international_ratio')"
   ]
  },
  {
   "cell_type": "code",
   "execution_count": null,
   "metadata": {},
   "outputs": [],
   "source": [
    "aggregate_analyze(the_df, 'region', 'faculty_students_ratio')"
   ]
  },
  {
   "cell_type": "code",
   "execution_count": null,
   "metadata": {},
   "outputs": [],
   "source": [
    "aggregate_analyze(the_df, 'region', 'international_ratio')"
   ]
  },
  {
   "cell_type": "code",
   "execution_count": null,
   "metadata": {},
   "outputs": [],
   "source": [
    "qs_df = qs_df.set_index('name')\n",
    "the_df = the_df.set_index('name')\n",
    "qs_df.set_index('name')\n",
    "the_df.index = the_df.index.map(lambda x: difflib.get_close_matches(x, qs_df.index, 1)[0])\n",
    "qs_df"
   ]
  },
  {
   "cell_type": "code",
   "execution_count": null,
   "metadata": {},
   "outputs": [],
   "source": []
  }
 ],
 "metadata": {
  "kernelspec": {
   "display_name": "Python [conda env:ada]",
   "language": "python",
   "name": "conda-env-ada-py"
  },
  "language_info": {
   "codemirror_mode": {
    "name": "ipython",
    "version": 3
   },
   "file_extension": ".py",
   "mimetype": "text/x-python",
   "name": "python",
   "nbconvert_exporter": "python",
   "pygments_lexer": "ipython3",
   "version": "3.6.2"
  }
 },
 "nbformat": 4,
 "nbformat_minor": 1
}

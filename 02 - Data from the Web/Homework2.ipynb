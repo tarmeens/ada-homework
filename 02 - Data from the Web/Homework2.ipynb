{
 "cells": [
  {
   "cell_type": "markdown",
   "metadata": {},
   "source": [
    "# 02 - Data from the Web"
   ]
  },
  {
   "cell_type": "code",
   "execution_count": null,
   "metadata": {
    "collapsed": true
   },
   "outputs": [],
   "source": [
    "# Needed imports\n",
    "import requests\n",
    "from bs4 import BeautifulSoup\n",
    "import pandas as pd\n",
    "import matplotlib.pyplot as plt\n",
    "from IPython.display import display\n",
    "import difflib\n",
    "import seaborn as sns\n",
    "import numpy as np\n",
    "%matplotlib inline"
   ]
  },
  {
   "cell_type": "markdown",
   "metadata": {},
   "source": [
    "## Some helper functions we need"
   ]
  },
  {
   "cell_type": "markdown",
   "metadata": {},
   "source": [
    "These functions will be used throughout the homework."
   ]
  },
  {
   "cell_type": "code",
   "execution_count": null,
   "metadata": {
    "collapsed": true
   },
   "outputs": [],
   "source": [
    "# Parses a string to an integer, removing invalid characters\n",
    "def parseInt(numStr):\n",
    "    cleaned = [x for x in numStr if x.isdigit()]\n",
    "    return int(\"\".join(cleaned))\n",
    "\n",
    "# Parses a string to a float, removing invalid characters\n",
    "def parseDecimal(numStr):\n",
    "    cleaned = [x for x in numStr if x.isdigit() or x == '.']\n",
    "    return float(\"\".join(cleaned))"
   ]
  },
  {
   "cell_type": "markdown",
   "metadata": {},
   "source": [
    "## Task 1\n"
   ]
  },
  {
   "cell_type": "markdown",
   "metadata": {},
   "source": [
    "### a. Load data\n",
    "- Obtain the 200 top-ranking universities in www.topuniversities.com ([ranking 2018](https://www.topuniversities.com/university-rankings/world-university-rankings/2018)). We can obtain this information by parsing the JSON file from the QS website."
   ]
  },
  {
   "cell_type": "code",
   "execution_count": null,
   "metadata": {
    "collapsed": true
   },
   "outputs": [],
   "source": [
    "r = requests.get('https://www.topuniversities.com/sites/default/files/qs-rankings-data/357051.txt')\n",
    "qs_dataset = r.json()['data']"
   ]
  },
  {
   "cell_type": "code",
   "execution_count": null,
   "metadata": {
    "scrolled": true
   },
   "outputs": [],
   "source": [
    "# Sample record\n",
    "qs_dataset[0]"
   ]
  },
  {
   "cell_type": "markdown",
   "metadata": {},
   "source": [
    "- For each university, we extract: name, rank, country and region, number of faculty members (international and total) and number of students (international and total). Since the detailed information (faculty and students) is not avaiable in the main JSON file, we gather it from the respective page of each university by parsing the HTML content.\n",
    " - Note: the values of students and faculty members may be missing in the details page. In this case, we set them to 0."
   ]
  },
  {
   "cell_type": "code",
   "execution_count": null,
   "metadata": {
    "collapsed": true
   },
   "outputs": [],
   "source": [
    "results = []\n",
    "for university in qs_dataset[:200]:\n",
    "    url = 'https://www.topuniversities.com' + university['url']\n",
    "    details_html = requests.get(url)\n",
    "    soup = BeautifulSoup(details_html.text, 'html.parser')\n",
    "\n",
    "    def parseAttribute(className):\n",
    "        attr = soup.find('div', class_=className)\n",
    "        if attr is not None:\n",
    "            return parseInt(attr.find('div', class_='number').text)\n",
    "        else:\n",
    "            return 0 # Missing value\n",
    "        \n",
    "    results.append({\n",
    "            'name': university['title'],\n",
    "            'rank': parseInt(university['rank_display']),\n",
    "            'country': university['country'],\n",
    "            'region': university['region'],\n",
    "            'faculty_international': parseAttribute('inter faculty'),\n",
    "            'faculty_total': parseAttribute('total faculty'),\n",
    "            'students_international': parseAttribute('total inter'),\n",
    "            'students_total': parseAttribute('total student')\n",
    "        })"
   ]
  },
  {
   "cell_type": "markdown",
   "metadata": {},
   "source": [
    "- Convert the resulting dataset into a DataFrame and store it as a file (for reusing it later without parsing the content again)."
   ]
  },
  {
   "cell_type": "code",
   "execution_count": null,
   "metadata": {
    "collapsed": true
   },
   "outputs": [],
   "source": [
    "qs_df = pd.DataFrame.from_dict(results).set_index('name')\n",
    "qs_df.to_pickle('qs_dataset')"
   ]
  },
  {
   "cell_type": "code",
   "execution_count": null,
   "metadata": {},
   "outputs": [],
   "source": [
    "qs_df = pd.read_pickle('qs_dataset')\n",
    "qs_df.head() # Show first elements"
   ]
  },
  {
   "cell_type": "markdown",
   "metadata": {},
   "source": [
    "### Remarks\n",
    "- There is no university with rank #198. As a result, the interval of the ranking is [1,201]. This is an error in the QS ranking."
   ]
  },
  {
   "cell_type": "markdown",
   "metadata": {},
   "source": [
    "### b. Add the columns 'faculty_students_ratio' and 'international_ratio'"
   ]
  },
  {
   "cell_type": "markdown",
   "metadata": {},
   "source": [
    "**'faculty_students_ratio'** represents the faculty-to-students ratio.\n",
    "\n",
    "**'international_ratio'** represents the fraction of international students. "
   ]
  },
  {
   "cell_type": "code",
   "execution_count": null,
   "metadata": {},
   "outputs": [],
   "source": [
    "qs_df['faculty_students_ratio'] = qs_df['faculty_total']/qs_df['students_total']\n",
    "qs_df['international_ratio'] = qs_df['students_international']/qs_df['students_total']\n",
    "# For this analysis, we keep only the columns in which we are interested\n",
    "qs_df_analysis = qs_df.loc[:, ['region', 'country','rank', 'faculty_students_ratio', 'international_ratio']]\n",
    "qs_df_analysis.head()"
   ]
  },
  {
   "cell_type": "markdown",
   "metadata": {},
   "source": [
    "### c. Which are the best universities in term of: (a) ratio between faculty members and students, (b) ratio of international students?\n",
    "- By sorting along these columns we can respectively find the best universities in terms of (a) ratio between faculty members and students and (b) ratio of international students."
   ]
  },
  {
   "cell_type": "code",
   "execution_count": null,
   "metadata": {},
   "outputs": [],
   "source": [
    "sorted_ = qs_df_analysis.sort_values('faculty_students_ratio', ascending=False).reset_index()\n",
    "sorted_.index = range(1, len(sorted_) + 1) # Start from index = 1\n",
    "sorted_.head()"
   ]
  },
  {
   "cell_type": "markdown",
   "metadata": {},
   "source": [
    "Caltech is the university with the highest faculty/students ratio. It also appears that the best universities in this group are in the top 20 of the QS ranking."
   ]
  },
  {
   "cell_type": "code",
   "execution_count": null,
   "metadata": {},
   "outputs": [],
   "source": [
    "sorted_ = qs_df_analysis.sort_values('international_ratio', ascending=False).reset_index()\n",
    "sorted_.index = range(1, len(sorted_) + 1) # Start from index = 1\n",
    "sorted_.head()"
   ]
  },
  {
   "cell_type": "markdown",
   "metadata": {},
   "source": [
    "The London School of Economics and Political Science is the most international university, followed by EPFL."
   ]
  },
  {
   "cell_type": "markdown",
   "metadata": {},
   "source": [
    "### d. Answer the previous question aggregating the data by (c) country and (d) region.\n",
    "- We answer the same question aggregating the data by (c) **country** and (d) **region**. For each group, we show the average of the students-to-faculty ratio and international students ratio. Note that every table reports the mean, the standard error of the mean (which is reported in the bar plot as the confidence line), and the count (number of universities in top 200). These statistics will come handy in our observations."
   ]
  },
  {
   "cell_type": "code",
   "execution_count": null,
   "metadata": {},
   "outputs": [],
   "source": [
    "# We define a helper function for aggregating the data and drawing the graph.\n",
    "# This function will be used for the analysis of both QS and THE datasets.\n",
    "# In our case, 'grouping_col' will be either 'country' or 'region,\n",
    "# and 'value_col' will be either 'faculty_students_ratio' or 'international_ratio'.\n",
    "def aggregate_analyze(df, grouping_col, value_col, title=\"\"):\n",
    "    '''\n",
    "    Arguments:\n",
    "    -- df: the DataFrame to process\n",
    "    -- grouping_col: the column by which the data will be grouped\n",
    "    -- value_col: the variabile to average within each group\n",
    "    '''\n",
    "\n",
    "    grouped = df.groupby([grouping_col]).agg({value_col: ['mean', 'sem', 'count']})\\\n",
    "        .sort_values([(value_col, 'mean')], ascending=False)\n",
    "    \n",
    "    grouped_with_rank = grouped.reset_index().fillna('-')\n",
    "    grouped_with_rank.index = range(1, len(grouped) + 1) # Start from index = 1\n",
    "    \n",
    "    # Plot\n",
    "    ax = grouped[(value_col, 'mean')].plot.bar(title = title, figsize=(10,5), yerr=grouped[(value_col, 'sem')])\n",
    "    #ax.legend_.remove()\n",
    "    ax.set_ylabel(value_col.replace('_', ' ').capitalize())\n",
    "    ax.set_xlabel(grouping_col.replace('_', ' ').capitalize())\n",
    "    \n",
    "    return grouped_with_rank"
   ]
  },
  {
   "cell_type": "code",
   "execution_count": null,
   "metadata": {},
   "outputs": [],
   "source": [
    "aggregate_analyze(qs_df_analysis, 'country', 'faculty_students_ratio', title=\"Average of faculty/student ratio by country\")"
   ]
  },
  {
   "cell_type": "code",
   "execution_count": null,
   "metadata": {},
   "outputs": [],
   "source": [
    "aggregate_analyze(qs_df_analysis, 'country', 'international_ratio', title=\"Average of international students ratio by country\")"
   ]
  },
  {
   "cell_type": "code",
   "execution_count": null,
   "metadata": {},
   "outputs": [],
   "source": [
    "aggregate_analyze(qs_df_analysis, 'region', 'faculty_students_ratio', title=\"Average of faculty/students ratio by region\")"
   ]
  },
  {
   "cell_type": "code",
   "execution_count": null,
   "metadata": {},
   "outputs": [],
   "source": [
    "aggregate_analyze(qs_df_analysis, 'region', 'international_ratio', title=\"Average of international students ratio by country\")"
   ]
  },
  {
   "cell_type": "markdown",
   "metadata": {},
   "source": [
    "### Remarks\n",
    "In our opinion, there is some bias in these statistics. As can be seen from the confidence metrics, some countries/regions have very few universities in the top 200, and therefore the sample size is not big enough for obtaining a reliable result. For example, Russia is reportedly the state with the highest student/faculty ratio (0.22), but there is only one university from Russia. Hence, this result is not very meaningful."
   ]
  },
  {
   "cell_type": "markdown",
   "metadata": {},
   "source": [
    "## Task 2\n",
    "We now obtain the 200 top-ranking universities from www.timeshighereducation.com ([ranking 2018](http://timeshighereducation.com/world-university-rankings/2018/world-ranking)) and repeat the previous analysis. Similarly as before, we found a JSON file that contains the list of universities in the main web page."
   ]
  },
  {
   "cell_type": "code",
   "execution_count": null,
   "metadata": {
    "collapsed": true
   },
   "outputs": [],
   "source": [
    "r = requests.get('https://www.timeshighereducation.com/sites/default/files/the_data_rankings/world_university_rankings_2018_limit0_369a9045a203e176392b9fb8f8c1cb2a.json')\n",
    "the_dataset = r.json()['data']"
   ]
  },
  {
   "cell_type": "code",
   "execution_count": null,
   "metadata": {},
   "outputs": [],
   "source": [
    "the_dataset[0] # Show an example"
   ]
  },
  {
   "cell_type": "markdown",
   "metadata": {},
   "source": [
    "There are some small differences between the QS and THE datasets, and we need to align their variables as best as possible.\n",
    "- THE reports the inverse of the faculty-to-students ratio.\n",
    "- Only the percentage of international students is provided. We can easily compute the absolute number by multiplying it with the total number of students.\n",
    "- The number of faculty members is not provided. We can compute it from the faculty/students ratio.\n",
    "- There is no information about the number/percentage of international faculty. We cannot infer this data.\n",
    "- The region is not given, but we can compute it easily by matching each country with the QS dataset."
   ]
  },
  {
   "cell_type": "code",
   "execution_count": null,
   "metadata": {
    "collapsed": true
   },
   "outputs": [],
   "source": [
    "results = []\n",
    "for university in the_dataset[:200]:\n",
    "    results.append({\n",
    "            'name': university['name'],\n",
    "            'rank': parseInt(university['rank']),\n",
    "            'country': university['location'],\n",
    "            'faculty_students_ratio': 1 / parseDecimal(university['stats_student_staff_ratio']),\n",
    "            'international_ratio': parseDecimal(university['stats_pc_intl_students']) / 100,\n",
    "            'students_total': parseInt(university['stats_number_students'])\n",
    "        })\n",
    "\n",
    "the_df = pd.DataFrame.from_dict(results).set_index('name')\n",
    "\n",
    "# Compute derived attributes (where applicable)\n",
    "the_df['students_international'] = (the_df['students_total'] * the_df['international_ratio']).astype('int')\n",
    "the_df['faculty_total'] = (the_df['students_total'] * the_df['faculty_students_ratio']).astype('int')"
   ]
  },
  {
   "cell_type": "code",
   "execution_count": null,
   "metadata": {},
   "outputs": [],
   "source": [
    "# Map countries to regions using the QS dataset\n",
    "mapping = qs_df[['country', 'region']].set_index('country').to_dict()['region']\n",
    "\n",
    "# Manually add missing mappings that are not present in the QS dataset\n",
    "mapping['Luxembourg'] = 'Europe'\n",
    "mapping['Russian Federation'] = 'Europe'\n",
    "\n",
    "the_df['region'] = the_df['country'].replace(mapping)\n",
    "the_df['country'].replace({'Russian Federation': 'Russia'}, inplace=True)\n",
    "\n",
    "# For this analysis keep only the columns in which we are interested\n",
    "the_df_analysis = the_df.loc[:, ['region', 'rank', 'country', 'faculty_students_ratio', 'international_ratio']]\n",
    "the_df_analysis.head()"
   ]
  },
  {
   "cell_type": "markdown",
   "metadata": {},
   "source": [
    "### Which are the best universities in term of: (a) ratio between faculty members and students, (b) ratio of international students?\n",
    "- As before, by sorting along these columns we can respectively find the best universities in terms of (a) ratio between faculty members and students and (b) ratio of international students."
   ]
  },
  {
   "cell_type": "code",
   "execution_count": null,
   "metadata": {},
   "outputs": [],
   "source": [
    "sorted_ = the_df_analysis.sort_values('faculty_students_ratio', ascending=False).reset_index()\n",
    "sorted_.index = range(1, len(sorted_) + 1) # start index from 1\n",
    "sorted_.head()"
   ]
  },
  {
   "cell_type": "code",
   "execution_count": null,
   "metadata": {},
   "outputs": [],
   "source": [
    "sorted_ = the_df_analysis.sort_values('international_ratio', ascending=False).reset_index()\n",
    "sorted_.index = range(1, len(sorted_) + 1) # start index from 1\n",
    "sorted_.head()"
   ]
  },
  {
   "cell_type": "markdown",
   "metadata": {},
   "source": [
    "### Answer the previous question aggregating the data by (c) country and (d) region.\n",
    "- We answer the same question aggregating the data by (c) **country** and (d) **region**. For each group, we show the average of student-to-faculty ratio and international students ratio."
   ]
  },
  {
   "cell_type": "code",
   "execution_count": null,
   "metadata": {},
   "outputs": [],
   "source": [
    "aggregate_analyze(the_df_analysis, 'country', 'faculty_students_ratio', title=\"Average of faculty/student ratio by country\")"
   ]
  },
  {
   "cell_type": "code",
   "execution_count": null,
   "metadata": {},
   "outputs": [],
   "source": [
    "aggregate_analyze(the_df_analysis, 'country', 'international_ratio', title=\"Average of international students ratio by country\")"
   ]
  },
  {
   "cell_type": "code",
   "execution_count": null,
   "metadata": {},
   "outputs": [],
   "source": [
    "aggregate_analyze(the_df_analysis, 'region', 'faculty_students_ratio', title=\"Average of faculty/student ratio by region\")"
   ]
  },
  {
   "cell_type": "code",
   "execution_count": null,
   "metadata": {},
   "outputs": [],
   "source": [
    "aggregate_analyze(the_df_analysis, 'region', 'international_ratio', title=\"Average of international students ratio by region\")"
   ]
  },
  {
   "cell_type": "markdown",
   "metadata": {},
   "source": [
    "### Merge the two DataFrames created in questions 1 and 2 using university names. Match universities' names as well as you can, and explain your strategy. Keep track of the original position in both rankings.\n",
    "We implemented a fuzzy join algorithm for merging the two rankings. Since the names of the universities may differ slightly, it is necessary to use string matching algorithm based on a similarity score.\n",
    "Our algorithm works as follows:\n",
    "- For each university in the first ranking (QS), we find the corresponding university in the second ranking (THE) that minimizes the edit distance between the two strings. There are several metrics that could be used: we used the one that is implemented in Python's difflib (a variant of the Ratcliff-Obershelp algorithm). Other choices are possible (e.g. Levenshtein distance). The match is accepted only if all these conditions are true:\n",
    " - The countries of the two matches correspond.\n",
    " - The edit distance is below a certain threshold.\n",
    " - If we match university A to university B, the match in the opposite direction is consistent (i.e. we match B to A).\n",
    " \n",
    "Of course, it is not possible to match all universities. Some universities that are present in the QS ranking may not be present in the THE ranking, and vice versa."
   ]
  },
  {
   "cell_type": "code",
   "execution_count": null,
   "metadata": {},
   "outputs": [],
   "source": [
    "not_matched_counter = 0\n",
    "\n",
    "qs_df_ = qs_df.copy().reset_index()\n",
    "the_df_ = the_df.copy().reset_index()\n",
    "\n",
    "mapping = qs_df_['name'].copy()\n",
    "for i in range(len(qs_df_)):\n",
    "    def match():\n",
    "        tolerance = 0.6 # Threshold that regulates the sensitivity of the algorithm\n",
    "        res = difflib.get_close_matches(qs_df_['name'][i], the_df_['name'], 1, tolerance)\n",
    "        if len(res) > 0:\n",
    "            matching_country = the_df_['country'][the_df_['name'] == res[0]]\n",
    "            if len(matching_country) == 1 and matching_country.values[0] == qs_df_['country'][i]:\n",
    "                back_res = difflib.get_close_matches(res[0], qs_df_['name'], 1, tolerance)\n",
    "                if len(back_res) > 0 and qs_df_['name'][i] == back_res[0]:\n",
    "                    mapping[i] = res[0]\n",
    "                    return True\n",
    "        return False\n",
    "    if not match():\n",
    "        not_matched_counter += 1\n",
    "\n",
    "qs_df_['name'] = mapping\n",
    "print(not_matched_counter, 'universities were not matched.')\n",
    "merged_df = qs_df_.merge(the_df_, on='name', how='inner', suffixes=('_qs', '_the'))\n",
    "\n",
    "# Clean the table (only one column for the region and the country)\n",
    "merged_df[\"region\"] = merged_df.region_qs\n",
    "merged_df[\"country\"] = merged_df.country_qs\n",
    "merged_df.drop(['region_qs', 'region_the', 'country_qs', 'country_the'], axis = 1, inplace = True)"
   ]
  },
  {
   "cell_type": "code",
   "execution_count": null,
   "metadata": {},
   "outputs": [],
   "source": [
    "# Represent the columns in a cleaner way\n",
    "cleaned = merged_df.copy()[['name', 'country', 'region', 'faculty_international', 'rank_qs', 'rank_the', \"faculty_total_qs\", \"faculty_total_the\",\\\n",
    "  'faculty_students_ratio_qs', 'faculty_students_ratio_the', 'international_ratio_qs', 'international_ratio_the',\\\n",
    "       'students_international_qs', 'students_international_the', 'students_total_qs', 'students_total_the']]\n",
    "col_level1 = ['', 'rank', 'faculty_total', 'faculty_students_ratio', 'international_ratio', 'students_international', 'students_total']\n",
    "col_level2 = ['name', 'country', 'region', 'faculty_international_qs'] + [\"qs\", \"the\"]*(len(col_level1)-1)#done\n",
    "labels_lvl1 = [0, 0, 0, 0] + [e for e in range(1, len(col_level1)) for _ in (0, 1)]\n",
    "labels_lvl2 = range(len(col_level2))\n",
    "cleaned.columns \\\n",
    "    = pd.MultiIndex(levels=[col_level1, col_level2], labels=[labels_lvl1, labels_lvl2])\n",
    "cleaned = cleaned.set_index(('','name'))\n",
    "cleaned.index.name = 'name'\n",
    "cleaned.head()"
   ]
  },
  {
   "cell_type": "markdown",
   "metadata": {},
   "source": [
    "### Find useful insights in the data by performing an exploratory analysis. Can you find a strong correlation between any pair of variables in the dataset you just created? Example: when a university is strong in its international dimension, can you observe a consistency both for students and faculty members?\n",
    "We start by correlating the related variables of the two rankings (e.g. QS rank with THE rank, QS faculty with THE faculty). This allows us to see if the two rankings are consistent, or if they have significant differences."
   ]
  },
  {
   "cell_type": "code",
   "execution_count": null,
   "metadata": {},
   "outputs": [],
   "source": [
    "cols_qs = merged_df[['rank_qs', 'faculty_total_qs', 'students_international_qs',\n",
    "                  'students_total_qs', 'faculty_students_ratio_qs', 'international_ratio_qs']]\n",
    "cols_the = merged_df[['rank_the', 'faculty_total_the', 'students_international_the',\n",
    "                  'students_total_the', 'faculty_students_ratio_the', 'international_ratio_the']]\n",
    "cols_qs.columns = cols_qs.columns.map(lambda x: x.rstrip('_qs'))\n",
    "cols_the.columns = cols_the.columns.map(lambda x: x.rstrip('_the'))\n",
    "corr = pd.DataFrame(cols_qs.corrwith(cols_the))\n",
    "corr.index.name = 'Variable'\n",
    "corr.columns = ['Correlation']\n",
    "corr"
   ]
  },
  {
   "cell_type": "markdown",
   "metadata": {},
   "source": [
    "We can see that the variables have a moderate correlation, but not a very strong one (except for *de facto* variables such as the number of students). This means that the two rankings use different criteria for evaluating a university.\n",
    "\n",
    "In order to discover further information, we plot the full correlation matrix of our merged table."
   ]
  },
  {
   "cell_type": "code",
   "execution_count": null,
   "metadata": {},
   "outputs": [],
   "source": [
    "corr = merged_df.corr()\n",
    "plt.figure(figsize=(10,10))\n",
    "_ = sns.heatmap(corr, annot=True,\n",
    "            xticklabels=corr.columns.values,\n",
    "            yticklabels=corr.columns.values)"
   ]
  },
  {
   "cell_type": "code",
   "execution_count": null,
   "metadata": {},
   "outputs": [],
   "source": [
    "# Show the variables with the highest absolute correlation\n",
    "corr_pairs = abs(corr).unstack().reset_index()\n",
    "corr_pairs.columns = [['var1', 'var2', 'corr']]\n",
    "corr_pairs = corr_pairs[corr_pairs['var1'] > corr_pairs['var2']] # Remove redundant entries\n",
    "corr_pairs.sort_values('corr', ascending=False).head(10)"
   ]
  },
  {
   "cell_type": "markdown",
   "metadata": {},
   "source": [
    "We cannot find significant correlations between variables, apart from obvious ones. However, it seems that the QS rank is slightly correlated with the number of international faculty (0.49) and with the faculty/students ratio (0.42). This observation is not reflected in the THE ranking."
   ]
  },
  {
   "cell_type": "markdown",
   "metadata": {},
   "source": [
    "### Can you find the best university taking in consideration both rankings? Explain your approach.\n",
    "We decided to take into account only the ranks for our analysis, for these reasons:\n",
    "- The rank is a summarized indicator of all the other variables that could be taken into consideration for determining the best university, including those that are not visible in our dataset.\n",
    "- If we used multiple variables, it would be difficult to determine which weights assign to each of them. In this case, we would create our own ranking, with arbitrary criteria.\n",
    "\n",
    "As a first approach, we try to use to so-called Skyline operator, which is based on comparisons between pairs of tuples. The Skyline operator compares all pairs of tuples and removes those that are dominated by other tuples (are worse). The criterion for exclusion is based on Pareto optimality: a tuple is better than another if it is < in a variable and <= in all other variables. This approach is useful because it does not assign weights to fields (all variables are treated equal), but it is not guaranteed to return a single result."
   ]
  },
  {
   "cell_type": "code",
   "execution_count": null,
   "metadata": {},
   "outputs": [],
   "source": [
    "def dominates(t1, t2):\n",
    "    if t1['rank_qs'] <= t2['rank_qs'] and t1['rank_the'] < t2['rank_the']:\n",
    "        return True\n",
    "    if t1['rank_qs'] < t2['rank_qs'] and t1['rank_the'] <= t2['rank_the']:\n",
    "        return True\n",
    "    return False\n",
    "\n",
    "df = merged_df.copy()\n",
    "dominates_all = np.ones(len(df), dtype=bool) # True if the i-th tuple dominates all other tuples\n",
    "for i, t1 in df.iterrows():\n",
    "    if dominates_all[i]:\n",
    "        for j, t2 in df.iterrows():\n",
    "            if dominates(t1, t2):\n",
    "                dominates_all[j] = False\n",
    "            \n",
    "best_universities = df.loc[dominates_all]\n",
    "best_universities"
   ]
  },
  {
   "cell_type": "markdown",
   "metadata": {},
   "source": [
    "According to the Skyline operator, the above 4 universities are equivalent, as they are incomparable among each other (one of them is better in the QS ranking, and the other is better in the THE ranking).\n",
    "\n",
    "In order to resolve ties, we decided to adopt the simplest approach: we sum the two ranks and select the university with the lowest sum."
   ]
  },
  {
   "cell_type": "code",
   "execution_count": null,
   "metadata": {},
   "outputs": [],
   "source": [
    "rankings = best_universities[['name', 'rank_qs', 'rank_the']].copy()\n",
    "rankings['rank_avg'] = rankings['rank_qs'] + rankings['rank_the']\n",
    "rankings.sort_values('rank_avg', ascending=True).head(10)"
   ]
  },
  {
   "cell_type": "markdown",
   "metadata": {},
   "source": [
    "It appears that the best university is Stanford."
   ]
  },
  {
   "cell_type": "code",
   "execution_count": null,
   "metadata": {
    "collapsed": true
   },
   "outputs": [],
   "source": []
  }
 ],
 "metadata": {
  "kernelspec": {
   "display_name": "Python 3",
   "language": "python",
   "name": "python3"
  },
  "language_info": {
   "codemirror_mode": {
    "name": "ipython",
    "version": 3
   },
   "file_extension": ".py",
   "mimetype": "text/x-python",
   "name": "python",
   "nbconvert_exporter": "python",
   "pygments_lexer": "ipython3",
   "version": "3.6.2"
  }
 },
 "nbformat": 4,
 "nbformat_minor": 1
}

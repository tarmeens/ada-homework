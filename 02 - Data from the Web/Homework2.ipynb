{
 "cells": [
  {
   "cell_type": "markdown",
   "metadata": {},
   "source": [
    "# 02 - Data from the Web"
   ]
  },
  {
   "cell_type": "code",
   "execution_count": null,
   "metadata": {},
   "outputs": [],
   "source": [
    "# Needed imports\n",
    "import requests\n",
    "from bs4 import BeautifulSoup\n",
    "import pandas as pd\n",
    "import matplotlib.pyplot as plt\n",
    "from IPython.display import display\n",
    "import difflib\n",
    "import seaborn as sns\n",
    "import numpy as np\n",
    "%matplotlib inline"
   ]
  },
  {
   "cell_type": "markdown",
   "metadata": {},
   "source": [
    "## Some helper functions we need"
   ]
  },
  {
   "cell_type": "markdown",
   "metadata": {},
   "source": [
    "This functions will be used throughout the homework."
   ]
  },
  {
   "cell_type": "code",
   "execution_count": null,
   "metadata": {},
   "outputs": [],
   "source": [
    "# parses a string to an integer, removing invalid digits\n",
    "def parseInt(numStr):\n",
    "    cleaned = [x for x in numStr if x.isdigit()]\n",
    "    return int(\"\".join(cleaned))\n",
    "\n",
    "# parses a string to a float, removing invalid digits\n",
    "def parseDecimal(numStr):\n",
    "    cleaned = [x for x in numStr if x.isdigit() or x == '.']\n",
    "    return float(\"\".join(cleaned))"
   ]
  },
  {
   "cell_type": "markdown",
   "metadata": {},
   "source": [
    "## Task 1\n"
   ]
  },
  {
   "cell_type": "markdown",
   "metadata": {},
   "source": [
    "### Remaks @todo\n",
    "\n",
    "- Some values of student and faculty may be missing. They are set to 0.\n",
    "- There is no university with rank #198. Therefore the interval of the rank is [1,201]\n",
    "- Not every field was available in the main webpage, the missing information was retrieved from the description page of each university.\n"
   ]
  },
  {
   "cell_type": "markdown",
   "metadata": {},
   "source": [
    "### a. Load data\n",
    "- Obtain the 200 top-ranking universities in www.topuniversities.com ([ranking 2018](https://www.topuniversities.com/university-rankings/world-university-rankings/2018)) "
   ]
  },
  {
   "cell_type": "code",
   "execution_count": null,
   "metadata": {},
   "outputs": [],
   "source": [
    "r = requests.get('https://www.topuniversities.com/sites/default/files/qs-rankings-data/357051.txt')\n",
    "qs_dataset = r.json()['data']"
   ]
  },
  {
   "cell_type": "code",
   "execution_count": null,
   "metadata": {
    "scrolled": true
   },
   "outputs": [],
   "source": [
    "qs_dataset[0]"
   ]
  },
  {
   "cell_type": "markdown",
   "metadata": {},
   "source": [
    "- For each university, we extract: name, rank, country and region, number of faculty members (international and total) and number of students (international and total). The detailed information (faculty and students) is gathered from the respective page of each university. "
   ]
  },
  {
   "cell_type": "code",
   "execution_count": null,
   "metadata": {},
   "outputs": [],
   "source": [
    "results = []\n",
    "for university in qs_dataset[:200]:\n",
    "    url = 'https://www.topuniversities.com' + university['url']\n",
    "    details_html = requests.get(url)\n",
    "    soup = BeautifulSoup(details_html.text, 'html.parser')\n",
    "\n",
    "    def parseAttribute(className):\n",
    "        attr = soup.find('div', class_=className)\n",
    "        if attr is not None:\n",
    "            return parseInt(attr.find('div', class_='number').text)\n",
    "        else:\n",
    "            return 0 # Missing value\n",
    "        \n",
    "    results.append({\n",
    "            'name': university['title'],\n",
    "            'rank': parseInt(university['rank_display']),\n",
    "            'country': university['country'],\n",
    "            'region': university['region'],\n",
    "            'faculty_international': parseAttribute('inter faculty'),\n",
    "            'faculty_total': parseAttribute('total faculty'),\n",
    "            'students_international': parseAttribute('total inter'),\n",
    "            'students_total': parseAttribute('total student')\n",
    "        })"
   ]
  },
  {
   "cell_type": "markdown",
   "metadata": {},
   "source": [
    "- Convert the resulting dataset into a DataFrame and store it as a file (for reusing it later without parsing the content again)."
   ]
  },
  {
   "cell_type": "code",
   "execution_count": null,
   "metadata": {},
   "outputs": [],
   "source": [
    "qs_df = pd.DataFrame.from_dict(results).set_index('name')\n",
    "qs_df.to_pickle('qs_dataset')"
   ]
  },
  {
   "cell_type": "code",
   "execution_count": null,
   "metadata": {},
   "outputs": [],
   "source": [
    "qs_df = pd.read_pickle('qs_dataset')\n",
    "qs_df.head()"
   ]
  },
  {
   "cell_type": "markdown",
   "metadata": {},
   "source": [
    "### b. Add the columns 'faculty_students_ratio' and 'international_ratio'"
   ]
  },
  {
   "cell_type": "markdown",
   "metadata": {},
   "source": [
    "**'faculty_students_ratio'** represents the faculty-to-students ratio.\n",
    "\n",
    "**'international_ratio'** represents the fraction of international students. "
   ]
  },
  {
   "cell_type": "code",
   "execution_count": null,
   "metadata": {},
   "outputs": [],
   "source": [
    "qs_df['faculty_students_ratio'] = qs_df['faculty_total']/qs_df['students_total']\n",
    "qs_df['international_ratio'] = qs_df['students_international']/qs_df['students_total']\n",
    "# for this analysis, keep only the columns we are interested in \n",
    "qs_df_analysis = qs_df.loc[:, ['region', 'country','rank', 'faculty_students_ratio', 'international_ratio']]\n",
    "qs_df_analysis.head()"
   ]
  },
  {
   "cell_type": "markdown",
   "metadata": {},
   "source": [
    "- By sorting along these columns we can respectively find the best universities in terms of (a) ratio between faculty members and students and (b) ratio of international students."
   ]
  },
  {
   "cell_type": "code",
   "execution_count": null,
   "metadata": {},
   "outputs": [],
   "source": [
    "sorted_ = qs_df_analysis.sort_values('faculty_students_ratio', ascending=False).reset_index()\n",
    "sorted_.index = range(1, len(sorted_) + 1) # start index from 1\n",
    "sorted_.head()"
   ]
  },
  {
   "cell_type": "code",
   "execution_count": null,
   "metadata": {},
   "outputs": [],
   "source": [
    "sorted_ = qs_df_analysis.sort_values('international_ratio', ascending=False).reset_index()\n",
    "sorted_.index = range(1, len(sorted_) + 1) # start index from 1\n",
    "sorted_.head()"
   ]
  },
  {
   "cell_type": "markdown",
   "metadata": {},
   "source": [
    "- We answer the same question aggregating the data by (c) **country** and (d) **region**. For clarity reasons, here we show only the best value within each group, along with the university associated with that value."
   ]
  },
  {
   "cell_type": "code",
   "execution_count": null,
   "metadata": {},
   "outputs": [],
   "source": [
    "# We define a helper function for aggregating the data and drawing the graph.\n",
    "# This function will be used for the analysis of both QS and THE datasets.\n",
    "# In our case, 'grouping_col' will be either 'country' or 'region,\n",
    "# and 'value_col' will be either 'faculty_students_ratio' or 'international_ratio'.\n",
    "def aggregate_analyze(df, grouping_col, value_col, title=\"\"):\n",
    "    '''\n",
    "    Arguments:\n",
    "    -- df: the DataFrame to process\n",
    "    -- grouping_col: the column by which the data will be grouped\n",
    "    -- value_col: the variabile to average within each group\n",
    "    '''\n",
    "\n",
    "    grouped = df.groupby([grouping_col]).mean()\\\n",
    "        .loc[:, [value_col]]\\\n",
    "        .sort_values(value_col, ascending=False)\n",
    "    grouped = grouped.rename(columns={value_col: 'average_'+value_col})\n",
    "    \n",
    "    grouped_with_rank = grouped.reset_index()\n",
    "    grouped_with_rank.index = range(1, len(grouped) + 1) # start index from 1\n",
    "    \n",
    "    # plot\n",
    "    ax = grouped.plot.bar(title = title)\n",
    "    ax.legend_.remove()\n",
    "    ax.set_ylabel(value_col)\n",
    "    \n",
    "    return grouped_with_rank\n",
    "\n",
    "#     # We group by 'grouping_col' and compute, for each group, the index corresponding to the entry with higher \n",
    "#     # 'value_col'. These indices are stored in maxIdx.\n",
    "#     maxIdx = df.groupby([grouping_col], agg=p)[value_col].idxmax()\n",
    "\n",
    "#     # We use those indices to access the original table and retrieve the needed list of universities. \n",
    "#     # Moreover, we keep the columns we are interested in, i.e. [grouping_col, 'name', value_col].\n",
    "#     res = df.loc[maxIdx][[grouping_col, 'name', value_col]].set_index(grouping_col)\n",
    "#     res = res.sort_values(value_col, ascending=False)\n",
    "    \n",
    "#     # We finally plot the data in a bar chart\n",
    "#     display(res)\n",
    "    \n",
    "    "
   ]
  },
  {
   "cell_type": "code",
   "execution_count": null,
   "metadata": {},
   "outputs": [],
   "source": [
    "aggregate_analyze(qs_df_analysis, 'country', 'faculty_students_ratio', title=\"Average of faculty/student ratio by country\").head(20)"
   ]
  },
  {
   "cell_type": "code",
   "execution_count": null,
   "metadata": {},
   "outputs": [],
   "source": [
    "aggregate_analyze(qs_df_analysis, 'country', 'international_ratio', title=\"Average of intenational ratio by country\")"
   ]
  },
  {
   "cell_type": "code",
   "execution_count": null,
   "metadata": {},
   "outputs": [],
   "source": [
    "aggregate_analyze(qs_df_analysis, 'region', 'faculty_students_ratio', title=\"Average of faculty/student ratio by region\")"
   ]
  },
  {
   "cell_type": "code",
   "execution_count": null,
   "metadata": {},
   "outputs": [],
   "source": [
    "aggregate_analyze(qs_df_analysis, 'region', 'international_ratio', title=\"Average of international ratio by country\")"
   ]
  },
  {
   "cell_type": "markdown",
   "metadata": {},
   "source": [
    "## Task 2\n",
    "We now obtain the 200 top-ranking universities from www.timeshighereducation.com ([ranking 2018](http://timeshighereducation.com/world-university-rankings/2018/world-ranking)) and repeat the previous analysis."
   ]
  },
  {
   "cell_type": "code",
   "execution_count": null,
   "metadata": {},
   "outputs": [],
   "source": [
    "r = requests.get('https://www.timeshighereducation.com/sites/default/files/the_data_rankings/world_university_rankings_2018_limit0_369a9045a203e176392b9fb8f8c1cb2a.json')\n",
    "the_dataset = r.json()['data']"
   ]
  },
  {
   "cell_type": "code",
   "execution_count": null,
   "metadata": {},
   "outputs": [],
   "source": [
    "the_dataset[0]"
   ]
  },
  {
   "cell_type": "code",
   "execution_count": null,
   "metadata": {},
   "outputs": [],
   "source": [
    "results = []\n",
    "for university in the_dataset[:200]:\n",
    "    results.append({\n",
    "            'name': university['name'],\n",
    "            'rank': parseInt(university['rank']),\n",
    "            'country': university['location'],\n",
    "            'faculty_students_ratio': 1 / parseDecimal(university['stats_student_staff_ratio']),\n",
    "            'international_ratio': parseDecimal(university['stats_pc_intl_students']) / 100,\n",
    "            'students_total': parseInt(university['stats_number_students'])\n",
    "        })\n",
    "\n",
    "the_df = pd.DataFrame.from_dict(results).set_index('name')\n",
    "\n",
    "# Compute derived attributes (where applicable)\n",
    "the_df['students_international'] = (the_df['students_total'] * the_df['international_ratio']).astype('int')\n",
    "the_df['faculty_total'] = (the_df['students_total'] * the_df['faculty_students_ratio']).astype('int')"
   ]
  },
  {
   "cell_type": "code",
   "execution_count": null,
   "metadata": {},
   "outputs": [],
   "source": [
    "# Map countries to regions using the QS dataset\n",
    "mapping = qs_df[['country', 'region']].set_index('country').to_dict()['region']\n",
    "\n",
    "# Manually add missing mappings\n",
    "mapping['Luxembourg'] = 'Europe'\n",
    "mapping['Russian Federation'] = 'Europe'\n",
    "\n",
    "the_df['region'] = the_df['country'].replace(mapping)\n",
    "\n",
    "# for this analysis keep only the columns we are interested in\n",
    "the_df_analysis = the_df.loc[:, ['region', 'rank', 'country', 'faculty_students_ratio', 'international_ratio']]\n",
    "the_df_analysis.head()"
   ]
  },
  {
   "cell_type": "code",
   "execution_count": null,
   "metadata": {},
   "outputs": [],
   "source": [
    "sorted_ = the_df_analysis.sort_values('faculty_students_ratio', ascending=False).reset_index()\n",
    "sorted_.index = range(1, len(sorted_) + 1) # start index from 1\n",
    "sorted_.head()"
   ]
  },
  {
   "cell_type": "code",
   "execution_count": null,
   "metadata": {},
   "outputs": [],
   "source": [
    "sorted_ = the_df_analysis.sort_values('international_ratio', ascending=False).reset_index()\n",
    "sorted_.index = range(1, len(sorted_) + 1) # start index from 1\n",
    "sorted_.head()"
   ]
  },
  {
   "cell_type": "code",
   "execution_count": null,
   "metadata": {},
   "outputs": [],
   "source": [
    "aggregate_analyze(the_df_analysis, 'country', 'faculty_students_ratio')"
   ]
  },
  {
   "cell_type": "code",
   "execution_count": null,
   "metadata": {},
   "outputs": [],
   "source": [
    "aggregate_analyze(the_df_analysis, 'country', 'international_ratio')"
   ]
  },
  {
   "cell_type": "code",
   "execution_count": null,
   "metadata": {},
   "outputs": [],
   "source": [
    "aggregate_analyze(the_df_analysis, 'region', 'faculty_students_ratio')"
   ]
  },
  {
   "cell_type": "code",
   "execution_count": null,
   "metadata": {},
   "outputs": [],
   "source": [
    "aggregate_analyze(the_df_analysis, 'region', 'international_ratio')"
   ]
  },
  {
   "cell_type": "code",
   "execution_count": null,
   "metadata": {},
   "outputs": [],
   "source": [
    "not_matched_counter = 0\n",
    "\n",
    "qs_df_ = qs_df.copy().reset_index()\n",
    "the_df_ = the_df.copy().reset_index()\n",
    "def mapName(name):\n",
    "    global not_matched_counter\n",
    "    tolerance = 0.6\n",
    "    res = difflib.get_close_matches(name, the_df_['name'], 1, tolerance)\n",
    "    if len(res) > 0:\n",
    "        back_res = difflib.get_close_matches(res[0], qs_df_['name'], 1, tolerance)\n",
    "        if len(back_res) > 0 and name == back_res[0]:\n",
    "            return res[0]\n",
    "    not_matched_counter += 1\n",
    "    return name\n",
    "\n",
    "qs_df_['name'] = qs_df_['name'].map(mapName)\n",
    "print(not_matched_counter, 'universities were not matched.')\n",
    "merged_df = qs_df_.merge(the_df_, on='name', how='inner', suffixes=('_qs', '_the'))\n",
    "\n",
    "# clean the table (only one column for the region and the country)\n",
    "merged_df[\"region\"] = merged_df.region_qs\n",
    "merged_df[\"country\"] = merged_df.country_qs\n",
    "merged_df.drop(['region_qs', 'region_the', 'country_qs', 'country_the'], axis = 1, inplace = True)\n",
    "\n",
    "merged_df"
   ]
  },
  {
   "cell_type": "code",
   "execution_count": null,
   "metadata": {},
   "outputs": [],
   "source": [
    "[for e in col_level2 for _ in (0, 1)]"
   ]
  },
  {
   "cell_type": "code",
   "execution_count": null,
   "metadata": {},
   "outputs": [],
   "source": [
    "# d = {'faculty_total' : merged_df[[\"faculty_total_qs\", \"faculty_total_the\"]]}\n",
    "# pd.concat(d.values(), axis=1, keys=d.keys())\n",
    "cleaned = merged_df.copy()[['name',\"faculty_total_qs\", \"faculty_total_the\", 'rank_qs', 'rank_the']]\n",
    "\n",
    "col_level1 = ['','faculty_total', 'rank', ]\n",
    "col_level2 = ['name','faculty_total_qs', 'faculty_total_the', 'rank_qs', 'rank_the']\n",
    "\n",
    "cleaned.columns \\\n",
    "    = pd.MultiIndex(levels=[col_level1, col_level2], labels=[[0, 1, 1, 2, 2], range(len(col_level2))])\n",
    "cleaned"
   ]
  },
  {
   "cell_type": "code",
   "execution_count": null,
   "metadata": {},
   "outputs": [],
   "source": [
    "cols_qs = merged_df[['rank_qs', 'faculty_total_qs', 'students_international_qs',\n",
    "                  'students_total_qs', 'faculty_students_ratio_qs', 'international_ratio_qs']]\n",
    "cols_the = merged_df[['rank_the', 'faculty_total_the', 'students_international_the',\n",
    "                  'students_total_the', 'faculty_students_ratio_the', 'international_ratio_the']]\n",
    "cols_qs.columns = cols_qs.columns.map(lambda x: x.rstrip('_qs'))\n",
    "cols_the.columns = cols_the.columns.map(lambda x: x.rstrip('_the'))\n",
    "cols_qs.corrwith(cols_the)"
   ]
  },
  {
   "cell_type": "code",
   "execution_count": null,
   "metadata": {},
   "outputs": [],
   "source": [
    "corr = merged_df.corr()\n",
    "plt.figure(figsize=(10,10))\n",
    "sns.heatmap(corr, annot=True,\n",
    "            xticklabels=corr.columns.values,\n",
    "            yticklabels=corr.columns.values)"
   ]
  },
  {
   "cell_type": "code",
   "execution_count": null,
   "metadata": {},
   "outputs": [],
   "source": [
    "corr_pairs = abs(corr).unstack().reset_index()\n",
    "corr_pairs.columns = [['var1', 'var2', 'corr']]\n",
    "corr_pairs = corr_pairs[corr_pairs['var1'] > corr_pairs['var2']] # Remove redundant entries\n",
    "corr_pairs[corr_pairs['corr'] > 0.5].sort_values('corr', ascending=False)"
   ]
  },
  {
   "cell_type": "code",
   "execution_count": null,
   "metadata": {},
   "outputs": [],
   "source": [
    "rankings = merged_df[['name', 'rank_qs', 'rank_the']].copy()\n",
    "rankings['rank_avg'] = (rankings['rank_qs'] + rankings['rank_the'])/2\n",
    "rankings.sort_values('rank_avg', ascending=True).head(10)"
   ]
  }
 ],
 "metadata": {
  "kernelspec": {
   "display_name": "Python [default]",
   "language": "python",
   "name": "python3"
  },
  "language_info": {
   "codemirror_mode": {
    "name": "ipython",
    "version": 3
   },
   "file_extension": ".py",
   "mimetype": "text/x-python",
   "name": "python",
   "nbconvert_exporter": "python",
   "pygments_lexer": "ipython3",
   "version": "3.6.2"
  }
 },
 "nbformat": 4,
 "nbformat_minor": 1
}

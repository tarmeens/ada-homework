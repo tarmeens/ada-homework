{
 "cells": [
  {
   "cell_type": "code",
   "execution_count": null,
   "metadata": {
    "collapsed": true
   },
   "outputs": [],
   "source": [
    "import requests\n",
    "from bs4 import BeautifulSoup\n",
    "import pandas as pd\n",
    "import matplotlib.pyplot as plt\n",
    "from IPython.display import display\n",
    "import difflib\n",
    "%matplotlib inline"
   ]
  },
  {
   "cell_type": "code",
   "execution_count": null,
   "metadata": {
    "collapsed": false
   },
   "outputs": [],
   "source": [
    "r = requests.get('https://www.topuniversities.com/sites/default/files/qs-rankings-data/357051.txt')\n",
    "qs_dataset = r.json()['data']"
   ]
  },
  {
   "cell_type": "code",
   "execution_count": null,
   "metadata": {
    "collapsed": false
   },
   "outputs": [],
   "source": [
    "qs_dataset[0]"
   ]
  },
  {
   "cell_type": "code",
   "execution_count": null,
   "metadata": {
    "collapsed": false
   },
   "outputs": [],
   "source": [
    "def parseInt(numStr):\n",
    "    cleaned = [x for x in numStr if x.isdigit()]\n",
    "    return int(\"\".join(cleaned))\n",
    "\n",
    "def parseDecimal(numStr):\n",
    "    cleaned = [x for x in numStr if x.isdigit() or x == '.']\n",
    "    return float(\"\".join(cleaned))\n",
    "    \n",
    "results = []\n",
    "for university in qs_dataset[:200]:\n",
    "    url = 'https://www.topuniversities.com' + university['url']\n",
    "    details_html = requests.get(url)\n",
    "    soup = BeautifulSoup(details_html.text, 'html.parser')\n",
    "\n",
    "    def parseAttribute(className):\n",
    "        attr = soup.find('div', class_=className)\n",
    "        if attr is not None:\n",
    "            return parseInt(attr.find('div', class_='number').text)\n",
    "        else:\n",
    "            return 0 # Missing value\n",
    "        \n",
    "    results.append({\n",
    "            'name': university['title'],\n",
    "            'rank': parseInt(university['rank_display']),\n",
    "            'country': university['country'],\n",
    "            'region': university['region'],\n",
    "            'faculty_international': parseAttribute('inter faculty'),\n",
    "            'faculty_total': parseAttribute('total faculty'),\n",
    "            'students_international': parseAttribute('total inter'),\n",
    "            'students_total': parseAttribute('total student')\n",
    "        })"
   ]
  },
  {
   "cell_type": "code",
   "execution_count": null,
   "metadata": {
    "collapsed": false
   },
   "outputs": [],
   "source": [
    "qs_df = pd.DataFrame.from_dict(results).set_index('name')\n",
    "qs_df.to_pickle('qs_dataset')"
   ]
  },
  {
   "cell_type": "code",
   "execution_count": null,
   "metadata": {
    "collapsed": false
   },
   "outputs": [],
   "source": [
    "qs_df = pd.read_pickle('qs_dataset')\n",
    "qs_df.head()"
   ]
  },
  {
   "cell_type": "code",
   "execution_count": null,
   "metadata": {
    "collapsed": false
   },
   "outputs": [],
   "source": [
    "qs_df['faculty_students_ratio'] = qs_df['faculty_total']/qs_df['students_total']\n",
    "qs_df['international_ratio'] = qs_df['students_international']/qs_df['students_total']\n",
    "qs_df.head()"
   ]
  },
  {
   "cell_type": "code",
   "execution_count": null,
   "metadata": {
    "collapsed": false
   },
   "outputs": [],
   "source": [
    "qs_df.sort_values('faculty_students_ratio', ascending=False).head()"
   ]
  },
  {
   "cell_type": "code",
   "execution_count": null,
   "metadata": {
    "collapsed": false
   },
   "outputs": [],
   "source": [
    "qs_df.sort_values('international_ratio', ascending=False).head()"
   ]
  },
  {
   "cell_type": "code",
   "execution_count": null,
   "metadata": {
    "collapsed": true
   },
   "outputs": [],
   "source": [
    "def aggregate_analyze(df, grouping_col, value_col):\n",
    "    maxIdx = df.groupby([grouping_col])[value_col].idxmax()\n",
    "    res = df.loc[maxIdx][[grouping_col, 'name', value_col]].set_index(grouping_col)\n",
    "    res.sort_values(value_col, ascending=False).plot.bar(sort_columns=True)\n",
    "    display(res)"
   ]
  },
  {
   "cell_type": "code",
   "execution_count": null,
   "metadata": {
    "collapsed": false
   },
   "outputs": [],
   "source": [
    "qs_df = qs_df.reset_index()\n",
    "aggregate_analyze(qs_df, 'country', 'faculty_students_ratio')"
   ]
  },
  {
   "cell_type": "code",
   "execution_count": null,
   "metadata": {
    "collapsed": false
   },
   "outputs": [],
   "source": [
    "aggregate_analyze(qs_df, 'country', 'international_ratio')"
   ]
  },
  {
   "cell_type": "code",
   "execution_count": null,
   "metadata": {
    "collapsed": false
   },
   "outputs": [],
   "source": [
    "aggregate_analyze(qs_df, 'region', 'faculty_students_ratio')"
   ]
  },
  {
   "cell_type": "code",
   "execution_count": null,
   "metadata": {
    "collapsed": false
   },
   "outputs": [],
   "source": [
    "aggregate_analyze(qs_df, 'region', 'international_ratio')"
   ]
  },
  {
   "cell_type": "code",
   "execution_count": null,
   "metadata": {
    "collapsed": true
   },
   "outputs": [],
   "source": [
    "r = requests.get('https://www.timeshighereducation.com/sites/default/files/the_data_rankings/world_university_rankings_2018_limit0_369a9045a203e176392b9fb8f8c1cb2a.json')\n",
    "the_dataset = r.json()['data']"
   ]
  },
  {
   "cell_type": "code",
   "execution_count": null,
   "metadata": {
    "collapsed": false
   },
   "outputs": [],
   "source": [
    "the_dataset[0]"
   ]
  },
  {
   "cell_type": "code",
   "execution_count": null,
   "metadata": {
    "collapsed": false
   },
   "outputs": [],
   "source": [
    "results = []\n",
    "for university in the_dataset[:200]:\n",
    "    results.append({\n",
    "            'name': university['name'],\n",
    "            'rank': parseInt(university['rank']),\n",
    "            'country': university['location'],\n",
    "            'faculty_students_ratio': 1 / parseDecimal(university['stats_student_staff_ratio']),\n",
    "            'international_ratio': parseDecimal(university['stats_pc_intl_students']) / 100,\n",
    "            'students_total': parseInt(university['stats_number_students'])\n",
    "        })\n",
    "\n",
    "the_df = pd.DataFrame.from_dict(results).set_index('name')\n",
    "\n",
    "# Compute derived attributes (where applicable)\n",
    "the_df['students_international'] = (the_df['students_total'] * the_df['international_ratio']).astype('int')\n",
    "the_df['faculty_total'] = (the_df['students_total'] * the_df['faculty_students_ratio']).astype('int')"
   ]
  },
  {
   "cell_type": "code",
   "execution_count": null,
   "metadata": {
    "collapsed": false
   },
   "outputs": [],
   "source": [
    "# Map countries to regions using the QS dataset\n",
    "mapping = qs_df[['country', 'region']].set_index('country').to_dict()['region']\n",
    "\n",
    "# Manually add missing mappings\n",
    "mapping['Luxembourg'] = 'Europe'\n",
    "mapping['Russian Federation'] = 'Europe'\n",
    "\n",
    "the_df['region'] = the_df['country'].replace(mapping)\n",
    "the_df.head()"
   ]
  },
  {
   "cell_type": "code",
   "execution_count": null,
   "metadata": {
    "collapsed": false
   },
   "outputs": [],
   "source": [
    "the_df.sort_values('faculty_students_ratio', ascending=False).head()"
   ]
  },
  {
   "cell_type": "code",
   "execution_count": null,
   "metadata": {
    "collapsed": false
   },
   "outputs": [],
   "source": [
    "the_df.sort_values('international_ratio', ascending=False).head()"
   ]
  },
  {
   "cell_type": "code",
   "execution_count": null,
   "metadata": {
    "collapsed": false
   },
   "outputs": [],
   "source": [
    "the_df = the_df.reset_index()\n",
    "aggregate_analyze(the_df, 'country', 'faculty_students_ratio')"
   ]
  },
  {
   "cell_type": "code",
   "execution_count": null,
   "metadata": {
    "collapsed": false
   },
   "outputs": [],
   "source": [
    "aggregate_analyze(the_df, 'country', 'international_ratio')"
   ]
  },
  {
   "cell_type": "code",
   "execution_count": null,
   "metadata": {
    "collapsed": false
   },
   "outputs": [],
   "source": [
    "aggregate_analyze(the_df, 'region', 'faculty_students_ratio')"
   ]
  },
  {
   "cell_type": "code",
   "execution_count": null,
   "metadata": {
    "collapsed": false
   },
   "outputs": [],
   "source": [
    "aggregate_analyze(the_df, 'region', 'international_ratio')"
   ]
  },
  {
   "cell_type": "code",
   "execution_count": null,
   "metadata": {
    "collapsed": false
   },
   "outputs": [],
   "source": [
    "not_matched_counter = 0\n",
    "\n",
    "qs_df_ = qs_df.copy()\n",
    "the_df_ = the_df.copy()\n",
    "def mapName(name):\n",
    "    global not_matched_counter\n",
    "    tolerance = 0.99\n",
    "    res = difflib.get_close_matches(name, the_df_['name'], 1, tolerance)\n",
    "    if len(res) > 0:\n",
    "        back_res = difflib.get_close_matches(res[0], qs_df_['name'], 1, tolerance)\n",
    "        if len(back_res) > 0 and name == back_res[0]:\n",
    "            return res[0]\n",
    "        #else:\n",
    "        #    print(name, res, back_res)\n",
    "    not_matched_counter += 1\n",
    "    return name\n",
    "\n",
    "qs_df_['name'] = qs_df_['name'].copy().map(mapName)\n",
    "print(not_matched_counter, 'universities were not matched.')\n",
    "total = qs_df_.merge(the_df_, on='name', how='inner', suffixes=('_qs', '_the'))\n",
    "total"
   ]
  },
  {
   "cell_type": "code",
   "execution_count": null,
   "metadata": {
    "collapsed": false
   },
   "outputs": [],
   "source": [
    "import seaborn as sns\n",
    "corr = total.corr()\n",
    "plt.figure(figsize=(10,10))\n",
    "sns.heatmap(corr, annot=True,\n",
    "            xticklabels=corr.columns.values,\n",
    "            yticklabels=corr.columns.values)"
   ]
  }
 ],
 "metadata": {
  "kernelspec": {
   "display_name": "Python [Root]",
   "language": "python",
   "name": "Python [Root]"
  },
  "language_info": {
   "codemirror_mode": {
    "name": "ipython",
    "version": 3
   },
   "file_extension": ".py",
   "mimetype": "text/x-python",
   "name": "python",
   "nbconvert_exporter": "python",
   "pygments_lexer": "ipython3",
   "version": "3.5.2"
  }
 },
 "nbformat": 4,
 "nbformat_minor": 0
}

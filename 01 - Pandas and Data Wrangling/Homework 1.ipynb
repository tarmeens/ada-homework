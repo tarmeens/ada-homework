{
 "cells": [
  {
   "cell_type": "markdown",
   "metadata": {},
   "source": [
    "# Table of Contents\n",
    " <p><div class=\"lev1\"><a href=\"#Task-1.-Compiling-Ebola-Data\"><span class=\"toc-item-num\">Task 1.&nbsp;&nbsp;</span>Compiling Ebola Data</a></div>\n",
    " <div class=\"lev1\"><a href=\"#Task-2.-RNA-Sequences\"><span class=\"toc-item-num\">Task 2.&nbsp;&nbsp;</span>RNA Sequences</a></div>\n",
    " <div class=\"lev1\"><a href=\"#Task-3.-Class-War-in-Titanic\"><span class=\"toc-item-num\">Task 3.&nbsp;&nbsp;</span>Class War in Titanic</a></div></p>"
   ]
  },
  {
   "cell_type": "code",
   "execution_count": 188,
   "metadata": {},
   "outputs": [],
   "source": [
    "import pandas as pd\n",
    "import numpy as np\n",
    "import glob\n",
    "import ntpath\n",
    "import os\n",
    "pd.options.mode.chained_assignment = None  # default='warn', Mutes warnings when copying a slice from a DataFrame."
   ]
  },
  {
   "cell_type": "code",
   "execution_count": 189,
   "metadata": {},
   "outputs": [],
   "source": [
    "DATA_FOLDER = '../../ADA2017-Tutorials/02 - Intro to Pandas/Data/' # Use the data folder provided in Tutorial 02 - Intro to Pandas."
   ]
  },
  {
   "cell_type": "markdown",
   "metadata": {},
   "source": [
    "## Task 1. Compiling Ebola Data\n",
    "\n",
    "The `DATA_FOLDER/ebola` folder contains summarized reports of Ebola cases from three countries (Guinea, Liberia and Sierra Leone) during the recent outbreak of the disease in West Africa. For each country, there are daily reports that contain various information about the outbreak in several cities in each country.\n",
    "\n",
    "Use pandas to import these data files into a single `Dataframe`.\n",
    "Using this `DataFrame`, calculate for *each country*, the *daily average per month* of *new cases* and *deaths*.\n",
    "Make sure you handle all the different expressions for *new cases* and *deaths* that are used in the reports."
   ]
  },
  {
   "cell_type": "code",
   "execution_count": 27,
   "metadata": {},
   "outputs": [
    {
     "data": {
      "text/plain": [
       "'guinea_data'"
      ]
     },
     "execution_count": 27,
     "metadata": {},
     "output_type": "execute_result"
    }
   ],
   "source": []
  },
  {
   "cell_type": "markdown",
   "metadata": {},
   "source": [
    "## Task 2. RNA Sequences\n",
    "\n",
    "In the `DATA_FOLDER/microbiome` subdirectory, there are 9 spreadsheets of microbiome data that was acquired from high-throughput RNA sequencing procedures, along with a 10<sup>th</sup> file that describes the content of each. \n",
    "\n",
    "Use pandas to import the first 9 spreadsheets into a single `DataFrame`.\n",
    "Then, add the metadata information from the 10<sup>th</sup> spreadsheet as columns in the combined `DataFrame`.\n",
    "Make sure that the final `DataFrame` has a unique index and all the `NaN` values have been replaced by the tag `unknown`."
   ]
  },
  {
   "cell_type": "code",
   "execution_count": 230,
   "metadata": {
    "scrolled": true
   },
   "outputs": [
    {
     "name": "stdout",
     "output_type": "stream",
     "text": [
      "Taxon      0\n",
      "Count      0\n",
      "BARCODE    0\n",
      "GROUP      0\n",
      "SAMPLE     0\n",
      "dtype: int64\n",
      "True\n"
     ]
    },
    {
     "data": {
      "text/html": [
       "<div>\n",
       "<style>\n",
       "    .dataframe thead tr:only-child th {\n",
       "        text-align: right;\n",
       "    }\n",
       "\n",
       "    .dataframe thead th {\n",
       "        text-align: left;\n",
       "    }\n",
       "\n",
       "    .dataframe tbody tr th {\n",
       "        vertical-align: top;\n",
       "    }\n",
       "</style>\n",
       "<table border=\"1\" class=\"dataframe\">\n",
       "  <thead>\n",
       "    <tr style=\"text-align: right;\">\n",
       "      <th></th>\n",
       "      <th></th>\n",
       "      <th>Count</th>\n",
       "      <th>GROUP</th>\n",
       "      <th>SAMPLE</th>\n",
       "    </tr>\n",
       "    <tr>\n",
       "      <th>Taxon</th>\n",
       "      <th>BARCODE</th>\n",
       "      <th></th>\n",
       "      <th></th>\n",
       "      <th></th>\n",
       "    </tr>\n",
       "  </thead>\n",
       "  <tbody>\n",
       "    <tr>\n",
       "      <th>Archaea \"Crenarchaeota\" Thermoprotei Desulfurococcales Desulfurococcaceae Ignisphaera</th>\n",
       "      <th>MID1</th>\n",
       "      <td>7</td>\n",
       "      <td>EXTRACTION CONTROL</td>\n",
       "      <td>unknown</td>\n",
       "    </tr>\n",
       "    <tr>\n",
       "      <th>Archaea \"Crenarchaeota\" Thermoprotei Desulfurococcales Pyrodictiaceae Pyrolobus</th>\n",
       "      <th>MID1</th>\n",
       "      <td>2</td>\n",
       "      <td>EXTRACTION CONTROL</td>\n",
       "      <td>unknown</td>\n",
       "    </tr>\n",
       "    <tr>\n",
       "      <th>Archaea \"Crenarchaeota\" Thermoprotei Sulfolobales Sulfolobaceae Stygiolobus</th>\n",
       "      <th>MID1</th>\n",
       "      <td>3</td>\n",
       "      <td>EXTRACTION CONTROL</td>\n",
       "      <td>unknown</td>\n",
       "    </tr>\n",
       "    <tr>\n",
       "      <th>Archaea \"Crenarchaeota\" Thermoprotei Thermoproteales Thermofilaceae Thermofilum</th>\n",
       "      <th>MID1</th>\n",
       "      <td>3</td>\n",
       "      <td>EXTRACTION CONTROL</td>\n",
       "      <td>unknown</td>\n",
       "    </tr>\n",
       "    <tr>\n",
       "      <th>Archaea \"Euryarchaeota\" \"Methanomicrobia\" Methanocellales Methanocellaceae Methanocella</th>\n",
       "      <th>MID1</th>\n",
       "      <td>7</td>\n",
       "      <td>EXTRACTION CONTROL</td>\n",
       "      <td>unknown</td>\n",
       "    </tr>\n",
       "  </tbody>\n",
       "</table>\n",
       "</div>"
      ],
      "text/plain": [
       "                                                            Count  \\\n",
       "Taxon                                              BARCODE          \n",
       "Archaea \"Crenarchaeota\" Thermoprotei Desulfuroc... MID1         7   \n",
       "Archaea \"Crenarchaeota\" Thermoprotei Desulfuroc... MID1         2   \n",
       "Archaea \"Crenarchaeota\" Thermoprotei Sulfolobal... MID1         3   \n",
       "Archaea \"Crenarchaeota\" Thermoprotei Thermoprot... MID1         3   \n",
       "Archaea \"Euryarchaeota\" \"Methanomicrobia\" Metha... MID1         7   \n",
       "\n",
       "                                                                         GROUP  \\\n",
       "Taxon                                              BARCODE                       \n",
       "Archaea \"Crenarchaeota\" Thermoprotei Desulfuroc... MID1     EXTRACTION CONTROL   \n",
       "Archaea \"Crenarchaeota\" Thermoprotei Desulfuroc... MID1     EXTRACTION CONTROL   \n",
       "Archaea \"Crenarchaeota\" Thermoprotei Sulfolobal... MID1     EXTRACTION CONTROL   \n",
       "Archaea \"Crenarchaeota\" Thermoprotei Thermoprot... MID1     EXTRACTION CONTROL   \n",
       "Archaea \"Euryarchaeota\" \"Methanomicrobia\" Metha... MID1     EXTRACTION CONTROL   \n",
       "\n",
       "                                                             SAMPLE  \n",
       "Taxon                                              BARCODE           \n",
       "Archaea \"Crenarchaeota\" Thermoprotei Desulfuroc... MID1     unknown  \n",
       "Archaea \"Crenarchaeota\" Thermoprotei Desulfuroc... MID1     unknown  \n",
       "Archaea \"Crenarchaeota\" Thermoprotei Sulfolobal... MID1     unknown  \n",
       "Archaea \"Crenarchaeota\" Thermoprotei Thermoprot... MID1     unknown  \n",
       "Archaea \"Euryarchaeota\" \"Methanomicrobia\" Metha... MID1     unknown  "
      ]
     },
     "execution_count": 230,
     "metadata": {},
     "output_type": "execute_result"
    }
   ],
   "source": [
    "path = DATA_FOLDER+\"microbiome\"\n",
    "metadata = glob.glob(path + \"/metadata.xls\")\n",
    "filenames = glob.glob(path + \"/MID*.xls\")\n",
    "\n",
    "metadata = pd.read_excel(metadata[0])\n",
    "\n",
    "rnaData = []\n",
    "for i, file in enumerate(filenames):\n",
    "    currData = pd.read_excel(file, header=None, names=[\"Taxon\", \"Count\"])\n",
    "    currData[\"BARCODE\"] = \"MID\"+str(i+1) #add a column value to do the join\n",
    "    rnaData.append(currData)\n",
    "\n",
    "result = pd.concat(rnaData)\n",
    "result = pd.merge(result, metadata, how='inner', on=\"BARCODE\")\n",
    "\n",
    "result = result.fillna(\"unknown\")\n",
    "# there are no NaN values \n",
    "print(pd.isnull(result).sum()) \n",
    "\n",
    "# set an index that is unique\n",
    "result.set_index([\"Taxon\",\"BARCODE\"], inplace=True) # set the first column as index\n",
    "print(result.index.is_unique)\n",
    "\n",
    "# print(result.index)\n",
    "# result[\"Archaea \\\"Crenarchaeota\\\" Thermoprotei Desulfurococcales Desulfurococcaceae Ignisphaera\",\"MID1\"]\n",
    "result.head()"
   ]
  },
  {
   "cell_type": "markdown",
   "metadata": {},
   "source": [
    "## Task 3. Class War in Titanic\n",
    "\n",
    "Use pandas to import the data file `Data/titanic.xls`. It contains data on all the passengers that travelled on the Titanic."
   ]
  },
  {
   "cell_type": "code",
   "execution_count": null,
   "metadata": {},
   "outputs": [],
   "source": [
    "from IPython.core.display import HTML\n",
    "HTML(filename=DATA_FOLDER+'/titanic.html')"
   ]
  },
  {
   "cell_type": "markdown",
   "metadata": {},
   "source": [
    "For each of the following questions state clearly your assumptions and discuss your findings:\n",
    "1. Describe the *type* and the *value range* of each attribute. Indicate and transform the attributes that can be `Categorical`. \n",
    "2. Plot histograms for the *travel class*, *embarkation port*, *sex* and *age* attributes. For the latter one, use *discrete decade intervals*. \n",
    "3. Calculate the proportion of passengers by *cabin floor*. Present your results in a *pie chart*.\n",
    "4. For each *travel class*, calculate the proportion of the passengers that survived. Present your results in *pie charts*.\n",
    "5. Calculate the proportion of the passengers that survived by *travel class* and *sex*. Present your results in *a single histogram*.\n",
    "6. Create 2 equally populated *age categories* and calculate survival proportions by *age category*, *travel class* and *sex*. Present your results in a `DataFrame` with unique index."
   ]
  },
  {
   "cell_type": "code",
   "execution_count": null,
   "metadata": {
    "collapsed": true
   },
   "outputs": [],
   "source": [
    "# Write your answer here"
   ]
  }
 ],
 "metadata": {
  "kernelspec": {
   "display_name": "Python [conda root]",
   "language": "python",
   "name": "conda-root-py"
  },
  "language_info": {
   "codemirror_mode": {
    "name": "ipython",
    "version": 3
   },
   "file_extension": ".py",
   "mimetype": "text/x-python",
   "name": "python",
   "nbconvert_exporter": "python",
   "pygments_lexer": "ipython3",
   "version": "3.6.2"
  }
 },
 "nbformat": 4,
 "nbformat_minor": 2
}

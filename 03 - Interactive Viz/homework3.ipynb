{
 "cells": [
  {
   "cell_type": "code",
   "execution_count": null,
   "metadata": {},
   "outputs": [],
   "source": [
    "import os\n",
    "import pandas as pd\n",
    "import json\n",
    "import folium\n",
    "import copy\n",
    "from itertools import chain\n",
    "import numpy as np"
   ]
  },
  {
   "cell_type": "markdown",
   "metadata": {},
   "source": [
    "#### 1. Europe"
   ]
  },
  {
   "cell_type": "code",
   "execution_count": null,
   "metadata": {},
   "outputs": [],
   "source": [
    "# load the data regarding the ratio of unemployement\n",
    "europe_unemploy_rate_path = r'topojson/lfsa_urgan_1_Data.csv'\n",
    "europe_unemploy_rate = pd.read_csv(europe_unemploy_rate_path)\n",
    "europe_unemploy_rate = europe_unemploy_rate.loc[\\\n",
    "    (europe_unemploy_rate.TIME==2016) & (europe_unemploy_rate.SEX==\"Total\") & (~europe_unemploy_rate.GEO.str.contains(\"European|Euro\")), \\\n",
    "    [\"GEO\",\"Value\"]]\n",
    "europe_unemploy_rate.loc[europe_unemploy_rate.GEO.str.contains(\"Germany\"), \"GEO\"] = \"Germany\"\n",
    "europe_unemploy_rate.loc[europe_unemploy_rate.GEO.str.contains(\"Former Yugoslav Republic of Macedonia\"), \"GEO\"] = \"The former Yugoslav Republic of Macedonia\"\n",
    "print(\"We have the unemployement rate the following states: \", europe_unemploy_rate.shape[0])\n",
    "europe_unemploy_rate"
   ]
  },
  {
   "cell_type": "code",
   "execution_count": null,
   "metadata": {},
   "outputs": [],
   "source": [
    "# load the europe data (geometry of the states) \n",
    "europe_topo_path = r'topojson/europe.topojson.json'\n",
    "topo_data = json.load(open(europe_topo_path))\n",
    "topo_states = [state[\"properties\"][\"NAME\"] for state in topo_data[\"objects\"][\"europe\"][\"geometries\"]]\n",
    "print(\"We draw the boundaries of the following states:\")\n",
    "len(topo_states), topo_states"
   ]
  },
  {
   "cell_type": "code",
   "execution_count": null,
   "metadata": {},
   "outputs": [],
   "source": [
    "# we don't have the data of all the states!\n",
    "missing_states = list(set(topo_states)-set(europe_unemploy_rate.GEO))\n",
    "print(\"We are missing the unemployement rate about these states:\")\n",
    "len(missing_states), missing_states"
   ]
  },
  {
   "cell_type": "code",
   "execution_count": null,
   "metadata": {},
   "outputs": [],
   "source": [
    "def fill_invalid(state):\n",
    "    if state in list(missing_states):\n",
    "        return 0.7\n",
    "    else:\n",
    "        return 0"
   ]
  },
  {
   "cell_type": "code",
   "execution_count": null,
   "metadata": {},
   "outputs": [],
   "source": [
    "def optimize(data):\n",
    "    used_arcs = set()\n",
    "    for o in data['objects']:\n",
    "        for geom in data['objects'][o]['geometries']:\n",
    "            if geom['type'] == 'MultiPolygon':\n",
    "                it = chain.from_iterable(geom['arcs'])\n",
    "            else:\n",
    "                it = geom['arcs']\n",
    "\n",
    "            for i in chain.from_iterable(it):\n",
    "                used_arcs.add(i if i >= 0 else ~i)\n",
    "    for i in range(len(data['arcs'])):\n",
    "        if i not in used_arcs:\n",
    "            data['arcs'][i] = []\n",
    "    return data"
   ]
  },
  {
   "cell_type": "code",
   "execution_count": null,
   "metadata": {
    "scrolled": false
   },
   "outputs": [],
   "source": [
    "europe_location = [55, 15]\n",
    "\n",
    "m = folium.Map(location=europe_location, zoom_start=3)\n",
    "\n",
    "# fill the states with colors depending on their unemployement rate\n",
    "m.choropleth(\n",
    "    geo_data=topo_data, \n",
    "    topojson='objects.europe',\n",
    "    data=europe_unemploy_rate,\n",
    "    columns=['GEO', 'Value'],\n",
    "    #threshold_scale=[0, 5, 10, 15, 20, 25],\n",
    "    key_on='properties.NAME',\n",
    "    fill_color='BuGn', \n",
    "    fill_opacity=0.7, \n",
    "#     line_opacity=1,\n",
    "    legend_name='Percentage of unemployement (%)')\n",
    "\n",
    "# fill with gray the states of which we have no info and also add a popup to every state to show more information \n",
    "# about the states\n",
    "for state in topo_data['objects']['europe']['geometries']:\n",
    "    state_name = state[\"properties\"][\"NAME\"]\n",
    "    unemp_rate = europe_unemploy_rate.Value[europe_unemploy_rate.GEO == state_name]\n",
    "    if unemp_rate.size == 0:\n",
    "        unemp_rate = \"not available\"\n",
    "    else:\n",
    "        unemp_rate = \"{0:.1f}\".format(unemp_rate.iloc[0])\n",
    "\n",
    "    tdata = copy.deepcopy(topo_data)\n",
    "    tdata['objects']['europe']['geometries'] = [state]\n",
    "    folium.TopoJson(\n",
    "        optimize(tdata),\n",
    "        'objects.europe',\n",
    "        name=state['id'],\n",
    "        style_function=lambda geometry: {\n",
    "#                 'color' : 'transparent',\n",
    "#                 'fillColor': 'trasparent',\n",
    "                # grey color to the state of which we don't have an\n",
    "                'fillColor': \"#424949\", \n",
    "                'fillOpacity': fill_invalid(geometry[\"properties\"][\"NAME\"]),\n",
    "            }\n",
    "    ).add_child(folium.Popup(\"<span style=\\\"font-weight:bold;\\\"> Rate: </span> \" + unemp_rate)).add_to(m)\n",
    "\n",
    "#m.save('test.html')\n",
    "\n",
    "m"
   ]
  },
  {
   "cell_type": "markdown",
   "metadata": {},
   "source": [
    "#### 2-3. Switzerland\n",
    "Importat notions (from https://www.amstat.ch/v2/definition.jsp?lang=it):\n",
    "- The unemplyement ratio is computed as unemployed people / actice population where the unemployed people are the people who are looking for a job without having one. \n",
    "- \"Numero dei disoccupati registrati, nel giorno di riferimento (ultimo giorno del mese), diviso per il numero di persone attive, moltiplicato per 100.\"\n",
    "- Persone attive: Persone che svolgono un’attività lucrativa di almeno un’ora per settimana e le persone non occupate.\n",
    "- Il tasso di disoccupazione è calcolato prendendo come denominatore il numero delle persone attive\n",
    "\n",
    "Problems for question 3:\n",
    "- The site does not allow to download the rate of unemployement divided by age and nationality at the same time. However, it allows to download the number of unemployed people divided in such a way.\n",
    "- We are interested in the ratio, therefore, when downloading the number of unemployed peopole divided by age and nationatlity we still need the active population for each canton(ratio=number of unemployed people/active population). We could not find the latter in the site therefore we computed it: (number of unemployed people in canton Ci)/(unemployement ratio of canton Ci)\n",
    "\n",
    "In order to avoid downloading one dataset per task we decided to proceed as follows:\n",
    "1. Download the dataset with the unemployement ratio and the number of unemployed people divided by cantons. From this dataset we compute the active population for each canton.\n",
    "2. Download the complete dataset with the unemployed peopled divided by canton, age class and nationality, since, as explained before, the site does not allow to dounload this information with the ratios.\n",
    "3. With the latter dataset and with the computed active population we copute the ratio of unemployed people for each category.\n",
    "4. To answer the questions we will use groupby on the field we are intereted in."
   ]
  },
  {
   "cell_type": "code",
   "execution_count": null,
   "metadata": {},
   "outputs": [],
   "source": [
    "# Helper function (integers are in an invalid format)\n",
    "# Parses a string to an integer, removing invalid characters\n",
    "def parseInt(numStr):\n",
    "    cleaned = [x for x in numStr if x.isdigit()]\n",
    "    return int(\"\".join(cleaned))"
   ]
  },
  {
   "cell_type": "code",
   "execution_count": null,
   "metadata": {},
   "outputs": [],
   "source": [
    "# load the swiss topology (geometry of the cantons) \n",
    "ch_topo_path = r'topojson/ch-cantons.topojson.json'\n",
    "topo_data_ch = json.load(open(ch_topo_path, encoding=\"utf-8\"))\n",
    "topo_cantons = [state[\"properties\"][\"name\"] for state in topo_data_ch[\"objects\"][\"cantons\"][\"geometries\"]]\n",
    "print(\"We draw the boundaries of the following cantons:\")\n",
    "len(topo_cantons), \", \".join(topo_cantons)"
   ]
  },
  {
   "cell_type": "markdown",
   "metadata": {},
   "source": [
    "    1. Load the data regarding the ratio of unemployement so to compute the active population per canton."
   ]
  },
  {
   "cell_type": "code",
   "execution_count": null,
   "metadata": {},
   "outputs": [],
   "source": [
    "ch_unemploy_rate_path = r'topojson/ch_unemploy_rate.csv'\n",
    "ch_unemploy_rate = pd.read_csv(ch_unemploy_rate_path)\n",
    "\n",
    "# 1. drop and rename the columns\n",
    "column_rename = {\n",
    "    \"Cantone\":\"Canton\", \n",
    "    \"Tasso di disoccupazione\": \"Unemployement rate\", \n",
    "    \"Disoccupati registrati\": \"Unemployed\"\n",
    "}\n",
    "ch_unemploy_rate = ch_unemploy_rate[list(column_rename.keys())]\n",
    "ch_unemploy_rate.rename(columns=column_rename, inplace=True)\n",
    "\n",
    "# 2. converto objects to integers\n",
    "ch_unemploy_rate[\"Unemployed\"] = ch_unemploy_rate[\"Unemployed\"].apply(parseInt)\n",
    "\n",
    "# 3.compute the active population\n",
    "ch_unemploy_rate[\"Active Population\"] = (100*ch_unemploy_rate[\"Unemployed\"]/ch_unemploy_rate[\"Unemployement rate\"]).astype(\"int\")\n",
    "\n",
    "ch_unemploy_rate.head()"
   ]
  },
  {
   "cell_type": "markdown",
   "metadata": {},
   "source": [
    "    2-3. Load the complete dataset and compute the unemployement ratios"
   ]
  },
  {
   "cell_type": "code",
   "execution_count": null,
   "metadata": {},
   "outputs": [],
   "source": [
    "ch_unemploy_rate_path = r'topojson/ch_unemploy_rate_byage_bynationality.csv'\n",
    "ch_unemploy_rate_complete = pd.read_csv(ch_unemploy_rate_path)\n",
    "# dataset cleaning:\n",
    "#1. drop columns and column renaming\n",
    "column_rename = {\n",
    "    \"Cantone\": \"Canton\",\n",
    "    \"Nazionalità\": \"Nationality\",\n",
    "    \"Classi d'età 15-24, 15-49, 50 anni e più\": \"Age Classes\",     \n",
    "    \"Persone in cerca d'impiego\": \"Jobseekers\",\n",
    "    \"Disoccupati registrati\": \"Unemployed Jobseekers\",\n",
    "    \"Persone in cerca d'impiego non disoccupate\": \"Employed Jobseekers\"\n",
    "}\n",
    "ch_unemploy_rate_complete = ch_unemploy_rate_complete[list(column_rename.keys())]\n",
    "ch_unemploy_rate_complete.rename(columns=column_rename, inplace=True)\n",
    "\n",
    "# 2. Drop totals\n",
    "ch_unemploy_rate_complete = ch_unemploy_rate_complete[~(ch_unemploy_rate_complete==\"Totale\").any(axis=1)]\n",
    "\n",
    "# 3. Convert objects to integers\n",
    "ch_unemploy_rate_complete[\"Jobseekers\"] = ch_unemploy_rate_complete[\"Jobseekers\"].apply(parseInt)\n",
    "ch_unemploy_rate_complete[\"Unemployed Jobseekers\"] = ch_unemploy_rate_complete[\"Unemployed Jobseekers\"].apply(parseInt)\n",
    "ch_unemploy_rate_complete[\"Employed Jobseekers\"] = ch_unemploy_rate_complete[\"Employed Jobseekers\"].apply(parseInt)\n",
    "\n",
    "# 4. Add column with active population\n",
    "ch_unemploy_rate_complete = pd.merge(ch_unemploy_rate_complete, ch_unemploy_rate[[\"Canton\", \"Active Population\"]], on=\"Canton\", how='left')\n",
    "\n",
    "# # 5. Convert population to ratio\n",
    "# act_pop = ch_unemploy_rate_complete[\"Active Population\"]\n",
    "# ch_unemploy_rate_complete[\"Jobseekers\"] = round(ch_unemploy_rate_complete[\"Jobseekers\"]*100/act_pop, 2)\n",
    "# ch_unemploy_rate_complete[\"Unemployed Jobseekers\"] = round(ch_unemploy_rate_complete[\"Unemployed Jobseekers\"]*100/act_pop, 2)\n",
    "# ch_unemploy_rate_complete[\"Employed Jobseekers\"] = round(ch_unemploy_rate_complete[\"Employed Jobseekers\"]*100/act_pop, 2)\n",
    "\n",
    "# # 6. Canton's name rename, nationality rename\n",
    "# # create dictionary to map cantons between the name of the cantons in the topology and the one in the dataset\n",
    "# # (in the dataset there is the the Italian name while in the topology there is the \"local\" name)\n",
    "# # generate the correct Canton column\n",
    "# canton_names = [name for canton in topo_data_ch['objects']['cantons'][\"geometries\"] for name in [canton[\"properties\"][\"name\"]]*6]\n",
    "# ch_unemploy_rate_complete.Canton = canton_names\n",
    "\n",
    "ch_unemploy_rate_complete.Nationality = ch_unemploy_rate_complete.Nationality.apply(\n",
    "    lambda natio: \"Foreigners\" if (natio==\"stranieri\") else \"Swiss\")  \n",
    "    \n",
    "ch_unemploy_rate_complete.head(12)"
   ]
  },
  {
   "cell_type": "markdown",
   "metadata": {},
   "source": [
    "    4. Answer the questions grouping on the field we are interested in."
   ]
  },
  {
   "cell_type": "markdown",
   "metadata": {},
   "source": [
    "- **question 2**: ... \"unemployment rates in Switzerland at a recent date\""
   ]
  },
  {
   "cell_type": "code",
   "execution_count": null,
   "metadata": {},
   "outputs": [],
   "source": [
    "ch_unemploy_rate_canton = ch_unemploy_rate_complete.groupby(by=\"Canton\").sum().reset_index()"
   ]
  },
  {
   "cell_type": "markdown",
   "metadata": {},
   "source": [
    "First show only the unemployed people ratio"
   ]
  },
  {
   "cell_type": "code",
   "execution_count": null,
   "metadata": {},
   "outputs": [],
   "source": [
    "ch_location = [46.8, 8.5]\n",
    "m = folium.Map(location=ch_location, zoom_start=8)\n",
    "\n",
    "# fill the cantons with colors depending on their unemployement rate\n",
    "m.choropleth(\n",
    "    geo_data=topo_data_ch, \n",
    "    topojson='objects.cantons',\n",
    "    data=ch_unemploy_rate_canton,\n",
    "    columns=['Canton', 'Unemployed Jobseekers'],\n",
    "    #threshold_scale=[0, 5, 10, 15, 20, 25],\n",
    "    key_on='properties.name',\n",
    "    fill_color='BuGn', \n",
    "    fill_opacity=0.7, \n",
    "#     line_opacity=1,\n",
    "    legend_name='Percentage of unemployement (%)')\n",
    "m"
   ]
  },
  {
   "cell_type": "markdown",
   "metadata": {},
   "source": [
    "Then show all the jobseekers, considering the employed ones too."
   ]
  },
  {
   "cell_type": "code",
   "execution_count": null,
   "metadata": {},
   "outputs": [],
   "source": [
    "m = folium.Map(location=ch_location, zoom_start=8)\n",
    "\n",
    "# fill the cantons with colors depending on their unemployement rate\n",
    "m.choropleth(\n",
    "    geo_data=topo_data_ch, \n",
    "    topojson='objects.cantons',\n",
    "    data=ch_unemploy_rate_canton,\n",
    "    columns=['Canton', 'Jobseekers'],\n",
    "    #threshold_scale=[0, 5, 10, 15, 20, 25],\n",
    "    key_on='properties.name',\n",
    "    fill_color='BuGn', \n",
    "    fill_opacity=0.7, \n",
    "#     line_opacity=1,\n",
    "    legend_name='Percentage of unemployement (%)')\n",
    "m"
   ]
  },
  {
   "cell_type": "markdown",
   "metadata": {},
   "source": [
    "TODO: comment differencies"
   ]
  },
  {
   "cell_type": "markdown",
   "metadata": {},
   "source": [
    "- **question 3**: ..."
   ]
  },
  {
   "cell_type": "code",
   "execution_count": null,
   "metadata": {},
   "outputs": [],
   "source": [
    "# group by Canton and Nationality\n",
    "ch_unemploy_rate_canton_nationality = ch_unemploy_rate_complete.groupby(by=[\"Canton\", \"Nationality\"]).sum().reset_index()\n",
    "ch_unemploy_rate_canton_nationality.head(4)"
   ]
  },
  {
   "cell_type": "code",
   "execution_count": null,
   "metadata": {},
   "outputs": [],
   "source": [
    "# pivot on \"Unemployed Jobseekers\"\n",
    "ch_unemploy_rate_canton_nationality = ch_unemploy_rate_canton_nationality.pivot(\n",
    "    index=\"Canton\", columns=\"Nationality\", values=\"Unemployed Jobseekers\").reset_index()\n",
    "ch_unemploy_rate_canton_nationality.columns = \\\n",
    "    pd.MultiIndex(\n",
    "        levels=[[\"\", \"Unemployed Jobseekers\"], [\"Canton\", \"Foreigners\", \"Swiss\"]], \n",
    "        labels=[[0,1,1], [0,1,2]])\n",
    "\n",
    "ch_unemploy_rate_canton_nationality.head(2)"
   ]
  },
  {
   "cell_type": "code",
   "execution_count": null,
   "metadata": {},
   "outputs": [],
   "source": [
    "# add ratio between unemployed swiss and unemployes foreigners\n",
    "ch_unemploy_rate_canton_nationality[\"\", \"Ratio (Swiss/Foreigners)\"] = \\\n",
    "    round(ch_unemploy_rate_canton_nationality[\"Unemployed Jobseekers\", \"Swiss\"]/ch_unemploy_rate_canton_nationality[\"Unemployed Jobseekers\", \"Foreigners\"], 2)\n",
    "ch_unemploy_rate_canton_nationality.head()"
   ]
  },
  {
   "cell_type": "code",
   "execution_count": null,
   "metadata": {},
   "outputs": [],
   "source": [
    "m = folium.Map(location=ch_location, zoom_start=8)\n",
    "\n",
    "m.choropleth(\n",
    "    geo_data=topo_data_ch, \n",
    "    topojson='objects.cantons',\n",
    "    data=ch_unemploy_rate_canton_nationality,\n",
    "    columns=[('', 'Canton'), ('', 'Ratio (Swiss/Foreigners)')],\n",
    "    #threshold_scale=[0, 5, 10, 15, 20, 25],\n",
    "    key_on='properties.name',\n",
    "    fill_color='BuGn', \n",
    "    fill_opacity=0.7, \n",
    "#     line_opacity=1,\n",
    "    legend_name='Percentage of unemployement (%)')\n",
    "m"
   ]
  }
 ],
 "metadata": {
  "kernelspec": {
   "display_name": "Python [default]",
   "language": "python",
   "name": "python3"
  },
  "language_info": {
   "codemirror_mode": {
    "name": "ipython",
    "version": 3
   },
   "file_extension": ".py",
   "mimetype": "text/x-python",
   "name": "python",
   "nbconvert_exporter": "python",
   "pygments_lexer": "ipython3",
   "version": "3.6.2"
  }
 },
 "nbformat": 4,
 "nbformat_minor": 2
}

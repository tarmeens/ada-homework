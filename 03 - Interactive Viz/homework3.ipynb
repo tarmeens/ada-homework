{
 "cells": [
  {
   "cell_type": "code",
   "execution_count": null,
   "metadata": {
    "collapsed": true
   },
   "outputs": [],
   "source": [
    "import os\n",
    "import pandas as pd\n",
    "import json\n",
    "import folium\n",
    "import copy\n",
    "from itertools import chain\n",
    "import numpy as np\n",
    "%matplotlib inline"
   ]
  },
  {
   "cell_type": "markdown",
   "metadata": {},
   "source": [
    "#### 1. Europe"
   ]
  },
  {
   "cell_type": "code",
   "execution_count": null,
   "metadata": {
    "collapsed": true
   },
   "outputs": [],
   "source": [
    "# load the data regarding the ratio of unemployement\n",
    "europe_unemploy_rate_path = 'datasets/europe_unemploy_ratio.csv'\n",
    "europe_unemploy_rate = pd.read_csv(europe_unemploy_rate_path)\n",
    "europe_unemploy_rate = europe_unemploy_rate.loc[\\\n",
    "    (europe_unemploy_rate.TIME==2016) & (europe_unemploy_rate.SEX==\"Total\") & (~europe_unemploy_rate.GEO.str.contains(\"European|Euro\")), \\\n",
    "    [\"GEO\",\"Value\"]]\n",
    "europe_unemploy_rate.loc[europe_unemploy_rate.GEO.str.contains(\"Germany\"), \"GEO\"] = \"Germany\"\n",
    "europe_unemploy_rate.loc[europe_unemploy_rate.GEO.str.contains(\"Former Yugoslav Republic of Macedonia\"), \"GEO\"] = \"The former Yugoslav Republic of Macedonia\"\n",
    "print(\"We have the unemployement rate the following states: \", europe_unemploy_rate.shape[0])\n",
    "europe_unemploy_rate.head()"
   ]
  },
  {
   "cell_type": "code",
   "execution_count": null,
   "metadata": {
    "collapsed": true
   },
   "outputs": [],
   "source": [
    "# load the europe data (geometry of the states) \n",
    "europe_topo_path = 'topojson/europe.topojson.json'\n",
    "topo_data = json.load(open(europe_topo_path))\n",
    "topo_states = [state[\"properties\"][\"NAME\"] for state in topo_data[\"objects\"][\"europe\"][\"geometries\"]]\n",
    "print(\"We draw the boundaries of the following states:\")\n",
    "len(topo_states), \", \".join(topo_states)"
   ]
  },
  {
   "cell_type": "code",
   "execution_count": null,
   "metadata": {
    "collapsed": true
   },
   "outputs": [],
   "source": [
    "# we don't have the data of all the states!\n",
    "missing_states = list(set(topo_states)-set(europe_unemploy_rate.GEO))\n",
    "print(\"We are missing the unemployement rate about these states:\")\n",
    "len(missing_states), \", \".join(missing_states)"
   ]
  },
  {
   "cell_type": "code",
   "execution_count": null,
   "metadata": {
    "collapsed": true
   },
   "outputs": [],
   "source": [
    "def fill_invalid(state):\n",
    "    if state in list(missing_states):\n",
    "        return 0.7\n",
    "    else:\n",
    "        return 0"
   ]
  },
  {
   "cell_type": "code",
   "execution_count": null,
   "metadata": {
    "collapsed": true
   },
   "outputs": [],
   "source": [
    "def optimize(data):\n",
    "    used_arcs = set()\n",
    "    for o in data['objects']:\n",
    "        for geom in data['objects'][o]['geometries']:\n",
    "            if geom['type'] == 'MultiPolygon':\n",
    "                it = chain.from_iterable(geom['arcs'])\n",
    "            else:\n",
    "                it = geom['arcs']\n",
    "\n",
    "            for i in chain.from_iterable(it):\n",
    "                used_arcs.add(i if i >= 0 else ~i)\n",
    "    for i in range(len(data['arcs'])):\n",
    "        if i not in used_arcs:\n",
    "            data['arcs'][i] = []\n",
    "    return data"
   ]
  },
  {
   "cell_type": "code",
   "execution_count": null,
   "metadata": {
    "collapsed": true,
    "scrolled": false
   },
   "outputs": [],
   "source": [
    "europe_location = [55, 15]\n",
    "\n",
    "m = folium.Map(location=europe_location, zoom_start=3)\n",
    "\n",
    "# fill the states with colors depending on their unemployement rate\n",
    "m.choropleth(\n",
    "    geo_data=topo_data, \n",
    "    topojson='objects.europe',\n",
    "    data=europe_unemploy_rate,\n",
    "    columns=['GEO', 'Value'],\n",
    "    #threshold_scale=[0, 5, 10, 15, 20, 25],\n",
    "    key_on='properties.NAME',\n",
    "    fill_color='BuGn', \n",
    "    fill_opacity=0.7, \n",
    "#     line_opacity=1,\n",
    "    legend_name='Percentage of unemployement (%)')\n",
    "\n",
    "# fill with gray the states of which we have no info and also add a popup to every state to show more information \n",
    "# about the states\n",
    "for state in topo_data['objects']['europe']['geometries']:\n",
    "    state_name = state[\"properties\"][\"NAME\"]\n",
    "    unemp_rate = europe_unemploy_rate.Value[europe_unemploy_rate.GEO == state_name]\n",
    "    if unemp_rate.size == 0:\n",
    "        unemp_rate = \"not available\"\n",
    "    else:\n",
    "        unemp_rate = \"{0:.1f}\".format(unemp_rate.iloc[0])\n",
    "\n",
    "    tdata = copy.deepcopy(topo_data)\n",
    "    tdata['objects']['europe']['geometries'] = [state]\n",
    "    folium.TopoJson(\n",
    "        optimize(tdata),\n",
    "        'objects.europe',\n",
    "        name=state['id'],\n",
    "        style_function=lambda geometry: {\n",
    "#                 'color' : 'transparent',\n",
    "#                 'fillColor': 'trasparent',\n",
    "                # grey color to the state of which we don't have an\n",
    "                'fillColor': \"#424949\", \n",
    "                'fillOpacity': fill_invalid(geometry[\"properties\"][\"NAME\"]),\n",
    "            }\n",
    "    ).add_child(folium.Popup(\"<span style=\\\"font-weight:bold;\\\"> Rate: </span> \" + unemp_rate)).add_to(m)\n",
    "\n",
    "#m.save('test.html')\n",
    "\n",
    "m"
   ]
  },
  {
   "cell_type": "markdown",
   "metadata": {},
   "source": [
    "#### 2-3. Switzerland\n",
    "Importat notions (from https://www.amstat.ch/v2/definition.jsp?lang=it):\n",
    "- The unemplyement ratio is computed as unemployed people / actice population where the unemployed people are the people who are looking for a job without having one. \n",
    "- \"Numero dei disoccupati registrati, nel giorno di riferimento (ultimo giorno del mese), diviso per il numero di persone attive, moltiplicato per 100.\"\n",
    "- Persone attive: Persone che svolgono un’attività lucrativa di almeno un’ora per settimana e le persone non occupate.\n",
    "- Il tasso di disoccupazione è calcolato prendendo come denominatore il numero delle persone attive\n",
    "\n",
    "**Problem (for question 3)**: The site does not allow to download the rate of unemployement divided by age and nationality at the same time, but only the absolute value of unemployed people divided in such a way. Since we are interested in the ratio of unemployed people we need the active population for each category Ci defined as a tuple {Canton, Nationality, age class} to compute ratio=(number of unemployed people in category Ci)/(active population of category Ci). \n",
    "Solution: If considering three age classes (15-24, 15-49, 50+) then we are unable to copute the active population for each category Ci since the site does not give (or does not have) enought informatio. However, we can retrieve the active population for the people of age 15-24 on a per Canton and Nationality basis. Therefore, we decided to have only 2 age classes 15-24 and 25+.\n",
    "\n",
    "In order to avoid downloading one dataset per task we decided to proceed as follows:\n",
    "1. Compute the active population of each category:\n",
    "    - *Active population divided per Canton and Nationality*: Download the dataset with the unemployement ratio and the number of unemployed people divided by Canton and Nationality. From this dataset we compute the active population for each tuple {Canton, Nationality} as active population=number of unemployed people*100/ratio of unemployed people.\n",
    "    - *Active population of people of age 15-24 divided per Canton and Nationality*: this information can be directly downloadable from the site.\n",
    "    - *Active population of people of age 25+ divided per Canton and Nationality*: this is easily derived from the previous two. \n",
    "2. Download the complete dataset with the number of unemployed peopled divided by canton, age class and nationality. We clean this dataset and, as explained before, we consider only the two age classes 15-24 and 25+. Then we transform each number of unemployed people in the ratio of unemployed people using the previously computed active poulation values.\n",
    "3. To answer the questions we will group by on the fields we are intereted in."
   ]
  },
  {
   "cell_type": "code",
   "execution_count": null,
   "metadata": {
    "collapsed": true
   },
   "outputs": [],
   "source": [
    "# Helper function (integers are in an invalid format)\n",
    "# Parses a string to an integer, removing invalid characters\n",
    "def parseInt(numStr):\n",
    "    cleaned = [x for x in numStr if x.isdigit()]\n",
    "    return int(\"\".join(cleaned))"
   ]
  },
  {
   "cell_type": "code",
   "execution_count": null,
   "metadata": {
    "collapsed": true
   },
   "outputs": [],
   "source": [
    "def absoluteToRatios(data):\n",
    "    # compute the ratio\n",
    "    act_pop = data[\"Active Population\"]\n",
    "    data[\"Jobseekers\"] = round(data[\"Jobseekers\"]*100/act_pop, 1)\n",
    "    data[\"Unemployed Jobseekers\"] = round(data[\"Unemployed Jobseekers\"]*100/act_pop, 1)\n",
    "    data[\"Employed Jobseekers\"] = round(data[\"Employed Jobseekers\"]*100/act_pop, 1)\n",
    "    \n",
    "    # rename the columns\n",
    "    column_rename = {\n",
    "        \"Jobseekers\": \"Ratio of Jobseekers\",\n",
    "        \"Unemployed Jobseekers\": \"Ratio of Unemployed Jobseekers\",\n",
    "        \"Employed Jobseekers\": \"Ratio of Employed Jobseekers\"\n",
    "    }\n",
    "    data.rename(columns=column_rename, inplace=True)\n",
    "    return data\n",
    "    "
   ]
  },
  {
   "cell_type": "code",
   "execution_count": null,
   "metadata": {
    "collapsed": true
   },
   "outputs": [],
   "source": [
    "# load the swiss topology (geometry of the cantons) \n",
    "ch_topo_path = 'topojson/ch-cantons.topojson.json'\n",
    "topo_data_ch = json.load(open(ch_topo_path, encoding=\"utf-8\"))\n",
    "topo_cantons = [state[\"properties\"][\"name\"] for state in topo_data_ch[\"objects\"][\"cantons\"][\"geometries\"]]\n",
    "print(\"We draw the boundaries of the following cantons:\")\n",
    "len(topo_cantons), \", \".join(topo_cantons)"
   ]
  },
  {
   "cell_type": "markdown",
   "metadata": {},
   "source": [
    "    1. Load the data regarding the ratio of unemployement so to compute the active population per category."
   ]
  },
  {
   "cell_type": "markdown",
   "metadata": {},
   "source": [
    "   - *Active population divided per Canton and Nationality*"
   ]
  },
  {
   "cell_type": "code",
   "execution_count": null,
   "metadata": {
    "collapsed": true
   },
   "outputs": [],
   "source": [
    "path = 'datasets/ch_unemploy_rate_bycanton_bynationality.csv'\n",
    "ch_ap_canton_nationality = pd.read_csv(path)\n",
    "\n",
    "# 1. drop and rename the columns\n",
    "column_rename = {\n",
    "    \"Cantone\":\"Canton\", \n",
    "    \"Nazionalità\": \"Nationality\",\n",
    "    \"Tasso di disoccupazione\": \"Unemployement rate\", \n",
    "    \"Disoccupati registrati\": \"Unemployed\"\n",
    "}\n",
    "ch_ap_canton_nationality = ch_ap_canton_nationality[list(column_rename.keys())]\n",
    "ch_ap_canton_nationality.rename(columns=column_rename, inplace=True)\n",
    "ch_ap_canton_nationality = ch_ap_canton_nationality[~(ch_ap_canton_nationality.Canton==\"Totale\")]\n",
    "\n",
    "# 2. converto objects to integers\n",
    "ch_ap_canton_nationality[\"Unemployed\"] = ch_ap_canton_nationality[\"Unemployed\"].apply(parseInt)\n",
    "\n",
    "# 3. compute the active population\n",
    "ch_ap_canton_nationality[\"Active Population\"] = \\\n",
    "    (100*ch_ap_canton_nationality[\"Unemployed\"]/ch_ap_canton_nationality[\"Unemployement rate\"]).astype(\"int\")\n",
    "\n",
    "# 4. translate column Nationality\n",
    "ch_ap_canton_nationality.Nationality = ch_ap_canton_nationality.Nationality.apply(\n",
    "    lambda natio: \"Foreigners\" if (natio==\"stranieri\") else \"Swiss\")\n",
    "\n",
    "# 5. Rename the cantons\n",
    "ch_ap_canton_nationality[\"Canton\"] = [c for canton in topo_cantons for c in [canton]*2]\n",
    "\n",
    "ch_ap_canton_nationality = ch_ap_canton_nationality[[\"Canton\", \"Nationality\", \"Active Population\"]]\n",
    "ch_ap_canton_nationality.head(2)"
   ]
  },
  {
   "cell_type": "markdown",
   "metadata": {},
   "source": [
    "- *Active population of people of age 15-24 divided per Canton and Nationality*"
   ]
  },
  {
   "cell_type": "code",
   "execution_count": null,
   "metadata": {
    "collapsed": true
   },
   "outputs": [],
   "source": [
    "path = 'datasets/ch_activepopulation_class1_bynationality.csv'\n",
    "ch_ap_class1_canton_nationality = pd.read_csv(path)\n",
    "\n",
    "# 0. Add the a column age to indicate that this dataframe is related to people of age 15-24\n",
    "ch_ap_class1_canton_nationality[\"Age\"] = \"15-24\"\n",
    "\n",
    "# 1. drop and rename the columns\n",
    "column_rename = {\n",
    "    \"Cantone\":\"Canton\", \n",
    "    \"Nazionalità\": \"Nationality\",\n",
    "    \"Age\": \"Age\",\n",
    "    \"Persone attive (giovane)\": \"Active Population\"\n",
    "}\n",
    "ch_ap_class1_canton_nationality = ch_ap_class1_canton_nationality[list(column_rename.keys())]\n",
    "ch_ap_class1_canton_nationality.rename(columns=column_rename, inplace=True)\n",
    "\n",
    "# 2. converto objects to integers\n",
    "ch_ap_class1_canton_nationality[\"Active Population\"] = ch_ap_class1_canton_nationality[\"Active Population\"].apply(parseInt)\n",
    "\n",
    "# 4. translate column Nationality\n",
    "ch_ap_class1_canton_nationality.Nationality = ch_ap_class1_canton_nationality.Nationality.apply(\n",
    "    lambda natio: \"Foreigners\" if (natio==\"stranieri\") else \"Swiss\")\n",
    "\n",
    "# 5. Rename the cantons\n",
    "ch_ap_class1_canton_nationality[\"Canton\"] = [c for canton in topo_cantons for c in [canton]*2]\n",
    "\n",
    "ch_ap_class1_canton_nationality.head(2)"
   ]
  },
  {
   "cell_type": "markdown",
   "metadata": {},
   "source": [
    "- *Active population of people of age 25+ divided per Canton and Nationality*"
   ]
  },
  {
   "cell_type": "code",
   "execution_count": null,
   "metadata": {
    "collapsed": true
   },
   "outputs": [],
   "source": [
    "ch_ap_class2_canton_nationality = ch_ap_class1_canton_nationality.copy()\n",
    "ch_ap_class2_canton_nationality[\"Age\"] = \"25+\"\n",
    "ch_ap_class2_canton_nationality[\"Active Population\"] = \\\n",
    "    ch_ap_canton_nationality[\"Active Population\"]-ch_ap_class1_canton_nationality[\"Active Population\"]\n",
    "\n",
    "ch_ap_class2_canton_nationality.head(2)"
   ]
  },
  {
   "cell_type": "markdown",
   "metadata": {},
   "source": [
    "Finally we can merge this information in one dataframe."
   ]
  },
  {
   "cell_type": "code",
   "execution_count": null,
   "metadata": {
    "collapsed": true
   },
   "outputs": [],
   "source": [
    "active_population = pd.concat((ch_ap_class1_canton_nationality, ch_ap_class2_canton_nationality))\n",
    "active_population.sort_values(['Canton', 'Nationality']).tail(4)"
   ]
  },
  {
   "cell_type": "markdown",
   "metadata": {},
   "source": [
    "    2. Now that we have the active population values we can collect all the information so that it will be possible to compute the ratios that we need for each one of the following tasks."
   ]
  },
  {
   "cell_type": "code",
   "execution_count": null,
   "metadata": {
    "collapsed": true
   },
   "outputs": [],
   "source": [
    "path = 'datasets/ch_unemploed_bycanton_byage_bynationality.csv'\n",
    "ch_unemployed = pd.read_csv(path)\n",
    "# dataset cleaning:\n",
    "#1. drop columns and column renaming\n",
    "column_rename = {\n",
    "    \"Cantone\": \"Canton\",\n",
    "    \"Nazionalità\": \"Nationality\",\n",
    "    \"Classi d'età 15-24, 15-49, 50 anni e più\": \"Age\",     \n",
    "    \"Persone in cerca d'impiego\": \"Jobseekers\",\n",
    "    \"Disoccupati registrati\": \"Unemployed Jobseekers\",\n",
    "    \"Persone in cerca d'impiego non disoccupate\": \"Employed Jobseekers\"\n",
    "}\n",
    "ch_unemployed = ch_unemployed[list(column_rename.keys())]\n",
    "ch_unemployed.rename(columns=column_rename, inplace=True)\n",
    "\n",
    "# 2. Drop totals\n",
    "ch_unemployed = ch_unemployed[~(ch_unemployed==\"Totale\").any(axis=1)]\n",
    "\n",
    "# 3. Canton's name and nationality translate \n",
    "canton_names = [name for canton in topo_data_ch['objects']['cantons'][\"geometries\"] for name in [canton[\"properties\"][\"name\"]]*6]\n",
    "ch_unemployed.Canton = canton_names\n",
    "ch_unemployed.Nationality = ch_unemployed.Nationality.apply(\n",
    "    lambda natio: \"Foreigners\" if (natio==\"stranieri\") else \"Swiss\")  \n",
    "\n",
    "# 4. Convert objects to integers\n",
    "ch_unemployed[\"Jobseekers\"] = ch_unemployed[\"Jobseekers\"].apply(parseInt)\n",
    "ch_unemployed[\"Unemployed Jobseekers\"] = ch_unemployed[\"Unemployed Jobseekers\"].apply(parseInt)\n",
    "ch_unemployed[\"Employed Jobseekers\"] = ch_unemployed[\"Employed Jobseekers\"].apply(parseInt)\n",
    "\n",
    "# 5. Convert the three age classe to the two we use\n",
    "ch_unemployed.Age = ch_unemployed.Age.astype(\"int\")\n",
    "ch_unemployed.Age = ch_unemployed.Age.apply(lambda class_: \"15-24\" if class_==1 else \"25+\")\n",
    "ch_unemployed = ch_unemployed.groupby(by=[\"Canton\", \"Nationality\", \"Age\"]).sum().reset_index()\n",
    "\n",
    "# 6. Add column with active population\n",
    "ch_unemployed = pd.merge(ch_unemployed, active_population, on=[\"Canton\", \"Nationality\", \"Age\"], how='left')\n",
    "\n",
    "ch_unemployed.sort_values(by=[\"Canton\", \"Nationality\", \"Age\"])\n",
    "ch_unemployed.tail(4)"
   ]
  },
  {
   "cell_type": "markdown",
   "metadata": {},
   "source": [
    "On the obtained DataFrame we will group by on the fields we are interested in so to compute the respective ratio of unemployed people."
   ]
  },
  {
   "cell_type": "markdown",
   "metadata": {},
   "source": [
    "    4. Answer the questions grouping on the field we are interested in."
   ]
  },
  {
   "cell_type": "markdown",
   "metadata": {},
   "source": [
    "- **question 2**: ... \"unemployment rates in Switzerland at a recent date\""
   ]
  },
  {
   "cell_type": "code",
   "execution_count": null,
   "metadata": {
    "collapsed": true
   },
   "outputs": [],
   "source": [
    "ch_unemploy_rate_canton = absoluteToRatios(ch_unemployed.groupby(by=\"Canton\").sum().reset_index())\n",
    "ch_unemploy_rate_canton.head()"
   ]
  },
  {
   "cell_type": "markdown",
   "metadata": {},
   "source": [
    "First show only the unemployed people ratio"
   ]
  },
  {
   "cell_type": "code",
   "execution_count": null,
   "metadata": {
    "collapsed": true
   },
   "outputs": [],
   "source": [
    "ch_location = [46.8, 8.5]\n",
    "m = folium.Map(location=ch_location, zoom_start=8)\n",
    "\n",
    "# fill the cantons with colors depending on their unemployement rate\n",
    "m.choropleth(\n",
    "    geo_data=topo_data_ch, \n",
    "    topojson='objects.cantons',\n",
    "    data=ch_unemploy_rate_canton,\n",
    "    columns=['Canton', 'Ratio of Unemployed Jobseekers'],\n",
    "    #threshold_scale=[0, 5, 10, 15, 20, 25],\n",
    "    key_on='properties.name',\n",
    "    fill_color='BuGn', \n",
    "    fill_opacity=0.7, \n",
    "#     line_opacity=1,\n",
    "    legend_name='Percentage of unemployement (%)')\n",
    "m"
   ]
  },
  {
   "cell_type": "markdown",
   "metadata": {},
   "source": [
    "Then show all the jobseekers, considering the employed ones too."
   ]
  },
  {
   "cell_type": "code",
   "execution_count": null,
   "metadata": {
    "collapsed": true
   },
   "outputs": [],
   "source": [
    "m = folium.Map(location=ch_location, zoom_start=8)\n",
    "\n",
    "# fill the cantons with colors depending on their unemployement rate\n",
    "m.choropleth(\n",
    "    geo_data=topo_data_ch, \n",
    "    topojson='objects.cantons',\n",
    "    data=ch_unemploy_rate_canton,\n",
    "    columns=['Canton', 'Ratio of Jobseekers'],\n",
    "    #threshold_scale=[0, 5, 10, 15, 20, 25],\n",
    "    key_on='properties.name',\n",
    "    fill_color='BuGn', \n",
    "    fill_opacity=0.7, \n",
    "#     line_opacity=1,\n",
    "    legend_name='Percentage of unemployement (%)')\n",
    "m"
   ]
  },
  {
   "cell_type": "markdown",
   "metadata": {},
   "source": [
    "TODO: comment differencies"
   ]
  },
  {
   "cell_type": "markdown",
   "metadata": {},
   "source": [
    "- **question 3**: ..."
   ]
  },
  {
   "cell_type": "code",
   "execution_count": null,
   "metadata": {
    "collapsed": true
   },
   "outputs": [],
   "source": [
    "# group by Canton and Nationality\n",
    "ch_unemploy_rate_canton_nationality = \\\n",
    "    absoluteToRatios(ch_unemployed.groupby(by=[\"Canton\", \"Nationality\"]).sum().reset_index())\n",
    "ch_unemploy_rate_canton_nationality.head(4)"
   ]
  },
  {
   "cell_type": "code",
   "execution_count": null,
   "metadata": {
    "collapsed": true
   },
   "outputs": [],
   "source": [
    "# pivot on \"Unemployed Jobseekers\" so to compute the ratio afterwards\n",
    "ch_unemploy_rate_canton_nationality = ch_unemploy_rate_canton_nationality.pivot(\n",
    "    index=\"Canton\", columns=\"Nationality\", values=\"Ratio of Unemployed Jobseekers\").reset_index()\n",
    "ch_unemploy_rate_canton_nationality.columns = \\\n",
    "    pd.MultiIndex(\n",
    "        levels=[[\"\", \"Ratio of Unemployed Jobseekers\"], [\"Canton\", \"Foreigners\", \"Swiss\"]], \n",
    "        labels=[[0,1,1], [0,1,2]])\n",
    "\n",
    "ch_unemploy_rate_canton_nationality.head(4)"
   ]
  },
  {
   "cell_type": "code",
   "execution_count": null,
   "metadata": {
    "collapsed": true
   },
   "outputs": [],
   "source": [
    "# compute the ratio between unemployed swiss and unemployes foreigners\n",
    "ch_unemploy_rate_canton_nationality[\"\", \"Ratio (Swiss/Foreigners)\"] = \\\n",
    "    round(ch_unemploy_rate_canton_nationality[\"Ratio of Unemployed Jobseekers\", \"Swiss\"]/ch_unemploy_rate_canton_nationality[\"Ratio of Unemployed Jobseekers\", \"Foreigners\"], 1)\n",
    "ch_unemploy_rate_canton_nationality.head(4)"
   ]
  },
  {
   "cell_type": "code",
   "execution_count": null,
   "metadata": {
    "collapsed": true,
    "scrolled": true
   },
   "outputs": [],
   "source": [
    "m = folium.Map(location=ch_location, zoom_start=8)\n",
    "\n",
    "m.choropleth(\n",
    "    geo_data=topo_data_ch, \n",
    "    topojson='objects.cantons',\n",
    "    data=ch_unemploy_rate_canton_nationality,\n",
    "    columns=[('', 'Canton'), ('', 'Ratio (Swiss/Foreigners)')],\n",
    "    #threshold_scale=[0, 5, 10, 15, 20, 25],\n",
    "    key_on='properties.name',\n",
    "    fill_color='BuGn', \n",
    "    fill_opacity=0.7, \n",
    "#     line_opacity=1,\n",
    "    legend_name='Percentage of unemployement (%)')\n",
    "m"
   ]
  },
  {
   "cell_type": "markdown",
   "metadata": {},
   "source": [
    "Question 3:  group by Canton, Nationality and age"
   ]
  },
  {
   "cell_type": "code",
   "execution_count": null,
   "metadata": {
    "collapsed": true
   },
   "outputs": [],
   "source": [
    "# group by Canton, Nationality and age\n",
    "ch_unemploy_rate_canton_nationality_age = \\\n",
    "    absoluteToRatios(ch_unemployed.groupby(by=[\"Canton\", \"Nationality\", \"Age\"]).sum())\n",
    "\n",
    "ch_unemploy_rate_canton_nationality_age = ch_unemploy_rate_canton_nationality_age[[\"Ratio of Unemployed Jobseekers\"]]\n",
    "ch_unemploy_rate_canton_nationality_age.head(4)"
   ]
  },
  {
   "cell_type": "markdown",
   "metadata": {},
   "source": [
    "TODO: represent the dataframe in a bar plot?... so many bars..."
   ]
  },
  {
   "cell_type": "code",
   "execution_count": null,
   "metadata": {
    "collapsed": true
   },
   "outputs": [],
   "source": [
    "# ch_unemploy_rate_canton_nationality_age.head(8).plot(kind=\"bar\")"
   ]
  },
  {
   "cell_type": "markdown",
   "metadata": {},
   "source": [
    "TODO: task 4"
   ]
  }
 ],
 "metadata": {
  "kernelspec": {
   "display_name": "Python 3",
   "language": "python",
   "name": "python3"
  },
  "language_info": {
   "codemirror_mode": {
    "name": "ipython",
    "version": 3
   },
   "file_extension": ".py",
   "mimetype": "text/x-python",
   "name": "python",
   "nbconvert_exporter": "python",
   "pygments_lexer": "ipython3",
   "version": "3.6.2"
  }
 },
 "nbformat": 4,
 "nbformat_minor": 2
}

{
 "cells": [
  {
   "cell_type": "markdown",
   "metadata": {},
   "source": [
    "# Homework 03 - Interactive Viz"
   ]
  },
  {
   "cell_type": "code",
   "execution_count": null,
   "metadata": {
    "collapsed": true
   },
   "outputs": [],
   "source": [
    "import os\n",
    "import pandas as pd\n",
    "import json\n",
    "import folium\n",
    "import copy\n",
    "from itertools import chain\n",
    "import numpy as np\n",
    "%matplotlib inline"
   ]
  },
  {
   "cell_type": "markdown",
   "metadata": {},
   "source": [
    "## 1. Unemployment in Europe\n",
    "We use the unemployment dataset downloaded from the [eurostat](http://ec.europa.eu/eurostat/data/database) website, which represents people aged between 15 and 74 years. This dataset reveals the unemployment figures across various countries in Europe in 2017, grouped by months. In this analysis, we adopt the data of July 2017, since it is the most recent one that does not contain any missing value. *** TODO: to compare with Switzerland we may put the data of Semptember 2017 instead, but less countries are available ***\n",
    "\n",
    "In particular, the dataset contains the _unemployment rate_-that is, the number of unemployed people as a percentage of the labour force. The labour force is definied as the total number of employed and unemployed people. The exact definition of _unemployed person_ and _employed person_ can be found in the [explanatory text](http://ec.europa.eu/eurostat/cache/metadata/en/une_esms.htm) on the eurostat website."
   ]
  },
  {
   "cell_type": "code",
   "execution_count": null,
   "metadata": {},
   "outputs": [],
   "source": [
    "# Load the data that contains the unemployement statistics in Europe\n",
    "europe_unemploy_rate_path = 'datasets/europe_unemploy_2017.csv' ; period = \"2017M07\"\n",
    "#europe_unemploy_rate_path = 'datasets/europe_unemploy_ratio.csv'; period = 2016\n",
    "europe_unemploy_rate = pd.read_csv(europe_unemploy_rate_path)\n",
    "\n",
    "# Select only the totals from the most recent year (2016)\n",
    "europe_unemploy_rate = europe_unemploy_rate.loc[\\\n",
    "    (europe_unemploy_rate.TIME==period) & (europe_unemploy_rate.SEX==\"Total\") & (~europe_unemploy_rate.GEO.str.contains(\"European|Euro\")), \\\n",
    "    [\"GEO\",\"Value\"]]\n",
    "\n",
    "# Since we need to merge this data with the TopoJSON data, we have to make sure that the country names are matched\n",
    "europe_unemploy_rate.loc[europe_unemploy_rate.GEO.str.contains(\"Germany\"), \"GEO\"] = \"Germany\"\n",
    "#europe_unemploy_rate.loc[europe_unemploy_rate.GEO.str.contains(\"Macedonia\"), \"GEO\"] = \"The former Yugoslav Republic of Macedonia\"\n",
    "\n",
    "# Remove countries where data is not available\n",
    "europe_unemploy_rate = europe_unemploy_rate[(europe_unemploy_rate.Value != \":\")]\n",
    "\n",
    "# Remove countries that are out of the area of interest\n",
    "europe_unemploy_rate = europe_unemploy_rate[(europe_unemploy_rate.GEO !=\"Japan\")]\n",
    "europe_unemploy_rate = europe_unemploy_rate[(europe_unemploy_rate.GEO !=\"United States\")]\n",
    "\n",
    "# Add Switzerland manually, data of July is taken from amstat \n",
    "europe_unemploy_rate.loc[len(europe_unemploy_rate)] = [\"Switzerland\", 3.0]\n",
    "\n",
    "\n",
    "# Convert to float \n",
    "europe_unemploy_rate.Value = europe_unemploy_rate.Value.astype(float)\n",
    "\n",
    "print(\"The unemployment rate is available for\", europe_unemploy_rate.shape[0], \"states\")\n",
    "europe_unemploy_rate"
   ]
  },
  {
   "cell_type": "markdown",
   "metadata": {},
   "source": [
    "We draw the boundaries of the following states:"
   ]
  },
  {
   "cell_type": "code",
   "execution_count": null,
   "metadata": {},
   "outputs": [],
   "source": [
    "# Load the TopoJSON description of Europe, that defines the shape of the states\n",
    "europe_topo_path = 'topojson/europe.topojson.json'\n",
    "topo_data = json.load(open(europe_topo_path))\n",
    "topo_states = [state[\"properties\"][\"NAME\"] for state in topo_data[\"objects\"][\"europe\"][\"geometries\"]]\n",
    "print(len(topo_states), \"states:\", \", \".join(topo_states))"
   ]
  },
  {
   "cell_type": "code",
   "execution_count": null,
   "metadata": {},
   "outputs": [],
   "source": [
    "# The unemployment figures are not available for all states\n",
    "missing_states = list(set(topo_states)-set(europe_unemploy_rate.GEO))\n",
    "print(\"The unemployement rate of these\", len(missing_states), \"states is missing:\", \", \".join(missing_states))"
   ]
  },
  {
   "cell_type": "markdown",
   "metadata": {},
   "source": [
    "We now plot an interactive Cloropleth map that shows the unemployment rate in European states. By clicking on a state, it is possible to see the detailed information."
   ]
  },
  {
   "cell_type": "code",
   "execution_count": null,
   "metadata": {
    "collapsed": true
   },
   "outputs": [],
   "source": [
    "def fill_invalid(state):\n",
    "    '''\n",
    "    This helper function is used for highlighting the states for which there is no information about unemployment.\n",
    "    '''\n",
    "    if state in list(missing_states):\n",
    "        return 0.7\n",
    "    else:\n",
    "        return 0"
   ]
  },
  {
   "cell_type": "markdown",
   "metadata": {},
   "source": [
    "The interactive map is built as follows:\n",
    "- First, we use the built-in method *\"cloropleth\"* in the Folium library for displaying the map and coloring every state.\n",
    "- Interactivity is added by inserting TopoJSON elements that isolate individual countries. Afterwards, we attach a different *Popup* element to each of these elements. This approach, if used as-is, causes some problems when the map is rendered. It seems that Folium copies the entire TopoJSON dataset each time a new element is added, thereby generating a huge amount of HTML code (about 12 MB), which cannot be rendered on the notebook. We solved this problem by writing the helper function *optimize*, which removes unused information inside a TopoJSON datset (we will call this function for each country)."
   ]
  },
  {
   "cell_type": "code",
   "execution_count": null,
   "metadata": {
    "collapsed": true
   },
   "outputs": [],
   "source": [
    "def optimize(data):\n",
    "    '''\n",
    "    This helper function is used for removing unused arcs from a TopoJSON dataset,\n",
    "    thus reducing the size of the resulting HTML code.\n",
    "    '''\n",
    "    used_arcs = set()\n",
    "    for o in data['objects']:\n",
    "        for geom in data['objects'][o]['geometries']:\n",
    "            if geom['type'] == 'MultiPolygon':\n",
    "                it = chain.from_iterable(geom['arcs'])\n",
    "            else:\n",
    "                it = geom['arcs']\n",
    "\n",
    "            for i in chain.from_iterable(it):\n",
    "                used_arcs.add(i if i >= 0 else ~i)\n",
    "    for i in range(len(data['arcs'])):\n",
    "        if i not in used_arcs:\n",
    "            data['arcs'][i] = [] # Erase arc data\n",
    "    return data"
   ]
  },
  {
   "cell_type": "code",
   "execution_count": null,
   "metadata": {
    "collapsed": true
   },
   "outputs": [],
   "source": [
    "def chain_key(obj, key):\n",
    "    '''\n",
    "    Given key=\"a.b.c\", returns obj[\"a\"][\"b\"][\"c\"]\n",
    "    '''\n",
    "    out = obj\n",
    "    for k in key.split('.'):\n",
    "        out = out[k]\n",
    "    return out\n",
    "    \n",
    "def build_interactive_map(m, geo_data, topojson, data, columns, key_on, legend_name, popup_func):\n",
    "    data = copy.deepcopy(data)\n",
    "    geo_data = copy.deepcopy(geo_data)\n",
    "    # Build a Cloropleth map\n",
    "    m.choropleth(\n",
    "        geo_data=geo_data, \n",
    "        topojson=topojson,\n",
    "        data=data,\n",
    "        columns=columns,\n",
    "        key_on=key_on,\n",
    "        fill_color='BuGn', \n",
    "        fill_opacity=0.7, \n",
    "        legend_name=legend_name)\n",
    "    \n",
    "    # Fill with gray the states for which we have no information,\n",
    "    # and add a popup to every state that shows detailed information\n",
    "    for i, state in enumerate(chain_key(geo_data, topojson)['geometries']):\n",
    "        # Build a TopoJSON structure with a single, clickable state\n",
    "        tdata = copy.deepcopy(geo_data)\n",
    "        chain_key(tdata, topojson)['geometries'] = [state]\n",
    "        folium.TopoJson(\n",
    "            optimize(tdata),\n",
    "            topojson,\n",
    "            name=str(i),\n",
    "            style_function=lambda geometry: {\n",
    "                    # States without unemployment information are filled with grey\n",
    "                    'fillColor': \"#424949\", \n",
    "                    'fillOpacity': fill_invalid(chain_key(geometry, key_on))\n",
    "                }\n",
    "        ).add_child(folium.Popup(popup_func(state))).add_to(m)"
   ]
  },
  {
   "cell_type": "code",
   "execution_count": null,
   "metadata": {},
   "outputs": [],
   "source": [
    "europe_location = [55, 15]\n",
    "m = folium.Map(location=europe_location, zoom_start=3)\n",
    "\n",
    "def europe_popup_func(state):\n",
    "    state_name = state[\"properties\"]['NAME']\n",
    "    unemp_rate = europe_unemploy_rate.Value[europe_unemploy_rate.GEO == state_name]\n",
    "    if unemp_rate.size == 0:\n",
    "        unemp_rate = \"not available\"\n",
    "    else:\n",
    "        unemp_rate = \"{0:.1f}\".format(unemp_rate.iloc[0]) + \" %\"\n",
    "\n",
    "    popup_content  = '<h4>' + state[\"properties\"]['NAME'] + '</h4>'\n",
    "    popup_content += '<span style=\"font-weight:bold\">Unemployment rate: </span>' + unemp_rate\n",
    "    return popup_content\n",
    "\n",
    "build_interactive_map(m,\n",
    "    geo_data=topo_data, \n",
    "    topojson='objects.europe',\n",
    "    data=europe_unemploy_rate,\n",
    "    columns=['GEO', 'Value'],\n",
    "    key_on='properties.NAME',\n",
    "    legend_name='Percentage of unemployement (%)',\n",
    "    popup_func=europe_popup_func)\n",
    "\n",
    "m"
   ]
  },
  {
   "cell_type": "markdown",
   "metadata": {},
   "source": [
    "# TODO \n",
    "- _Discuss colors used (or which color palette we used):_ we decided to use the BuGn palette, which creates a good contrast between different classes, the variation of saturation can be seen as sequential, and it is less sensitive to [color blindness](http://mkweb.bcgsc.ca/colorblind).\n",
    "- _Discuss interval splitting (or which algorithm has been used if automatic):_ the scale does not equally distribute the palette over the range. Most of the countries has a rate that is included in the 3%-9% interval, and a single color has been chosen. More emphasis is put on the countries where the unemployment rate diverges from the average, and therefore, the situation is more critical.\n",
    "- Compare Switzerland's unemployment rate to that of the rest of Europe (maybe show list of countries ordered by unemployment rate).. "
   ]
  },
  {
   "cell_type": "markdown",
   "metadata": {},
   "source": [
    "## 2-3. Unemployment in Switzerland\n",
    "The [amstat](https://www.amstat.ch/v2/index.jsp) website provides information in the three national languages of Switzerland (German, French, Italian), but not in English. Being Italian speakers, we adopted this language and translated to English wherever possible.\n",
    "\n",
    "Important definitions (from https://www.amstat.ch/v2/definition.jsp?lang=it):\n",
    "- The unemployement rate is defined as **# unemployed people / # active people**, where **unemployed people** are those who are looking for a job without having one already. \n",
    "- The exact definition of **unemployed people** is *\"Numero dei disoccupati registrati, nel giorno di riferimento (ultimo giorno del mese), diviso per il numero di persone attive, moltiplicato per 100.\"*, which translates to *\"Number of registered unemployed people, in the last day of the month, multiplied by 100\"*.\n",
    "- The exact definition of **active people** is: *\"Persone che svolgono un'attività lucrativa di almeno un'ora per settimana e le persone non occupate.\"*, which translates to *\"People engaged in for-profit activities for at least one hour per week, and people without employment\"*.\n",
    "\n",
    "**Problem (for question 3)**: The website does not allow to download the rate of unemployement grouped by age and nationality at the same time (only one indicator is allowed), but only the absolute number of unemployed people divided in such a way. Since we are interested in the rate of unemployment, we need the active population for each category Ci defined as a tuple {Canton, Nationality, Age class} to compute the *unemployment rate * = (number of unemployed people in category Ci)/(active population of category Ci).\n",
    "**Solution**: If we consider three age classes (15-24, 15-49, 50+), then we are unable to compute the active population for each category Ci since the site does not provide enough information. However, we can retrieve the active population for the people aged 15-24 on a *{Canton, Nationality}* basis. Therefore, we decided to adopt only 2 age classes: 15-24 and 25+. The class 25+ can be computed by subtracting the class 15-24 from the total.\n",
    "\n",
    "In order to avoid downloading a different dataset for each task, we decided to proceed as follows:\n",
    "1. Compute the active population of each category:\n",
    "    - *Active population divided per Canton and Nationality*: we download the dataset with the unemployement rate and the number of unemployed people divided by Canton and Nationality. From this dataset, we compute the active population for every group {Canton, Nationality} as \"active population=number of unemployed people*100/ratio of unemployed people\".\n",
    "    - *Active population of people aged 15-24 divided by Canton and Nationality*: this information can be directly downloaded from the website.\n",
    "    - *Active population of people of age 25+ divided by Canton and Nationality*: this is easily derived from the previous two. \n",
    "2. Download the complete dataset with the number of unemployed peopled divided by canton, age class and nationality. We clean this dataset and, as explained before, we consider only the two age classes 15-24 and 25+. Then we transform each number of unemployed people in the ratio of unemployed people using the previously computed active population values.\n",
    "3. To answer the questions in the assignment, we aggregate on the fields in which we are interested."
   ]
  },
  {
   "cell_type": "code",
   "execution_count": null,
   "metadata": {
    "collapsed": true
   },
   "outputs": [],
   "source": [
    "# Helper function (integers are in an invalid format)\n",
    "# Parses a string to an integer, removing invalid characters\n",
    "def parseInt(numStr):\n",
    "    cleaned = [x for x in numStr if x.isdigit()]\n",
    "    return int(\"\".join(cleaned))"
   ]
  },
  {
   "cell_type": "code",
   "execution_count": null,
   "metadata": {
    "collapsed": true
   },
   "outputs": [],
   "source": [
    "def absoluteToRatios(data):\n",
    "    '''\n",
    "    Computes ratios from absolute values.\n",
    "    '''\n",
    "    act_pop = data[\"Active Population\"]\n",
    "    data[\"Jobseekers\"] = round(data[\"Jobseekers\"]*100/act_pop, 1)\n",
    "    data[\"Unemployed Jobseekers\"] = round(data[\"Unemployed Jobseekers\"]*100/act_pop, 1)\n",
    "    data[\"Employed Jobseekers\"] = round(data[\"Employed Jobseekers\"]*100/act_pop, 1)\n",
    "    \n",
    "    # rename the columns\n",
    "    column_rename = {\n",
    "        \"Jobseekers\": \"Ratio of Jobseekers\",\n",
    "        \"Unemployed Jobseekers\": \"Ratio of Unemployed Jobseekers\",\n",
    "        \"Employed Jobseekers\": \"Ratio of Employed Jobseekers\"\n",
    "    }\n",
    "    data.rename(columns=column_rename, inplace=True)\n",
    "    return data"
   ]
  },
  {
   "cell_type": "code",
   "execution_count": null,
   "metadata": {},
   "outputs": [],
   "source": [
    "# Load the Swiss topology data (geometry of the cantons)\n",
    "ch_topo_path = 'topojson/ch-cantons.topojson.json'\n",
    "topo_data_ch = json.load(open(ch_topo_path, encoding=\"utf-8\"))\n",
    "topo_cantons = [state[\"properties\"][\"name\"] for state in topo_data_ch[\"objects\"][\"cantons\"][\"geometries\"]]\n",
    "print(\"We draw the boundaries of the following\", len(topo_cantons), \"cantons:\", \", \".join(topo_cantons))"
   ]
  },
  {
   "cell_type": "markdown",
   "metadata": {},
   "source": [
    "Load the data regarding the rate of unemployement so as to compute the active population per category."
   ]
  },
  {
   "cell_type": "markdown",
   "metadata": {},
   "source": [
    "   - *Active population, grouped by Canton and Nationality*"
   ]
  },
  {
   "cell_type": "code",
   "execution_count": null,
   "metadata": {},
   "outputs": [],
   "source": [
    "path = 'datasets/ch_unemploy_rate_bycanton_bynationality.csv'\n",
    "ch_ap_canton_nationality = pd.read_csv(path)\n",
    "\n",
    "# 1. drop and rename the columns\n",
    "column_rename = {\n",
    "    \"Cantone\":\"Canton\", \n",
    "    \"Nazionalità\": \"Nationality\",\n",
    "    \"Tasso di disoccupazione\": \"Unemployement rate\", \n",
    "    \"Disoccupati registrati\": \"Unemployed\"\n",
    "}\n",
    "ch_ap_canton_nationality = ch_ap_canton_nationality[list(column_rename.keys())]\n",
    "ch_ap_canton_nationality.rename(columns=column_rename, inplace=True)\n",
    "ch_ap_canton_nationality = ch_ap_canton_nationality[~(ch_ap_canton_nationality.Canton==\"Totale\")]\n",
    "\n",
    "# 2. converto objects to integers\n",
    "ch_ap_canton_nationality[\"Unemployed\"] = ch_ap_canton_nationality[\"Unemployed\"].apply(parseInt)\n",
    "\n",
    "# 3. compute the active population\n",
    "ch_ap_canton_nationality[\"Active Population\"] = \\\n",
    "    (100*ch_ap_canton_nationality[\"Unemployed\"]/ch_ap_canton_nationality[\"Unemployement rate\"]).astype(\"int\")\n",
    "\n",
    "# 4. translate column Nationality\n",
    "ch_ap_canton_nationality.Nationality = ch_ap_canton_nationality.Nationality.apply(\n",
    "    lambda natio: \"Foreigners\" if (natio==\"stranieri\") else \"Swiss\")\n",
    "\n",
    "# 5. Rename the cantons\n",
    "ch_ap_canton_nationality[\"Canton\"] = [c for canton in topo_cantons for c in [canton]*2]\n",
    "\n",
    "ch_ap_canton_nationality = ch_ap_canton_nationality[[\"Canton\", \"Nationality\", \"Active Population\"]]\n",
    "ch_ap_canton_nationality.head(2)"
   ]
  },
  {
   "cell_type": "markdown",
   "metadata": {},
   "source": [
    "- *Active population of people aged 15-24, grouped by Canton and Nationality*"
   ]
  },
  {
   "cell_type": "code",
   "execution_count": null,
   "metadata": {},
   "outputs": [],
   "source": [
    "path = 'datasets/ch_activepopulation_class1_bynationality.csv'\n",
    "ch_ap_class1_canton_nationality = pd.read_csv(path)\n",
    "\n",
    "# 0. Add a column \"Age\" to indicate that this dataframe is related to people of age 15-24\n",
    "ch_ap_class1_canton_nationality[\"Age\"] = \"15-24\"\n",
    "\n",
    "# 1. Drop useless columns and translate the useful ones from Italian to English\n",
    "column_rename = {\n",
    "    \"Cantone\": \"Canton\", \n",
    "    \"Nazionalità\": \"Nationality\",\n",
    "    \"Age\": \"Age\",\n",
    "    \"Persone attive (giovane)\": \"Active Population\"\n",
    "}\n",
    "ch_ap_class1_canton_nationality = ch_ap_class1_canton_nationality[list(column_rename.keys())]\n",
    "ch_ap_class1_canton_nationality.rename(columns=column_rename, inplace=True)\n",
    "\n",
    "# 2. converto objects to integers\n",
    "ch_ap_class1_canton_nationality[\"Active Population\"] = ch_ap_class1_canton_nationality[\"Active Population\"].apply(parseInt)\n",
    "\n",
    "# 4. translate column Nationality\n",
    "ch_ap_class1_canton_nationality.Nationality = ch_ap_class1_canton_nationality.Nationality.apply(\n",
    "    lambda natio: \"Foreigners\" if (natio==\"stranieri\") else \"Swiss\")\n",
    "\n",
    "# 5. Rename the cantons\n",
    "ch_ap_class1_canton_nationality[\"Canton\"] = [c for canton in topo_cantons for c in [canton]*2]\n",
    "\n",
    "# We show an example with one canton (Zürich)\n",
    "ch_ap_class1_canton_nationality.head(2)"
   ]
  },
  {
   "cell_type": "markdown",
   "metadata": {},
   "source": [
    "- *Active population of people aged 25+, grouped by Canton and Nationality*"
   ]
  },
  {
   "cell_type": "code",
   "execution_count": null,
   "metadata": {},
   "outputs": [],
   "source": [
    "ch_ap_class2_canton_nationality = ch_ap_class1_canton_nationality.copy()\n",
    "ch_ap_class2_canton_nationality[\"Age\"] = \"25+\"\n",
    "ch_ap_class2_canton_nationality[\"Active Population\"] = \\\n",
    "    ch_ap_canton_nationality[\"Active Population\"]-ch_ap_class1_canton_nationality[\"Active Population\"]\n",
    "\n",
    "ch_ap_class2_canton_nationality.head(2)"
   ]
  },
  {
   "cell_type": "markdown",
   "metadata": {},
   "source": [
    "Finally, we can merge this information into a single dataframe."
   ]
  },
  {
   "cell_type": "code",
   "execution_count": null,
   "metadata": {},
   "outputs": [],
   "source": [
    "active_population = pd.concat((ch_ap_class1_canton_nationality, ch_ap_class2_canton_nationality))\n",
    "active_population.sort_values(['Canton', 'Nationality']).tail(4)"
   ]
  },
  {
   "cell_type": "markdown",
   "metadata": {},
   "source": [
    "Now that we have the active population values, we can collect all the information so that it will be possible to compute the ratios that we need for the following tasks."
   ]
  },
  {
   "cell_type": "code",
   "execution_count": null,
   "metadata": {},
   "outputs": [],
   "source": [
    "path = 'datasets/ch_unemploed_bycanton_byage_bynationality.csv'\n",
    "ch_unemployed = pd.read_csv(path)\n",
    "# Dataset cleaning steps:\n",
    "\n",
    "# 1. Drop useless columns and translate the useful ones from Italian to English\n",
    "column_rename = {\n",
    "    \"Cantone\": \"Canton\",\n",
    "    \"Nazionalità\": \"Nationality\",\n",
    "    \"Classi d'età 15-24, 15-49, 50 anni e più\": \"Age\",     \n",
    "    \"Persone in cerca d'impiego\": \"Jobseekers\",\n",
    "    \"Disoccupati registrati\": \"Unemployed Jobseekers\",\n",
    "    \"Persone in cerca d'impiego non disoccupate\": \"Employed Jobseekers\"\n",
    "}\n",
    "ch_unemployed = ch_unemployed[list(column_rename.keys())]\n",
    "ch_unemployed.rename(columns=column_rename, inplace=True)\n",
    "\n",
    "# 2. Drop totals\n",
    "ch_unemployed = ch_unemployed[~(ch_unemployed==\"Totale\").any(axis=1)]\n",
    "\n",
    "# 3. Translate canton name and nationality from Italian to English\n",
    "canton_names = [name for canton in topo_data_ch['objects']['cantons'][\"geometries\"] for name in [canton[\"properties\"][\"name\"]]*6]\n",
    "ch_unemployed.Canton = canton_names\n",
    "ch_unemployed.Nationality = ch_unemployed.Nationality.apply(\n",
    "    lambda natio: \"Foreigners\" if (natio==\"stranieri\") else \"Swiss\")  \n",
    "\n",
    "# 4. Convert objects to integers\n",
    "ch_unemployed[\"Jobseekers\"] = ch_unemployed[\"Jobseekers\"].apply(parseInt)\n",
    "ch_unemployed[\"Unemployed Jobseekers\"] = ch_unemployed[\"Unemployed Jobseekers\"].apply(parseInt)\n",
    "ch_unemployed[\"Employed Jobseekers\"] = ch_unemployed[\"Employed Jobseekers\"].apply(parseInt)\n",
    "\n",
    "# 5. Merge the age classes to the two that we adopted (i.e. 15-24 and 25+)\n",
    "ch_unemployed.Age = ch_unemployed.Age.astype(\"int\")\n",
    "ch_unemployed.Age = ch_unemployed.Age.apply(lambda class_: \"15-24\" if class_==1 else \"25+\")\n",
    "ch_unemployed = ch_unemployed.groupby(by=[\"Canton\", \"Nationality\", \"Age\"]).sum().reset_index()\n",
    "\n",
    "# 6. Add column with active population\n",
    "ch_unemployed = pd.merge(ch_unemployed, active_population, on=[\"Canton\", \"Nationality\", \"Age\"], how='left')\n",
    "\n",
    "ch_unemployed.sort_values(by=[\"Canton\", \"Nationality\", \"Age\"])\n",
    "ch_unemployed.tail(4)"
   ]
  },
  {
   "cell_type": "markdown",
   "metadata": {},
   "source": [
    "On the obtained DataFrame, we aggregate on the fields in which we are interested so as to compute the respective rates of unemployed people."
   ]
  },
  {
   "cell_type": "markdown",
   "metadata": {},
   "source": [
    "#### We answer the questions by grouping on the fields in which we are interested."
   ]
  },
  {
   "cell_type": "markdown",
   "metadata": {},
   "source": [
    "- **question 2**: ... \"unemployment rates in Switzerland at a recent date\""
   ]
  },
  {
   "cell_type": "code",
   "execution_count": null,
   "metadata": {},
   "outputs": [],
   "source": [
    "ch_unemploy_rate_canton = absoluteToRatios(ch_unemployed.groupby(by=\"Canton\").sum().reset_index())\n",
    "ch_unemploy_rate_canton.head()"
   ]
  },
  {
   "cell_type": "markdown",
   "metadata": {},
   "source": [
    "First, we show only the unemployed people ratio"
   ]
  },
  {
   "cell_type": "code",
   "execution_count": null,
   "metadata": {},
   "outputs": [],
   "source": [
    "ch_location = [46.8, 8.5]\n",
    "m = folium.Map(location=ch_location, zoom_start=8)\n",
    "\n",
    "def switzerland_popup_func(canton):\n",
    "    canton_name = canton['properties']['name']\n",
    "    unemp_rate = ch_unemploy_rate_canton['Ratio of Unemployed Jobseekers'][ch_unemploy_rate_canton['Canton'] == canton_name]\n",
    "    unemp_rate = \"{0:.1f}\".format(unemp_rate.iloc[0]) + \" %\"\n",
    "\n",
    "    popup_content  = '<h4>' + canton['properties']['name'] + '</h4>'\n",
    "    popup_content += '<span style=\"font-weight:bold\">Unemployment rate: </span>' + unemp_rate + '<br />'\n",
    "    popup_content += ch_unemployed[ch_unemployed['Canton'] == canton_name]\\\n",
    "        [['Nationality', 'Age', 'Unemployed Jobseekers']].to_html(index=False)\n",
    "    return popup_content\n",
    "\n",
    "build_interactive_map(m,\n",
    "    geo_data=topo_data_ch, \n",
    "    topojson='objects.cantons',\n",
    "    data=ch_unemploy_rate_canton,\n",
    "    columns=['Canton', 'Ratio of Unemployed Jobseekers'],\n",
    "    key_on='properties.name',\n",
    "    legend_name='Percentage of unemployement (%)',\n",
    "    popup_func=switzerland_popup_func)\n",
    "\n",
    "m"
   ]
  },
  {
   "cell_type": "markdown",
   "metadata": {},
   "source": [
    "Afterwards, we show all jobseekers, considering employed ones as well."
   ]
  },
  {
   "cell_type": "code",
   "execution_count": null,
   "metadata": {},
   "outputs": [],
   "source": [
    "m = folium.Map(location=ch_location, zoom_start=8)\n",
    "\n",
    "def switzerland_popup_func(canton):\n",
    "    canton_name = canton['properties']['name']\n",
    "    unemp_rate = ch_unemploy_rate_canton['Ratio of Jobseekers'][ch_unemploy_rate_canton['Canton'] == canton_name]\n",
    "    unemp_rate = \"{0:.1f}\".format(unemp_rate.iloc[0]) + \" %\"\n",
    "\n",
    "    popup_content  = '<h4>' + canton['properties']['name'] + '</h4>'\n",
    "    popup_content += '<span style=\"font-weight:bold\">Ratio of Jobseekers: </span>' + unemp_rate\n",
    "    popup_content += ch_unemployed[ch_unemployed['Canton'] == canton_name]\\\n",
    "        [['Nationality', 'Age', 'Jobseekers']].to_html(index=False)\n",
    "    return popup_content\n",
    "\n",
    "build_interactive_map(m,\n",
    "    geo_data=topo_data_ch, \n",
    "    topojson='objects.cantons',\n",
    "    data=ch_unemploy_rate_canton,\n",
    "    columns=['Canton', 'Ratio of Jobseekers'],\n",
    "    key_on='properties.name',\n",
    "    legend_name='Percentage of jobseekers (%)',\n",
    "    popup_func=switzerland_popup_func)\n",
    "\n",
    "m"
   ]
  },
  {
   "cell_type": "markdown",
   "metadata": {},
   "source": [
    "# TODO: comment differences"
   ]
  },
  {
   "cell_type": "markdown",
   "metadata": {},
   "source": [
    "- **Question 3**: Use the amstat website again to find a dataset that includes the unemployment rates in Switzerland at recent date, this time making a distinction between Swiss and foreign workers. *Show the difference in unemployment rates between the two categories in each canton on a Choropleth map.*"
   ]
  },
  {
   "cell_type": "markdown",
   "metadata": {},
   "source": [
    "** TODO to revise: **\n",
    "\n",
    "_In order to answer this question, we compute the *ratio* between the unemployment rate of foreigners and the unemployment rate of Swiss nationals. For instance, in the Canton of Aargau there are 2.1% of unemployed nationals, and 5.6% of unemployed foreigners. Therefore, the ratio foreigners/nationals is 0.56/0.21 = 2.66, which means that for each unemployed Swiss resident there are 2.66 unemployed foreigners._\n",
    "\n",
    "_Calculating the difference of a percentage by subtraction is not very informative: for example, in both scenarios 10%/5% and 15%/10% the difference is 5%, but in the former case the gap is bigger. This is why we adopted the ratio._"
   ]
  },
  {
   "cell_type": "code",
   "execution_count": null,
   "metadata": {},
   "outputs": [],
   "source": [
    "# Group by Canton and Nationality\n",
    "ch_unemploy_rate_canton_nationality = \\\n",
    "    absoluteToRatios(ch_unemployed.groupby(by=[\"Canton\", \"Nationality\"]).sum().reset_index())\n",
    "ch_unemploy_rate_canton_nationality.head(4)"
   ]
  },
  {
   "cell_type": "code",
   "execution_count": null,
   "metadata": {},
   "outputs": [],
   "source": [
    "# Pivot on \"Unemployed Jobseekers\", so as to compute the ratio afterwards\n",
    "ch_unemploy_rate_canton_nationality = ch_unemploy_rate_canton_nationality.pivot(\n",
    "    index=\"Canton\", columns=\"Nationality\", values=\"Ratio of Unemployed Jobseekers\").reset_index()\n",
    "ch_unemploy_rate_canton_nationality.columns = \\\n",
    "    pd.MultiIndex(\n",
    "        levels=[[\"\", \"Ratio of Unemployed Jobseekers\"], [\"Canton\", \"Foreigners\", \"Swiss\"]], \n",
    "        labels=[[0,1,1], [0,1,2]])\n",
    "\n",
    "ch_unemploy_rate_canton_nationality.head(4)"
   ]
  },
  {
   "cell_type": "code",
   "execution_count": null,
   "metadata": {},
   "outputs": [],
   "source": [
    "# Compute the ratio between unemployed foreigners and unemployed Swiss nationals\n",
    "ch_unemploy_rate_canton_nationality[\"\", \"Ratio (Foreigners/Swiss)\"] = \\\n",
    "    round(ch_unemploy_rate_canton_nationality[\"Ratio of Unemployed Jobseekers\", \"Foreigners\"]/ch_unemploy_rate_canton_nationality[\"Ratio of Unemployed Jobseekers\", \"Swiss\"], 1)\n",
    "ch_unemploy_rate_canton_nationality.head(4)"
   ]
  },
  {
   "cell_type": "code",
   "execution_count": null,
   "metadata": {
    "scrolled": true
   },
   "outputs": [],
   "source": [
    "# Draw the results on a Clorolpleth map\n",
    "m = folium.Map(location=ch_location, zoom_start=8)\n",
    "\n",
    "m.choropleth(\n",
    "    geo_data=topo_data_ch, \n",
    "    topojson='objects.cantons',\n",
    "    data=ch_unemploy_rate_canton_nationality,\n",
    "    columns=[('', 'Canton'), ('', 'Ratio (Foreigners/Swiss)')],\n",
    "    key_on='properties.name',\n",
    "    fill_color='BuGn', \n",
    "    fill_opacity=0.7, \n",
    "    legend_name='Unemployed foreigners for each unemployed Swiss national')\n",
    "m"
   ]
  },
  {
   "cell_type": "markdown",
   "metadata": {},
   "source": [
    "- Now let's refine the analysis by adding the differences between age groups (last part of Question 3)."
   ]
  },
  {
   "cell_type": "code",
   "execution_count": null,
   "metadata": {},
   "outputs": [],
   "source": [
    "# Group by Canton, Nationality, and Age\n",
    "ch_unemploy_rate_canton_nationality_age = \\\n",
    "    absoluteToRatios(ch_unemployed.groupby(by=[\"Canton\", \"Nationality\", \"Age\"]).sum())\n",
    "\n",
    "ch_unemploy_rate_canton_nationality_age = ch_unemploy_rate_canton_nationality_age[[\"Ratio of Unemployed Jobseekers\"]]\n",
    "\n",
    "# We show only a sample here (refer to the bar chart below for the full data)\n",
    "ch_unemploy_rate_canton_nationality_age.head(4)"
   ]
  },
  {
   "cell_type": "code",
   "execution_count": null,
   "metadata": {},
   "outputs": [],
   "source": [
    "canton_ordered = ch_unemploy_rate_canton.sort_values(by=\"Ratio of Jobseekers\")[\"Canton\"]"
   ]
  },
  {
   "cell_type": "code",
   "execution_count": null,
   "metadata": {},
   "outputs": [],
   "source": [
    "ax = ch_unemploy_rate_canton_nationality_age.unstack().unstack().loc[canton_ordered].plot.bar(figsize=(15, 5), stacked=False)\n",
    "ax.legend(['Age 15-24, Foreigners', 'Age 15-24, Swiss', 'Age 25+, Foreigners', 'Age 25+, Swiss'])\n",
    "ax.set_ylabel('% Unemployed')\n",
    "_ = ax.set_title('Unemployment rate by Canton, age, and nationality')"
   ]
  },
  {
   "cell_type": "markdown",
   "metadata": {},
   "source": [
    "- **Question 4** (BONUS): using the map you have just built, and the geographical information contained in it, could you give a rough estimate of the difference in unemployment rates between the areas divided by the Röstigraben?\n",
    "\n",
    "*\"Röstigraben is a humorous term used to refer to the cultural boundary between German-speaking and French-speaking parts of Switzerland\"* -- Wikipedia\n",
    "\n",
    "![](https://upload.wikimedia.org/wikipedia/commons/9/9f/Map_Languages_CH.png)\n",
    "According to the map above, the French-speaking cantons are: Valais, Fribourg, Genève, Vaud, Neuchâtel, Jura. The German-speaking cantons are all the others except Ticino."
   ]
  },
  {
   "cell_type": "code",
   "execution_count": null,
   "metadata": {},
   "outputs": [],
   "source": [
    "french_speaking = set(['Valais', 'Fribourg', 'Genève', 'Vaud', 'Neuchâtel', 'Jura'])\n",
    "italian_speaking = set(['Ticino'])\n",
    "german_speaking = set(ch_unemployed['Canton']) - french_speaking - italian_speaking\n",
    "print('German-speaking cantons:')\n",
    "german_speaking"
   ]
  },
  {
   "cell_type": "code",
   "execution_count": null,
   "metadata": {},
   "outputs": [],
   "source": [
    "def get_language(canton):\n",
    "    if canton in french_speaking:\n",
    "        return \"French\"\n",
    "    elif canton in german_speaking:\n",
    "        return \"German\"\n",
    "    else:\n",
    "        return \"Italian\"\n",
    "    \n",
    "ch_unemployed['Language'] = ch_unemployed['Canton'].map(get_language)\n",
    "by_language = ch_unemployed.groupby('Language')['Unemployed Jobseekers', 'Active Population'].sum()\n",
    "by_language['Unemployment rate (%)'] = by_language['Unemployed Jobseekers']/by_language['Active Population']*100\n",
    "by_language"
   ]
  },
  {
   "cell_type": "markdown",
   "metadata": {},
   "source": [
    "It appears that German-speaking Cantons have the lowest unemployment rate, and French-speaking Cantons the highest. Here, we also evaluated the *Polentagraben*, which refers to the difference between Italian-speaking Cantons (i.e. Ticino) and the others."
   ]
  }
 ],
 "metadata": {
  "kernelspec": {
   "display_name": "Python 3",
   "language": "python",
   "name": "python3"
  },
  "language_info": {
   "codemirror_mode": {
    "name": "ipython",
    "version": 3
   },
   "file_extension": ".py",
   "mimetype": "text/x-python",
   "name": "python",
   "nbconvert_exporter": "python",
   "pygments_lexer": "ipython3",
   "version": "3.6.1"
  }
 },
 "nbformat": 4,
 "nbformat_minor": 2
}

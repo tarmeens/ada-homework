{
 "cells": [
  {
   "cell_type": "code",
   "execution_count": null,
   "metadata": {},
   "outputs": [],
   "source": [
    "import os\n",
    "import pandas as pd\n",
    "import json\n",
    "import folium\n",
    "import copy\n",
    "from itertools import chain\n",
    "import numpy as np"
   ]
  },
  {
   "cell_type": "markdown",
   "metadata": {},
   "source": [
    "#### 1. Europe"
   ]
  },
  {
   "cell_type": "code",
   "execution_count": null,
   "metadata": {},
   "outputs": [],
   "source": [
    "# load the data regarding the ratio of unemployement\n",
    "europe_unemploy_rate_path = r'topojson/lfsa_urgan_1_Data.csv'\n",
    "europe_unemploy_rate = pd.read_csv(europe_unemploy_rate_path)\n",
    "europe_unemploy_rate = europe_unemploy_rate.loc[\\\n",
    "    (europe_unemploy_rate.TIME==2016) & (europe_unemploy_rate.SEX==\"Total\") & (~europe_unemploy_rate.GEO.str.contains(\"European|Euro\")), \\\n",
    "    [\"GEO\",\"Value\"]]\n",
    "europe_unemploy_rate.loc[europe_unemploy_rate.GEO.str.contains(\"Germany\"), \"GEO\"] = \"Germany\"\n",
    "europe_unemploy_rate.loc[europe_unemploy_rate.GEO.str.contains(\"Former Yugoslav Republic of Macedonia\"), \"GEO\"] = \"The former Yugoslav Republic of Macedonia\"\n",
    "print(\"We have the unemployement rate the following states: \", europe_unemploy_rate.shape[0])\n",
    "europe_unemploy_rate"
   ]
  },
  {
   "cell_type": "code",
   "execution_count": null,
   "metadata": {},
   "outputs": [],
   "source": [
    "# load the europe data (geometry of the states) \n",
    "europe_topo_path = r'topojson/europe.topojson.json'\n",
    "topo_data = json.load(open(europe_topo_path))\n",
    "topo_states = [state[\"properties\"][\"NAME\"] for state in topo_data[\"objects\"][\"europe\"][\"geometries\"]]\n",
    "print(\"We draw the boundaries of the following states:\")\n",
    "len(topo_states), topo_states"
   ]
  },
  {
   "cell_type": "code",
   "execution_count": null,
   "metadata": {},
   "outputs": [],
   "source": [
    "# we don't have the data of all the states!\n",
    "missing_states = list(set(topo_states)-set(europe_unemploy_rate.GEO))\n",
    "print(\"We are missing the unemployement rate about these states:\")\n",
    "len(missing_states), missing_states"
   ]
  },
  {
   "cell_type": "code",
   "execution_count": null,
   "metadata": {},
   "outputs": [],
   "source": [
    "def fill_invalid(state):\n",
    "    if state in list(missing_states):\n",
    "        return 0.7\n",
    "    else:\n",
    "        return 0"
   ]
  },
  {
   "cell_type": "code",
   "execution_count": null,
   "metadata": {},
   "outputs": [],
   "source": [
    "def optimize(data):\n",
    "    used_arcs = set()\n",
    "    for o in data['objects']:\n",
    "        for geom in data['objects'][o]['geometries']:\n",
    "            if geom['type'] == 'MultiPolygon':\n",
    "                it = chain.from_iterable(geom['arcs'])\n",
    "            else:\n",
    "                it = geom['arcs']\n",
    "\n",
    "            for i in chain.from_iterable(it):\n",
    "                used_arcs.add(i if i >= 0 else ~i)\n",
    "    for i in range(len(data['arcs'])):\n",
    "        if i not in used_arcs:\n",
    "            data['arcs'][i] = []\n",
    "    return data"
   ]
  },
  {
   "cell_type": "code",
   "execution_count": null,
   "metadata": {
    "scrolled": false
   },
   "outputs": [],
   "source": [
    "europe_location = [55, 15]\n",
    "\n",
    "m = folium.Map(location=europe_location, zoom_start=3)\n",
    "\n",
    "# fill the states with colors depending on their unemployement rate\n",
    "m.choropleth(\n",
    "    geo_data=topo_data, \n",
    "    topojson='objects.europe',\n",
    "    data=europe_unemploy_rate,\n",
    "    columns=['GEO', 'Value'],\n",
    "    #threshold_scale=[0, 5, 10, 15, 20, 25],\n",
    "    key_on='properties.NAME',\n",
    "    fill_color='BuGn', \n",
    "    fill_opacity=0.7, \n",
    "#     line_opacity=1,\n",
    "    legend_name='Percentage of unemployement (%)')\n",
    "\n",
    "# fill with gray the states of which we have no info and also add a popup to every state to show more information \n",
    "# about the states\n",
    "for state in topo_data['objects']['europe']['geometries']:\n",
    "    state_name = state[\"properties\"][\"NAME\"]\n",
    "    unemp_rate = europe_unemploy_rate.Value[europe_unemploy_rate.GEO == state_name]\n",
    "    if unemp_rate.size == 0:\n",
    "        unemp_rate = \"not available\"\n",
    "    else:\n",
    "        unemp_rate = \"{0:.1f}\".format(unemp_rate.iloc[0])\n",
    "\n",
    "    tdata = copy.deepcopy(topo_data)\n",
    "    tdata['objects']['europe']['geometries'] = [state]\n",
    "    folium.TopoJson(\n",
    "        optimize(tdata),\n",
    "        'objects.europe',\n",
    "        name=state['id'],\n",
    "        style_function=lambda geometry: {\n",
    "#                 'color' : 'transparent',\n",
    "#                 'fillColor': 'trasparent',\n",
    "                # grey color to the state of which we don't have an\n",
    "                'fillColor': \"#424949\", \n",
    "                'fillOpacity': fill_invalid(geometry[\"properties\"][\"NAME\"]),\n",
    "            }\n",
    "    ).add_child(folium.Popup(\"<span style=\\\"font-weight:bold;\\\"> Rate: </span> \" + unemp_rate)).add_to(m)\n",
    "\n",
    "#m.save('test.html')\n",
    "\n",
    "m"
   ]
  },
  {
   "cell_type": "markdown",
   "metadata": {},
   "source": [
    "#### 2. Switzerland"
   ]
  },
  {
   "cell_type": "code",
   "execution_count": null,
   "metadata": {},
   "outputs": [],
   "source": [
    "# Parses a string to an integer, removing invalid characters\n",
    "def parseInt(numStr):\n",
    "    cleaned = [x for x in numStr if x.isdigit()]\n",
    "    return int(\"\".join(cleaned))"
   ]
  },
  {
   "cell_type": "code",
   "execution_count": null,
   "metadata": {},
   "outputs": [],
   "source": [
    "# load the data regarding the ratio of unemployement\n",
    "ch_unemploy_rate_path = r'topojson/ch_unemploy_rate.csv'\n",
    "ch_unemploy_rate = pd.read_csv(ch_unemploy_rate_path)\n",
    "ch_unemploy_rate = ch_unemploy_rate.loc[\n",
    "    ch_unemploy_rate.Cantone != \"Totale\",\n",
    "    [\"Cantone\", \"Tasso di disoccupazione\", \"Disoccupati registrati\", \"Persone in cerca d'impiego\"]\n",
    "]\n",
    "\n",
    "# rename the columns\n",
    "column_rename = {\n",
    "    \"Cantone\":\"Cantons\", \n",
    "    \"Tasso di disoccupazione\": \"Unemployement rate\", \n",
    "    \"Disoccupati registrati\": \"Unemployed\", \n",
    "    \"Persone in cerca d'impiego\": \"People looking for a job\"}\n",
    "ch_unemploy_rate.rename(columns=column_rename, inplace=True)\n",
    "\n",
    "# converto objects to integers\n",
    "ch_unemploy_rate[\"Unemployed\"] = ch_unemploy_rate[\"Unemployed\"].apply(parseInt)\n",
    "ch_unemploy_rate[\"People looking for a job\"] = ch_unemploy_rate[\"People looking for a job\"].apply(parseInt)\n",
    "\n",
    "# compute the active population\n",
    "ch_unemploy_rate[\"Active population\"] = (100*ch_unemploy_rate[\"Unemployed\"]/ch_unemploy_rate[\"Unemployement rate\"]).astype(\"int\")\n",
    "\n",
    "# compute the rate of people looking for a job\n",
    "ch_unemploy_rate[\"People looking for a job (ratio)\"] = 100*ch_unemploy_rate[\"People looking for a job\"]/ch_unemploy_rate[\"Active population\"]\n",
    "ch_unemploy_rate[\"People looking for a job (ratio)\"] = ch_unemploy_rate[\"People looking for a job (ratio)\"].round(decimals=1)\n",
    "\n",
    "# sort columns \n",
    "ch_unemploy_rate = ch_unemploy_rate[[\"Cantons\", \"Active population\", \"People looking for a job\", \"People looking for a job (ratio)\", \"Unemployed\", \"Unemployement rate\"]]\n",
    "print(\"We have the unemployement rate the following cantons: \", ch_unemploy_rate.shape[0])\n",
    "ch_unemploy_rate"
   ]
  },
  {
   "cell_type": "code",
   "execution_count": null,
   "metadata": {
    "scrolled": true
   },
   "outputs": [],
   "source": [
    "# load the swiss data (geometry of the cantons) \n",
    "ch_topo_path = r'topojson/ch-cantons.topojson.json'\n",
    "topo_data_ch = json.load(open(ch_topo_path, encoding=\"utf-8\"))\n",
    "topo_cantons = [state[\"properties\"][\"name\"] for state in topo_data_ch[\"objects\"][\"cantons\"][\"geometries\"]]\n",
    "print(\"We draw the boundaries of the following cantons:\")\n",
    "len(topo_cantons), topo_cantons"
   ]
  },
  {
   "cell_type": "code",
   "execution_count": null,
   "metadata": {},
   "outputs": [],
   "source": [
    "# create dictionary to map cantons between the two datasets (key is the Italian name, value is the local name)\n",
    "canton_map = {}\n",
    "for i in range(ch_unemploy_rate.shape[0]):\n",
    "    italian_name = ch_unemploy_rate.Cantons.iloc[i]\n",
    "    local_name = topo_data_ch['objects']['cantons'][\"geometries\"][i][\"properties\"][\"name\"]\n",
    "    canton_map[italian_name] = local_name\n",
    "    \n",
    "# rename name column in data frame\n",
    "ch_unemploy_rate.replace(to_replace = canton_map, inplace=True)\n",
    "\n",
    "ch_unemploy_rate"
   ]
  },
  {
   "cell_type": "code",
   "execution_count": null,
   "metadata": {
    "scrolled": false
   },
   "outputs": [],
   "source": [
    "ch_location = [46.8, 8.5]\n",
    "m = folium.Map(location=ch_location, zoom_start=8)\n",
    "\n",
    "# fill the cantons with colors depending on their unemployement rate\n",
    "m.choropleth(\n",
    "    geo_data=copy.deepcopy(topo_data_ch), \n",
    "    topojson='objects.cantons',\n",
    "    data=ch_unemploy_rate,\n",
    "    columns=['Cantons', 'Unemployement rate'],\n",
    "    #threshold_scale=[0, 5, 10, 15, 20, 25],\n",
    "    key_on='properties.name',\n",
    "    fill_color='BuGn', \n",
    "    fill_opacity=0.7, \n",
    "#     line_opacity=1,\n",
    "    legend_name='Percentage of unemployement (%)')\n",
    "m"
   ]
  },
  {
   "cell_type": "markdown",
   "metadata": {
    "collapsed": true
   },
   "source": [
    "https://www.amstat.ch/v2/definition.jsp?lang=it\n",
    "The unemplyement ration is computed as unemployed people / actice population where the unemployed people are the people who are looking for a job without having one. \n",
    "\"Numero dei disoccupati registrati, nel giorno di riferimento (ultimo giorno del mese), diviso per il numero di persone attive, moltiplicato per 100.\"\n",
    "Persone attive: Persone che svolgono un’attività lucrativa di almeno un’ora per settimana e le persone non occupate.\n",
    "Il tasso di disoccupazione è calcolato prendendo come denominatore il numero delle persone attive"
   ]
  },
  {
   "cell_type": "code",
   "execution_count": null,
   "metadata": {},
   "outputs": [],
   "source": [
    "m = folium.Map(location=ch_location, zoom_start=8)\n",
    "\n",
    "# fill the cantons with colors depending on their unemployement rate\n",
    "m.choropleth(\n",
    "    geo_data=copy.deepcopy(topo_data_ch), \n",
    "    topojson='objects.cantons',\n",
    "    data=ch_unemploy_rate,\n",
    "    columns=['Cantons', 'People looking for a job (ratio)'],\n",
    "    #threshold_scale=[0, 5, 10, 15, 20, 25],\n",
    "    key_on='properties.name',\n",
    "    fill_color='BuGn', \n",
    "    fill_opacity=0.7, \n",
    "#     line_opacity=1,\n",
    "    legend_name='Percentage of unemployement (%)')\n",
    "m"
   ]
  },
  {
   "cell_type": "code",
   "execution_count": null,
   "metadata": {},
   "outputs": [],
   "source": []
  }
 ],
 "metadata": {
  "kernelspec": {
   "display_name": "Python [default]",
   "language": "python",
   "name": "python3"
  },
  "language_info": {
   "codemirror_mode": {
    "name": "ipython",
    "version": 3
   },
   "file_extension": ".py",
   "mimetype": "text/x-python",
   "name": "python",
   "nbconvert_exporter": "python",
   "pygments_lexer": "ipython3",
   "version": "3.6.2"
  }
 },
 "nbformat": 4,
 "nbformat_minor": 2
}

{
 "cells": [
  {
   "cell_type": "code",
   "execution_count": null,
   "metadata": {},
   "outputs": [],
   "source": [
    "import os\n",
    "import pandas as pd\n",
    "import json\n",
    "import folium\n",
    "import copy"
   ]
  },
  {
   "cell_type": "code",
   "execution_count": null,
   "metadata": {},
   "outputs": [],
   "source": [
    "# load the data regarding the ratio of unemployement\n",
    "europe_unemploy_rate_path = r'topojson/lfsa_urgan_1_Data.csv'\n",
    "europe_unemploy_rate = pd.read_csv(europe_unemploy_rate_path)\n",
    "europe_unemploy_rate = europe_unemploy_rate.loc[\\\n",
    "    (europe_unemploy_rate.TIME==2016) & (europe_unemploy_rate.SEX==\"Total\") & (~europe_unemploy_rate.GEO.str.contains(\"European|Euro\")), \\\n",
    "    [\"GEO\",\"Value\"]]\n",
    "europe_unemploy_rate.loc[europe_unemploy_rate.GEO.str.contains(\"Germany\"), \"GEO\"] = \"Germany\"\n",
    "europe_unemploy_rate.loc[europe_unemploy_rate.GEO.str.contains(\"Former Yugoslav Republic of Macedonia\"), \"GEO\"] = \"The former Yugoslav Republic of Macedonia\"\n",
    "print(\"We have the unemployement rate the following states:\")\n",
    "europe_unemploy_rate.shape[0], list(europe_unemploy_rate.GEO)"
   ]
  },
  {
   "cell_type": "code",
   "execution_count": null,
   "metadata": {},
   "outputs": [],
   "source": [
    "# load the europe data (geometry of the states) \n",
    "europe_topo_path = r'topojson/europe.topojson.json'\n",
    "topo_data = json.load(open(europe_topo_path))\n",
    "topo_states = [state[\"properties\"][\"NAME\"] for state in topo_data[\"objects\"][\"europe\"][\"geometries\"]]\n",
    "print(\"We draw the boundaries of the following states:\")\n",
    "len(topo_states), topo_states"
   ]
  },
  {
   "cell_type": "code",
   "execution_count": null,
   "metadata": {},
   "outputs": [],
   "source": [
    "# we don't have the data of all the states!\n",
    "missing_states = list(set(topo_states)-set(europe_unemploy_rate.GEO))\n",
    "print(\"We are missing the unemployement rate about these states:\")\n",
    "len(missing_states), missing_states"
   ]
  },
  {
   "cell_type": "code",
   "execution_count": null,
   "metadata": {},
   "outputs": [],
   "source": [
    "# append the missing states with 0, we will treat them later\n",
    "missing_states = pd.DataFrame({\"GEO\":missing_states, \n",
    "             \"Value\": pd.Series([0]*len(missing_states))})"
   ]
  },
  {
   "cell_type": "code",
   "execution_count": null,
   "metadata": {},
   "outputs": [],
   "source": [
    "europe_unemploy_rate = europe_unemploy_rate.append(missing_states).reset_index().loc[:, [\"GEO\", \"Value\"]]"
   ]
  },
  {
   "cell_type": "code",
   "execution_count": null,
   "metadata": {},
   "outputs": [],
   "source": [
    "europe_unemploy_rate"
   ]
  },
  {
   "cell_type": "code",
   "execution_count": null,
   "metadata": {},
   "outputs": [],
   "source": [
    "def fill_invalid(state):\n",
    "    if state in list(missing_states.GEO):\n",
    "        return 0.7\n",
    "    else:\n",
    "        return 0"
   ]
  },
  {
   "cell_type": "code",
   "execution_count": null,
   "metadata": {},
   "outputs": [],
   "source": [
    "europe_location = [55, 15]\n",
    "\n",
    "m = folium.Map(location=europe_location, zoom_start=3)\n",
    "\n",
    "# fill the states with colors depending on their unemployement rate\n",
    "m.choropleth(\n",
    "    geo_data=copy.deepcopy(topo_data), \n",
    "    topojson='objects.europe',\n",
    "    data=europe_unemploy_rate,\n",
    "    columns=['GEO', 'Value'],\n",
    "    key_on='properties.NAME',\n",
    "    fill_color='BuGn', \n",
    "    fill_opacity=0.7, \n",
    "    #line_opacity=1,\n",
    "    legend_name='Percentage of unemployement (%)')\n",
    "\n",
    "# draw better boundaries\n",
    "folium.TopoJson(\n",
    "    topo_data,\n",
    "    'objects.europe',\n",
    "    name='topojson',\n",
    "    style_function=lambda geometry: {\n",
    "#         # boundaries\n",
    "#         'color' : 'black',\n",
    "#         'weight' : 1,\n",
    "        # fill invalid states with grey\n",
    "        'fillColor': \"#424949\", \n",
    "        'fillOpacity': fill_invalid(geometry[\"properties\"][\"NAME\"]), \n",
    "        }\n",
    ").add_to(m)\n",
    "\n",
    "m"
   ]
  },
  {
   "cell_type": "code",
   "execution_count": null,
   "metadata": {},
   "outputs": [],
   "source": []
  }
 ],
 "metadata": {
  "kernelspec": {
   "display_name": "Python [conda env:ada]",
   "language": "python",
   "name": "conda-env-ada-py"
  },
  "language_info": {
   "codemirror_mode": {
    "name": "ipython",
    "version": 3
   },
   "file_extension": ".py",
   "mimetype": "text/x-python",
   "name": "python",
   "nbconvert_exporter": "python",
   "pygments_lexer": "ipython3",
   "version": "3.6.2"
  }
 },
 "nbformat": 4,
 "nbformat_minor": 2
}

{
 "cells": [
  {
   "cell_type": "markdown",
   "metadata": {},
   "source": [
    "# Milestone 2 - Data collection and description\n",
    "The second task is to intimately acquaint yourself with the data, preprocess it and complete all the necessary descriptive statistics tasks. We expect you to have a pipeline in place, fully documented in a notebook, and show us that you’ve advanced with your understanding of the project goals by updating its README description."
   ]
  },
  {
   "cell_type": "code",
   "execution_count": 117,
   "metadata": {
    "collapsed": true
   },
   "outputs": [],
   "source": [
    "import numpy as np\n",
    "import pandas as pd\n",
    "import ast\n",
    "import matplotlib.pyplot as plt\n",
    "import json\n",
    "import seaborn as sns\n",
    "from IPython.display import IFrame\n",
    "%matplotlib inline\n",
    "%load_ext autoreload\n",
    "%autoreload 2"
   ]
  },
  {
   "cell_type": "code",
   "execution_count": 2,
   "metadata": {
    "collapsed": true
   },
   "outputs": [],
   "source": [
    "import findspark\n",
    "findspark.init()\n",
    "\n",
    "import pyspark\n",
    "conf = pyspark.SparkConf()\\\n",
    "    .setMaster('local[*]')\\\n",
    "    .set('spark.executor.memory', '2g')\\\n",
    "    .set('spark.driver.memory', '2g')\\\n",
    "    .set('spark.executor.instances', '4')\n",
    "    \n",
    "sc = pyspark.SparkContext(conf=conf)"
   ]
  },
  {
   "cell_type": "markdown",
   "metadata": {
    "collapsed": true
   },
   "source": [
    "# Gaining insight into the Amazon product network "
   ]
  },
  {
   "cell_type": "markdown",
   "metadata": {},
   "source": [
    "## Overview"
   ]
  },
  {
   "cell_type": "markdown",
   "metadata": {},
   "source": [
    "The Amazon dataset contains relations among products, such as \"also viewed\", \"also bought\", \"bought together\", \"bought after viewing\". These links can be used to create a graph that represents products with similar characteristics, that is, products that are viewed together but not bought together.\n",
    "Our idea is to exploit the dataset in order to create clusters of competing products. These clusters may be used not only to identify the best product in terms of rating and sales within a group, but also to investigate how brands can influence the sales and the prices of similar products.\n",
    "\n",
    "The dataset is transformed into a graph of relations between products, where the vertices represent products, and edges represent competition between products. For instance, if two products are viewed together (people who viewed product A also viewed product B, and vice versa) but not bought together, they are competitors. On the other hand, two products that are viewed together and bought together are not competitors (e.g. a user buys a smartphone and a cover). A way of expressing this in more formal terms is with max-cliques, that is, finding sets of vertices that are totally interconnected."
   ]
  },
  {
   "cell_type": "markdown",
   "metadata": {},
   "source": [
    "## Dataset description"
   ]
  },
  {
   "cell_type": "markdown",
   "metadata": {},
   "source": [
    "The Amazon dataset consists of two JSON files: \n",
    "- *metadata.json*: contains information about the products, such as their unique ID, description and price. The size of the dataset is 9.81 GB (uncompressed, in JSON format).\n",
    "- *reviews.json*: contains reviews and ratings associated with each product, as well as the helpfulness of each review. The size of the dataset is approximately 87 GB (again, uncompressed and in JSON format).\n",
    "\n",
    "Since the dataset does not fit in memory, we cannot process it using libraries such as Pandas, unless we reduce its size first.\n",
    "Therefore, the initial data processing was carried out using **PySpark**, both on the cluster (especially for the reviews dataset) and in local. While it may seem inappropriate at first, using Spark in local makes sense for medium-sized datasets (like the metadata one), as it automatically parallelizes jobs using all cores, and spills to disk intermediate results that cannot fit in main memory."
   ]
  },
  {
   "cell_type": "markdown",
   "metadata": {},
   "source": [
    "### Metadata\n",
    "The dataset contains a list of entries of products with the following fields (some of them may be missing):\n",
    "- **asin**: unique ID of the product.\n",
    "- **title**: name of the product.\n",
    "- **price**: price in US dollars.\n",
    "- **imUrl**: URL of the product image.\n",
    "- **related**: related products, which contains the sub-lists: *also bought, also viewed, bought together, buy after viewing*.\n",
    "- **salesRank**: sales rank information, i.e. how well the product compares to other products in the same category in terms of sales.\n",
    "- **brand**: brand name.\n",
    "- **categories**: the category(-ies) to which the product belongs.\n",
    "\n",
    "These fields are already sufficient for building our graph, since they contain the above-mentioned relations between products, as well as their IDs and names. Here we present an example of such a record:"
   ]
  },
  {
   "cell_type": "code",
   "execution_count": 12,
   "metadata": {},
   "outputs": [
    {
     "data": {
      "text/plain": [
       "[{'asin': '0000143561',\n",
       "  'categories': [['Movies & TV', 'Movies']],\n",
       "  'description': '3Pack DVD set - Italian Classics, Parties and Holidays.',\n",
       "  'imUrl': 'http://g-ecx.images-amazon.com/images/G/01/x-site/icons/no-img-sm._CB192198896_.gif',\n",
       "  'price': 12.99,\n",
       "  'related': {'also_viewed': ['B0036FO6SI',\n",
       "    'B000KL8ODE',\n",
       "    '000014357X',\n",
       "    'B0037718RC',\n",
       "    'B002I5GNVU',\n",
       "    'B000RBU4BM'],\n",
       "   'buy_after_viewing': ['B0036FO6SI',\n",
       "    'B000KL8ODE',\n",
       "    '000014357X',\n",
       "    'B0037718RC']},\n",
       "  'salesRank': {'Movies & TV': 376041},\n",
       "  'title': 'Everyday Italian (with Giada de Laurentiis), Volume 1 (3 Pack): Italian Classics, Parties, Holidays'}]"
      ]
     },
     "execution_count": 12,
     "metadata": {},
     "output_type": "execute_result"
    }
   ],
   "source": [
    "sc.textFile('data/metadata.json')\\\n",
    "    .map(lambda x: ast.literal_eval(x))\\\n",
    "    .filter(lambda x: 'price' in x and 'related' in x)\\\n",
    "    .take(1)"
   ]
  },
  {
   "cell_type": "markdown",
   "metadata": {},
   "source": [
    "Note that we had to use `ast.literal_eval` instead of the JSON library because the dataset is not in standard JSON format. It appears to be in Python's `print() ` format."
   ]
  },
  {
   "cell_type": "markdown",
   "metadata": {},
   "source": [
    "Before moving forward, we have to decide whether it makes sense to carry out our analysis on the whole dataset, or if it is more appropriate to select only a subset of all categories. It turns out that the latter is the case: sales in categories such as **Music**, **Books**, or **Clothes** depend on people's personal preferences, and are less (if not at all) prone to competition. On the contrary, electronic products are the ones that are subject to real competition, as clients wants to get the best possible product at the lowest cost. Moreover, this selection step allows us to reduce the size of the dataset and process it more efficiently.\n",
    "\n",
    "Therefore, the first step consists in listing all categories and selecting those in which we are interested. As can be seen from the example above, categories are represented as hierarchies, e.g. `[\"Sports & Outdoors\", \"Other Sports\", \"Dance\"]` means that the product can be found in the category **Sports & Outdoors -> Other Sports -> Dance**. Firstly, we extract the list of macro-categories (top-level categories such as **Sports & Outdoors**) along with their product count, and we inspect them manually. Our goal is to choose macro-categories containing products that can be objectively compared in terms of features and characteristics, such as *Electronics* or *Cell phones*. Converseley, categories of which the purchase decision is subjective (e.g. clothes and books) are discarded."
   ]
  },
  {
   "cell_type": "code",
   "execution_count": 13,
   "metadata": {
    "collapsed": true
   },
   "outputs": [],
   "source": [
    "# Get all top-level categories along with their product count\n",
    "categories_macro = sc.textFile('data/metadata.json')\\\n",
    "    .map(lambda x: ast.literal_eval(x))\\\n",
    "    .filter(lambda x: 'categories' in x)\\\n",
    "    .flatMap(lambda x: x['categories'])\\\n",
    "    .map(lambda x: x[0])\\\n",
    "    .map(lambda x: (x, 1))\\\n",
    "    .reduceByKey(lambda x, y: x + y)\\\n",
    "    .collect()"
   ]
  },
  {
   "cell_type": "code",
   "execution_count": 19,
   "metadata": {},
   "outputs": [
    {
     "data": {
      "text/html": [
       "<div>\n",
       "<style>\n",
       "    .dataframe thead tr:only-child th {\n",
       "        text-align: right;\n",
       "    }\n",
       "\n",
       "    .dataframe thead th {\n",
       "        text-align: left;\n",
       "    }\n",
       "\n",
       "    .dataframe tbody tr th {\n",
       "        vertical-align: top;\n",
       "    }\n",
       "</style>\n",
       "<table border=\"1\" class=\"dataframe\">\n",
       "  <thead>\n",
       "    <tr style=\"text-align: right;\">\n",
       "      <th></th>\n",
       "      <th>category</th>\n",
       "      <th>count</th>\n",
       "    </tr>\n",
       "  </thead>\n",
       "  <tbody>\n",
       "    <tr>\n",
       "      <th>49</th>\n",
       "      <td>Clothing, Shoes &amp; Jewelry</td>\n",
       "      <td>3429257</td>\n",
       "    </tr>\n",
       "    <tr>\n",
       "      <th>13</th>\n",
       "      <td>Books</td>\n",
       "      <td>2855617</td>\n",
       "    </tr>\n",
       "    <tr>\n",
       "      <th>66</th>\n",
       "      <td>CDs &amp; Vinyl</td>\n",
       "      <td>1523001</td>\n",
       "    </tr>\n",
       "    <tr>\n",
       "      <th>30</th>\n",
       "      <td>Kindle Store</td>\n",
       "      <td>1088341</td>\n",
       "    </tr>\n",
       "    <tr>\n",
       "      <th>72</th>\n",
       "      <td>Sports &amp; Outdoors</td>\n",
       "      <td>543514</td>\n",
       "    </tr>\n",
       "    <tr>\n",
       "      <th>73</th>\n",
       "      <td>Electronics</td>\n",
       "      <td>500600</td>\n",
       "    </tr>\n",
       "    <tr>\n",
       "      <th>52</th>\n",
       "      <td>Home &amp; Kitchen</td>\n",
       "      <td>437019</td>\n",
       "    </tr>\n",
       "    <tr>\n",
       "      <th>32</th>\n",
       "      <td>Cell Phones &amp; Accessories</td>\n",
       "      <td>357693</td>\n",
       "    </tr>\n",
       "    <tr>\n",
       "      <th>36</th>\n",
       "      <td>Toys &amp; Games</td>\n",
       "      <td>336460</td>\n",
       "    </tr>\n",
       "    <tr>\n",
       "      <th>9</th>\n",
       "      <td>Automotive</td>\n",
       "      <td>331484</td>\n",
       "    </tr>\n",
       "    <tr>\n",
       "      <th>35</th>\n",
       "      <td>Digital Music</td>\n",
       "      <td>281157</td>\n",
       "    </tr>\n",
       "    <tr>\n",
       "      <th>47</th>\n",
       "      <td>Tools &amp; Home Improvement</td>\n",
       "      <td>269149</td>\n",
       "    </tr>\n",
       "    <tr>\n",
       "      <th>50</th>\n",
       "      <td>Health &amp; Personal Care</td>\n",
       "      <td>263163</td>\n",
       "    </tr>\n",
       "    <tr>\n",
       "      <th>71</th>\n",
       "      <td>Beauty</td>\n",
       "      <td>259227</td>\n",
       "    </tr>\n",
       "    <tr>\n",
       "      <th>70</th>\n",
       "      <td>Movies &amp; TV</td>\n",
       "      <td>208912</td>\n",
       "    </tr>\n",
       "    <tr>\n",
       "      <th>0</th>\n",
       "      <td></td>\n",
       "      <td>194914</td>\n",
       "    </tr>\n",
       "    <tr>\n",
       "      <th>10</th>\n",
       "      <td>Grocery &amp; Gourmet Food</td>\n",
       "      <td>171760</td>\n",
       "    </tr>\n",
       "    <tr>\n",
       "      <th>65</th>\n",
       "      <td>Office Products</td>\n",
       "      <td>135024</td>\n",
       "    </tr>\n",
       "    <tr>\n",
       "      <th>48</th>\n",
       "      <td>Arts, Crafts &amp; Sewing</td>\n",
       "      <td>117466</td>\n",
       "    </tr>\n",
       "    <tr>\n",
       "      <th>44</th>\n",
       "      <td>Pet Supplies</td>\n",
       "      <td>110757</td>\n",
       "    </tr>\n",
       "    <tr>\n",
       "      <th>3</th>\n",
       "      <td>Patio, Lawn &amp; Garden</td>\n",
       "      <td>109117</td>\n",
       "    </tr>\n",
       "    <tr>\n",
       "      <th>78</th>\n",
       "      <td>Musical Instruments</td>\n",
       "      <td>85474</td>\n",
       "    </tr>\n",
       "    <tr>\n",
       "      <th>19</th>\n",
       "      <td>Video Games</td>\n",
       "      <td>74342</td>\n",
       "    </tr>\n",
       "    <tr>\n",
       "      <th>64</th>\n",
       "      <td>Baby</td>\n",
       "      <td>71317</td>\n",
       "    </tr>\n",
       "    <tr>\n",
       "      <th>42</th>\n",
       "      <td>Apps for Android</td>\n",
       "      <td>61619</td>\n",
       "    </tr>\n",
       "    <tr>\n",
       "      <th>79</th>\n",
       "      <td>Industrial &amp; Scientific</td>\n",
       "      <td>47279</td>\n",
       "    </tr>\n",
       "    <tr>\n",
       "      <th>4</th>\n",
       "      <td>Amazon Instant Video</td>\n",
       "      <td>30648</td>\n",
       "    </tr>\n",
       "    <tr>\n",
       "      <th>82</th>\n",
       "      <td>Software</td>\n",
       "      <td>25804</td>\n",
       "    </tr>\n",
       "    <tr>\n",
       "      <th>11</th>\n",
       "      <td>Amazon Fashion</td>\n",
       "      <td>24145</td>\n",
       "    </tr>\n",
       "    <tr>\n",
       "      <th>69</th>\n",
       "      <td>Appliances</td>\n",
       "      <td>11656</td>\n",
       "    </tr>\n",
       "  </tbody>\n",
       "</table>\n",
       "</div>"
      ],
      "text/plain": [
       "                     category    count\n",
       "49  Clothing, Shoes & Jewelry  3429257\n",
       "13                      Books  2855617\n",
       "66                CDs & Vinyl  1523001\n",
       "30               Kindle Store  1088341\n",
       "72          Sports & Outdoors   543514\n",
       "73                Electronics   500600\n",
       "52             Home & Kitchen   437019\n",
       "32  Cell Phones & Accessories   357693\n",
       "36               Toys & Games   336460\n",
       "9                  Automotive   331484\n",
       "35              Digital Music   281157\n",
       "47   Tools & Home Improvement   269149\n",
       "50     Health & Personal Care   263163\n",
       "71                     Beauty   259227\n",
       "70                Movies & TV   208912\n",
       "0                               194914\n",
       "10     Grocery & Gourmet Food   171760\n",
       "65            Office Products   135024\n",
       "48      Arts, Crafts & Sewing   117466\n",
       "44               Pet Supplies   110757\n",
       "3        Patio, Lawn & Garden   109117\n",
       "78        Musical Instruments    85474\n",
       "19                Video Games    74342\n",
       "64                       Baby    71317\n",
       "42           Apps for Android    61619\n",
       "79    Industrial & Scientific    47279\n",
       "4        Amazon Instant Video    30648\n",
       "82                   Software    25804\n",
       "11             Amazon Fashion    24145\n",
       "69                 Appliances    11656"
      ]
     },
     "execution_count": 19,
     "metadata": {},
     "output_type": "execute_result"
    }
   ],
   "source": [
    "# We show the top categories sorted by product count\n",
    "df = pd.DataFrame(categories_macro)\n",
    "df.columns = ['category', 'count']\n",
    "df.sort_values('count', ascending=False).head(30)"
   ]
  },
  {
   "cell_type": "markdown",
   "metadata": {},
   "source": [
    "According to our considerations, we decided to include the following macro categories in our analysis: **Electronics**, **Cell Phones & Accessories**, **Automotive**, **Tools & Home Improvement**, and **Musical Instruments**. The choice is motivated both by their sizes and by the fact that they represent products that are comparable.\n",
    "\n",
    "Now, we want to have a more detailed description of the categories. Therefore, for each macro-category, we convert the category lists within each product to a tree. We do this in a distributed way, using Spark. The job works as follows:\n",
    "- **Map phase:** each list is converted to a tree. For instance:"
   ]
  },
  {
   "cell_type": "code",
   "execution_count": 120,
   "metadata": {
    "collapsed": true
   },
   "outputs": [],
   "source": [
    "# Transforms a category list into a flat tree (a tree with a linked list topology)\n",
    "def convert_to_tree(elements):\n",
    "    root = {}\n",
    "    node = root\n",
    "    for element in elements:\n",
    "        node[element] = (1, {}) # Tuple: (product count, children)\n",
    "        node = node[element][1]\n",
    "    return root"
   ]
  },
  {
   "cell_type": "code",
   "execution_count": 121,
   "metadata": {},
   "outputs": [
    {
     "data": {
      "text/plain": [
       "{'Sports & Outdoors': (1, {'Other Sports': (1, {'Dance': (1, {})})})}"
      ]
     },
     "execution_count": 121,
     "metadata": {},
     "output_type": "execute_result"
    }
   ],
   "source": [
    "convert_to_tree([\"Sports & Outdoors\", \"Other Sports\", \"Dance\"])"
   ]
  },
  {
   "cell_type": "markdown",
   "metadata": {},
   "source": [
    "Each category includes the product count along with its subcategories (children). The product count within a category includes the sum of the product counts of all its children.\n",
    "\n",
    "- **Reduce phase:** all trees are merged together recursively, creating a huge category tree that reflects the entire dataset."
   ]
  },
  {
   "cell_type": "code",
   "execution_count": 122,
   "metadata": {
    "collapsed": true
   },
   "outputs": [],
   "source": [
    "# Merge nodes\n",
    "def merge_trees(a, b):\n",
    "    for key in b:\n",
    "        if key in a:\n",
    "            a[key] = (a[key][0] + b[key][0], a[key][1])\n",
    "            merge_trees(a[key][1], b[key][1])\n",
    "        else:\n",
    "            a[key] = b[key]\n",
    "    return a"
   ]
  },
  {
   "cell_type": "code",
   "execution_count": 123,
   "metadata": {},
   "outputs": [
    {
     "data": {
      "text/plain": [
       "{'Sports & Outdoors': (2,\n",
       "  {'Other Sports': (1, {'Dance': (1, {})}), 'Supplies': (1, {})})}"
      ]
     },
     "execution_count": 123,
     "metadata": {},
     "output_type": "execute_result"
    }
   ],
   "source": [
    "# Example\n",
    "a = convert_to_tree([\"Sports & Outdoors\", \"Other Sports\", \"Dance\"])\n",
    "b = convert_to_tree([\"Sports & Outdoors\", \"Supplies\"])\n",
    "merge_trees(a, b)"
   ]
  },
  {
   "cell_type": "markdown",
   "metadata": {},
   "source": [
    "Now we run the actual job on Spark."
   ]
  },
  {
   "cell_type": "code",
   "execution_count": 39,
   "metadata": {
    "collapsed": true
   },
   "outputs": [],
   "source": [
    "# Top-level categories of interest\n",
    "categories_to_extract = set(['Electronics', 'Cell Phones & Accessories', 'Automotive',\\\n",
    "                             'Tools & Home Improvement', 'Musical Instruments'])\n",
    "\n",
    "# Build the category tree\n",
    "category_tree = sc.textFile('data/metadata.json')\\\n",
    "    .map(lambda x: ast.literal_eval(x))\\\n",
    "    .filter(lambda x: 'categories' in x)\\\n",
    "    .flatMap(lambda x: x['categories'])\\\n",
    "    .filter(lambda x: x[0] in categories_to_extract)\\\n",
    "    .map(convert_to_tree)\\\n",
    "    .reduce(merge_trees)"
   ]
  },
  {
   "cell_type": "markdown",
   "metadata": {},
   "source": [
    "In the example below, the subtree of *Cell Phones & Accessories* is shown, along with product count for each sub-category. As can be seen, sub categories may differ significantly in terms of belonging products. Therefore, some heuristics may be necessary to group together categories that contains a small number of products."
   ]
  },
  {
   "cell_type": "code",
   "execution_count": 33,
   "metadata": {},
   "outputs": [
    {
     "data": {
      "text/plain": [
       "(357693,\n",
       " {'Accessories': (109763,\n",
       "   {'Accessory Kits': (26545, {}),\n",
       "    'Audio Adapters': (497, {}),\n",
       "    'Batteries': (9882,\n",
       "     {'Battery Charger Cases': (560, {}),\n",
       "      'External Battery Packs': (2079, {}),\n",
       "      'Internal Batteries': (6651, {})}),\n",
       "    'Bluetooth Speakers': (782, {}),\n",
       "    'Car Accessories': (5863,\n",
       "     {'Car Cradles & Mounts': (4705,\n",
       "       {'Car Cradles': (424, {}), 'Car Mounts': (4189, {})}),\n",
       "      'Car Kits': (845, {}),\n",
       "      'Car Speakerphones': (312, {})}),\n",
       "    'Chargers': (17463,\n",
       "     {'Car Chargers': (7650, {}),\n",
       "      'Cell Phone Docks': (1894, {}),\n",
       "      'International Chargers': (169, {}),\n",
       "      'Solar Chargers': (284, {}),\n",
       "      'Travel Chargers': (7122, {})}),\n",
       "    'Cradles, Mounts & Stands': (48, {'Stands': (47, {})}),\n",
       "    'Data Cables': (6671, {}),\n",
       "    'Headsets': (10197,\n",
       "     {'Bluetooth Headsets': (5066, {}), 'Wired Headsets': (5023, {})}),\n",
       "    'Phone Charms': (3073, {}),\n",
       "    'Replacement Parts': (6592, {}),\n",
       "    'SIM Cards & Tools': (506, {}),\n",
       "    'Screen Protectors': (15879, {}),\n",
       "    'Signal Boosters': (586, {}),\n",
       "    'Smart Watches & Accessories': (148, {}),\n",
       "    'Stylus Pens': (3584, {})}),\n",
       "  'Cases': (239587,\n",
       "   {'Armbands': (1541, {}),\n",
       "    'Basic Cases': (223962, {}),\n",
       "    'Customizable Cases': (2, {}),\n",
       "    'Holsters & Clips': (4352, {}),\n",
       "    'Sleeves': (184, {}),\n",
       "    'Wallet Cases': (7777, {}),\n",
       "    'Waterproof Cases': (1757, {})}),\n",
       "  'Cell Phones': (7757,\n",
       "   {'Contract Cell Phones': (619, {}),\n",
       "    'No-Contract Cell Phones': (767,\n",
       "     {'Minutes': (52, {}), 'Phones': (713, {})}),\n",
       "    'Unlocked Cell Phones': (6328, {})}),\n",
       "  'Connected Devices': (63,\n",
       "   {'Mobile Broadband': (53,\n",
       "     {'Data Cards': (1, {}),\n",
       "      'Mobile Hotspots': (34, {}),\n",
       "      'USB Modems': (10, {})}),\n",
       "    'Tablets': (9, {})})})"
      ]
     },
     "execution_count": 33,
     "metadata": {},
     "output_type": "execute_result"
    }
   ],
   "source": [
    "# Each node represents a (count, children) tuple\n",
    "category_tree['Cell Phones & Accessories']"
   ]
  },
  {
   "cell_type": "markdown",
   "metadata": {},
   "source": [
    "We made an interactive visualization using the 5 macro-categories that we selected. This allowed us to explore the tree and see its overall structure, as the number of sub-categories is too high for being inspected textually. You can see it [here](https://niccolosacchi.github.io/categories-graph.html)."
   ]
  },
  {
   "cell_type": "markdown",
   "metadata": {},
   "source": [
    "### Reviews"
   ]
  },
  {
   "cell_type": "markdown",
   "metadata": {},
   "source": [
    "The reviews dataset (`reviews.json`) has a size of approximately 87 GB. Each review contains the following fields:\n",
    "- **reviewerID**: unique ID associated to each user.\n",
    "- **asin**: unique ID associated to each product.\n",
    "- **reviewerName**: name of the user.\n",
    "- **helpful**: helpfulness rating of the review (tuple of 2 elements: \"A out of B find this review helpful\").\n",
    "- **reviewText**: text of the review.\n",
    "- **overall**: rating of the product from 1 to 5 stars.\n",
    "- **summary** - summary of the review.\n",
    "- **unixReviewTime** - unix timestamp of the review.\n",
    "- **reviewTime** - raw timestamp of the review."
   ]
  },
  {
   "cell_type": "markdown",
   "metadata": {},
   "source": [
    "Since our project is mainly focused on products, we are not interested in *individual* reviews. However, we still need this dataset in order to compute the aggregate ratings for each product and merge them into our dataset."
   ]
  },
  {
   "cell_type": "markdown",
   "metadata": {},
   "source": [
    "## Preliminary processing"
   ]
  },
  {
   "cell_type": "markdown",
   "metadata": {},
   "source": [
    "#### Reduce the Amazon dataset"
   ]
  },
  {
   "cell_type": "markdown",
   "metadata": {},
   "source": [
    "Due to the large size of the Amazon dataset, we decided to create a custom dataset prior to performing any further analysis. The custom dataset, which has been named *reduced*, contains only products belonging to the macro-categories selected in the previous parapraph. In addition, the review ratings of each product are averaged and merged with the products. As a result, we obtain a smaller *metadata* dataset (1.71 GB) that is enriched with the average product rating field, as well as with the reviews count and their helpfulness."
   ]
  },
  {
   "cell_type": "markdown",
   "metadata": {},
   "source": [
    "##### Aggregate ratings\n",
    "The average product rating is computed from the data in the *reviews* dataset. For each entry, the product ID and the rating are stored, respectively, in the *asin* and *overall* fields. To compute the rating, entries are grouped by product ID and then \n",
    "averaged on the *overall* field. In addition to the average rating for each product, we add some extra information which might come handy later: the number of reviews (`num_reviews`), and the ratio of helpful reviews (`helpful_fraction`).\n",
    "The output is saved in JSON format as `aggregate_ratings.json`. The code for processing the data (shown below) was executed on the ADA cluster."
   ]
  },
  {
   "cell_type": "markdown",
   "metadata": {
    "collapsed": true
   },
   "source": [
    "```python\n",
    "import json\n",
    "import pyspark.sql.functions as func\n",
    "from pyspark import SparkContext\n",
    "from pyspark.sql import SQLContext\n",
    "\n",
    "sc = SparkContext()\n",
    "sqlContext = SQLContext(sc)\n",
    "\n",
    "rdd = sc.textFile('/datasets/productGraph/complete.json')\\\n",
    "    .map(lambda x: json.loads(x))\\\n",
    "    .map(lambda x: (x['asin'], x['overall'], x['helpful'][0], x['helpful'][1]))\n",
    "\n",
    "sqlContext.createDataFrame(rdd, ['asin', 'overall', 'helpful_positive', 'helpful_all'])\\\n",
    "    .groupBy('asin')\\\n",
    "    .agg(\n",
    "        func.mean('overall').alias('average_rating'),\n",
    "        func.count('overall').alias('num_reviews'),\n",
    "        (func.sum('helpful_positive') / func.sum('helpful_all')).alias('helpful_fraction')\n",
    "    )\\\n",
    "    .toJSON()\\\n",
    "    .saveAsTextFile('aggregate_ratings.json')\n",
    "```"
   ]
  },
  {
   "cell_type": "markdown",
   "metadata": {},
   "source": [
    "##### Merge the datasets\n",
    "*Metadata* is filtered so as to mantain only the products belonging to the macro categories of interest, which are then merged with *aggregate_ratings*. The code that generates the *reduced* dataset is shown below. An important observation is that a product can belong to multiple categories (`categories` is a list of lists). However, in our merging process, we need to assign a product to only one category to avoid duplicates. After some investigation, we decided to empirically re-assign products only to the first one in order of appearance, as often the other ones were the result of crawling errors or were inappropriate."
   ]
  },
  {
   "cell_type": "markdown",
   "metadata": {
    "collapsed": true
   },
   "source": [
    "```python\n",
    "# The list of macro categories that we want to extract\n",
    "categories_to_extract = set(['Electronics', 'Cell Phones & Accessories', 'Automotive',\\\n",
    "                             'Tools & Home Improvement', 'Musical Instruments'])\n",
    "\n",
    "# Extract macro category\n",
    "def extract_category(x):\n",
    "    x['category'] = x['categories'][0]\n",
    "    del x['categories']\n",
    "    x['num_reviews'] = 0 # The number of reviews is 0 in the default case\n",
    "    if 'salesRank' in x:\n",
    "        # Convert the dictionary to a more suitable format (tuple)\n",
    "        if len(x['salesRank']) > 0:\n",
    "            x['salesRank'] = list(next(iter(x['salesRank'].items())))\n",
    "        else:\n",
    "            del x['salesRank'] # Remove malformed fields (i.e. empty dictionaries)\n",
    "    return x\n",
    "\n",
    "# Load the aggregate ratings\n",
    "ratings = sc.textFile('data/aggregate_ratings.json')\\\n",
    "    .map(lambda x: json.loads(x))\\\n",
    "    .map(lambda x: (x['asin'], x))\n",
    "\n",
    "# Filter products and merge datasets.\n",
    "# Note that we use the left outer join, so as to include products that have no reviews.\n",
    "sc.textFile('data/metadata.json')\\\n",
    "    .map(lambda x: ast.literal_eval(x))\\\n",
    "    .filter(lambda x: 'categories' in x)\\\n",
    "    .map(extract_category)\\\n",
    "    .filter(lambda x: x['category'][0] in categories_to_extract)\\\n",
    "    .map(lambda x: (x['asin'], x))\\\n",
    "    .leftOuterJoin(ratings)\\\n",
    "    .map(lambda x: x[1])\\\n",
    "    .map(lambda x: x[0] if x[1] == None else {**x[0], **x[1]})\\\n",
    "    .map(lambda x: json.dumps(x))\\\n",
    "    .saveAsTextFile('data/reduced.json')\n",
    "```"
   ]
  },
  {
   "cell_type": "markdown",
   "metadata": {},
   "source": [
    "##  Exploratory data analysis"
   ]
  },
  {
   "cell_type": "markdown",
   "metadata": {},
   "source": [
    "### Missing data statistics\n",
    "As first thing, we want to see which fields can be missing, and, should they be, the actual fraction of missing values. In order to do this, we sample a subset of the dataset (25%) using Spark, and we process it with Pandas. This will not affect the result considerably, as the sampled dataset is still huge."
   ]
  },
  {
   "cell_type": "code",
   "execution_count": 182,
   "metadata": {
    "collapsed": true
   },
   "outputs": [],
   "source": [
    "sample = sc.textFile('data/reduced.json')\\\n",
    "    .sample(fraction=0.25, withReplacement=False)\\\n",
    "    .map(lambda x: json.loads(x))\\\n",
    "    .collect()"
   ]
  },
  {
   "cell_type": "code",
   "execution_count": 183,
   "metadata": {},
   "outputs": [
    {
     "data": {
      "text/html": [
       "<div>\n",
       "<style>\n",
       "    .dataframe thead tr:only-child th {\n",
       "        text-align: right;\n",
       "    }\n",
       "\n",
       "    .dataframe thead th {\n",
       "        text-align: left;\n",
       "    }\n",
       "\n",
       "    .dataframe tbody tr th {\n",
       "        vertical-align: top;\n",
       "    }\n",
       "</style>\n",
       "<table border=\"1\" class=\"dataframe\">\n",
       "  <thead>\n",
       "    <tr style=\"text-align: right;\">\n",
       "      <th></th>\n",
       "      <th>asin</th>\n",
       "      <th>average_rating</th>\n",
       "      <th>brand</th>\n",
       "      <th>category</th>\n",
       "      <th>description</th>\n",
       "      <th>helpful_fraction</th>\n",
       "      <th>imUrl</th>\n",
       "      <th>num_reviews</th>\n",
       "      <th>price</th>\n",
       "      <th>related</th>\n",
       "      <th>salesRank</th>\n",
       "      <th>title</th>\n",
       "    </tr>\n",
       "  </thead>\n",
       "  <tbody>\n",
       "    <tr>\n",
       "      <th>0</th>\n",
       "      <td>9881976561</td>\n",
       "      <td>1.000000</td>\n",
       "      <td>NaN</td>\n",
       "      <td>[Cell Phones &amp; Accessories, Cases, Basic Cases]</td>\n",
       "      <td>NaN</td>\n",
       "      <td>NaN</td>\n",
       "      <td>http://ecx.images-amazon.com/images/I/41PFY8W8...</td>\n",
       "      <td>1</td>\n",
       "      <td>NaN</td>\n",
       "      <td>NaN</td>\n",
       "      <td>[Cell Phones &amp; Accessories, 920073]</td>\n",
       "      <td>HTC Radar 4G (T-Mobile) White Flowers Design H...</td>\n",
       "    </tr>\n",
       "    <tr>\n",
       "      <th>1</th>\n",
       "      <td>B00002246F</td>\n",
       "      <td>4.266667</td>\n",
       "      <td>Bosch</td>\n",
       "      <td>[Tools &amp; Home Improvement, Power &amp; Hand Tools,...</td>\n",
       "      <td>The Bosch 1942 heat gun features an air intake...</td>\n",
       "      <td>0.754902</td>\n",
       "      <td>http://ecx.images-amazon.com/images/I/71390XDC...</td>\n",
       "      <td>30</td>\n",
       "      <td>124.99</td>\n",
       "      <td>{'also_bought': ['B0002SRM2O', 'B00005QEVQ', '...</td>\n",
       "      <td>NaN</td>\n",
       "      <td>Bosch 1942 14.3 Amp Heat Gun</td>\n",
       "    </tr>\n",
       "    <tr>\n",
       "      <th>2</th>\n",
       "      <td>B0000224YP</td>\n",
       "      <td>5.000000</td>\n",
       "      <td>DEWALT</td>\n",
       "      <td>[Tools &amp; Home Improvement, Power &amp; Hand Tools,...</td>\n",
       "      <td>DEWALT DW5418-1/4-Inch x 6-Inch x 8-1/2-Inch R...</td>\n",
       "      <td>NaN</td>\n",
       "      <td>http://ecx.images-amazon.com/images/I/31F4bRVA...</td>\n",
       "      <td>1</td>\n",
       "      <td>6.25</td>\n",
       "      <td>{'also_viewed': ['B00004RHCV', 'B0000224YU', '...</td>\n",
       "      <td>NaN</td>\n",
       "      <td>DEWALT DW5418-1/4-Inch by 6-Inch by 8-1/2-Inch...</td>\n",
       "    </tr>\n",
       "    <tr>\n",
       "      <th>3</th>\n",
       "      <td>B00004SQFP</td>\n",
       "      <td>5.000000</td>\n",
       "      <td>Coleman Cable</td>\n",
       "      <td>[Tools &amp; Home Improvement, Electrical, Cords, ...</td>\n",
       "      <td>T-Prene insulation shrugs off oil, grease, aci...</td>\n",
       "      <td>1.000000</td>\n",
       "      <td>http://ecx.images-amazon.com/images/I/411Z8HWH...</td>\n",
       "      <td>6</td>\n",
       "      <td>108.75</td>\n",
       "      <td>{'also_viewed': ['B000A3I3GA', 'B000BQU576', '...</td>\n",
       "      <td>NaN</td>\n",
       "      <td>Coleman Cable 03588 Polar/Solar Plus Tri-Sourc...</td>\n",
       "    </tr>\n",
       "    <tr>\n",
       "      <th>4</th>\n",
       "      <td>B00004T7K4</td>\n",
       "      <td>4.500000</td>\n",
       "      <td>Freud</td>\n",
       "      <td>[Tools &amp; Home Improvement, Power &amp; Hand Tools,...</td>\n",
       "      <td>Freud's solid carbide down spiral bits are ide...</td>\n",
       "      <td>1.000000</td>\n",
       "      <td>http://ecx.images-amazon.com/images/I/31D4HFC0...</td>\n",
       "      <td>2</td>\n",
       "      <td>44.60</td>\n",
       "      <td>{'also_viewed': ['B00004T7K3', 'B00004T7K1', '...</td>\n",
       "      <td>NaN</td>\n",
       "      <td>Freud 76-106 3/8-Inch Diameter 2-Flute Down Sp...</td>\n",
       "    </tr>\n",
       "  </tbody>\n",
       "</table>\n",
       "</div>"
      ],
      "text/plain": [
       "         asin  average_rating          brand  \\\n",
       "0  9881976561        1.000000            NaN   \n",
       "1  B00002246F        4.266667          Bosch   \n",
       "2  B0000224YP        5.000000         DEWALT   \n",
       "3  B00004SQFP        5.000000  Coleman Cable   \n",
       "4  B00004T7K4        4.500000          Freud   \n",
       "\n",
       "                                            category  \\\n",
       "0    [Cell Phones & Accessories, Cases, Basic Cases]   \n",
       "1  [Tools & Home Improvement, Power & Hand Tools,...   \n",
       "2  [Tools & Home Improvement, Power & Hand Tools,...   \n",
       "3  [Tools & Home Improvement, Electrical, Cords, ...   \n",
       "4  [Tools & Home Improvement, Power & Hand Tools,...   \n",
       "\n",
       "                                         description  helpful_fraction  \\\n",
       "0                                                NaN               NaN   \n",
       "1  The Bosch 1942 heat gun features an air intake...          0.754902   \n",
       "2  DEWALT DW5418-1/4-Inch x 6-Inch x 8-1/2-Inch R...               NaN   \n",
       "3  T-Prene insulation shrugs off oil, grease, aci...          1.000000   \n",
       "4  Freud's solid carbide down spiral bits are ide...          1.000000   \n",
       "\n",
       "                                               imUrl  num_reviews   price  \\\n",
       "0  http://ecx.images-amazon.com/images/I/41PFY8W8...            1     NaN   \n",
       "1  http://ecx.images-amazon.com/images/I/71390XDC...           30  124.99   \n",
       "2  http://ecx.images-amazon.com/images/I/31F4bRVA...            1    6.25   \n",
       "3  http://ecx.images-amazon.com/images/I/411Z8HWH...            6  108.75   \n",
       "4  http://ecx.images-amazon.com/images/I/31D4HFC0...            2   44.60   \n",
       "\n",
       "                                             related  \\\n",
       "0                                                NaN   \n",
       "1  {'also_bought': ['B0002SRM2O', 'B00005QEVQ', '...   \n",
       "2  {'also_viewed': ['B00004RHCV', 'B0000224YU', '...   \n",
       "3  {'also_viewed': ['B000A3I3GA', 'B000BQU576', '...   \n",
       "4  {'also_viewed': ['B00004T7K3', 'B00004T7K1', '...   \n",
       "\n",
       "                             salesRank  \\\n",
       "0  [Cell Phones & Accessories, 920073]   \n",
       "1                                  NaN   \n",
       "2                                  NaN   \n",
       "3                                  NaN   \n",
       "4                                  NaN   \n",
       "\n",
       "                                               title  \n",
       "0  HTC Radar 4G (T-Mobile) White Flowers Design H...  \n",
       "1                       Bosch 1942 14.3 Amp Heat Gun  \n",
       "2  DEWALT DW5418-1/4-Inch by 6-Inch by 8-1/2-Inch...  \n",
       "3  Coleman Cable 03588 Polar/Solar Plus Tri-Sourc...  \n",
       "4  Freud 76-106 3/8-Inch Diameter 2-Flute Down Sp...  "
      ]
     },
     "execution_count": 183,
     "metadata": {},
     "output_type": "execute_result"
    }
   ],
   "source": [
    "df = pd.DataFrame(sample)\n",
    "df.head()"
   ]
  },
  {
   "cell_type": "code",
   "execution_count": 184,
   "metadata": {},
   "outputs": [
    {
     "name": "stdout",
     "output_type": "stream",
     "text": [
      "asin                0.000000\n",
      "average_rating      0.000016\n",
      "brand               0.624757\n",
      "category            0.000000\n",
      "description         0.073269\n",
      "helpful_fraction    0.503713\n",
      "imUrl               0.001443\n",
      "num_reviews         0.000000\n",
      "price               0.178770\n",
      "related             0.249644\n",
      "salesRank           0.617879\n",
      "title               0.009839\n",
      "dtype: float64\n"
     ]
    },
    {
     "data": {
      "image/png": "[encoded data removed]",
      "text/plain": [
       "<matplotlib.figure.Figure at 0x1eb0822f470>"
      ]
     },
     "metadata": {},
     "output_type": "display_data"
    }
   ],
   "source": [
    "missing_stats = df.isnull().sum()/len(df)\n",
    "print(missing_stats)\n",
    "pd.DataFrame(missing_stats).sort_values(0).plot.bar(title=\"Distribution of missing fields\", legend=None)\n",
    "plt.ylim(0, 1)\n",
    "plt.ylabel('Fraction')\n",
    "_ = plt.xlabel('Feature')"
   ]
  },
  {
   "cell_type": "markdown",
   "metadata": {},
   "source": [
    "The results are mixed:\n",
    "- The ID (`asin`) and the categories are always present by definition.\n",
    "- Almost all articles have at least one review (non-null `average_rating`).\n",
    "- The title can be missing at times, although this is very rare.\n",
    "- The price and textual description can be missing with a low probability.\n",
    "- The sales rank and the brand are missing in most cases (about 60% of cases)."
   ]
  },
  {
   "cell_type": "markdown",
   "metadata": {},
   "source": [
    "### Distributions of features\n",
    "We now proceed by analyzing the statistics of numeric fields. This might give us some useful insights."
   ]
  },
  {
   "cell_type": "code",
   "execution_count": 185,
   "metadata": {},
   "outputs": [
    {
     "data": {
      "text/html": [
       "<div>\n",
       "<style>\n",
       "    .dataframe thead tr:only-child th {\n",
       "        text-align: right;\n",
       "    }\n",
       "\n",
       "    .dataframe thead th {\n",
       "        text-align: left;\n",
       "    }\n",
       "\n",
       "    .dataframe tbody tr th {\n",
       "        vertical-align: top;\n",
       "    }\n",
       "</style>\n",
       "<table border=\"1\" class=\"dataframe\">\n",
       "  <thead>\n",
       "    <tr style=\"text-align: right;\">\n",
       "      <th></th>\n",
       "      <th>average_rating</th>\n",
       "      <th>helpful_fraction</th>\n",
       "      <th>num_reviews</th>\n",
       "      <th>price</th>\n",
       "    </tr>\n",
       "  </thead>\n",
       "  <tbody>\n",
       "    <tr>\n",
       "      <th>count</th>\n",
       "      <td>378285.000000</td>\n",
       "      <td>187741.000000</td>\n",
       "      <td>378291.000000</td>\n",
       "      <td>310664.000000</td>\n",
       "    </tr>\n",
       "    <tr>\n",
       "      <th>mean</th>\n",
       "      <td>3.951648</td>\n",
       "      <td>0.790988</td>\n",
       "      <td>14.296066</td>\n",
       "      <td>55.417453</td>\n",
       "    </tr>\n",
       "    <tr>\n",
       "      <th>std</th>\n",
       "      <td>1.146932</td>\n",
       "      <td>0.281806</td>\n",
       "      <td>112.179368</td>\n",
       "      <td>105.757287</td>\n",
       "    </tr>\n",
       "    <tr>\n",
       "      <th>min</th>\n",
       "      <td>1.000000</td>\n",
       "      <td>0.000000</td>\n",
       "      <td>0.000000</td>\n",
       "      <td>0.000000</td>\n",
       "    </tr>\n",
       "    <tr>\n",
       "      <th>25%</th>\n",
       "      <td>3.333333</td>\n",
       "      <td>0.678899</td>\n",
       "      <td>1.000000</td>\n",
       "      <td>7.950000</td>\n",
       "    </tr>\n",
       "    <tr>\n",
       "      <th>50%</th>\n",
       "      <td>4.200000</td>\n",
       "      <td>0.900000</td>\n",
       "      <td>2.000000</td>\n",
       "      <td>18.000000</td>\n",
       "    </tr>\n",
       "    <tr>\n",
       "      <th>75%</th>\n",
       "      <td>5.000000</td>\n",
       "      <td>1.000000</td>\n",
       "      <td>5.000000</td>\n",
       "      <td>50.882500</td>\n",
       "    </tr>\n",
       "    <tr>\n",
       "      <th>max</th>\n",
       "      <td>5.000000</td>\n",
       "      <td>1.000000</td>\n",
       "      <td>19146.000000</td>\n",
       "      <td>999.990000</td>\n",
       "    </tr>\n",
       "  </tbody>\n",
       "</table>\n",
       "</div>"
      ],
      "text/plain": [
       "       average_rating  helpful_fraction    num_reviews          price\n",
       "count   378285.000000     187741.000000  378291.000000  310664.000000\n",
       "mean         3.951648          0.790988      14.296066      55.417453\n",
       "std          1.146932          0.281806     112.179368     105.757287\n",
       "min          1.000000          0.000000       0.000000       0.000000\n",
       "25%          3.333333          0.678899       1.000000       7.950000\n",
       "50%          4.200000          0.900000       2.000000      18.000000\n",
       "75%          5.000000          1.000000       5.000000      50.882500\n",
       "max          5.000000          1.000000   19146.000000     999.990000"
      ]
     },
     "execution_count": 185,
     "metadata": {},
     "output_type": "execute_result"
    }
   ],
   "source": [
    "df.describe()"
   ]
  },
  {
   "cell_type": "markdown",
   "metadata": {},
   "source": [
    "From these basic statistics, we can observe that:\n",
    "- The average ratings tend to be high.\n",
    "- The distribution of the number of reviews for each article is heavy-tailed (the mean is much larger than the median).\n",
    "- Most reviews are regarded as helpful (50% of the articles have an helpfulness percentage greater than 90%), meaning that we can take them into account with good confidence.\n",
    "\n",
    "Additionally, we plot the distribution of the average ratings."
   ]
  },
  {
   "cell_type": "code",
   "execution_count": 186,
   "metadata": {},
   "outputs": [
    {
     "data": {
      "text/plain": [
       "<matplotlib.text.Text at 0x1eb0888cf28>"
      ]
     },
     "execution_count": 186,
     "metadata": {},
     "output_type": "execute_result"
    },
    {
     "data": {
      "image/png": "[encoded data removed]",
      "text/plain": [
       "<matplotlib.figure.Figure at 0x1eb08891518>"
      ]
     },
     "metadata": {},
     "output_type": "display_data"
    }
   ],
   "source": [
    "df['average_rating'].plot.hist(title='Average rating', bins=30)\n",
    "plt.xlabel('Rating (stars)')"
   ]
  },
  {
   "cell_type": "markdown",
   "metadata": {},
   "source": [
    "As can be seen from the histogram plot above, the ratings are concentrated near integer values. This is due to the fact that most articles contain a small number of reviews (in most cases, only one), and they strongly bias the distribution. Earlier, we observed that the distribution of the *number of reviews* feature is heavy-tailed. To illustrate this clearly, we plot it below."
   ]
  },
  {
   "cell_type": "code",
   "execution_count": 187,
   "metadata": {},
   "outputs": [
    {
     "data": {
      "text/plain": [
       "<matplotlib.text.Text at 0x1eb0e941080>"
      ]
     },
     "execution_count": 187,
     "metadata": {},
     "output_type": "execute_result"
    },
    {
     "data": {
      "image/png": "[encoded data removed]",
      "text/plain": [
       "<matplotlib.figure.Figure at 0x1eb0e9639e8>"
      ]
     },
     "metadata": {},
     "output_type": "display_data"
    }
   ],
   "source": [
    "df['num_reviews'].plot.hist(bins=200, log=True, title='Distribution of the number of reviews per article')\n",
    "plt.xlabel('# Reviews per article')"
   ]
  },
  {
   "cell_type": "markdown",
   "metadata": {},
   "source": [
    "This indeed confirms our hypothesis. Note that we plotted our histogram in logarithmic scale. The majority of articles contain a very small number of reviews, but there are some outliers that are reviewed a huge number of times.\n",
    "\n",
    "We plot again the histogram of the average rating per article, but this time we weigh each record according to the number of reviews of the corresponding record."
   ]
  },
  {
   "cell_type": "code",
   "execution_count": 188,
   "metadata": {},
   "outputs": [
    {
     "data": {
      "text/plain": [
       "<matplotlib.axes._subplots.AxesSubplot at 0x1eb08bf8780>"
      ]
     },
     "execution_count": 188,
     "metadata": {},
     "output_type": "execute_result"
    },
    {
     "data": {
      "image/png": "[encoded data removed]",
      "text/plain": [
       "<matplotlib.figure.Figure at 0x1eb0926af98>"
      ]
     },
     "metadata": {},
     "output_type": "display_data"
    }
   ],
   "source": [
    "df['average_rating'].fillna(0).plot.hist(weights = df['num_reviews'], bins=30)"
   ]
  },
  {
   "cell_type": "markdown",
   "metadata": {},
   "source": [
    "This result is much smoother and reflects reality. As can be seen, users tend to be very \"generous\" when reviewing products.\n",
    "\n",
    "We also plot the distribution of the article prices:"
   ]
  },
  {
   "cell_type": "code",
   "execution_count": 191,
   "metadata": {},
   "outputs": [
    {
     "data": {
      "text/plain": [
       "<matplotlib.text.Text at 0x1eb0faec908>"
      ]
     },
     "execution_count": 191,
     "metadata": {},
     "output_type": "execute_result"
    },
    {
     "data": {
      "image/png": "[encoded data removed]",
      "text/plain": [
       "<matplotlib.figure.Figure at 0x1eb0facd048>"
      ]
     },
     "metadata": {},
     "output_type": "display_data"
    }
   ],
   "source": [
    "df['price'].plot.hist(bins=200, log=True, title='Distribution of the price of a product')\n",
    "plt.xlabel('Price (US $)')"
   ]
  },
  {
   "cell_type": "markdown",
   "metadata": {},
   "source": [
    "Again, we plotted the histogram in log-scale, which reveals that prices are as well distributed according to a heavy-tailed distribution. We can also observe another important detail: the price seems truncated to 1000 dollars (this is also reflected in the summary statistics, which show that the maximum price is 999.99). This seems to be wrong, as the real Amazon website shows products that are well above 1000 dollars as price.\n",
    "To verify whether this is caused by some error in our analysis, we double-check this fact on the original, full dataset."
   ]
  },
  {
   "cell_type": "code",
   "execution_count": 89,
   "metadata": {},
   "outputs": [
    {
     "data": {
      "text/plain": [
       "0"
      ]
     },
     "execution_count": 89,
     "metadata": {},
     "output_type": "execute_result"
    }
   ],
   "source": [
    "sc.textFile('data/metadata.json')\\\n",
    "    .map(lambda x: ast.literal_eval(x))\\\n",
    "    .filter(lambda x: 'price' in x and x['price'] > 999.99)\\\n",
    "    .count()"
   ]
  },
  {
   "cell_type": "markdown",
   "metadata": {},
   "source": [
    "Our supposition was correct: the prices are truncated at 999.99 at the source."
   ]
  },
  {
   "cell_type": "markdown",
   "metadata": {},
   "source": [
    "### Correlation analysis\n",
    "We perform some basic correlation analysis on the sampled dataset, without splitting the categories. Specifically, we investigate the correlations among price, review rating and sales rank, hoping to find some patterns in the distribution of these variables."
   ]
  },
  {
   "cell_type": "code",
   "execution_count": 209,
   "metadata": {
    "collapsed": true
   },
   "outputs": [],
   "source": [
    "df_corr = df[df['num_reviews'] > 5] # We select only product with more than 5 reviews\n",
    "df_corr = df_corr[['price', 'average_rating', 'salesRank']].dropna().sample(frac=0.1) # Sub-sample the data\n",
    "df_corr['salesCat'] = df_corr['salesRank'].map(lambda x: x[0])\n",
    "df_corr['salesRank'] = df_corr['salesRank'].map(lambda x: x[1])\n",
    "df_corr = df_corr[df_corr['salesCat'] == 'Electronics'] # TODO"
   ]
  },
  {
   "cell_type": "code",
   "execution_count": 210,
   "metadata": {},
   "outputs": [
    {
     "data": {
      "text/plain": [
       "<seaborn.axisgrid.PairGrid at 0x1eb1227b3c8>"
      ]
     },
     "execution_count": 210,
     "metadata": {},
     "output_type": "execute_result"
    },
    {
     "data": {
      "image/png": "[encoded data removed]",
      "text/plain": [
       "<matplotlib.figure.Figure at 0x1eb0fc69f28>"
      ]
     },
     "metadata": {},
     "output_type": "display_data"
    },
    {
     "data": {
      "image/png": "[encoded data removed]",
      "text/plain": [
       "<matplotlib.figure.Figure at 0x1eb12ea0a58>"
      ]
     },
     "metadata": {},
     "output_type": "display_data"
    }
   ],
   "source": [
    "corr = df_corr.corr()\n",
    "plt.figure(figsize=(5,5))\n",
    "_ = sns.heatmap(corr, annot=True,\n",
    "            xticklabels=corr.columns.values,\n",
    "            yticklabels=corr.columns.values)\n",
    "\n",
    "sns.pairplot(df_corr, markers='+')"
   ]
  },
  {
   "cell_type": "markdown",
   "metadata": {},
   "source": [
    "According to the graphs above, we discuss the following outcomes on the correlation analysis:\n",
    "- The correlation coefficients do not seem to be significant. However, the plots show some trends:\n",
    " - As the price increases, the ratings tend to have lower variance and higher mean. In other words, more expensive products have on average higher ratings.\n",
    " - As the price increases, the sales rank tends to be lower (i.e. better). Costly products may be regarded as superior by people.\n",
    "\n",
    "Of course, this analysis is superficial, as it is not subdivided by category. Nonetheless, it is interesting because it shows how people tend to think."
   ]
  },
  {
   "cell_type": "markdown",
   "metadata": {},
   "source": [
    "## Graph analysis\n",
    "As we said at the beginning, one of our goals is to analyze competing products and gain useful insights. At this step of the project (Milestone 2) we do not reach a conclusion yet, but we aim at setting up a working pipeline and reinforce our hypothesis about the feasibility of the project.\n",
    "\n",
    "For this pilot analysis, we focus on the *Headphones* subcategory. Generally speaking, in our future experiments we will carry out the study on each category independently (in an automated way). The reason for the subdivision is that:\n",
    "- It does not make sense to compare products in different categories, although the graph may contain such links. In fact, we expect that such links would be of type *bought together* (e.g. a phone and a cover).\n",
    "- The algorithms that we are going to use (e.g. max-cliques) are NP-Complete, and will surely benefit from a clever splitting of the data."
   ]
  },
  {
   "cell_type": "code",
   "execution_count": 292,
   "metadata": {
    "collapsed": true
   },
   "outputs": [],
   "source": [
    "# Collect the products in the \"Headphones\" category\n",
    "cat = ['Electronics', 'Accessories & Supplies', 'Audio & Video Accessories', 'Headphones']\n",
    "records = sc.textFile('data/reduced.json')\\\n",
    "    .map(lambda x: json.loads(x))\\\n",
    "    .filter(lambda x: 'title' in x and 'salesRank' in x and 'price' in x and x['num_reviews'] > 0)\\\n",
    "    .filter(lambda x: len(x['category']) >= len(cat) and x['category'][:len(cat)] == cat)\\\n",
    "    .collect()"
   ]
  },
  {
   "cell_type": "markdown",
   "metadata": {},
   "source": [
    "As a first pre-processing step, we build our graph data structure using an efficient layout: adjacency lists indexed by numbers, and not strings. This representation is suitable because the graph is sparse.\n",
    "\n",
    "Going into more depth, the graph is constructed as follows:\n",
    "- We add an edge from product A to product B if clients buy B after viewing A (direct competition).\n",
    "- We remove an edge between A and B if A and B are frequently bought together (no competition).\n",
    "\n",
    "In previous experiments, we tried to employ the *also_viewed* relation, with mixed results. This relation produces a graph that is too dense to give meaningful results. Additionally, we believe that the *also_viewed* relation is generated by Amazon's recommender system according to users' preferences, and does not actually represent a graph relation."
   ]
  },
  {
   "cell_type": "code",
   "execution_count": 309,
   "metadata": {
    "collapsed": true
   },
   "outputs": [],
   "source": [
    "from graph import ProductGraph\n",
    "\n",
    "g = ProductGraph(records, add_edge_on='buy_after_viewing', remove_edge_on='bought_together')\n",
    "g = g.drop_singletons()"
   ]
  },
  {
   "cell_type": "markdown",
   "metadata": {},
   "source": [
    "# Food for thought (and material for future experiments)\n",
    "### Fan-in/Fan-out analysis\n",
    "A good indicator of a product success might be represented by its *fan-in* metric, that is, the number of incoming edges. If a product has many incoming edges, it means that people decide to buy it after comparing it with several other products.\n",
    "Conversely, if a product has a large number of outgoing edges (*fan-out*), it might be an indicator that it is not a good product (or is too pricey). Probably, it would also make sense to compare the *fan-in* minus *fan-out* metric, but *not* the ratio."
   ]
  },
  {
   "cell_type": "code",
   "execution_count": 294,
   "metadata": {},
   "outputs": [
    {
     "data": {
      "text/html": [
       "<div>\n",
       "<style>\n",
       "    .dataframe thead tr:only-child th {\n",
       "        text-align: right;\n",
       "    }\n",
       "\n",
       "    .dataframe thead th {\n",
       "        text-align: left;\n",
       "    }\n",
       "\n",
       "    .dataframe tbody tr th {\n",
       "        vertical-align: top;\n",
       "    }\n",
       "</style>\n",
       "<table border=\"1\" class=\"dataframe\">\n",
       "  <thead>\n",
       "    <tr style=\"text-align: right;\">\n",
       "      <th></th>\n",
       "      <th>fan_in</th>\n",
       "      <th>fan_out</th>\n",
       "    </tr>\n",
       "    <tr>\n",
       "      <th>asin</th>\n",
       "      <th></th>\n",
       "      <th></th>\n",
       "    </tr>\n",
       "  </thead>\n",
       "  <tbody>\n",
       "    <tr>\n",
       "      <th>B00007E7C8</th>\n",
       "      <td>55</td>\n",
       "      <td>2</td>\n",
       "    </tr>\n",
       "    <tr>\n",
       "      <th>B004PNZFZ8</th>\n",
       "      <td>37</td>\n",
       "      <td>1</td>\n",
       "    </tr>\n",
       "    <tr>\n",
       "      <th>B000AJIF4E</th>\n",
       "      <td>15</td>\n",
       "      <td>2</td>\n",
       "    </tr>\n",
       "    <tr>\n",
       "      <th>B00HVLUR86</th>\n",
       "      <td>14</td>\n",
       "      <td>2</td>\n",
       "    </tr>\n",
       "    <tr>\n",
       "      <th>B0002Z82XA</th>\n",
       "      <td>12</td>\n",
       "      <td>4</td>\n",
       "    </tr>\n",
       "  </tbody>\n",
       "</table>\n",
       "</div>"
      ],
      "text/plain": [
       "            fan_in  fan_out\n",
       "asin                       \n",
       "B00007E7C8      55        2\n",
       "B004PNZFZ8      37        1\n",
       "B000AJIF4E      15        2\n",
       "B00HVLUR86      14        2\n",
       "B0002Z82XA      12        4"
      ]
     },
     "execution_count": 294,
     "metadata": {},
     "output_type": "execute_result"
    }
   ],
   "source": [
    "df = pd.DataFrame()\n",
    "df['fan_in'] = g.get_fan_in()\n",
    "df['fan_out'] = g.get_fan_out()\n",
    "df.index = pd.DataFrame(g.records)['asin']\n",
    "df.sort_values('fan_in', ascending=False).head()"
   ]
  },
  {
   "cell_type": "markdown",
   "metadata": {},
   "source": [
    "Product **B00007E7C8** appears to be a pretty good product, as people buy it after coming from 58 other products."
   ]
  },
  {
   "cell_type": "markdown",
   "metadata": {},
   "source": [
    "### Clique analysis\n",
    "This is one of the most important aspects of our project. A max-clique is a set of totally interconnected nodes, which, in our scenario, represent products that are in direct competition among each other (and it is not really clear which \"wins\"). Note that these competition relations might even comprehend products of the same brand: this could turn out to be an interesting tools for vendors.\n",
    "\n",
    "Our algorithm for finding max-cliques is optimized for dealing with sparse graphs, and works as follows (by induction):\n",
    "- A single node is always a valid 1-clique\n",
    "- The current clique is incrementally expanded using a DFS, making sure that the max-clique condition is always satisfied. This is achieved by ensuring that the last inserted node is connected to all previous nodes, and vice versa.\n",
    "- If the current clique is not a sub-clique of a larger clique, it is marked as a max-clique."
   ]
  },
  {
   "cell_type": "code",
   "execution_count": 252,
   "metadata": {},
   "outputs": [
    {
     "name": "stdout",
     "output_type": "stream",
     "text": [
      "277 µs ± 2.08 µs per loop (mean ± std. dev. of 7 runs, 1000 loops each)\n"
     ]
    }
   ],
   "source": [
    "%timeit g.extract_max_cliques()"
   ]
  },
  {
   "cell_type": "markdown",
   "metadata": {},
   "source": [
    "As can be seen, the performance is very good if we keep the dataset size small by splitting categories."
   ]
  },
  {
   "cell_type": "code",
   "execution_count": 295,
   "metadata": {},
   "outputs": [
    {
     "name": "stdout",
     "output_type": "stream",
     "text": [
      "191 max-cliques found\n"
     ]
    }
   ],
   "source": [
    "cliques = g.extract_max_cliques()\n",
    "print(len(cliques), 'max-cliques found')"
   ]
  },
  {
   "cell_type": "markdown",
   "metadata": {},
   "source": [
    "We show some cliques of size 3:"
   ]
  },
  {
   "cell_type": "code",
   "execution_count": 296,
   "metadata": {},
   "outputs": [
    {
     "name": "stdout",
     "output_type": "stream",
     "text": [
      "* Idance Disco 200-Watt-Channel Recording Studio Equipment , White and Gold  - $ 43.95 51502\n",
      "* Vic Firth Drummer's Headphones  - $ 23.51 1573\n",
      "------\n",
      "* Skullcandy Agent Over-Ear Headphone SGAGCZ-029 (Florida Agent) (Discontinued by Manufacturer)  - $ 64.99 87137\n",
      "* Lobers Women's Solid Headphone Earmuffs  - $ 13.97 63958\n",
      "------\n",
      "* Shure SE115m+ Sound Isolating Headset (Black)  - $ 99.0 23844\n",
      "* Killer B II Optima Headphones for Metal Detecting fits various metal detectors  - $ 114.95 1084585\n",
      "------\n",
      "* Audio Technica M3 Wireless In Ear Monitor System  - $ 789.18 16973\n",
      "* Funko Rebel Alliance Fold-Up Headphones  - $ 24.95 100123\n",
      "------\n",
      "* Technical Pro HP720 Professional Headphones RED  - $ 39.99 91634\n",
      "* Shure SE420 Sound-Isolating Earphones -White  - $ 299.0 25327\n",
      "------\n",
      "* Technical Pro HP720 Professional Headphones RED  - $ 39.99 91634\n",
      "* CAD DH100 Drummer Headphones OnStage MW5A Maple Sticks w/Wood Tips 12 Pair &amp; Bag  - $ 59.99 85712\n",
      "------\n",
      "* Oyaide HPC-HD25 for Sennheiser Hd25-1 Premium Headphone Cable Black  - $ 63.85 49400\n",
      "* Alpine Hearing Protection MusicSafe PRO Earplugs for Musicians  - $ 29.95 1166\n",
      "------\n",
      "* Domo Earbuds  - $ 14.5 289286\n",
      "* Audio Technica ATH-PRO700 SV Professional Monitor Headphones  - $ 119.0 54153\n",
      "------\n",
      "* Califone CA-2 Stereo Headphones with Resealable Storage Bag  - $ 6.99 2514\n",
      "* Beyerdynamic DT-231-PRO Closed Lightweight Headphone for Studio and Stage Applications, 32 Ohms  - $ 83.43 100321\n",
      "------\n",
      "* Califone CA-2 Stereo Headphones with Resealable Storage Bag  - $ 6.99 2514\n",
      "* Audio-Technica ATH-M40x Professional Headphones  - $ 99.0 231\n",
      "------\n",
      "* Audio Technica ATH-PRO700 SV Professional Monitor Headphones  - $ 119.0 54153\n",
      "* Beyerdynamic DT-231-PRO Closed Lightweight Headphone for Studio and Stage Applications, 32 Ohms  - $ 83.43 100321\n",
      "------\n",
      "* Audio Technica ATH-PRO700 SV Professional Monitor Headphones  - $ 119.0 54153\n",
      "* Quarrow 5509 Interchangeable 3 Blade Knife Set With Non Slip Handle &amp; Sheath  - $ 12.49 1056101\n",
      "------\n",
      "* Samson CH70 Closed Back Studio Headphones  - $ 32.99 59455\n",
      "* Sennheiser PX 685i Adidas Headband In-Ear Sports Headphones - Black  - $ 36.98 1533154\n",
      "------\n",
      "* Sundari Gotu Kola and Azulene Moisturizer for Dry Skin  - $ 77.24 1411796\n",
      "* Aerial7 Tank Hello Kitty Headphones  - $ 9.99 33339\n",
      "------\n",
      "* Superlux HD661 Closed-Back Professional Headphone with Detachable Straight Cables White  - $ 39.49 31534\n",
      "* Shure SCL2 Sound Isolating Earphones - Clear  - $ 97.0 54637\n",
      "------\n",
      "* Superlux HD661 Closed-Back Professional Headphone with Detachable Straight Cables White  - $ 39.49 31534\n",
      "* Quarrow 5509 Interchangeable 3 Blade Knife Set With Non Slip Handle &amp; Sheath  - $ 12.49 1056101\n",
      "------\n"
     ]
    }
   ],
   "source": [
    "for c in cliques:\n",
    "    if len(c) < 2:\n",
    "        continue\n",
    "    for i in c:\n",
    "        print('*',records[i]['title'], ' - $', records[i]['price'], records[i]['salesRank'][1])\n",
    "    print('------')"
   ]
  },
  {
   "cell_type": "markdown",
   "metadata": {},
   "source": [
    "The result is indeed interesting. We can observe competing products of different brands, a well as competing products of the same brand. In some cases, the cliques represent the same product in different colors.\n",
    "\n",
    "The important observation, here, is that these products present similar characteristics. For example, one of the groups shows competing *wireless headphones*, whereas another one shows binaural headphones.\n",
    "\n",
    "Of course, we carried out this analysis on other categories as well (e.g. mobile phones), with similar results."
   ]
  },
  {
   "cell_type": "markdown",
   "metadata": {},
   "source": [
    "## Conclusion and future work"
   ]
  },
  {
   "cell_type": "markdown",
   "metadata": {},
   "source": [
    "We can safely conclude that our project is feasible. The data seems to reflect our assumptions, and our pipeline allows us to process it in reasonable time.\n",
    "\n",
    "Quoting the README, as a guideline until Milestone 3, we aim to accomplish the following goals:\n",
    "- Investigate the cliques to gain useful insights, as defined in Milestone 1. In particular, we want to extract recurrent patterns from the graph.\n",
    "- Obtain the best metric for evaluating a product, among average rating, sales rank, ingoing edges, or other potential metrics that we might discover in the future.\n",
    "- Now that we have the pipeline in place, we could try to answer the open questions in the initial proposal.\n",
    "\n",
    "From a technical perspective, the clique extraction algorithm will be automated so as to be performed on all categories (with a Spark job), and not just a sample category as we showed here (the category tree will assist us in this task). Finally, all cliques will be grouped and analyzed with the aim of finding correlations between the elements in them. For instance, a simple question might be: is the most sold product in a group also the cheapest? Or, more generally, can we predict the most preferred product in a group according to some features?"
   ]
  },
  {
   "cell_type": "code",
   "execution_count": 172,
   "metadata": {
    "collapsed": true
   },
   "outputs": [],
   "source": [
    "# TODO: build dataframe with fan-in, fan-out, etc..."
   ]
  },
  {
   "cell_type": "code",
   "execution_count": 320,
   "metadata": {},
   "outputs": [],
   "source": [
    "cliques = g.extract_max_cliques()\n",
    "conn_comp = g.get_connected_components(directed=False)"
   ]
  },
  {
   "cell_type": "code",
   "execution_count": 321,
   "metadata": {
    "collapsed": true
   },
   "outputs": [],
   "source": [
    "# Node map (node to list of clique IDs (a node can be in multiple cliques))\n",
    "node_map = []\n",
    "merged_node_map = []\n",
    "for i in range(len(g.adj_list)):\n",
    "    node_map.append([])\n",
    "    merged_node_map.append([])\n",
    "    \n",
    "for idx, clique in enumerate(cliques):\n",
    "    for node in clique:\n",
    "        node_map[node].append(idx)\n",
    "        \n",
    "for i, node_cliques in enumerate(node_map):\n",
    "    if len(node_cliques) > 1:\n",
    "        target = node_cliques[0]\n",
    "        # Merge\n",
    "        for clique_idx in node_cliques:\n",
    "            for node_idx in cliques[clique_idx]:\n",
    "                merged_node_map[node_idx] = [target]\n",
    "    else:\n",
    "        merged_node_map[i] = node_cliques"
   ]
  },
  {
   "cell_type": "code",
   "execution_count": 322,
   "metadata": {},
   "outputs": [
    {
     "data": {
      "text/plain": [
       "'#5feceb'"
      ]
     },
     "execution_count": 322,
     "metadata": {},
     "output_type": "execute_result"
    }
   ],
   "source": [
    "import hashlib\n",
    "'#' + hashlib.sha256(str(conn_comp[0]).encode()).hexdigest()[:6]"
   ]
  },
  {
   "cell_type": "code",
   "execution_count": 323,
   "metadata": {},
   "outputs": [
    {
     "data": {
      "text/plain": [
       "{'asin': 'B00AEVCRME',\n",
       " 'average_rating': 4.222222222222222,\n",
       " 'brand': 'CAD Audio',\n",
       " 'category': ['Electronics',\n",
       "  'Accessories & Supplies',\n",
       "  'Audio & Video Accessories',\n",
       "  'Headphones'],\n",
       " 'description': '',\n",
       " 'helpful_fraction': 0.6802325581395349,\n",
       " 'imUrl': 'http://ecx.images-amazon.com/images/I/41QnkThFQXL._SY300_.jpg',\n",
       " 'num_reviews': 36,\n",
       " 'price': 60.13,\n",
       " 'related': {'also_bought': ['B0083J7FMG',\n",
       "   'B000068O54',\n",
       "   'B0051M6J48',\n",
       "   'B00BWF5U0M',\n",
       "   'B000KIPT30',\n",
       "   'B004VM5R7Y',\n",
       "   'B0082918X4',\n",
       "   'B0007NQH98',\n",
       "   'B000068O17'],\n",
       "  'bought_together': ['B00BWF5U0M'],\n",
       "  'buy_after_viewing': ['B00G5G7EXY',\n",
       "   'B008JFUS5A',\n",
       "   'B00007E7C8',\n",
       "   'B0001ARCFA',\n",
       "   'B0001ARCFA']},\n",
       " 'salesRank': ['Musical Instruments', 38611],\n",
       " 'title': 'The Sessions Professional Closed-Back Studio Headphones by CAD Audio - White with Red'}"
      ]
     },
     "execution_count": 323,
     "metadata": {},
     "output_type": "execute_result"
    }
   ],
   "source": [
    "records[0]"
   ]
  },
  {
   "cell_type": "code",
   "execution_count": 324,
   "metadata": {},
   "outputs": [],
   "source": [
    "nodes = []\n",
    "for i, node in enumerate(merged_node_map):\n",
    "    r = records[i]\n",
    "    nodes.append({\n",
    "        'asin': r['asin'],\n",
    "        'name': r['title'],\n",
    "        'imUrl': r['imUrl'],\n",
    "        'price': r['price'],\n",
    "        'numReviews': r['num_reviews'],\n",
    "        'averageRating': r['average_rating'],\n",
    "        'helpfulFraction': r['helpful_fraction'] if 'helpful_fraction' in r else 0.5,\n",
    "        'brand': r['brand'] if 'brand' in r else 'Unknown',\n",
    "        'salesRankCategory': r['salesRank'][0],\n",
    "        'salesRank': r['salesRank'][1],\n",
    "        'group': node[0],    \n",
    "        'component': int(conn_comp[i]),\n",
    "        'hashColor': '#' + hashlib.sha256(str(conn_comp[i]).encode()).hexdigest()[:6]\n",
    "    })\n",
    "    \n",
    "links = []\n",
    "for i, adj in enumerate(g.adj_list):\n",
    "    inv = g.adj_list_incoming[i]\n",
    "    all_adj = set(adj + inv)\n",
    "    # Undirected?\n",
    "    for j in all_adj:\n",
    "        if i >= j:\n",
    "            continue\n",
    "        links.append({\n",
    "            'source': i,\n",
    "            'target': j,\n",
    "            'right': j in adj,\n",
    "            'left': j in inv,\n",
    "            'value': 1\n",
    "        })\n",
    "        \n",
    "graph = {'nodes': nodes, 'links': links}\n",
    "with open('graph.json', 'w') as outfile:\n",
    "    json.dump(graph, outfile)"
   ]
  },
  {
   "cell_type": "code",
   "execution_count": null,
   "metadata": {
    "collapsed": true
   },
   "outputs": [],
   "source": [
    "# Build the category tree\n",
    "category_tree = sc.textFile('data/reduced.json')\\\n",
    "    .map(lambda x: json.loads(x))\\\n",
    "    .filter(lambda x: x[0] in categories_to_extract)\\\n",
    "    .map(convert_to_tree)\\\n",
    "    .reduce(merge_trees)"
   ]
  }
 ],
 "metadata": {
  "kernelspec": {
   "display_name": "Python 3",
   "language": "python",
   "name": "python3"
  },
  "language_info": {
   "codemirror_mode": {
    "name": "ipython",
    "version": 3
   },
   "file_extension": ".py",
   "mimetype": "text/x-python",
   "name": "python",
   "nbconvert_exporter": "python",
   "pygments_lexer": "ipython3",
   "version": "3.6.2"
  }
 },
 "nbformat": 4,
 "nbformat_minor": 2
}

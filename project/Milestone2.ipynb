{
 "cells": [
  {
   "cell_type": "markdown",
   "metadata": {
    "collapsed": true
   },
   "source": [
    "# Gaining insights into the Amazon product network"
   ]
  },
  {
   "cell_type": "markdown",
   "metadata": {},
   "source": [
    "# Milestone 2 - Data collection and description"
   ]
  },
  {
   "cell_type": "markdown",
   "metadata": {},
   "source": [
    "The second task is to intimately acquaint yourself with the data, preprocess it and complete all the necessary descriptive statistics tasks. We expect you to have a pipeline in place, fully documented in a notebook, and show us that you’ve advanced with your understanding of the project goals by updating its README description."
   ]
  },
  {
   "cell_type": "markdown",
   "metadata": {},
   "source": [
    "## Dataset description"
   ]
  },
  {
   "cell_type": "markdown",
   "metadata": {},
   "source": [
    "**show** \n",
    "- That you can handle the data in its size."
   ]
  },
  {
   "cell_type": "markdown",
   "metadata": {},
   "source": [
    "** todo **\n",
    "- describe the two files of the dataset\n",
    "- state the purpose of our project and describe how the we use the data for our project\n",
    "- state the size of the dataset, make reasoning on what resources may be needed\n",
    "- To handle the data, we have decided to implement our algorithms with PySpark."
   ]
  },
  {
   "cell_type": "markdown",
   "metadata": {},
   "source": [
    "We use the Amazon dataset, which consists of two JSON files:\n",
    "- *metadata.json*: contains information about the products. Specifically, for each product.. The size of the dataset is \n",
    "- *reviews.json*: contains the reviews associated to each product. In particular, for each reviews.. The size of the dataset is"
   ]
  },
  {
   "cell_type": "markdown",
   "metadata": {},
   "source": [
    "##  Exploratory analysis"
   ]
  },
  {
   "cell_type": "markdown",
   "metadata": {},
   "source": [
    "**show**\n",
    "- That you understand what’s into the data (formats, distributions, missing values, correlations, etc.).\n",
    "- That you have updated your plan in a reasonable way, reflecting your improved knowledge after data acquaintance. In particular, discuss how your data suits your project needs and discuss the methods you’re going to use, giving their essential mathematical details in the notebook.\n"
   ]
  },
  {
   "cell_type": "markdown",
   "metadata": {},
   "source": [
    "**todo**\n",
    "- put a list of all the categories in the dataset with counting\n",
    "- show the category trees"
   ]
  },
  {
   "cell_type": "markdown",
   "metadata": {},
   "source": [
    "## Preliminary processing"
   ]
  },
  {
   "cell_type": "markdown",
   "metadata": {},
   "source": [
    "** show **\n",
    "- That you considered ways to enrich, filter, transform the data according to your needs."
   ]
  },
  {
   "cell_type": "markdown",
   "metadata": {},
   "source": [
    "**todo**\n",
    "- we only focus on few categories, which may be meaningful for our project (electronics, tools, musical instruments)\n",
    "- Being our project mainly focused on products, rather than reviews, we have decided to reduce the reviews dataset, keeping only the average rating of the products"
   ]
  },
  {
   "cell_type": "markdown",
   "metadata": {},
   "source": [
    "## Conclusion"
   ]
  },
  {
   "cell_type": "markdown",
   "metadata": {},
   "source": [
    "** show **\n",
    "- That your plan for analysis and communication is now reasonable and sound, potentially discussing alternatives to your choices that you considered but dropped."
   ]
  },
  {
   "cell_type": "markdown",
   "metadata": {},
   "source": [
    "# Reminder: Internal steps before milestone2"
   ]
  },
  {
   "cell_type": "markdown",
   "metadata": {},
   "source": [
    "- Define the rules for creating the graph (i.e. the influence of each relation type).\n",
    "- Devise an efficient algorithm for extracting cliques or highly connected subgraphs, and, possibly, merging them into clusters.\n",
    "- Find useful insights into the structure of these clusters, apart from obvious ones (the best product in a cluster). For example:\n",
    "-- Do people always choose the most cheap product among related products?\n",
    "-- Conversely, does the best product cost more than the others?\n",
    "-- Are the best products sold only by well-known brands?"
   ]
  }
 ],
 "metadata": {
  "kernelspec": {
   "display_name": "Python 3",
   "language": "python",
   "name": "python3"
  },
  "language_info": {
   "codemirror_mode": {
    "name": "ipython",
    "version": 3
   },
   "file_extension": ".py",
   "mimetype": "text/x-python",
   "name": "python",
   "nbconvert_exporter": "python",
   "pygments_lexer": "ipython3",
   "version": "3.6.1"
  }
 },
 "nbformat": 4,
 "nbformat_minor": 2
}

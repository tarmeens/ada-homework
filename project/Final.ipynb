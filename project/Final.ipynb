{
 "cells": [
  {
   "cell_type": "markdown",
   "metadata": {},
   "source": [
    "# Gaining insight into the Amazon product network\n",
    "### Applied Data Analysis final project - EPFL (2017)"
   ]
  },
  {
   "cell_type": "markdown",
   "metadata": {},
   "source": [
    "# Table of contents"
   ]
  },
  {
   "cell_type": "markdown",
   "metadata": {},
   "source": [
    "1. [Overview](#overview)\n",
    "2. [Dataset description](#datasetdesc) <br>\n",
    "    2.1 [Metadata](#dataset_metadata) <br>\n",
    "    2.2 [Reviews](#dataset_reviews)\n",
    "3. [Preliminary processing](#prelim_process)\n",
    "4. [Exploratory data analysis](#exploratory_data) <br>\n",
    "    4.1 [Missing data statistics](#explo_missing) <br>\n",
    "    4.2 [Distribution of features](#exploratory_distfeat) <br>\n",
    "    4.3 [Correlation analysis](#exploratory_corr)\n",
    "5. [Graph analysis](#graph_analysis)"
   ]
  },
  {
   "cell_type": "markdown",
   "metadata": {},
   "source": [
    "<a id=\"overview\"></a>\n",
    "# Overview"
   ]
  },
  {
   "cell_type": "markdown",
   "metadata": {},
   "source": [
    "Buying from huge e-commerce websites such as Amazon has many advantages, but, paradoxically, users are often confused by the wide variety of products.\n",
    "They may have a rough idea about the characteristics of the product they want to buy (e.g. a high-end smartphone), and they often undergo the same process of comparing similar products. We want to understand why clients tend to choose a product over another, i.e. what are the desirable characteristics of a popular product? Hopefully, we would get some insights that could prove useful for both clients and vendors.\n",
    "\n",
    "The Amazon dataset contains relations among products, such as \"also viewed\", \"also bought\", \"bought together\", \"bought after viewing\". These links can be used to create a graph that represents products with similar characteristics.\n",
    "Our idea is to exploit the dataset in order to create clusters of competing products. These clusters may be used not only to identify the best product in terms of rating and sales within a group, but also to investigate how brands can influence the sales and the prices of similar products.\n",
    "\n",
    "The dataset is transformed into a graph of relations between products, where the vertices represent products, and edges represent competition between products. For instance, if some people buy product A after viewing product B and vice versa, and the two products are not bought together, they are competitors. On the other hand, two products that are bought together are not competitors (e.g. a user buys a smartphone and a cover).\n",
    "\n",
    "This project aims to find recurrent patterns in this graph, and use them for gaining knowledge on how people decide, and on what characteristics make a product desirable over another."
   ]
  },
  {
   "cell_type": "code",
   "execution_count": 1,
   "metadata": {
    "collapsed": true
   },
   "outputs": [],
   "source": [
    "import numpy as np\n",
    "import pandas as pd\n",
    "import ast\n",
    "import matplotlib.pyplot as plt\n",
    "import json\n",
    "import seaborn as sns\n",
    "from IPython.display import IFrame, display\n",
    "import random\n",
    "import sys\n",
    "%matplotlib inline\n",
    "%load_ext autoreload\n",
    "%autoreload 2"
   ]
  },
  {
   "cell_type": "code",
   "execution_count": 2,
   "metadata": {
    "collapsed": true
   },
   "outputs": [],
   "source": [
    "import findspark\n",
    "findspark.init()\n",
    "\n",
    "import pyspark\n",
    "\n",
    "conf = pyspark.SparkConf()\\\n",
    "    .setMaster('local[*]')\\\n",
    "    .set('spark.executor.memory', '2g')\\\n",
    "    .set('spark.driver.memory', '2g')\\\n",
    "    .set('spark.executor.instances', '4')\n",
    "    \n",
    "sc = pyspark.SparkContext(conf=conf)"
   ]
  },
  {
   "cell_type": "markdown",
   "metadata": {},
   "source": [
    "<a id=\"datasetdesc\"></a>\n",
    "## Dataset description"
   ]
  },
  {
   "cell_type": "markdown",
   "metadata": {},
   "source": [
    "The Amazon dataset consists of two JSON files: \n",
    "- *metadata.json*: contains information about the products, such as their unique ID, description and price. The size of the dataset is 9.81 GB (uncompressed, in JSON format).\n",
    "- *reviews.json*: contains reviews and ratings associated with each product, as well as the helpfulness of each review. The size of the dataset is approximately 87 GB (again, uncompressed and in JSON format).\n",
    "\n",
    "Since the dataset does not fit in memory, we cannot process it using libraries such as Pandas, unless we reduce its size first.\n",
    "Therefore, the initial data processing was carried out using **PySpark**, first on the cluster (especially for the reviews dataset) and then in local. While it may seem inappropriate at first, using Spark in local makes sense for medium-sized datasets (like the metadata one), as it automatically parallelizes jobs using all cores, and spills to disk intermediate results that cannot fit in main memory."
   ]
  },
  {
   "cell_type": "markdown",
   "metadata": {},
   "source": [
    "<a id=\"dataset_metadata\"></a>\n",
    "### Metadata\n",
    "The dataset contains a list of entries of products with the following fields (some of them may be missing):\n",
    "- **asin**: unique ID of the product.\n",
    "- **title**: name of the product.\n",
    "- **price**: price in US dollars.\n",
    "- **imUrl**: URL of the product image.\n",
    "- **related**: related products, which contains the sub-lists: *also bought, also viewed, bought together, buy after viewing*.\n",
    "- **salesRank**: sales rank information, i.e. how well the product compares to other products in the same category in terms of sales.\n",
    "- **brand**: brand name.\n",
    "- **categories**: the category(-ies) to which the product belongs.\n",
    "\n",
    "These fields are already sufficient for building our graph, since they contain the above-mentioned relations between products, as well as their IDs and names. Here we present an example of such a record:"
   ]
  },
  {
   "cell_type": "code",
   "execution_count": 12,
   "metadata": {},
   "outputs": [
    {
     "data": {
      "text/plain": [
       "[{'asin': '0000143561',\n",
       "  'categories': [['Movies & TV', 'Movies']],\n",
       "  'description': '3Pack DVD set - Italian Classics, Parties and Holidays.',\n",
       "  'imUrl': 'http://g-ecx.images-amazon.com/images/G/01/x-site/icons/no-img-sm._CB192198896_.gif',\n",
       "  'price': 12.99,\n",
       "  'related': {'also_viewed': ['B0036FO6SI',\n",
       "    'B000KL8ODE',\n",
       "    '000014357X',\n",
       "    'B0037718RC',\n",
       "    'B002I5GNVU',\n",
       "    'B000RBU4BM'],\n",
       "   'buy_after_viewing': ['B0036FO6SI',\n",
       "    'B000KL8ODE',\n",
       "    '000014357X',\n",
       "    'B0037718RC']},\n",
       "  'salesRank': {'Movies & TV': 376041},\n",
       "  'title': 'Everyday Italian (with Giada de Laurentiis), Volume 1 (3 Pack): Italian Classics, Parties, Holidays'}]"
      ]
     },
     "execution_count": 12,
     "metadata": {},
     "output_type": "execute_result"
    }
   ],
   "source": [
    "sc.textFile('data/metadata.json')\\\n",
    "    .map(lambda x: ast.literal_eval(x))\\\n",
    "    .filter(lambda x: 'price' in x and 'related' in x)\\\n",
    "    .take(1)"
   ]
  },
  {
   "cell_type": "markdown",
   "metadata": {},
   "source": [
    "Note that we had to use `ast.literal_eval` instead of the JSON library because the dataset is not in standard JSON format. It appears to be in Python's `print() ` format."
   ]
  },
  {
   "cell_type": "markdown",
   "metadata": {},
   "source": [
    "Before moving forward, we have to decide whether it makes sense to carry out our analysis on the whole dataset, or if it is more appropriate to select only a subset of all categories. It turns out that the latter is the case: sales in categories such as **Music**, **Books**, or **Clothes** depend on people's personal preferences, and are less (if not at all) prone to competition. On the contrary, electronic products are the ones that are subject to real competition, as clients wants to get the best possible product at the lowest cost. Moreover, this selection step allows us to reduce the size of the dataset and process it more efficiently.\n",
    "\n",
    "Therefore, the first step consists in listing all categories and selecting those in which we are interested. As can be seen from the example above, categories are represented as hierarchies, e.g. `[\"Sports & Outdoors\", \"Other Sports\", \"Dance\"]` means that the product can be found in the category **Sports & Outdoors -> Other Sports -> Dance**. Firstly, we extract the list of macro-categories (top-level categories such as **Sports & Outdoors**) along with their product count, and we inspect them manually. Our goal is to choose macro-categories containing products that can be objectively compared in terms of features and characteristics, such as *Electronics* or *Cell phones*. Converseley, categories of which the purchase decision is subjective (e.g. clothes and books) are discarded."
   ]
  },
  {
   "cell_type": "code",
   "execution_count": 13,
   "metadata": {
    "collapsed": true
   },
   "outputs": [],
   "source": [
    "# Get all top-level categories along with their product count\n",
    "categories_macro = sc.textFile('data/metadata.json')\\\n",
    "    .map(lambda x: ast.literal_eval(x))\\\n",
    "    .filter(lambda x: 'categories' in x)\\\n",
    "    .flatMap(lambda x: x['categories'])\\\n",
    "    .map(lambda x: x[0])\\\n",
    "    .map(lambda x: (x, 1))\\\n",
    "    .reduceByKey(lambda x, y: x + y)\\\n",
    "    .collect()"
   ]
  },
  {
   "cell_type": "code",
   "execution_count": 19,
   "metadata": {},
   "outputs": [
    {
     "data": {
      "text/html": [
       "<div>\n",
       "<style>\n",
       "    .dataframe thead tr:only-child th {\n",
       "        text-align: right;\n",
       "    }\n",
       "\n",
       "    .dataframe thead th {\n",
       "        text-align: left;\n",
       "    }\n",
       "\n",
       "    .dataframe tbody tr th {\n",
       "        vertical-align: top;\n",
       "    }\n",
       "</style>\n",
       "<table border=\"1\" class=\"dataframe\">\n",
       "  <thead>\n",
       "    <tr style=\"text-align: right;\">\n",
       "      <th></th>\n",
       "      <th>category</th>\n",
       "      <th>count</th>\n",
       "    </tr>\n",
       "  </thead>\n",
       "  <tbody>\n",
       "    <tr>\n",
       "      <th>49</th>\n",
       "      <td>Clothing, Shoes &amp; Jewelry</td>\n",
       "      <td>3429257</td>\n",
       "    </tr>\n",
       "    <tr>\n",
       "      <th>13</th>\n",
       "      <td>Books</td>\n",
       "      <td>2855617</td>\n",
       "    </tr>\n",
       "    <tr>\n",
       "      <th>66</th>\n",
       "      <td>CDs &amp; Vinyl</td>\n",
       "      <td>1523001</td>\n",
       "    </tr>\n",
       "    <tr>\n",
       "      <th>30</th>\n",
       "      <td>Kindle Store</td>\n",
       "      <td>1088341</td>\n",
       "    </tr>\n",
       "    <tr>\n",
       "      <th>72</th>\n",
       "      <td>Sports &amp; Outdoors</td>\n",
       "      <td>543514</td>\n",
       "    </tr>\n",
       "    <tr>\n",
       "      <th>73</th>\n",
       "      <td>Electronics</td>\n",
       "      <td>500600</td>\n",
       "    </tr>\n",
       "    <tr>\n",
       "      <th>52</th>\n",
       "      <td>Home &amp; Kitchen</td>\n",
       "      <td>437019</td>\n",
       "    </tr>\n",
       "    <tr>\n",
       "      <th>32</th>\n",
       "      <td>Cell Phones &amp; Accessories</td>\n",
       "      <td>357693</td>\n",
       "    </tr>\n",
       "    <tr>\n",
       "      <th>36</th>\n",
       "      <td>Toys &amp; Games</td>\n",
       "      <td>336460</td>\n",
       "    </tr>\n",
       "    <tr>\n",
       "      <th>9</th>\n",
       "      <td>Automotive</td>\n",
       "      <td>331484</td>\n",
       "    </tr>\n",
       "    <tr>\n",
       "      <th>35</th>\n",
       "      <td>Digital Music</td>\n",
       "      <td>281157</td>\n",
       "    </tr>\n",
       "    <tr>\n",
       "      <th>47</th>\n",
       "      <td>Tools &amp; Home Improvement</td>\n",
       "      <td>269149</td>\n",
       "    </tr>\n",
       "    <tr>\n",
       "      <th>50</th>\n",
       "      <td>Health &amp; Personal Care</td>\n",
       "      <td>263163</td>\n",
       "    </tr>\n",
       "    <tr>\n",
       "      <th>71</th>\n",
       "      <td>Beauty</td>\n",
       "      <td>259227</td>\n",
       "    </tr>\n",
       "    <tr>\n",
       "      <th>70</th>\n",
       "      <td>Movies &amp; TV</td>\n",
       "      <td>208912</td>\n",
       "    </tr>\n",
       "    <tr>\n",
       "      <th>0</th>\n",
       "      <td></td>\n",
       "      <td>194914</td>\n",
       "    </tr>\n",
       "    <tr>\n",
       "      <th>10</th>\n",
       "      <td>Grocery &amp; Gourmet Food</td>\n",
       "      <td>171760</td>\n",
       "    </tr>\n",
       "    <tr>\n",
       "      <th>65</th>\n",
       "      <td>Office Products</td>\n",
       "      <td>135024</td>\n",
       "    </tr>\n",
       "    <tr>\n",
       "      <th>48</th>\n",
       "      <td>Arts, Crafts &amp; Sewing</td>\n",
       "      <td>117466</td>\n",
       "    </tr>\n",
       "    <tr>\n",
       "      <th>44</th>\n",
       "      <td>Pet Supplies</td>\n",
       "      <td>110757</td>\n",
       "    </tr>\n",
       "    <tr>\n",
       "      <th>3</th>\n",
       "      <td>Patio, Lawn &amp; Garden</td>\n",
       "      <td>109117</td>\n",
       "    </tr>\n",
       "    <tr>\n",
       "      <th>78</th>\n",
       "      <td>Musical Instruments</td>\n",
       "      <td>85474</td>\n",
       "    </tr>\n",
       "    <tr>\n",
       "      <th>19</th>\n",
       "      <td>Video Games</td>\n",
       "      <td>74342</td>\n",
       "    </tr>\n",
       "    <tr>\n",
       "      <th>64</th>\n",
       "      <td>Baby</td>\n",
       "      <td>71317</td>\n",
       "    </tr>\n",
       "    <tr>\n",
       "      <th>42</th>\n",
       "      <td>Apps for Android</td>\n",
       "      <td>61619</td>\n",
       "    </tr>\n",
       "    <tr>\n",
       "      <th>79</th>\n",
       "      <td>Industrial &amp; Scientific</td>\n",
       "      <td>47279</td>\n",
       "    </tr>\n",
       "    <tr>\n",
       "      <th>4</th>\n",
       "      <td>Amazon Instant Video</td>\n",
       "      <td>30648</td>\n",
       "    </tr>\n",
       "    <tr>\n",
       "      <th>82</th>\n",
       "      <td>Software</td>\n",
       "      <td>25804</td>\n",
       "    </tr>\n",
       "    <tr>\n",
       "      <th>11</th>\n",
       "      <td>Amazon Fashion</td>\n",
       "      <td>24145</td>\n",
       "    </tr>\n",
       "    <tr>\n",
       "      <th>69</th>\n",
       "      <td>Appliances</td>\n",
       "      <td>11656</td>\n",
       "    </tr>\n",
       "  </tbody>\n",
       "</table>\n",
       "</div>"
      ],
      "text/plain": [
       "                     category    count\n",
       "49  Clothing, Shoes & Jewelry  3429257\n",
       "13                      Books  2855617\n",
       "66                CDs & Vinyl  1523001\n",
       "30               Kindle Store  1088341\n",
       "72          Sports & Outdoors   543514\n",
       "73                Electronics   500600\n",
       "52             Home & Kitchen   437019\n",
       "32  Cell Phones & Accessories   357693\n",
       "36               Toys & Games   336460\n",
       "9                  Automotive   331484\n",
       "35              Digital Music   281157\n",
       "47   Tools & Home Improvement   269149\n",
       "50     Health & Personal Care   263163\n",
       "71                     Beauty   259227\n",
       "70                Movies & TV   208912\n",
       "0                               194914\n",
       "10     Grocery & Gourmet Food   171760\n",
       "65            Office Products   135024\n",
       "48      Arts, Crafts & Sewing   117466\n",
       "44               Pet Supplies   110757\n",
       "3        Patio, Lawn & Garden   109117\n",
       "78        Musical Instruments    85474\n",
       "19                Video Games    74342\n",
       "64                       Baby    71317\n",
       "42           Apps for Android    61619\n",
       "79    Industrial & Scientific    47279\n",
       "4        Amazon Instant Video    30648\n",
       "82                   Software    25804\n",
       "11             Amazon Fashion    24145\n",
       "69                 Appliances    11656"
      ]
     },
     "execution_count": 19,
     "metadata": {},
     "output_type": "execute_result"
    }
   ],
   "source": [
    "# We show the top categories sorted by product count\n",
    "df = pd.DataFrame(categories_macro)\n",
    "df.columns = ['category', 'count']\n",
    "df.sort_values('count', ascending=False).head(30)"
   ]
  },
  {
   "cell_type": "markdown",
   "metadata": {},
   "source": [
    "According to our considerations, we decided to include the following macro categories in our analysis: **Electronics**, **Cell Phones & Accessories**, **Automotive**, **Tools & Home Improvement**, and **Musical Instruments**. The choice is motivated both by their sizes and by the fact that they represent products that are comparable.\n",
    "\n",
    "Now, we want to have a more detailed description of the categories. Therefore, for each macro-category, we convert each product's category lists to a tree. We do this in a distributed way, using Spark. The job works as follows:\n",
    "- **Map phase:** each list is converted to a tree. For instance:"
   ]
  },
  {
   "cell_type": "code",
   "execution_count": 883,
   "metadata": {
    "collapsed": true
   },
   "outputs": [],
   "source": [
    "# Transforms a category list into a flat tree (a tree with a linked list topology)\n",
    "def convert_to_tree(elements):\n",
    "    root = {}\n",
    "    node = root\n",
    "    for element in elements:\n",
    "        node[element] = (1, {}) # Tuple: (product count, children)\n",
    "        node = node[element][1]\n",
    "    return root"
   ]
  },
  {
   "cell_type": "code",
   "execution_count": 884,
   "metadata": {},
   "outputs": [
    {
     "data": {
      "text/plain": [
       "{'Sports & Outdoors': (1, {'Other Sports': (1, {'Dance': (1, {})})})}"
      ]
     },
     "execution_count": 884,
     "metadata": {},
     "output_type": "execute_result"
    }
   ],
   "source": [
    "convert_to_tree([\"Sports & Outdoors\", \"Other Sports\", \"Dance\"])"
   ]
  },
  {
   "cell_type": "markdown",
   "metadata": {},
   "source": [
    "Each category includes the product count along with its subcategories (children). The product count within a category includes the sum of the product counts of all its children.\n",
    "\n",
    "- **Reduce phase:** all trees are merged together recursively, creating a huge category tree that reflects the entire dataset."
   ]
  },
  {
   "cell_type": "code",
   "execution_count": 885,
   "metadata": {
    "collapsed": true
   },
   "outputs": [],
   "source": [
    "# Merge nodes\n",
    "def merge_trees(a, b):\n",
    "    for key in b:\n",
    "        if key in a:\n",
    "            a[key] = (a[key][0] + b[key][0], a[key][1])\n",
    "            merge_trees(a[key][1], b[key][1])\n",
    "        else:\n",
    "            a[key] = b[key]\n",
    "    return a"
   ]
  },
  {
   "cell_type": "code",
   "execution_count": 123,
   "metadata": {},
   "outputs": [
    {
     "data": {
      "text/plain": [
       "{'Sports & Outdoors': (2,\n",
       "  {'Other Sports': (1, {'Dance': (1, {})}), 'Supplies': (1, {})})}"
      ]
     },
     "execution_count": 123,
     "metadata": {},
     "output_type": "execute_result"
    }
   ],
   "source": [
    "# Example\n",
    "a = convert_to_tree([\"Sports & Outdoors\", \"Other Sports\", \"Dance\"])\n",
    "b = convert_to_tree([\"Sports & Outdoors\", \"Supplies\"])\n",
    "merge_trees(a, b)"
   ]
  },
  {
   "cell_type": "markdown",
   "metadata": {},
   "source": [
    "Now we run the actual job on Spark."
   ]
  },
  {
   "cell_type": "code",
   "execution_count": 39,
   "metadata": {
    "collapsed": true
   },
   "outputs": [],
   "source": [
    "# Top-level categories of interest\n",
    "categories_to_extract = set(['Electronics', 'Cell Phones & Accessories', 'Automotive',\\\n",
    "                             'Tools & Home Improvement', 'Musical Instruments'])\n",
    "\n",
    "# Build the category tree\n",
    "category_tree = sc.textFile('data/metadata.json')\\\n",
    "    .map(lambda x: ast.literal_eval(x))\\\n",
    "    .filter(lambda x: 'categories' in x)\\\n",
    "    .flatMap(lambda x: x['categories'])\\\n",
    "    .filter(lambda x: x[0] in categories_to_extract)\\\n",
    "    .map(convert_to_tree)\\\n",
    "    .reduce(merge_trees)"
   ]
  },
  {
   "cell_type": "markdown",
   "metadata": {},
   "source": [
    "In the example below, the subtree of *Cell Phones & Accessories* is shown, along with product count for each sub-category. As can be seen, sub categories may differ significantly in terms of belonging products. Therefore, some heuristics may be necessary to group together categories that contains a small number of products."
   ]
  },
  {
   "cell_type": "code",
   "execution_count": 33,
   "metadata": {},
   "outputs": [
    {
     "data": {
      "text/plain": [
       "(357693,\n",
       " {'Accessories': (109763,\n",
       "   {'Accessory Kits': (26545, {}),\n",
       "    'Audio Adapters': (497, {}),\n",
       "    'Batteries': (9882,\n",
       "     {'Battery Charger Cases': (560, {}),\n",
       "      'External Battery Packs': (2079, {}),\n",
       "      'Internal Batteries': (6651, {})}),\n",
       "    'Bluetooth Speakers': (782, {}),\n",
       "    'Car Accessories': (5863,\n",
       "     {'Car Cradles & Mounts': (4705,\n",
       "       {'Car Cradles': (424, {}), 'Car Mounts': (4189, {})}),\n",
       "      'Car Kits': (845, {}),\n",
       "      'Car Speakerphones': (312, {})}),\n",
       "    'Chargers': (17463,\n",
       "     {'Car Chargers': (7650, {}),\n",
       "      'Cell Phone Docks': (1894, {}),\n",
       "      'International Chargers': (169, {}),\n",
       "      'Solar Chargers': (284, {}),\n",
       "      'Travel Chargers': (7122, {})}),\n",
       "    'Cradles, Mounts & Stands': (48, {'Stands': (47, {})}),\n",
       "    'Data Cables': (6671, {}),\n",
       "    'Headsets': (10197,\n",
       "     {'Bluetooth Headsets': (5066, {}), 'Wired Headsets': (5023, {})}),\n",
       "    'Phone Charms': (3073, {}),\n",
       "    'Replacement Parts': (6592, {}),\n",
       "    'SIM Cards & Tools': (506, {}),\n",
       "    'Screen Protectors': (15879, {}),\n",
       "    'Signal Boosters': (586, {}),\n",
       "    'Smart Watches & Accessories': (148, {}),\n",
       "    'Stylus Pens': (3584, {})}),\n",
       "  'Cases': (239587,\n",
       "   {'Armbands': (1541, {}),\n",
       "    'Basic Cases': (223962, {}),\n",
       "    'Customizable Cases': (2, {}),\n",
       "    'Holsters & Clips': (4352, {}),\n",
       "    'Sleeves': (184, {}),\n",
       "    'Wallet Cases': (7777, {}),\n",
       "    'Waterproof Cases': (1757, {})}),\n",
       "  'Cell Phones': (7757,\n",
       "   {'Contract Cell Phones': (619, {}),\n",
       "    'No-Contract Cell Phones': (767,\n",
       "     {'Minutes': (52, {}), 'Phones': (713, {})}),\n",
       "    'Unlocked Cell Phones': (6328, {})}),\n",
       "  'Connected Devices': (63,\n",
       "   {'Mobile Broadband': (53,\n",
       "     {'Data Cards': (1, {}),\n",
       "      'Mobile Hotspots': (34, {}),\n",
       "      'USB Modems': (10, {})}),\n",
       "    'Tablets': (9, {})})})"
      ]
     },
     "execution_count": 33,
     "metadata": {},
     "output_type": "execute_result"
    }
   ],
   "source": [
    "# Each node represents a (count, children) tuple\n",
    "category_tree['Cell Phones & Accessories']"
   ]
  },
  {
   "cell_type": "markdown",
   "metadata": {},
   "source": [
    "We made an interactive visualization using the 5 macro-categories that we selected. This allowed us to explore the tree and see its overall structure, as the number of sub-categories is too high for being inspected textually. You can see it **[here](https://niccolosacchi.github.io/categories-graph.html)**.\n",
    "\n",
    "![](imgs/categoryGraph.png)"
   ]
  },
  {
   "cell_type": "markdown",
   "metadata": {},
   "source": [
    "<a id=\"dataset_reviews\"></a>\n",
    "### Reviews"
   ]
  },
  {
   "cell_type": "markdown",
   "metadata": {},
   "source": [
    "The reviews dataset (`reviews.json`) has a size of approximately 87 GB. Each review contains the following fields:\n",
    "- **reviewerID**: unique ID associated to each user.\n",
    "- **asin**: unique ID associated to each product.\n",
    "- **reviewerName**: name of the user.\n",
    "- **helpful**: helpfulness rating of the review (tuple of 2 elements: \"A out of B find this review helpful\").\n",
    "- **reviewText**: text of the review.\n",
    "- **overall**: rating of the product from 1 to 5 stars.\n",
    "- **summary** - summary of the review.\n",
    "- **unixReviewTime** - unix timestamp of the review.\n",
    "- **reviewTime** - raw timestamp of the review."
   ]
  },
  {
   "cell_type": "markdown",
   "metadata": {},
   "source": [
    "Since our project is mainly focused on products, we are not interested in *individual* reviews. However, we still need this dataset in order to compute the aggregate ratings for each product and merge them into our dataset."
   ]
  },
  {
   "cell_type": "markdown",
   "metadata": {},
   "source": [
    "<a id=\"prelim_process\"></a>\n",
    "## Preliminary processing"
   ]
  },
  {
   "cell_type": "markdown",
   "metadata": {},
   "source": [
    "#### Reduce the Amazon dataset"
   ]
  },
  {
   "cell_type": "markdown",
   "metadata": {},
   "source": [
    "Due to the large size of the Amazon dataset, we decided to create a custom dataset prior to performing any further analysis. The custom dataset, which has been named *reduced*, contains only products belonging to the macro-categories selected in the previous paragraph. In addition, the review ratings of each product are averaged and merged with the products. As a result, we obtain a smaller *metadata* dataset (1.41 GB) that is enriched with the average product rating field, as well as with the reviews count and their helpfulness."
   ]
  },
  {
   "cell_type": "markdown",
   "metadata": {},
   "source": [
    "##### Aggregate ratings\n",
    "The average product rating is computed from the data in the *reviews* dataset. For each entry, the product ID and the rating are stored, respectively, in the *asin* and *overall* fields. To compute the rating, entries are grouped by product ID and then \n",
    "averaged on the *overall* field. In addition to the average rating for each product, we add some extra information which might come handy later: the number of reviews (`num_reviews`), and the ratio of helpful reviews (`helpful_fraction`).\n",
    "The output is saved in JSON format as `aggregate_ratings.json`. The code for processing the data (shown below) was executed on the ADA cluster."
   ]
  },
  {
   "cell_type": "markdown",
   "metadata": {
    "collapsed": true
   },
   "source": [
    "```python\n",
    "import json\n",
    "import pyspark.sql.functions as func\n",
    "from pyspark import SparkContext\n",
    "from pyspark.sql import SQLContext\n",
    "\n",
    "sc = SparkContext()\n",
    "sqlContext = SQLContext(sc)\n",
    "\n",
    "rdd = sc.textFile('/datasets/productGraph/complete.json')\\\n",
    "    .map(lambda x: json.loads(x))\\\n",
    "    .map(lambda x: (x['asin'], x['overall'], x['helpful'][0], x['helpful'][1]))\n",
    "\n",
    "sqlContext.createDataFrame(rdd, ['asin', 'overall', 'helpful_positive', 'helpful_all'])\\\n",
    "    .groupBy('asin')\\\n",
    "    .agg(\n",
    "        func.mean('overall').alias('average_rating'),\n",
    "        func.count('overall').alias('num_reviews'),\n",
    "        (func.sum('helpful_positive') / func.sum('helpful_all')).alias('helpful_fraction')\n",
    "    )\\\n",
    "    .toJSON()\\\n",
    "    .saveAsTextFile('aggregate_ratings.json')\n",
    "```"
   ]
  },
  {
   "cell_type": "markdown",
   "metadata": {},
   "source": [
    "##### Merge the datasets\n",
    "*Metadata* is filtered so as to mantain only the products belonging to the macro categories of interest, which are then merged with *aggregate_ratings*. The code that generates the *reduced* dataset is shown below. An important observation is that a product can belong to multiple categories (`categories` is a list of lists). However, in our merging process, we need to assign a product to only one category to avoid duplicates. After some investigation, we decided to empirically re-assign products only to the first one in order of appearance, as often the other ones were the result of crawling errors or were inappropriate."
   ]
  },
  {
   "cell_type": "markdown",
   "metadata": {
    "collapsed": true
   },
   "source": [
    "```python\n",
    "# The list of macro categories that we want to extract\n",
    "categories_to_extract = set(['Electronics', 'Cell Phones & Accessories', 'Automotive',\\\n",
    "                             'Tools & Home Improvement', 'Musical Instruments'])\n",
    "\n",
    "# Extract macro category\n",
    "def extract_category(x):\n",
    "    x['category'] = x['categories'][0]\n",
    "    del x['categories']\n",
    "    x['num_reviews'] = 0 # The number of reviews is 0 in the default case\n",
    "    if 'salesRank' in x:\n",
    "        # Convert the dictionary to a more suitable format (tuple)\n",
    "        if len(x['salesRank']) > 0:\n",
    "            x['salesRankCat'] = next(iter(x['salesRank'].keys()))\n",
    "            x['salesRankPos'] = next(iter(x['salesRank'].values()))\n",
    "        del x['salesRank']\n",
    "    \n",
    "    # Change the format of the relations to a simpler one:\n",
    "    # instead of having nested fields, everything is in the top level.\n",
    "    # Additionally, missing relations are converted to empty lists,\n",
    "    # so that they do not need to be checked later.\n",
    "    x['buy_after_viewing'] = []\n",
    "    x['bought_together'] = []\n",
    "    if 'related' in x:\n",
    "        if 'buy_after_viewing' in x['related']:\n",
    "            x['buy_after_viewing'] = x['related']['buy_after_viewing']\n",
    "        if 'bought_together' in x['related']:\n",
    "            x['bought_together'] = x['related']['bought_together']\n",
    "        del x['related']\n",
    "        \n",
    "    return x\n",
    "\n",
    "# Load the aggregate ratings\n",
    "ratings = sc.textFile('data/aggregate_ratings.json')\\\n",
    "    .map(lambda x: json.loads(x))\\\n",
    "    .map(lambda x: (x['asin'], x))\n",
    "\n",
    "# Filter products and merge datasets.\n",
    "# Note that we use the left outer join, so as to include products that have no reviews.\n",
    "sc.textFile('data/metadata.json')\\\n",
    "    .map(lambda x: ast.literal_eval(x))\\\n",
    "    .filter(lambda x: 'categories' in x)\\\n",
    "    .map(extract_category)\\\n",
    "    .filter(lambda x: x['category'][0] in categories_to_extract)\\\n",
    "    .map(lambda x: (x['asin'], x))\\\n",
    "    .leftOuterJoin(ratings)\\\n",
    "    .map(lambda x: x[1])\\\n",
    "    .map(lambda x: x[0] if x[1] == None else {**x[0], **x[1]})\\\n",
    "    .map(lambda x: json.dumps(x))\\\n",
    "    .saveAsTextFile('data/reduced.json')\n",
    "```"
   ]
  },
  {
   "cell_type": "markdown",
   "metadata": {},
   "source": [
    "<a id=\"exploratory_data\"></a>\n",
    "##  Exploratory data analysis"
   ]
  },
  {
   "cell_type": "markdown",
   "metadata": {},
   "source": [
    "<a id=\"explo_missing\"></a>\n",
    "### Missing data statistics\n",
    "As first thing, we want to see which fields can be missing, and, should they be, the actual fraction of missing values. In order to do this, we sample a subset of the dataset (25%) using Spark, and we process it with Pandas. This will not affect the result considerably, as the sampled dataset is still huge."
   ]
  },
  {
   "cell_type": "code",
   "execution_count": 164,
   "metadata": {},
   "outputs": [
    {
     "data": {
      "text/html": [
       "<div>\n",
       "<style>\n",
       "    .dataframe thead tr:only-child th {\n",
       "        text-align: right;\n",
       "    }\n",
       "\n",
       "    .dataframe thead th {\n",
       "        text-align: left;\n",
       "    }\n",
       "\n",
       "    .dataframe tbody tr th {\n",
       "        vertical-align: top;\n",
       "    }\n",
       "</style>\n",
       "<table border=\"1\" class=\"dataframe\">\n",
       "  <thead>\n",
       "    <tr style=\"text-align: right;\">\n",
       "      <th></th>\n",
       "      <th>asin</th>\n",
       "      <th>average_rating</th>\n",
       "      <th>bought_together</th>\n",
       "      <th>brand</th>\n",
       "      <th>buy_after_viewing</th>\n",
       "      <th>category</th>\n",
       "      <th>description</th>\n",
       "      <th>helpful_fraction</th>\n",
       "      <th>imUrl</th>\n",
       "      <th>num_reviews</th>\n",
       "      <th>price</th>\n",
       "      <th>salesRankCat</th>\n",
       "      <th>salesRankPos</th>\n",
       "      <th>title</th>\n",
       "    </tr>\n",
       "  </thead>\n",
       "  <tbody>\n",
       "    <tr>\n",
       "      <th>0</th>\n",
       "      <td>B00000JHWT</td>\n",
       "      <td>2.2</td>\n",
       "      <td>[]</td>\n",
       "      <td>NaN</td>\n",
       "      <td>[]</td>\n",
       "      <td>[Electronics, Camera &amp; Pho...</td>\n",
       "      <td>Tired of tearing through A...</td>\n",
       "      <td>0.974533</td>\n",
       "      <td>http://ecx.images-amazon.c...</td>\n",
       "      <td>5</td>\n",
       "      <td>NaN</td>\n",
       "      <td>NaN</td>\n",
       "      <td>NaN</td>\n",
       "      <td>Olympus 200-517 NI-MH Batt...</td>\n",
       "    </tr>\n",
       "    <tr>\n",
       "      <th>1</th>\n",
       "      <td>B0000223VV</td>\n",
       "      <td>4.8</td>\n",
       "      <td>[B0000223VQ, B0000223VT]</td>\n",
       "      <td>Forrest</td>\n",
       "      <td>[B00008WQ2N, B003XREDZA, B...</td>\n",
       "      <td>[Tools &amp; Home Improvement,...</td>\n",
       "      <td>Forrest's blades offer a s...</td>\n",
       "      <td>1.000000</td>\n",
       "      <td>http://ecx.images-amazon.c...</td>\n",
       "      <td>5</td>\n",
       "      <td>118.95</td>\n",
       "      <td>NaN</td>\n",
       "      <td>NaN</td>\n",
       "      <td>Forrest CM08H606100 Chopma...</td>\n",
       "    </tr>\n",
       "    <tr>\n",
       "      <th>2</th>\n",
       "      <td>B0000223ZD</td>\n",
       "      <td>5.0</td>\n",
       "      <td>[]</td>\n",
       "      <td>NaN</td>\n",
       "      <td>[]</td>\n",
       "      <td>[Tools &amp; Home Improvement,...</td>\n",
       "      <td>For carving and carpenter'...</td>\n",
       "      <td>1.000000</td>\n",
       "      <td>http://ecx.images-amazon.c...</td>\n",
       "      <td>1</td>\n",
       "      <td>20.95</td>\n",
       "      <td>NaN</td>\n",
       "      <td>NaN</td>\n",
       "      <td>Tormek Axe Grinding Jig</td>\n",
       "    </tr>\n",
       "    <tr>\n",
       "      <th>3</th>\n",
       "      <td>B00004TZDC</td>\n",
       "      <td>4.0</td>\n",
       "      <td>[]</td>\n",
       "      <td>NaN</td>\n",
       "      <td>[]</td>\n",
       "      <td>[Electronics, Portable Aud...</td>\n",
       "      <td>Listen to your favorite MP...</td>\n",
       "      <td>0.580645</td>\n",
       "      <td>http://ecx.images-amazon.c...</td>\n",
       "      <td>11</td>\n",
       "      <td>NaN</td>\n",
       "      <td>NaN</td>\n",
       "      <td>NaN</td>\n",
       "      <td>Sensory Science Rave: MP 2...</td>\n",
       "    </tr>\n",
       "    <tr>\n",
       "      <th>4</th>\n",
       "      <td>B00004Y9EN</td>\n",
       "      <td>4.5</td>\n",
       "      <td>[]</td>\n",
       "      <td>NaN</td>\n",
       "      <td>[]</td>\n",
       "      <td>[Tools &amp; Home Improvement,...</td>\n",
       "      <td>Designed for frequent use ...</td>\n",
       "      <td>1.000000</td>\n",
       "      <td>http://ecx.images-amazon.c...</td>\n",
       "      <td>2</td>\n",
       "      <td>NaN</td>\n",
       "      <td>NaN</td>\n",
       "      <td>NaN</td>\n",
       "      <td>DELTA 17-784 1/4-Inch Bit Set</td>\n",
       "    </tr>\n",
       "  </tbody>\n",
       "</table>\n",
       "</div>"
      ],
      "text/plain": [
       "         asin  average_rating           bought_together    brand  \\\n",
       "0  B00000JHWT             2.2                        []      NaN   \n",
       "1  B0000223VV             4.8  [B0000223VQ, B0000223VT]  Forrest   \n",
       "2  B0000223ZD             5.0                        []      NaN   \n",
       "3  B00004TZDC             4.0                        []      NaN   \n",
       "4  B00004Y9EN             4.5                        []      NaN   \n",
       "\n",
       "               buy_after_viewing                       category  \\\n",
       "0                             []  [Electronics, Camera & Pho...   \n",
       "1  [B00008WQ2N, B003XREDZA, B...  [Tools & Home Improvement,...   \n",
       "2                             []  [Tools & Home Improvement,...   \n",
       "3                             []  [Electronics, Portable Aud...   \n",
       "4                             []  [Tools & Home Improvement,...   \n",
       "\n",
       "                     description  helpful_fraction  \\\n",
       "0  Tired of tearing through A...          0.974533   \n",
       "1  Forrest's blades offer a s...          1.000000   \n",
       "2  For carving and carpenter'...          1.000000   \n",
       "3  Listen to your favorite MP...          0.580645   \n",
       "4  Designed for frequent use ...          1.000000   \n",
       "\n",
       "                           imUrl  num_reviews   price salesRankCat  \\\n",
       "0  http://ecx.images-amazon.c...            5     NaN          NaN   \n",
       "1  http://ecx.images-amazon.c...            5  118.95          NaN   \n",
       "2  http://ecx.images-amazon.c...            1   20.95          NaN   \n",
       "3  http://ecx.images-amazon.c...           11     NaN          NaN   \n",
       "4  http://ecx.images-amazon.c...            2     NaN          NaN   \n",
       "\n",
       "   salesRankPos                          title  \n",
       "0           NaN  Olympus 200-517 NI-MH Batt...  \n",
       "1           NaN  Forrest CM08H606100 Chopma...  \n",
       "2           NaN        Tormek Axe Grinding Jig  \n",
       "3           NaN  Sensory Science Rave: MP 2...  \n",
       "4           NaN  DELTA 17-784 1/4-Inch Bit Set  "
      ]
     },
     "execution_count": 164,
     "metadata": {},
     "output_type": "execute_result"
    }
   ],
   "source": [
    "df = pd.DataFrame(sc.textFile('data/reduced.json')\\\n",
    "    .sample(fraction=0.25, withReplacement=False, seed=1)\\\n",
    "    .map(lambda x: json.loads(x))\\\n",
    "    .collect())\n",
    "pd.set_option('display.max_colwidth', 30)\n",
    "df.head()"
   ]
  },
  {
   "cell_type": "code",
   "execution_count": 165,
   "metadata": {},
   "outputs": [
    {
     "name": "stdout",
     "output_type": "stream",
     "text": [
      "asin                 0.000000\n",
      "average_rating       0.000005\n",
      "bought_together      0.000000\n",
      "brand                0.625618\n",
      "buy_after_viewing    0.000000\n",
      "category             0.000000\n",
      "description          0.072262\n",
      "helpful_fraction     0.504818\n",
      "imUrl                0.001361\n",
      "num_reviews          0.000000\n",
      "price                0.178351\n",
      "salesRankCat         0.617510\n",
      "salesRankPos         0.617510\n",
      "title                0.009485\n",
      "dtype: float64\n"
     ]
    },
    {
     "data": {
      "image/png": "[encoded data removed]",
      "text/plain": [
       "<matplotlib.figure.Figure at 0x1e6feb2e748>"
      ]
     },
     "metadata": {},
     "output_type": "display_data"
    }
   ],
   "source": [
    "missing_stats = df.isnull().sum()/len(df)\n",
    "print(missing_stats)\n",
    "pd.DataFrame(missing_stats).sort_values(0).plot.bar(title=\"Distribution of missing fields\", legend=None)\n",
    "plt.ylim(0, 1)\n",
    "plt.ylabel('Fraction')\n",
    "_ = plt.xlabel('Feature')"
   ]
  },
  {
   "cell_type": "markdown",
   "metadata": {},
   "source": [
    "The results are mixed:\n",
    "- The ID (`asin`) and the categories are always present by definition.\n",
    "- Almost all articles have at least one review (non-null `average_rating`).\n",
    "- The title can be missing at times, although this is very rare.\n",
    "- The price and textual description can be missing with a low probability.\n",
    "- The sales rank and the brand are missing in most cases (about 60% of cases)."
   ]
  },
  {
   "cell_type": "markdown",
   "metadata": {},
   "source": [
    "<a id=\"exploratory_distfeat\"></a>\n",
    "### Distributions of features\n",
    "We now proceed by analyzing the statistics of numeric fields. This might give us some useful insights."
   ]
  },
  {
   "cell_type": "code",
   "execution_count": 166,
   "metadata": {},
   "outputs": [
    {
     "data": {
      "text/html": [
       "<div>\n",
       "<style>\n",
       "    .dataframe thead tr:only-child th {\n",
       "        text-align: right;\n",
       "    }\n",
       "\n",
       "    .dataframe thead th {\n",
       "        text-align: left;\n",
       "    }\n",
       "\n",
       "    .dataframe tbody tr th {\n",
       "        vertical-align: top;\n",
       "    }\n",
       "</style>\n",
       "<table border=\"1\" class=\"dataframe\">\n",
       "  <thead>\n",
       "    <tr style=\"text-align: right;\">\n",
       "      <th></th>\n",
       "      <th>average_rating</th>\n",
       "      <th>helpful_fraction</th>\n",
       "      <th>num_reviews</th>\n",
       "      <th>price</th>\n",
       "      <th>salesRankPos</th>\n",
       "    </tr>\n",
       "  </thead>\n",
       "  <tbody>\n",
       "    <tr>\n",
       "      <th>count</th>\n",
       "      <td>377663.000000</td>\n",
       "      <td>187013.000000</td>\n",
       "      <td>377665.000000</td>\n",
       "      <td>310308.000000</td>\n",
       "      <td>1.444530e+05</td>\n",
       "    </tr>\n",
       "    <tr>\n",
       "      <th>mean</th>\n",
       "      <td>3.947782</td>\n",
       "      <td>0.791446</td>\n",
       "      <td>14.089590</td>\n",
       "      <td>55.504038</td>\n",
       "      <td>4.687263e+05</td>\n",
       "    </tr>\n",
       "    <tr>\n",
       "      <th>std</th>\n",
       "      <td>1.150545</td>\n",
       "      <td>0.281049</td>\n",
       "      <td>108.724362</td>\n",
       "      <td>106.199768</td>\n",
       "      <td>5.622865e+05</td>\n",
       "    </tr>\n",
       "    <tr>\n",
       "      <th>min</th>\n",
       "      <td>1.000000</td>\n",
       "      <td>0.000000</td>\n",
       "      <td>0.000000</td>\n",
       "      <td>0.000000</td>\n",
       "      <td>1.000000e+00</td>\n",
       "    </tr>\n",
       "    <tr>\n",
       "      <th>25%</th>\n",
       "      <td>3.333333</td>\n",
       "      <td>0.680135</td>\n",
       "      <td>1.000000</td>\n",
       "      <td>7.900000</td>\n",
       "      <td>7.561400e+04</td>\n",
       "    </tr>\n",
       "    <tr>\n",
       "      <th>50%</th>\n",
       "      <td>4.200000</td>\n",
       "      <td>0.900000</td>\n",
       "      <td>2.000000</td>\n",
       "      <td>17.990000</td>\n",
       "      <td>2.703100e+05</td>\n",
       "    </tr>\n",
       "    <tr>\n",
       "      <th>75%</th>\n",
       "      <td>5.000000</td>\n",
       "      <td>1.000000</td>\n",
       "      <td>5.000000</td>\n",
       "      <td>50.600000</td>\n",
       "      <td>6.471730e+05</td>\n",
       "    </tr>\n",
       "    <tr>\n",
       "      <th>max</th>\n",
       "      <td>5.000000</td>\n",
       "      <td>1.000000</td>\n",
       "      <td>14495.000000</td>\n",
       "      <td>999.990000</td>\n",
       "      <td>5.270820e+06</td>\n",
       "    </tr>\n",
       "  </tbody>\n",
       "</table>\n",
       "</div>"
      ],
      "text/plain": [
       "       average_rating  helpful_fraction    num_reviews          price  \\\n",
       "count   377663.000000     187013.000000  377665.000000  310308.000000   \n",
       "mean         3.947782          0.791446      14.089590      55.504038   \n",
       "std          1.150545          0.281049     108.724362     106.199768   \n",
       "min          1.000000          0.000000       0.000000       0.000000   \n",
       "25%          3.333333          0.680135       1.000000       7.900000   \n",
       "50%          4.200000          0.900000       2.000000      17.990000   \n",
       "75%          5.000000          1.000000       5.000000      50.600000   \n",
       "max          5.000000          1.000000   14495.000000     999.990000   \n",
       "\n",
       "       salesRankPos  \n",
       "count  1.444530e+05  \n",
       "mean   4.687263e+05  \n",
       "std    5.622865e+05  \n",
       "min    1.000000e+00  \n",
       "25%    7.561400e+04  \n",
       "50%    2.703100e+05  \n",
       "75%    6.471730e+05  \n",
       "max    5.270820e+06  "
      ]
     },
     "execution_count": 166,
     "metadata": {},
     "output_type": "execute_result"
    }
   ],
   "source": [
    "df.describe()"
   ]
  },
  {
   "cell_type": "markdown",
   "metadata": {},
   "source": [
    "From these basic statistics, we can observe that:\n",
    "- The average ratings tend to be high.\n",
    "- The distribution of the number of reviews for each article is heavy-tailed (the mean is much higher than the median).\n",
    "- Most reviews are regarded as helpful (50% of the articles have an helpfulness percentage greater than 90%), meaning that we can take them into account with good confidence.\n",
    "\n",
    "Additionally, we plot the distribution of the average ratings."
   ]
  },
  {
   "cell_type": "code",
   "execution_count": 10,
   "metadata": {},
   "outputs": [
    {
     "data": {
      "image/png": "[encoded data removed]",
      "text/plain": [
       "<matplotlib.figure.Figure at 0x1cc888506d8>"
      ]
     },
     "metadata": {},
     "output_type": "display_data"
    }
   ],
   "source": [
    "df['average_rating'].plot.hist(title='Average rating', bins=30)\n",
    "_ = plt.xlabel('Rating (stars)')"
   ]
  },
  {
   "cell_type": "markdown",
   "metadata": {},
   "source": [
    "As can be seen from the histogram plot above, the ratings are concentrated near integer values. This is due to the fact that most articles contain a small number of reviews (in most cases, only one), and they strongly bias the distribution. Earlier, we observed that the distribution of the *number of reviews* feature is heavy-tailed. To illustrate this clearly, we plot it below."
   ]
  },
  {
   "cell_type": "code",
   "execution_count": 11,
   "metadata": {},
   "outputs": [
    {
     "data": {
      "image/png": "[encoded data removed]",
      "text/plain": [
       "<matplotlib.figure.Figure at 0x1cc8e0421d0>"
      ]
     },
     "metadata": {},
     "output_type": "display_data"
    }
   ],
   "source": [
    "df['num_reviews'].plot.hist(bins=200, log=True, title='Distribution of the number of reviews per article')\n",
    "_ = plt.xlabel('# Reviews per article')"
   ]
  },
  {
   "cell_type": "markdown",
   "metadata": {},
   "source": [
    "This indeed confirms our hypothesis. Note that we plotted our histogram in logarithmic scale. The majority of articles contain a very small number of reviews, but there are some outliers that are reviewed a huge number of times.\n",
    "\n",
    "We plot again the histogram of the average rating per article, but this time we weigh each record according to the number of reviews of the corresponding record."
   ]
  },
  {
   "cell_type": "code",
   "execution_count": 167,
   "metadata": {},
   "outputs": [
    {
     "data": {
      "image/png": "[encoded data removed]",
      "text/plain": [
       "<matplotlib.figure.Figure at 0x1e6fab71128>"
      ]
     },
     "metadata": {},
     "output_type": "display_data"
    }
   ],
   "source": [
    "df['average_rating'].fillna(0).plot.hist(weights = df['num_reviews'], bins=30)\n",
    "_ = plt.xlabel('Rating (stars)')"
   ]
  },
  {
   "cell_type": "markdown",
   "metadata": {},
   "source": [
    "This result is much smoother and reflects reality. As can be seen, users tend to be very \"generous\" when reviewing products.\n",
    "\n",
    "We also plot the distribution of the article prices:"
   ]
  },
  {
   "cell_type": "code",
   "execution_count": 13,
   "metadata": {},
   "outputs": [
    {
     "data": {
      "image/png": "[encoded data removed]",
      "text/plain": [
       "<matplotlib.figure.Figure at 0x1cc8b263cf8>"
      ]
     },
     "metadata": {},
     "output_type": "display_data"
    }
   ],
   "source": [
    "df['price'].plot.hist(bins=200, log=True, title='Distribution of the price of a product')\n",
    "_ = plt.xlabel('Price (US $)')"
   ]
  },
  {
   "cell_type": "markdown",
   "metadata": {},
   "source": [
    "Again, we plotted the histogram in log-scale, which reveals that prices are as well distributed according to a heavy-tailed distribution. We can also observe another important detail: the price seems truncated to 1000 dollars (this is also reflected in the summary statistics, which show that the maximum price is 999.99). This seems to be wrong, as the real Amazon website shows products that are well above 1000 dollars as price.\n",
    "To verify whether this is caused by some error in our analysis, we double-check this fact on the original, full dataset."
   ]
  },
  {
   "cell_type": "code",
   "execution_count": 89,
   "metadata": {},
   "outputs": [
    {
     "data": {
      "text/plain": [
       "0"
      ]
     },
     "execution_count": 89,
     "metadata": {},
     "output_type": "execute_result"
    }
   ],
   "source": [
    "sc.textFile('data/metadata.json')\\\n",
    "    .map(lambda x: ast.literal_eval(x))\\\n",
    "    .filter(lambda x: 'price' in x and x['price'] > 999.99)\\\n",
    "    .count()"
   ]
  },
  {
   "cell_type": "markdown",
   "metadata": {},
   "source": [
    "Our supposition was correct: the prices are truncated at 999.99 at the source."
   ]
  },
  {
   "cell_type": "markdown",
   "metadata": {},
   "source": [
    "<a id=\"exploratory_corr\"></a>\n",
    "### Correlation analysis\n",
    "We perform some basic correlation analysis on the sampled dataset, without splitting the categories. Specifically, we investigate the correlations among price, review rating and sales rank, hoping to find some patterns in the distribution of these variables."
   ]
  },
  {
   "cell_type": "code",
   "execution_count": 7,
   "metadata": {},
   "outputs": [
    {
     "data": {
      "image/png": "[encoded data removed]",
      "text/plain": [
       "<matplotlib.figure.Figure at 0x2191ae762b0>"
      ]
     },
     "metadata": {},
     "output_type": "display_data"
    },
    {
     "data": {
      "image/png": "[encoded data removed]",
      "text/plain": [
       "<matplotlib.figure.Figure at 0x2191ae6c9e8>"
      ]
     },
     "metadata": {},
     "output_type": "display_data"
    }
   ],
   "source": [
    "# We select only product with more than 5 reviews in order to have a confident result\n",
    "df_corr = df[df['num_reviews'] > 5]\n",
    "df_corr = df_corr[['price', 'average_rating', 'salesRankPos', 'num_reviews', 'helpful_fraction']]\\\n",
    "    .dropna().sample(frac=0.1, random_state=0) # Sub-sample the data\n",
    "\n",
    "corr = df_corr.corr()\n",
    "mask = np.zeros_like(corr, dtype=np.bool)\n",
    "mask[np.triu_indices_from(mask)] = True\n",
    "cmap = sns.diverging_palette(220, 10, as_cmap=True)\n",
    "plt.figure(figsize=(5, 5))\n",
    "sns.heatmap(corr.values[1:,:-1], annot=True, mask=mask[1:,:-1], cmap=cmap,\n",
    "            xticklabels=corr.columns.values[:-1],\n",
    "            yticklabels=corr.columns.values[1:])\n",
    "\n",
    "plot = sns.pairplot(df_corr, markers='+')\n",
    "for i, j in zip(*np.triu_indices_from(plot.axes, 1)):\n",
    "    plot.axes[i, j].set_visible(False)"
   ]
  },
  {
   "cell_type": "markdown",
   "metadata": {},
   "source": [
    "According to the graphs above, we discuss the following outcomes on the correlation analysis:\n",
    "- The correlation coefficients do not seem to be significant. However, the plots show some trends:\n",
    " - As the price increases, the ratings tend to have lower variance and higher mean. In other words, more expensive products have on average higher ratings.\n",
    " - As the price increases, the sales rank tends to be low (i.e. good), meaning that costly products are generally sold fast as they may be regarded as superior by people.\n",
    "\n",
    "Of course, this analysis is superficial, as it is not subdivided by category. Nonetheless, it is interesting because it shows how people tend to think."
   ]
  },
  {
   "cell_type": "markdown",
   "metadata": {},
   "source": [
    "<a id=\"graph_analysis\"></a>\n",
    "## Graph analysis\n",
    "As we said at the beginning, one of our goals is to analyze competing products and gain useful insights. To corroborate our hypothesis (i.e. cliques represent competing products), we run a pilot analysis on one sample subcategory (*Headphones*)\n",
    "\n",
    "In our next experiments we will carry out the study on a subset of categories independently. The reason for the subdivision is that:\n",
    "- It does not make sense to compare products in different categories, although the graph may contain such links (*buy after viewing*). In fact, we expect that such links would be of type *bought together* (e.g. a phone and a cover).\n",
    "- The algorithms that we are going to use (e.g. max-cliques) are NP-Complete, and will surely benefit from a clever splitting of the data. That said, we observed that the graph is sparse enough to be able to processed in a single pass."
   ]
  },
  {
   "cell_type": "code",
   "execution_count": 168,
   "metadata": {},
   "outputs": [
    {
     "name": "stdout",
     "output_type": "stream",
     "text": [
      "11577 records loaded\n"
     ]
    }
   ],
   "source": [
    "# Collect the products in the \"Headphones\" category\n",
    "cat = ['Electronics', 'Accessories & Supplies', 'Audio & Video Accessories', 'Headphones']\n",
    "records = sc.textFile('data/reduced.json')\\\n",
    "    .map(json.loads)\\\n",
    "    .filter(lambda x: x['category'][:len(cat)] == cat)\\\n",
    "    .collect()\n",
    "\n",
    "print(len(records), 'records loaded')"
   ]
  },
  {
   "cell_type": "markdown",
   "metadata": {},
   "source": [
    "Since we need to process big graphs, we decided not to use libraries such as *networkx*. In fact, our early experiments with these libraries turned out to yield unsatisfying performance. As a result, we wrote a small graph library optimized for this kind of sparse, unweighted graphs, and that implements a handful of basic algorithms (max-clique extraction, strongly connected components labeling).\n",
    "\n",
    "As a first pre-processing step, we build our graph data structure using an efficient layout: adjacency lists indexed by numbers, and not strings. This representation is suitable because the graph is expected to be sparse.\n",
    "\n",
    "Going into more depth, the graph is constructed as follows:\n",
    "- We add an edge from product A to product B if clients buy B after viewing A (direct competition).\n",
    "- We remove an edge between A and B if A and B are frequently bought together (no competition).\n",
    "\n",
    "In previous experiments, we tried to employ the *also_viewed* relation, with mixed results. This relation produces a graph that is too dense to give meaningful results, which is probably due to the fact that Amazon uses *Collaborative filtering* to produce these recommendations (the details are described [here](https://www.computer.org/csdl/mags/ic/2017/03/mic2017030012.html) and [here](https://docs.aws.amazon.com/AWSECommerceService/latest/DG/RG_CartSimilarities.html)), and not actual graph relations."
   ]
  },
  {
   "cell_type": "code",
   "execution_count": 169,
   "metadata": {
    "collapsed": true
   },
   "outputs": [],
   "source": [
    "from graph import ProductGraph\n",
    "\n",
    "g = ProductGraph(records, add_edge_on='buy_after_viewing', remove_edge_on='bought_together')"
   ]
  },
  {
   "cell_type": "code",
   "execution_count": 6,
   "metadata": {},
   "outputs": [
    {
     "data": {
      "text/html": [
       "<div>\n",
       "<style>\n",
       "    .dataframe thead tr:only-child th {\n",
       "        text-align: right;\n",
       "    }\n",
       "\n",
       "    .dataframe thead th {\n",
       "        text-align: left;\n",
       "    }\n",
       "\n",
       "    .dataframe tbody tr th {\n",
       "        vertical-align: top;\n",
       "    }\n",
       "</style>\n",
       "<table border=\"1\" class=\"dataframe\">\n",
       "  <thead>\n",
       "    <tr style=\"text-align: right;\">\n",
       "      <th></th>\n",
       "      <th>asin</th>\n",
       "      <th>average_rating</th>\n",
       "      <th>bought_together</th>\n",
       "      <th>brand</th>\n",
       "      <th>buy_after_viewing</th>\n",
       "      <th>category</th>\n",
       "      <th>comp_id_dir</th>\n",
       "      <th>comp_id_undir</th>\n",
       "      <th>comp_size_dir</th>\n",
       "      <th>comp_size_undir</th>\n",
       "      <th>...</th>\n",
       "      <th>fan_diff</th>\n",
       "      <th>fan_in</th>\n",
       "      <th>fan_out</th>\n",
       "      <th>helpful_fraction</th>\n",
       "      <th>imUrl</th>\n",
       "      <th>num_reviews</th>\n",
       "      <th>price</th>\n",
       "      <th>salesRankCat</th>\n",
       "      <th>salesRankPos</th>\n",
       "      <th>title</th>\n",
       "    </tr>\n",
       "  </thead>\n",
       "  <tbody>\n",
       "    <tr>\n",
       "      <th>0</th>\n",
       "      <td>0558835155</td>\n",
       "      <td>3.000000</td>\n",
       "      <td>[]</td>\n",
       "      <td>NaN</td>\n",
       "      <td>[]</td>\n",
       "      <td>[Electronics, Accessories &amp; Supplies, Audio &amp; ...</td>\n",
       "      <td>0</td>\n",
       "      <td>0</td>\n",
       "      <td>1</td>\n",
       "      <td>1</td>\n",
       "      <td>...</td>\n",
       "      <td>0</td>\n",
       "      <td>0</td>\n",
       "      <td>0</td>\n",
       "      <td>NaN</td>\n",
       "      <td>http://ecx.images-amazon.com/images/I/21rEirnd...</td>\n",
       "      <td>1</td>\n",
       "      <td>13.95</td>\n",
       "      <td>NaN</td>\n",
       "      <td>NaN</td>\n",
       "      <td>Polaroid Pbm2200 PC / Gaming Stereo Headphones...</td>\n",
       "    </tr>\n",
       "    <tr>\n",
       "      <th>1</th>\n",
       "      <td>B00004YJYK</td>\n",
       "      <td>3.166667</td>\n",
       "      <td>[]</td>\n",
       "      <td>NaN</td>\n",
       "      <td>[]</td>\n",
       "      <td>[Electronics, Accessories &amp; Supplies, Audio &amp; ...</td>\n",
       "      <td>1</td>\n",
       "      <td>1</td>\n",
       "      <td>1</td>\n",
       "      <td>1</td>\n",
       "      <td>...</td>\n",
       "      <td>0</td>\n",
       "      <td>0</td>\n",
       "      <td>0</td>\n",
       "      <td>0.866667</td>\n",
       "      <td>http://ecx.images-amazon.com/images/I/21DA2HJT...</td>\n",
       "      <td>6</td>\n",
       "      <td>NaN</td>\n",
       "      <td>NaN</td>\n",
       "      <td>NaN</td>\n",
       "      <td>JVC HAG11 Traditional Closed Headphones 30mm D...</td>\n",
       "    </tr>\n",
       "    <tr>\n",
       "      <th>2</th>\n",
       "      <td>B0000789GD</td>\n",
       "      <td>3.500000</td>\n",
       "      <td>[]</td>\n",
       "      <td>NaN</td>\n",
       "      <td>[]</td>\n",
       "      <td>[Electronics, Accessories &amp; Supplies, Audio &amp; ...</td>\n",
       "      <td>2</td>\n",
       "      <td>2</td>\n",
       "      <td>1</td>\n",
       "      <td>1</td>\n",
       "      <td>...</td>\n",
       "      <td>0</td>\n",
       "      <td>0</td>\n",
       "      <td>0</td>\n",
       "      <td>0.866667</td>\n",
       "      <td>http://g-ecx.images-amazon.com/images/G/01/x-s...</td>\n",
       "      <td>2</td>\n",
       "      <td>NaN</td>\n",
       "      <td>NaN</td>\n",
       "      <td>NaN</td>\n",
       "      <td>Audiobahn Noise-Canceling Headphones (103NC) (...</td>\n",
       "    </tr>\n",
       "    <tr>\n",
       "      <th>3</th>\n",
       "      <td>B000CQVX4Y</td>\n",
       "      <td>3.866667</td>\n",
       "      <td>[]</td>\n",
       "      <td>NaN</td>\n",
       "      <td>[B007136B84, B004V4L8PW, B004V4L8RA]</td>\n",
       "      <td>[Electronics, Accessories &amp; Supplies, Audio &amp; ...</td>\n",
       "      <td>3</td>\n",
       "      <td>3</td>\n",
       "      <td>1</td>\n",
       "      <td>7159</td>\n",
       "      <td>...</td>\n",
       "      <td>-3</td>\n",
       "      <td>0</td>\n",
       "      <td>3</td>\n",
       "      <td>0.787879</td>\n",
       "      <td>http://ecx.images-amazon.com/images/I/31qwYVCN...</td>\n",
       "      <td>15</td>\n",
       "      <td>44.30</td>\n",
       "      <td>NaN</td>\n",
       "      <td>NaN</td>\n",
       "      <td>Skullcandy Ti Chick Stereo Headphones - Pink</td>\n",
       "    </tr>\n",
       "    <tr>\n",
       "      <th>4</th>\n",
       "      <td>B000J4L7HM</td>\n",
       "      <td>3.000000</td>\n",
       "      <td>[]</td>\n",
       "      <td>NaN</td>\n",
       "      <td>[B0000952XX, B00006JPRQ, B00CM2RYYE, B00004T8R2]</td>\n",
       "      <td>[Electronics, Accessories &amp; Supplies, Audio &amp; ...</td>\n",
       "      <td>4</td>\n",
       "      <td>3</td>\n",
       "      <td>1</td>\n",
       "      <td>7159</td>\n",
       "      <td>...</td>\n",
       "      <td>-2</td>\n",
       "      <td>1</td>\n",
       "      <td>3</td>\n",
       "      <td>1.000000</td>\n",
       "      <td>http://ecx.images-amazon.com/images/I/31RZ%2BN...</td>\n",
       "      <td>2</td>\n",
       "      <td>8.13</td>\n",
       "      <td>NaN</td>\n",
       "      <td>NaN</td>\n",
       "      <td>Incognito Folding Digital Stereo Headphones</td>\n",
       "    </tr>\n",
       "  </tbody>\n",
       "</table>\n",
       "<p>5 rows × 21 columns</p>\n",
       "</div>"
      ],
      "text/plain": [
       "         asin  average_rating bought_together brand  \\\n",
       "0  0558835155        3.000000              []   NaN   \n",
       "1  B00004YJYK        3.166667              []   NaN   \n",
       "2  B0000789GD        3.500000              []   NaN   \n",
       "3  B000CQVX4Y        3.866667              []   NaN   \n",
       "4  B000J4L7HM        3.000000              []   NaN   \n",
       "\n",
       "                                  buy_after_viewing  \\\n",
       "0                                                []   \n",
       "1                                                []   \n",
       "2                                                []   \n",
       "3              [B007136B84, B004V4L8PW, B004V4L8RA]   \n",
       "4  [B0000952XX, B00006JPRQ, B00CM2RYYE, B00004T8R2]   \n",
       "\n",
       "                                            category  comp_id_dir  \\\n",
       "0  [Electronics, Accessories & Supplies, Audio & ...            0   \n",
       "1  [Electronics, Accessories & Supplies, Audio & ...            1   \n",
       "2  [Electronics, Accessories & Supplies, Audio & ...            2   \n",
       "3  [Electronics, Accessories & Supplies, Audio & ...            3   \n",
       "4  [Electronics, Accessories & Supplies, Audio & ...            4   \n",
       "\n",
       "   comp_id_undir  comp_size_dir  comp_size_undir  \\\n",
       "0              0              1                1   \n",
       "1              1              1                1   \n",
       "2              2              1                1   \n",
       "3              3              1             7159   \n",
       "4              3              1             7159   \n",
       "\n",
       "                         ...                         fan_diff  fan_in  \\\n",
       "0                        ...                                0       0   \n",
       "1                        ...                                0       0   \n",
       "2                        ...                                0       0   \n",
       "3                        ...                               -3       0   \n",
       "4                        ...                               -2       1   \n",
       "\n",
       "   fan_out  helpful_fraction  \\\n",
       "0        0               NaN   \n",
       "1        0          0.866667   \n",
       "2        0          0.866667   \n",
       "3        3          0.787879   \n",
       "4        3          1.000000   \n",
       "\n",
       "                                               imUrl num_reviews  price  \\\n",
       "0  http://ecx.images-amazon.com/images/I/21rEirnd...           1  13.95   \n",
       "1  http://ecx.images-amazon.com/images/I/21DA2HJT...           6    NaN   \n",
       "2  http://g-ecx.images-amazon.com/images/G/01/x-s...           2    NaN   \n",
       "3  http://ecx.images-amazon.com/images/I/31qwYVCN...          15  44.30   \n",
       "4  http://ecx.images-amazon.com/images/I/31RZ%2BN...           2   8.13   \n",
       "\n",
       "   salesRankCat salesRankPos  \\\n",
       "0           NaN          NaN   \n",
       "1           NaN          NaN   \n",
       "2           NaN          NaN   \n",
       "3           NaN          NaN   \n",
       "4           NaN          NaN   \n",
       "\n",
       "                                               title  \n",
       "0  Polaroid Pbm2200 PC / Gaming Stereo Headphones...  \n",
       "1  JVC HAG11 Traditional Closed Headphones 30mm D...  \n",
       "2  Audiobahn Noise-Canceling Headphones (103NC) (...  \n",
       "3       Skullcandy Ti Chick Stereo Headphones - Pink  \n",
       "4        Incognito Folding Digital Stereo Headphones  \n",
       "\n",
       "[5 rows x 21 columns]"
      ]
     },
     "execution_count": 6,
     "metadata": {},
     "output_type": "execute_result"
    }
   ],
   "source": [
    "g.df.head()"
   ]
  },
  {
   "cell_type": "code",
   "execution_count": 7,
   "metadata": {},
   "outputs": [
    {
     "data": {
      "text/plain": [
       "{'asin': 'B00165YVTE',\n",
       " 'average_rating': 3.4918918918918918,\n",
       " 'bought_together': [],\n",
       " 'buy_after_viewing': ['B00CM2RYYE', 'B0094R4Q6Y', 'B0015AHRFK', 'B004U2LC7E'],\n",
       " 'category': ['Electronics',\n",
       "  'Accessories & Supplies',\n",
       "  'Audio & Video Accessories',\n",
       "  'Headphones'],\n",
       " 'comp_id_dir': 10,\n",
       " 'comp_id_undir': 3,\n",
       " 'comp_size_dir': 1,\n",
       " 'comp_size_undir': 7159,\n",
       " 'description': '',\n",
       " 'fan_diff': -3,\n",
       " 'fan_in': 1,\n",
       " 'fan_out': 4,\n",
       " 'helpful_fraction': 0.8303030303030303,\n",
       " 'imUrl': 'http://ecx.images-amazon.com/images/I/31w9wENIcFL._SY300_.jpg',\n",
       " 'num_reviews': 185,\n",
       " 'price': 13.99,\n",
       " 'title': 'Sony MDR-AS50G Active Style Spiral Neck-Band Headphones (Silver) (Discontinued by Manufacturer)'}"
      ]
     },
     "execution_count": 7,
     "metadata": {},
     "output_type": "execute_result"
    }
   ],
   "source": [
    "g.records[10]"
   ]
  },
  {
   "cell_type": "markdown",
   "metadata": {},
   "source": [
    "As can be observed above, our mini-library enriches the dataset with new fields. In particular, we can access it in two ways:\n",
    "- Through `g.records`, which returns a list of objects.\n",
    "- Through `g.df`, which returns a pandas `DataFrame`.\n",
    "\n",
    "The new fields, which are useful for graph analysis, are:\n",
    "- **fan_in** (also referred to as the in-degree of the node): represents the number of incoming edges on a given node. In our context, it corresponds to the number of other products that lead to the product in exam. As a result, a product with a high fan-in metric is a good one, as people prefer it after viewing many other products.\n",
    "- **fan_out** (also referred to as the out-degree of the node): represents the number of outgoing edges on a given node. A product with a low fan-in and high fan-out is expected to be worse than other products.\n",
    "- **fan_diff**: **fan_in** minus **fan_out**.\n",
    "\n",
    "Furthermore, we extract the strongly connected components of the graph using Kosaraju's algorithm. In this case, we repeat the analysis with two cases: the *directed* case (the graph is kept as-is, with directed edges), and the *undirected* case (the graph is considered as if it were undirected). The latter produces bigger connected components and could be more useful in some cases. The new fields added to the products are:\n",
    "\n",
    "- **comp_id_dir**: the label of the connected component to which this node belongs (directed graph).\n",
    "- **comp_size_dir**: the size of the connected component to which this node belongs (directed graph).\n",
    "- **comp_id_undir**: the label of the connected component to which this node belongs (undirected graph).\n",
    "- **comp_size_undir**: the size of the connected component to which this node belongs (undirected graph).\n",
    "\n",
    "Now we analyze the connected components of this subcategory (Headphones):"
   ]
  },
  {
   "cell_type": "code",
   "execution_count": 170,
   "metadata": {},
   "outputs": [
    {
     "data": {
      "image/png": "[encoded data removed]",
      "text/plain": [
       "<matplotlib.figure.Figure at 0x1e6884cb550>"
      ]
     },
     "metadata": {},
     "output_type": "display_data"
    }
   ],
   "source": [
    "c_df = pd.DataFrame(g.get_connected_components(directed=True))\n",
    "c_df.columns = ['comp_id']\n",
    "c_df.groupby(by='comp_id')['comp_id'].count().plot.hist(bins=10, log=True, title='Size of connected components')\n",
    "_ = plt.xlabel('Component size')"
   ]
  },
  {
   "cell_type": "markdown",
   "metadata": {},
   "source": [
    "As can be seen from the figure above, the graph is relatively disjoint. There are many components that have no relations among each other, and the average size of a component is small. In particular, we can observe that many components have a size of 1, that is, they are *singletons* (products that have no relations with any other product). We can safely remove those from the graph, as they would only increase the computational cost of processing it."
   ]
  },
  {
   "cell_type": "code",
   "execution_count": 12,
   "metadata": {},
   "outputs": [
    {
     "name": "stdout",
     "output_type": "stream",
     "text": [
      "Graph size before pruning: 11577\n",
      "Graph size after pruning: 7556\n"
     ]
    }
   ],
   "source": [
    "print('Graph size before pruning:', len(g.records))\n",
    "g = g.drop_singletons()\n",
    "print('Graph size after pruning:', len(g.records))"
   ]
  },
  {
   "cell_type": "markdown",
   "metadata": {},
   "source": [
    "### Fan-in/Fan-out analysis\n",
    "A good indicator of a product success might be represented by its *fan-in* metric, that is, the number of incoming edges. If a product has many incoming edges, it means that people decide to buy it after comparing it with several other products.\n",
    "Conversely, if a product has a large number of outgoing edges (*fan-out*), it might be an indicator that it is not a good product (or is too pricey). It would also make sense to compare the *fan-in* minus *fan-out* metric, but *not* the ratio (as a product with fan-in 1 and fan-out 0 would get a ratio of infinity)."
   ]
  },
  {
   "cell_type": "code",
   "execution_count": 171,
   "metadata": {},
   "outputs": [
    {
     "data": {
      "text/html": [
       "<div>\n",
       "<style>\n",
       "    .dataframe thead tr:only-child th {\n",
       "        text-align: right;\n",
       "    }\n",
       "\n",
       "    .dataframe thead th {\n",
       "        text-align: left;\n",
       "    }\n",
       "\n",
       "    .dataframe tbody tr th {\n",
       "        vertical-align: top;\n",
       "    }\n",
       "</style>\n",
       "<table border=\"1\" class=\"dataframe\">\n",
       "  <thead>\n",
       "    <tr style=\"text-align: right;\">\n",
       "      <th></th>\n",
       "      <th>fan_in</th>\n",
       "      <th>fan_out</th>\n",
       "    </tr>\n",
       "    <tr>\n",
       "      <th>asin</th>\n",
       "      <th></th>\n",
       "      <th></th>\n",
       "    </tr>\n",
       "  </thead>\n",
       "  <tbody>\n",
       "    <tr>\n",
       "      <th>B003EM8008</th>\n",
       "      <td>624</td>\n",
       "      <td>2</td>\n",
       "    </tr>\n",
       "    <tr>\n",
       "      <th>B001EZYMF4</th>\n",
       "      <td>375</td>\n",
       "      <td>3</td>\n",
       "    </tr>\n",
       "    <tr>\n",
       "      <th>B004RKQM8I</th>\n",
       "      <td>273</td>\n",
       "      <td>4</td>\n",
       "    </tr>\n",
       "    <tr>\n",
       "      <th>B004PNZFZ8</th>\n",
       "      <td>219</td>\n",
       "      <td>4</td>\n",
       "    </tr>\n",
       "    <tr>\n",
       "      <th>B003EM6AOG</th>\n",
       "      <td>183</td>\n",
       "      <td>2</td>\n",
       "    </tr>\n",
       "  </tbody>\n",
       "</table>\n",
       "</div>"
      ],
      "text/plain": [
       "            fan_in  fan_out\n",
       "asin                       \n",
       "B003EM8008     624        2\n",
       "B001EZYMF4     375        3\n",
       "B004RKQM8I     273        4\n",
       "B004PNZFZ8     219        4\n",
       "B003EM6AOG     183        2"
      ]
     },
     "execution_count": 171,
     "metadata": {},
     "output_type": "execute_result"
    }
   ],
   "source": [
    "df = pd.DataFrame()\n",
    "df['fan_in'] = g.get_fan_in()\n",
    "df['fan_out'] = g.get_fan_out()\n",
    "df.index = pd.DataFrame(g.records)['asin']\n",
    "df.sort_values('fan_in', ascending=False).head()"
   ]
  },
  {
   "cell_type": "markdown",
   "metadata": {},
   "source": [
    "Product **B003EM8008** appears to be a pretty good product, as people buy it after coming from 624 other products."
   ]
  },
  {
   "cell_type": "code",
   "execution_count": 172,
   "metadata": {},
   "outputs": [
    {
     "data": {
      "text/html": [
       "<div>\n",
       "<style>\n",
       "    .dataframe thead tr:only-child th {\n",
       "        text-align: right;\n",
       "    }\n",
       "\n",
       "    .dataframe thead th {\n",
       "        text-align: left;\n",
       "    }\n",
       "\n",
       "    .dataframe tbody tr th {\n",
       "        vertical-align: top;\n",
       "    }\n",
       "</style>\n",
       "<table border=\"1\" class=\"dataframe\">\n",
       "  <thead>\n",
       "    <tr style=\"text-align: right;\">\n",
       "      <th></th>\n",
       "      <th>fan_in</th>\n",
       "      <th>fan_out</th>\n",
       "    </tr>\n",
       "  </thead>\n",
       "  <tbody>\n",
       "    <tr>\n",
       "      <th>count</th>\n",
       "      <td>11577.000000</td>\n",
       "      <td>11577.000000</td>\n",
       "    </tr>\n",
       "    <tr>\n",
       "      <th>mean</th>\n",
       "      <td>1.608793</td>\n",
       "      <td>1.608793</td>\n",
       "    </tr>\n",
       "    <tr>\n",
       "      <th>std</th>\n",
       "      <td>9.916964</td>\n",
       "      <td>1.482075</td>\n",
       "    </tr>\n",
       "    <tr>\n",
       "      <th>min</th>\n",
       "      <td>0.000000</td>\n",
       "      <td>0.000000</td>\n",
       "    </tr>\n",
       "    <tr>\n",
       "      <th>25%</th>\n",
       "      <td>0.000000</td>\n",
       "      <td>0.000000</td>\n",
       "    </tr>\n",
       "    <tr>\n",
       "      <th>50%</th>\n",
       "      <td>0.000000</td>\n",
       "      <td>2.000000</td>\n",
       "    </tr>\n",
       "    <tr>\n",
       "      <th>75%</th>\n",
       "      <td>1.000000</td>\n",
       "      <td>3.000000</td>\n",
       "    </tr>\n",
       "    <tr>\n",
       "      <th>max</th>\n",
       "      <td>624.000000</td>\n",
       "      <td>4.000000</td>\n",
       "    </tr>\n",
       "  </tbody>\n",
       "</table>\n",
       "</div>"
      ],
      "text/plain": [
       "             fan_in       fan_out\n",
       "count  11577.000000  11577.000000\n",
       "mean       1.608793      1.608793\n",
       "std        9.916964      1.482075\n",
       "min        0.000000      0.000000\n",
       "25%        0.000000      0.000000\n",
       "50%        0.000000      2.000000\n",
       "75%        1.000000      3.000000\n",
       "max      624.000000      4.000000"
      ]
     },
     "metadata": {},
     "output_type": "display_data"
    },
    {
     "data": {
      "image/png": "[encoded data removed]",
      "text/plain": [
       "<matplotlib.figure.Figure at 0x1e692cd0a20>"
      ]
     },
     "metadata": {},
     "output_type": "display_data"
    }
   ],
   "source": [
    "display(df.describe())\n",
    "df['fan_in'].plot.hist(bins=30,log=True, range=(0, 100), title='Distribution of the fan-in')\n",
    "_ = plt.xlabel('Number of incoming edges (fan-in)')"
   ]
  },
  {
   "cell_type": "markdown",
   "metadata": {},
   "source": [
    "Again, as many other statistics in this graph, the fan-in seems to be distributed according to a power law. We can also observe that the maximum value for the fan-out is 4, probably due to display limitations on the website."
   ]
  },
  {
   "cell_type": "markdown",
   "metadata": {},
   "source": [
    "### Clique analysis\n",
    "This is one of the most important aspects of our project. A max-clique is a set of totally interconnected nodes, which, in our scenario, represents products that are in direct competition among each other (and it is not really clear which \"wins\"). Note that these competition relations might even comprehend products of the same brand: this could turn out to be an interesting tools for vendors.\n",
    "\n",
    "Our algorithm for finding max-cliques is optimized for dealing with sparse graphs, and works as follows (by induction):\n",
    "- A single node is always a valid 1-clique\n",
    "- The current clique is incrementally expanded using a DFS, making sure that the max-clique condition is always satisfied. This is achieved by ensuring that the last inserted node is connected to all previous nodes, and vice versa.\n",
    "- If the current clique is not a sub-clique of a larger clique, it is marked as a max-clique."
   ]
  },
  {
   "cell_type": "code",
   "execution_count": 15,
   "metadata": {},
   "outputs": [
    {
     "name": "stdout",
     "output_type": "stream",
     "text": [
      "13 ms ± 280 µs per loop (mean ± std. dev. of 7 runs, 100 loops each)\n"
     ]
    }
   ],
   "source": [
    "%timeit g.extract_max_cliques()"
   ]
  },
  {
   "cell_type": "markdown",
   "metadata": {},
   "source": [
    "As can be seen, the performance is very good if we keep the dataset size small by splitting categories."
   ]
  },
  {
   "cell_type": "code",
   "execution_count": 16,
   "metadata": {},
   "outputs": [
    {
     "name": "stdout",
     "output_type": "stream",
     "text": [
      "7692 max-cliques found\n"
     ]
    }
   ],
   "source": [
    "cliques = g.extract_max_cliques()\n",
    "print(len(cliques), 'max-cliques found')"
   ]
  },
  {
   "cell_type": "markdown",
   "metadata": {},
   "source": [
    "We show some cliques of size 3, and we identify some patterns that are common across categories:"
   ]
  },
  {
   "cell_type": "code",
   "execution_count": 17,
   "metadata": {},
   "outputs": [
    {
     "data": {
      "text/html": [
       "<div>\n",
       "<style>\n",
       "    .dataframe thead tr:only-child th {\n",
       "        text-align: right;\n",
       "    }\n",
       "\n",
       "    .dataframe thead th {\n",
       "        text-align: left;\n",
       "    }\n",
       "\n",
       "    .dataframe tbody tr th {\n",
       "        vertical-align: top;\n",
       "    }\n",
       "</style>\n",
       "<table border=\"1\" class=\"dataframe\">\n",
       "  <thead>\n",
       "    <tr style=\"text-align: right;\">\n",
       "      <th></th>\n",
       "      <th>asin</th>\n",
       "      <th>title</th>\n",
       "      <th>price</th>\n",
       "    </tr>\n",
       "  </thead>\n",
       "  <tbody>\n",
       "    <tr>\n",
       "      <th>1049</th>\n",
       "      <td>B00AXE96X0</td>\n",
       "      <td>Kidz Gear Wired Headphones For Kids - Orange</td>\n",
       "      <td>19.99</td>\n",
       "    </tr>\n",
       "    <tr>\n",
       "      <th>2633</th>\n",
       "      <td>B00AXE9YD2</td>\n",
       "      <td>Kidz Gear Wired Headphones For Kids - Green</td>\n",
       "      <td>21.99</td>\n",
       "    </tr>\n",
       "    <tr>\n",
       "      <th>4385</th>\n",
       "      <td>B0096D76QI</td>\n",
       "      <td>Kidz Gear Wired Headphones For Kids - Ltd. Edition White</td>\n",
       "      <td>19.99</td>\n",
       "    </tr>\n",
       "  </tbody>\n",
       "</table>\n",
       "</div>"
      ],
      "text/plain": [
       "            asin                                                     title  \\\n",
       "1049  B00AXE96X0  Kidz Gear Wired Headphones For Kids - Orange               \n",
       "2633  B00AXE9YD2  Kidz Gear Wired Headphones For Kids - Green                \n",
       "4385  B0096D76QI  Kidz Gear Wired Headphones For Kids - Ltd. Edition White   \n",
       "\n",
       "      price  \n",
       "1049  19.99  \n",
       "2633  21.99  \n",
       "4385  19.99  "
      ]
     },
     "execution_count": 17,
     "metadata": {},
     "output_type": "execute_result"
    }
   ],
   "source": [
    "pd.set_option('display.max_colwidth', -1)\n",
    "g.df.loc[cliques[1088]][['asin', 'title', 'price']]"
   ]
  },
  {
   "cell_type": "markdown",
   "metadata": {},
   "source": [
    "One pattern that we observed consists in having the same product (of the same manufacturer), but in different colors. These cliques are widespread, and can easily be detected with some heuristics (e.g. edit distance on the title). Nonetheless, we decided to keep them in our analysis, because they could reveal some useful insights."
   ]
  },
  {
   "cell_type": "code",
   "execution_count": 19,
   "metadata": {},
   "outputs": [
    {
     "data": {
      "text/html": [
       "<div>\n",
       "<style>\n",
       "    .dataframe thead tr:only-child th {\n",
       "        text-align: right;\n",
       "    }\n",
       "\n",
       "    .dataframe thead th {\n",
       "        text-align: left;\n",
       "    }\n",
       "\n",
       "    .dataframe tbody tr th {\n",
       "        vertical-align: top;\n",
       "    }\n",
       "</style>\n",
       "<table border=\"1\" class=\"dataframe\">\n",
       "  <thead>\n",
       "    <tr style=\"text-align: right;\">\n",
       "      <th></th>\n",
       "      <th>asin</th>\n",
       "      <th>title</th>\n",
       "      <th>price</th>\n",
       "    </tr>\n",
       "  </thead>\n",
       "  <tbody>\n",
       "    <tr>\n",
       "      <th>89</th>\n",
       "      <td>B0028N78C0</td>\n",
       "      <td>AKG K450 Premium Foldable Headphone</td>\n",
       "      <td>99.95</td>\n",
       "    </tr>\n",
       "    <tr>\n",
       "      <th>4399</th>\n",
       "      <td>B004444O4G</td>\n",
       "      <td>AKG Q460 Mini On Ear Headphones, Quincy Jones Signature Line</td>\n",
       "      <td>89.99</td>\n",
       "    </tr>\n",
       "    <tr>\n",
       "      <th>4434</th>\n",
       "      <td>B005LBQ7BY</td>\n",
       "      <td>AKG K 451 High-Performance Foldable Mini Headset</td>\n",
       "      <td>149.95</td>\n",
       "    </tr>\n",
       "  </tbody>\n",
       "</table>\n",
       "</div>"
      ],
      "text/plain": [
       "            asin  \\\n",
       "89    B0028N78C0   \n",
       "4399  B004444O4G   \n",
       "4434  B005LBQ7BY   \n",
       "\n",
       "                                                             title   price  \n",
       "89    AKG K450 Premium Foldable Headphone                           99.95   \n",
       "4399  AKG Q460 Mini On Ear Headphones, Quincy Jones Signature Line  89.99   \n",
       "4434  AKG K 451 High-Performance Foldable Mini Headset              149.95  "
      ]
     },
     "execution_count": 19,
     "metadata": {},
     "output_type": "execute_result"
    }
   ],
   "source": [
    "g.df.loc[cliques[95]][['asin', 'title', 'price']]"
   ]
  },
  {
   "cell_type": "markdown",
   "metadata": {},
   "source": [
    "Another pattern represents different products of the same manufacturer. In this case, people might have a particular brand in mind. Likewise, these cases can be easily detected by looking at the brands of the products in the clique."
   ]
  },
  {
   "cell_type": "code",
   "execution_count": 21,
   "metadata": {},
   "outputs": [
    {
     "data": {
      "text/html": [
       "<div>\n",
       "<style>\n",
       "    .dataframe thead tr:only-child th {\n",
       "        text-align: right;\n",
       "    }\n",
       "\n",
       "    .dataframe thead th {\n",
       "        text-align: left;\n",
       "    }\n",
       "\n",
       "    .dataframe tbody tr th {\n",
       "        vertical-align: top;\n",
       "    }\n",
       "</style>\n",
       "<table border=\"1\" class=\"dataframe\">\n",
       "  <thead>\n",
       "    <tr style=\"text-align: right;\">\n",
       "      <th></th>\n",
       "      <th>asin</th>\n",
       "      <th>title</th>\n",
       "      <th>price</th>\n",
       "    </tr>\n",
       "  </thead>\n",
       "  <tbody>\n",
       "    <tr>\n",
       "      <th>1109</th>\n",
       "      <td>B001EZYMF4</td>\n",
       "      <td>Sennheiser CX 300 II Precision Enhanced Bass Earbuds (Black)</td>\n",
       "      <td>30.49</td>\n",
       "    </tr>\n",
       "    <tr>\n",
       "      <th>5474</th>\n",
       "      <td>B00C30HUQ2</td>\n",
       "      <td>Symphonized NRG Premium Genuine Wood In-ear Noise-isolating Headphones with Mic (White)</td>\n",
       "      <td>25.00</td>\n",
       "    </tr>\n",
       "    <tr>\n",
       "      <th>6688</th>\n",
       "      <td>B00HUNUOJW</td>\n",
       "      <td>New Original Gold Xiaomi 2nd Piston Earphone Ii Headphone Headset Earbud with Remote &amp;amp; Mic for Smartphone</td>\n",
       "      <td>23.99</td>\n",
       "    </tr>\n",
       "  </tbody>\n",
       "</table>\n",
       "</div>"
      ],
      "text/plain": [
       "            asin  \\\n",
       "1109  B001EZYMF4   \n",
       "5474  B00C30HUQ2   \n",
       "6688  B00HUNUOJW   \n",
       "\n",
       "                                                                                                              title  \\\n",
       "1109  Sennheiser CX 300 II Precision Enhanced Bass Earbuds (Black)                                                    \n",
       "5474  Symphonized NRG Premium Genuine Wood In-ear Noise-isolating Headphones with Mic (White)                         \n",
       "6688  New Original Gold Xiaomi 2nd Piston Earphone Ii Headphone Headset Earbud with Remote &amp; Mic for Smartphone   \n",
       "\n",
       "      price  \n",
       "1109  30.49  \n",
       "5474  25.00  \n",
       "6688  23.99  "
      ]
     },
     "execution_count": 21,
     "metadata": {},
     "output_type": "execute_result"
    }
   ],
   "source": [
    "g.df.loc[cliques[1153]][['asin', 'title', 'price']]"
   ]
  },
  {
   "cell_type": "code",
   "execution_count": 22,
   "metadata": {},
   "outputs": [
    {
     "data": {
      "text/html": [
       "<div>\n",
       "<style>\n",
       "    .dataframe thead tr:only-child th {\n",
       "        text-align: right;\n",
       "    }\n",
       "\n",
       "    .dataframe thead th {\n",
       "        text-align: left;\n",
       "    }\n",
       "\n",
       "    .dataframe tbody tr th {\n",
       "        vertical-align: top;\n",
       "    }\n",
       "</style>\n",
       "<table border=\"1\" class=\"dataframe\">\n",
       "  <thead>\n",
       "    <tr style=\"text-align: right;\">\n",
       "      <th></th>\n",
       "      <th>asin</th>\n",
       "      <th>title</th>\n",
       "      <th>price</th>\n",
       "    </tr>\n",
       "  </thead>\n",
       "  <tbody>\n",
       "    <tr>\n",
       "      <th>1221</th>\n",
       "      <td>B007SY4QTW</td>\n",
       "      <td>Plane Quiet Active Noise Canceling Headphone</td>\n",
       "      <td>54.92</td>\n",
       "    </tr>\n",
       "    <tr>\n",
       "      <th>1614</th>\n",
       "      <td>B00BSXRBGE</td>\n",
       "      <td>NoiseHush I7 Active Noise-Cancelling Headphones - Retail Packaging - Black/Silver</td>\n",
       "      <td>54.75</td>\n",
       "    </tr>\n",
       "    <tr>\n",
       "      <th>4437</th>\n",
       "      <td>B00915OV1E</td>\n",
       "      <td>Solitude XCS Active Noise Canceling and Amplifier Headphones</td>\n",
       "      <td>84.92</td>\n",
       "    </tr>\n",
       "  </tbody>\n",
       "</table>\n",
       "</div>"
      ],
      "text/plain": [
       "            asin  \\\n",
       "1221  B007SY4QTW   \n",
       "1614  B00BSXRBGE   \n",
       "4437  B00915OV1E   \n",
       "\n",
       "                                                                                  title  \\\n",
       "1221  Plane Quiet Active Noise Canceling Headphone                                        \n",
       "1614  NoiseHush I7 Active Noise-Cancelling Headphones - Retail Packaging - Black/Silver   \n",
       "4437  Solitude XCS Active Noise Canceling and Amplifier Headphones                        \n",
       "\n",
       "      price  \n",
       "1221  54.92  \n",
       "1614  54.75  \n",
       "4437  84.92  "
      ]
     },
     "execution_count": 22,
     "metadata": {},
     "output_type": "execute_result"
    }
   ],
   "source": [
    "g.df.loc[cliques[1270]][['asin', 'title', 'price']]"
   ]
  },
  {
   "cell_type": "markdown",
   "metadata": {},
   "source": [
    "Finally, the most interesting clique pattern contains similar products of different manufacturers. In the above examples, we have respectively a set of in-ear headphones, and a set of noise-canceling headphones. Note that the price range appears to be similar.\n",
    "\n",
    "The result is indeed interesting. We can observe competing products of different brands, a well as competing products of the same brand. In some cases, the cliques represent the same product in different colors.\n",
    "\n",
    "The important observation, here, is that these products present similar characteristics. Of course, we carried out this analysis on other categories as well (e.g. mobile phones), with similar results."
   ]
  },
  {
   "cell_type": "markdown",
   "metadata": {},
   "source": [
    "#### Clique validation\n",
    "Now that have analyzed some cliques by hand, we want to validate them in a more systematic way. A basic (yet fundamental) test consists in evaluating the categories of the products in cliques and/or connected components. Ideally, if we run our analysis on the whole graph, the products in the same cliques/components should belong to the same category. This also allows us to see if categories are effectively tagged correctly (which should not be taken for granted).\n",
    "\n",
    "Of course, our final analysis will be carried out on individual subcategories, but it is interesting to see whether the data makes sense."
   ]
  },
  {
   "cell_type": "code",
   "execution_count": 26,
   "metadata": {},
   "outputs": [
    {
     "name": "stdout",
     "output_type": "stream",
     "text": [
      "495481 records loaded\n"
     ]
    }
   ],
   "source": [
    "cat = ['Electronics'] # We select the whole Electronics macro-category\n",
    "records = sc.textFile('data/reduced.json')\\\n",
    "    .map(json.loads)\\\n",
    "    .filter(lambda x: x['category'][:len(cat)] == cat)\\\n",
    "    .collect()\n",
    "\n",
    "print(len(records), 'records loaded')"
   ]
  },
  {
   "cell_type": "code",
   "execution_count": 44,
   "metadata": {},
   "outputs": [
    {
     "data": {
      "text/plain": [
       "308511"
      ]
     },
     "execution_count": 44,
     "metadata": {},
     "output_type": "execute_result"
    }
   ],
   "source": [
    "g = ProductGraph(records, add_edge_on='buy_after_viewing', remove_edge_on='bought_together')\n",
    "g = g.drop_singletons()\n",
    "cliques = g.extract_max_cliques()\n",
    "len(cliques)"
   ]
  },
  {
   "cell_type": "code",
   "execution_count": 45,
   "metadata": {},
   "outputs": [
    {
     "name": "stdout",
     "output_type": "stream",
     "text": [
      "0.695469924249229 of 33399\n"
     ]
    }
   ],
   "source": [
    "# Category verification\n",
    "count_same = 0\n",
    "count_all = 0\n",
    "cl_notsame = []\n",
    "for c in cliques:\n",
    "    if len(c) >= 2:\n",
    "        count_all += 1\n",
    "        cat = g.df['category'].loc[c[0]]\n",
    "        same = True\n",
    "        for elem in c:\n",
    "            if g.df['category'].loc[elem] != cat:\n",
    "                same = False\n",
    "                cl_notsame.append(c)\n",
    "                break\n",
    "        count_same += same\n",
    "print(count_same/count_all, 'of', count_all)"
   ]
  },
  {
   "cell_type": "markdown",
   "metadata": {},
   "source": [
    "Almost 70% of products in cliques agree on the category, which is a good result. In particular, we label a clique as a positive match if all the products in the clique belong to the same category. If just one product has a different category than the others, the match is negative.\n",
    "\n",
    "To see what is happening in the negative cases, we repeat the analysis, but this time on whole connected components. The reason is that we have more surrounding context for comparing products. This time, we relax the condition for a positive match: in a component of 100 elements, for instance, it is very unlikely (if not impossible) that all 100 components belong to the same category. Therefore, we produce a positive match if we can find a *majority* category in a given component (that is, if at least N/2 elements agree on the category). This can be computed in linear time using the Boyer-Moore majority vote algorithm."
   ]
  },
  {
   "cell_type": "code",
   "execution_count": 58,
   "metadata": {},
   "outputs": [
    {
     "name": "stdout",
     "output_type": "stream",
     "text": [
      "0.7566046798874632 of 14573\n"
     ]
    }
   ],
   "source": [
    "# Boyer-Moore majority vote algorithm\n",
    "def majority(values):\n",
    "    if len(values) < 2:\n",
    "        return None\n",
    "    count = 0\n",
    "    for v in values:\n",
    "        if count == 0:\n",
    "            candidate = v\n",
    "        if v == candidate:\n",
    "            count += 1\n",
    "        else:\n",
    "            count -= 1\n",
    "    frequency = 0\n",
    "    for v in values:\n",
    "        if v == candidate:\n",
    "            frequency += 1\n",
    "    if frequency > len(values)//2:\n",
    "        return candidate\n",
    "    else:\n",
    "        return None\n",
    "\n",
    "conn_comps = g.extract_connected_components(directed=True)\n",
    "count_same = 0\n",
    "count_all = 0\n",
    "cl_notsame = []\n",
    "cl_same = []\n",
    "for c in conn_comps:\n",
    "    if len(c) > 1:\n",
    "        cats = g.df['category'].loc[c].values\n",
    "        maj = majority(cats)\n",
    "        count_all += 1\n",
    "        if maj is not None:\n",
    "            count_same += 1\n",
    "            cl_same.append(c)\n",
    "        else:\n",
    "            cl_notsame.append(c)\n",
    "print(count_same/count_all, 'of', count_all)"
   ]
  },
  {
   "cell_type": "markdown",
   "metadata": {},
   "source": [
    "The result is similar as before. 75% of strongly connected components have an agreement on the category. Now, we analyze some of the *positive* matches to see what accounts for the small differences. "
   ]
  },
  {
   "cell_type": "code",
   "execution_count": 61,
   "metadata": {},
   "outputs": [
    {
     "data": {
      "text/html": [
       "<div>\n",
       "<style>\n",
       "    .dataframe thead tr:only-child th {\n",
       "        text-align: right;\n",
       "    }\n",
       "\n",
       "    .dataframe thead th {\n",
       "        text-align: left;\n",
       "    }\n",
       "\n",
       "    .dataframe tbody tr th {\n",
       "        vertical-align: top;\n",
       "    }\n",
       "</style>\n",
       "<table border=\"1\" class=\"dataframe\">\n",
       "  <thead>\n",
       "    <tr style=\"text-align: right;\">\n",
       "      <th></th>\n",
       "      <th>asin</th>\n",
       "      <th>title</th>\n",
       "      <th>category</th>\n",
       "    </tr>\n",
       "  </thead>\n",
       "  <tbody>\n",
       "    <tr>\n",
       "      <th>19</th>\n",
       "      <td>B000067SPL</td>\n",
       "      <td>StarTech 10-Feet PS/2 Keyboard / Mouse Extension Cable - M/F (KXT102_10)</td>\n",
       "      <td>[Electronics, Computers &amp; Accessories, Cables &amp; Accessories, Cables &amp; Interconnects, PS/2 Cables]</td>\n",
       "    </tr>\n",
       "    <tr>\n",
       "      <th>40462</th>\n",
       "      <td>B001TKQOTG</td>\n",
       "      <td>Monoprice 6-Feet PS/2 MDIN-6 Male to Male Cable (100092)</td>\n",
       "      <td>[Electronics, Computers &amp; Accessories, Cables &amp; Accessories, Cables &amp; Interconnects, PS/2 Cables]</td>\n",
       "    </tr>\n",
       "    <tr>\n",
       "      <th>49193</th>\n",
       "      <td>B00000J1V7</td>\n",
       "      <td>Belkin PS/2 Keyboard Extension Cable (6 Feet)</td>\n",
       "      <td>[Electronics, Computers &amp; Accessories, Cables &amp; Accessories, Cables &amp; Interconnects, PS/2 Cables]</td>\n",
       "    </tr>\n",
       "    <tr>\n",
       "      <th>60540</th>\n",
       "      <td>B00005118F</td>\n",
       "      <td>C2G / Cables to Go - 02692 - 6ft PS/2 M/M Keyboard Mouse Cable</td>\n",
       "      <td>[Electronics, Computers &amp; Accessories, Cables &amp; Accessories, Cables &amp; Interconnects, PS/2 Cables]</td>\n",
       "    </tr>\n",
       "    <tr>\n",
       "      <th>101436</th>\n",
       "      <td>B000234JL6</td>\n",
       "      <td>C2G / Cables to Go - 29613 - 6ft Ultima PS/2 M/F Keyboard Extension Cable</td>\n",
       "      <td>[Electronics, Computers &amp; Accessories, Cables &amp; Accessories, Cables &amp; Interconnects, PS/2 Cables]</td>\n",
       "    </tr>\n",
       "    <tr>\n",
       "      <th>165898</th>\n",
       "      <td>B0000511L1</td>\n",
       "      <td>StarTech.com 6-Feet PS/2 Keyboard or Mouse Cable - M/M (KXT102MM)</td>\n",
       "      <td>[Electronics, Computers &amp; Accessories, Cables &amp; Accessories, Cables &amp; Interconnects, PS/2 Cables]</td>\n",
       "    </tr>\n",
       "    <tr>\n",
       "      <th>205460</th>\n",
       "      <td>B001TKIYTE</td>\n",
       "      <td>Monoprice 100094 10-Feet PS/2 MDIN-6 Male to Male Cable (100094)</td>\n",
       "      <td>[Electronics, Computers &amp; Accessories, Cables &amp; Accessories, Cables &amp; Interconnects, PS/2 Cables]</td>\n",
       "    </tr>\n",
       "    <tr>\n",
       "      <th>233272</th>\n",
       "      <td>B005J1LEZK</td>\n",
       "      <td>PS/2 Mini-Din 6 Pin Male Male Black Cable 6 ft Mouse and Keyboard</td>\n",
       "      <td>[Electronics, Accessories &amp; Supplies, Audio &amp; Video Accessories, Cables &amp; Interconnects, Video Cables, S-Video Cables]</td>\n",
       "    </tr>\n",
       "  </tbody>\n",
       "</table>\n",
       "</div>"
      ],
      "text/plain": [
       "              asin  \\\n",
       "19      B000067SPL   \n",
       "40462   B001TKQOTG   \n",
       "49193   B00000J1V7   \n",
       "60540   B00005118F   \n",
       "101436  B000234JL6   \n",
       "165898  B0000511L1   \n",
       "205460  B001TKIYTE   \n",
       "233272  B005J1LEZK   \n",
       "\n",
       "                                                                            title  \\\n",
       "19      StarTech 10-Feet PS/2 Keyboard / Mouse Extension Cable - M/F (KXT102_10)    \n",
       "40462   Monoprice 6-Feet PS/2 MDIN-6 Male to Male Cable (100092)                    \n",
       "49193   Belkin PS/2 Keyboard Extension Cable (6 Feet)                               \n",
       "60540   C2G / Cables to Go - 02692 - 6ft PS/2 M/M Keyboard Mouse Cable              \n",
       "101436  C2G / Cables to Go - 29613 - 6ft Ultima PS/2 M/F Keyboard Extension Cable   \n",
       "165898  StarTech.com 6-Feet PS/2 Keyboard or Mouse Cable - M/M (KXT102MM)           \n",
       "205460  Monoprice 100094 10-Feet PS/2 MDIN-6 Male to Male Cable (100094)            \n",
       "233272  PS/2 Mini-Din 6 Pin Male Male Black Cable 6 ft Mouse and Keyboard           \n",
       "\n",
       "                                                                                                                      category  \n",
       "19      [Electronics, Computers & Accessories, Cables & Accessories, Cables & Interconnects, PS/2 Cables]                       \n",
       "40462   [Electronics, Computers & Accessories, Cables & Accessories, Cables & Interconnects, PS/2 Cables]                       \n",
       "49193   [Electronics, Computers & Accessories, Cables & Accessories, Cables & Interconnects, PS/2 Cables]                       \n",
       "60540   [Electronics, Computers & Accessories, Cables & Accessories, Cables & Interconnects, PS/2 Cables]                       \n",
       "101436  [Electronics, Computers & Accessories, Cables & Accessories, Cables & Interconnects, PS/2 Cables]                       \n",
       "165898  [Electronics, Computers & Accessories, Cables & Accessories, Cables & Interconnects, PS/2 Cables]                       \n",
       "205460  [Electronics, Computers & Accessories, Cables & Accessories, Cables & Interconnects, PS/2 Cables]                       \n",
       "233272  [Electronics, Accessories & Supplies, Audio & Video Accessories, Cables & Interconnects, Video Cables, S-Video Cables]  "
      ]
     },
     "execution_count": 61,
     "metadata": {},
     "output_type": "execute_result"
    }
   ],
   "source": [
    "g.df.loc[cl_same[1]][['asin', 'title', 'category']]"
   ]
  },
  {
   "cell_type": "code",
   "execution_count": 72,
   "metadata": {},
   "outputs": [
    {
     "data": {
      "text/html": [
       "<div>\n",
       "<style>\n",
       "    .dataframe thead tr:only-child th {\n",
       "        text-align: right;\n",
       "    }\n",
       "\n",
       "    .dataframe thead th {\n",
       "        text-align: left;\n",
       "    }\n",
       "\n",
       "    .dataframe tbody tr th {\n",
       "        vertical-align: top;\n",
       "    }\n",
       "</style>\n",
       "<table border=\"1\" class=\"dataframe\">\n",
       "  <thead>\n",
       "    <tr style=\"text-align: right;\">\n",
       "      <th></th>\n",
       "      <th>asin</th>\n",
       "      <th>title</th>\n",
       "      <th>category</th>\n",
       "    </tr>\n",
       "  </thead>\n",
       "  <tbody>\n",
       "    <tr>\n",
       "      <th>68</th>\n",
       "      <td>B000AQEBGS</td>\n",
       "      <td>Cisco CISCO871W-G-A-K9 871 Ethernet Wireless Router U.S./Americas</td>\n",
       "      <td>[Electronics, Computers &amp; Accessories, Routers]</td>\n",
       "    </tr>\n",
       "    <tr>\n",
       "      <th>178152</th>\n",
       "      <td>B000A457IQ</td>\n",
       "      <td>Cisco  CISCO871-K9 871 Integrated Services Router</td>\n",
       "      <td>[Electronics, Computers &amp; Accessories, Routers]</td>\n",
       "    </tr>\n",
       "    <tr>\n",
       "      <th>193119</th>\n",
       "      <td>B000A439QS</td>\n",
       "      <td>Cisco CISCO851-K9 851 Router</td>\n",
       "      <td>[Electronics, Accessories &amp; Supplies, Audio &amp; Video Accessories, Antennas]</td>\n",
       "    </tr>\n",
       "    <tr>\n",
       "      <th>201863</th>\n",
       "      <td>B000A470IQ</td>\n",
       "      <td>Cisco CISCO871-SEC-K9 871 Integrated Services Router</td>\n",
       "      <td>[Electronics, Computers &amp; Accessories, Routers]</td>\n",
       "    </tr>\n",
       "  </tbody>\n",
       "</table>\n",
       "</div>"
      ],
      "text/plain": [
       "              asin  \\\n",
       "68      B000AQEBGS   \n",
       "178152  B000A457IQ   \n",
       "193119  B000A439QS   \n",
       "201863  B000A470IQ   \n",
       "\n",
       "                                                                    title  \\\n",
       "68      Cisco CISCO871W-G-A-K9 871 Ethernet Wireless Router U.S./Americas   \n",
       "178152  Cisco  CISCO871-K9 871 Integrated Services Router                   \n",
       "193119  Cisco CISCO851-K9 851 Router                                        \n",
       "201863  Cisco CISCO871-SEC-K9 871 Integrated Services Router                \n",
       "\n",
       "                                                                          category  \n",
       "68      [Electronics, Computers & Accessories, Routers]                             \n",
       "178152  [Electronics, Computers & Accessories, Routers]                             \n",
       "193119  [Electronics, Accessories & Supplies, Audio & Video Accessories, Antennas]  \n",
       "201863  [Electronics, Computers & Accessories, Routers]                             "
      ]
     },
     "execution_count": 72,
     "metadata": {},
     "output_type": "execute_result"
    }
   ],
   "source": [
    "g.df.loc[cl_same[9]][['asin', 'title', 'category']]"
   ]
  },
  {
   "cell_type": "markdown",
   "metadata": {},
   "source": [
    "We can find a lot of these cases where the category of an item has been tagged incorrectly. For example, the Cisco router above should be in the *Routers* subcategory, but it is actually in the *Antennas* category. The problem is not in the dataset, but on Amazon (e.g. [Cisco router product](https://www.amazon.com/dp/B000A439QS)). This method could prove useful for automatically detecting wrong categories and suggesting corrections, dependending on the majority category of the connected component.\n",
    "\n",
    "We also observed that categories are often mistaken in *Phone Cases* and *Batteries*. Several vendors put phone batteries in the category of phone cases.\n",
    "\n",
    "By looking at some of the negative matches, we can observe the same result in many components:"
   ]
  },
  {
   "cell_type": "code",
   "execution_count": 89,
   "metadata": {},
   "outputs": [
    {
     "data": {
      "text/html": [
       "<div>\n",
       "<style>\n",
       "    .dataframe thead tr:only-child th {\n",
       "        text-align: right;\n",
       "    }\n",
       "\n",
       "    .dataframe thead th {\n",
       "        text-align: left;\n",
       "    }\n",
       "\n",
       "    .dataframe tbody tr th {\n",
       "        vertical-align: top;\n",
       "    }\n",
       "</style>\n",
       "<table border=\"1\" class=\"dataframe\">\n",
       "  <thead>\n",
       "    <tr style=\"text-align: right;\">\n",
       "      <th></th>\n",
       "      <th>asin</th>\n",
       "      <th>title</th>\n",
       "      <th>category</th>\n",
       "    </tr>\n",
       "  </thead>\n",
       "  <tbody>\n",
       "    <tr>\n",
       "      <th>3446</th>\n",
       "      <td>B00BJ57JMW</td>\n",
       "      <td>Generic Original OEM Genuine Black Touch Screen Touchscreen Digitizer Glass Panel + Lens Cover Repair Fix Replace Replacement Part For Samsung GT-P5100 P5113 N8000 N8010 N8013 Galaxy Tab 2 10.1</td>\n",
       "      <td>[Electronics, Computers &amp; Accessories, Laptop &amp; Netbook Computer Accessories, Chargers &amp; Adapters]</td>\n",
       "    </tr>\n",
       "    <tr>\n",
       "      <th>130933</th>\n",
       "      <td>B0098YSL28</td>\n",
       "      <td>New Samsung GT-P7500 7510 Galaxy Tab 10.1 Tablet Touch Screen Digitizer Glass Panel touchpad touchpanel touchscreen replacement repair fix parts</td>\n",
       "      <td>[Electronics, Computers &amp; Accessories, Laptop &amp; Netbook Computer Accessories, Replacement Screens]</td>\n",
       "    </tr>\n",
       "    <tr>\n",
       "      <th>161519</th>\n",
       "      <td>B00CCXWEZW</td>\n",
       "      <td>Samsung P5113 Galaxy Tab 2 10.1 - New Black Touch Screen Digitizer Touch Display Outer Front Glass Lens Replacement FOR Samsung P5113 p5113 Galaxy Tab 2 10.1 With Free Tools</td>\n",
       "      <td>[Electronics, Computers &amp; Accessories, Touch Screen Tablet Accessories]</td>\n",
       "    </tr>\n",
       "    <tr>\n",
       "      <th>269320</th>\n",
       "      <td>B00GV3INRW</td>\n",
       "      <td>Ship from USA -- Samsung Galaxy Tab 2 10.1 GT-P5113TS GT-P5113 P5113 P5113TS Touch Screen Digitizer Replacement BLACK</td>\n",
       "      <td>[Electronics, Computers &amp; Accessories, Touch Screen Tablet Accessories, Cases &amp; Sleeves, Cases]</td>\n",
       "    </tr>\n",
       "  </tbody>\n",
       "</table>\n",
       "</div>"
      ],
      "text/plain": [
       "              asin  \\\n",
       "3446    B00BJ57JMW   \n",
       "130933  B0098YSL28   \n",
       "161519  B00CCXWEZW   \n",
       "269320  B00GV3INRW   \n",
       "\n",
       "                                                                                                                                                                                                    title  \\\n",
       "3446    Generic Original OEM Genuine Black Touch Screen Touchscreen Digitizer Glass Panel + Lens Cover Repair Fix Replace Replacement Part For Samsung GT-P5100 P5113 N8000 N8010 N8013 Galaxy Tab 2 10.1   \n",
       "130933  New Samsung GT-P7500 7510 Galaxy Tab 10.1 Tablet Touch Screen Digitizer Glass Panel touchpad touchpanel touchscreen replacement repair fix parts                                                    \n",
       "161519  Samsung P5113 Galaxy Tab 2 10.1 - New Black Touch Screen Digitizer Touch Display Outer Front Glass Lens Replacement FOR Samsung P5113 p5113 Galaxy Tab 2 10.1 With Free Tools                       \n",
       "269320  Ship from USA -- Samsung Galaxy Tab 2 10.1 GT-P5113TS GT-P5113 P5113 P5113TS Touch Screen Digitizer Replacement BLACK                                                                               \n",
       "\n",
       "                                                                                                  category  \n",
       "3446    [Electronics, Computers & Accessories, Laptop & Netbook Computer Accessories, Chargers & Adapters]  \n",
       "130933  [Electronics, Computers & Accessories, Laptop & Netbook Computer Accessories, Replacement Screens]  \n",
       "161519  [Electronics, Computers & Accessories, Touch Screen Tablet Accessories]                             \n",
       "269320  [Electronics, Computers & Accessories, Touch Screen Tablet Accessories, Cases & Sleeves, Cases]     "
      ]
     },
     "execution_count": 89,
     "metadata": {},
     "output_type": "execute_result"
    }
   ],
   "source": [
    "g.df.loc[cl_notsame[115]][['asin', 'title', 'category']]"
   ]
  },
  {
   "cell_type": "code",
   "execution_count": 92,
   "metadata": {},
   "outputs": [
    {
     "data": {
      "text/html": [
       "<div>\n",
       "<style>\n",
       "    .dataframe thead tr:only-child th {\n",
       "        text-align: right;\n",
       "    }\n",
       "\n",
       "    .dataframe thead th {\n",
       "        text-align: left;\n",
       "    }\n",
       "\n",
       "    .dataframe tbody tr th {\n",
       "        vertical-align: top;\n",
       "    }\n",
       "</style>\n",
       "<table border=\"1\" class=\"dataframe\">\n",
       "  <thead>\n",
       "    <tr style=\"text-align: right;\">\n",
       "      <th></th>\n",
       "      <th>asin</th>\n",
       "      <th>title</th>\n",
       "      <th>category</th>\n",
       "    </tr>\n",
       "  </thead>\n",
       "  <tbody>\n",
       "    <tr>\n",
       "      <th>21</th>\n",
       "      <td>B000068O3V</td>\n",
       "      <td>Hosa Cable GPR104 1/4 Inch Female TS To RCA Male Adaptor</td>\n",
       "      <td>[Electronics, Accessories &amp; Supplies, Audio &amp; Video Accessories, Connectors &amp; Adapters]</td>\n",
       "    </tr>\n",
       "    <tr>\n",
       "      <th>98926</th>\n",
       "      <td>B000I98ZNC</td>\n",
       "      <td>Cblwhl 1/4 inch Mono Female / RCA Male Adaptor</td>\n",
       "      <td>[Electronics, Accessories &amp; Supplies]</td>\n",
       "    </tr>\n",
       "    <tr>\n",
       "      <th>156509</th>\n",
       "      <td>B0018P3DO6</td>\n",
       "      <td>Monoprice 107242 RCA Plug to 6.35-mm Mono Jack Adaptor, Gold Plated</td>\n",
       "      <td>[Electronics, Accessories &amp; Supplies, Audio &amp; Video Accessories, Connectors &amp; Adapters]</td>\n",
       "    </tr>\n",
       "    <tr>\n",
       "      <th>232885</th>\n",
       "      <td>B000068O5C</td>\n",
       "      <td>HOSA STEREO 1/4&amp;quot; PHONE (F) - TWO RCA (M) (1-TIP AND 1-RING), 6 in. (Discontinued by Manufacturer)</td>\n",
       "      <td>[Electronics, Accessories &amp; Supplies, Audio &amp; Video Accessories, Cables &amp; Interconnects, Audio Cables, Stereo Jack Cables]</td>\n",
       "    </tr>\n",
       "  </tbody>\n",
       "</table>\n",
       "</div>"
      ],
      "text/plain": [
       "              asin  \\\n",
       "21      B000068O3V   \n",
       "98926   B000I98ZNC   \n",
       "156509  B0018P3DO6   \n",
       "232885  B000068O5C   \n",
       "\n",
       "                                                                                                         title  \\\n",
       "21      Hosa Cable GPR104 1/4 Inch Female TS To RCA Male Adaptor                                                 \n",
       "98926   Cblwhl 1/4 inch Mono Female / RCA Male Adaptor                                                           \n",
       "156509  Monoprice 107242 RCA Plug to 6.35-mm Mono Jack Adaptor, Gold Plated                                      \n",
       "232885  HOSA STEREO 1/4&quot; PHONE (F) - TWO RCA (M) (1-TIP AND 1-RING), 6 in. (Discontinued by Manufacturer)   \n",
       "\n",
       "                                                                                                                          category  \n",
       "21      [Electronics, Accessories & Supplies, Audio & Video Accessories, Connectors & Adapters]                                     \n",
       "98926   [Electronics, Accessories & Supplies]                                                                                       \n",
       "156509  [Electronics, Accessories & Supplies, Audio & Video Accessories, Connectors & Adapters]                                     \n",
       "232885  [Electronics, Accessories & Supplies, Audio & Video Accessories, Cables & Interconnects, Audio Cables, Stereo Jack Cables]  "
      ]
     },
     "execution_count": 92,
     "metadata": {},
     "output_type": "execute_result"
    }
   ],
   "source": [
    "g.df.loc[cl_notsame[1]][['asin', 'title', 'category']]"
   ]
  },
  {
   "cell_type": "markdown",
   "metadata": {},
   "source": [
    "Indeed, we can conclude that the topology of the graph makes sense. We observed that the latter provides a robust estimate of the similarity between products, both in terms of characteristics and categories. If it is not already doing so, Amazon could benefit from using the graph relations to fix incorrect tags/categories.\n",
    "\n",
    "Therefore, we can adopt the graph as-is, without doing further clean-ups."
   ]
  },
  {
   "cell_type": "markdown",
   "metadata": {},
   "source": [
    "### Devising a metric for preferred products\n",
    "For the next steps, we need a reliable metric for determining whether a product is *better* than another. By *better*, we mean a product that is preferred over other products, for reasons that are still unknown to us. Obviously, the **buy after viewing** graph relation allow us to observe this directly. However, within a clique, all products are totally interconnected, and it is impossible to determine the \"winner\" only by looking at the relations.\n",
    "\n",
    "We argue that the **fan-in** field (the number of incoming edges) is the best indicator for a preferred product. Other possible metrics (along with their disadvantages) would be:\n",
    "- **Sales Rank:** Amazon provides a ranking for many categories, and the `salesRankPos` represents the position of the product within this ranking. However, this choice presents some disadvantages:\n",
    " - The salesRank field is available only on 60% of products.\n",
    " - The rank evolves over time. For example, a phone that was very popular 10 years ago (and maybe 1st in the ranking) might be at the end of the ranking today. This will obviously render the data very noisy, and for this reason we need a metric that remains (almost) constant over time.\n",
    " - The granularity of categories is too coarse. The ranking is not available for all sub-categories, but only for a couple of them. Many products in the *Electronics* sub-categories refer to the *Electronics* macro-category.\n",
    "- **Average rating:** we believe that this is the worst choice. As observed earlier, people tend to give very high and similar ratings on average, and comparing them tends to produce noisy results.\n",
    "- **Number of reviews:** expectedly, the number of reviews linearly correlates with the number of sales (if we assume that a constant fraction of people review a product). This value could be used for estimating the total number of sales of a product, and thus, its popularity. However, it does not directly indicate whether a product is preferred over another.\n",
    "\n",
    "Our choice for the **fan-in** is motivated by the fact that it represents the number of times a given product has been preferred over other products, which is different from saying that it sold more or is more popular. Of course, these quantities are related in some way (as we will see in a moment), but they also present fundamental differences.\n",
    "\n",
    "Now we present a correlation analysis on the cliques. Specifically, we convert the numeric indicators of a product (fan-in, average rating, sales rank, number of reviews, and price) to a rank within the clique, and we evaluate the Pearson correlation coefficients between these variables. Using the rank instead of the absolute value provides a more fair comparison."
   ]
  },
  {
   "cell_type": "code",
   "execution_count": 96,
   "metadata": {},
   "outputs": [
    {
     "name": "stdout",
     "output_type": "stream",
     "text": [
      "78484 records loaded\n"
     ]
    }
   ],
   "source": [
    "cat = ['Electronics'] # We select the whole Electronics macro-category\n",
    "records = sc.textFile('data/reduced.json')\\\n",
    "    .map(json.loads)\\\n",
    "    .filter(lambda x: 'salesRankPos' in x and 'price' in x and 'average_rating' in x)\\\n",
    "    .filter(lambda x: x['category'][:len(cat)] == cat)\\\n",
    "    .collect()\n",
    "print(len(records), 'records loaded')"
   ]
  },
  {
   "cell_type": "code",
   "execution_count": 98,
   "metadata": {},
   "outputs": [
    {
     "data": {
      "text/plain": [
       "46171"
      ]
     },
     "execution_count": 98,
     "metadata": {},
     "output_type": "execute_result"
    }
   ],
   "source": [
    "g = ProductGraph(records, add_edge_on='buy_after_viewing', remove_edge_on='bought_together')\n",
    "g = g.drop_singletons()\n",
    "cliques = g.extract_max_cliques()\n",
    "len(cliques)"
   ]
  },
  {
   "cell_type": "code",
   "execution_count": 161,
   "metadata": {},
   "outputs": [
    {
     "name": "stdout",
     "output_type": "stream",
     "text": [
      "Sample ranks from the data\n"
     ]
    },
    {
     "data": {
      "text/html": [
       "<div>\n",
       "<style>\n",
       "    .dataframe thead tr:only-child th {\n",
       "        text-align: right;\n",
       "    }\n",
       "\n",
       "    .dataframe thead th {\n",
       "        text-align: left;\n",
       "    }\n",
       "\n",
       "    .dataframe tbody tr th {\n",
       "        vertical-align: top;\n",
       "    }\n",
       "</style>\n",
       "<table border=\"1\" class=\"dataframe\">\n",
       "  <thead>\n",
       "    <tr style=\"text-align: right;\">\n",
       "      <th></th>\n",
       "      <th>average_rating</th>\n",
       "      <th>price</th>\n",
       "      <th>salesRankPos</th>\n",
       "      <th>fan_in</th>\n",
       "      <th>num_reviews</th>\n",
       "    </tr>\n",
       "  </thead>\n",
       "  <tbody>\n",
       "    <tr>\n",
       "      <th>1</th>\n",
       "      <td>2.0</td>\n",
       "      <td>1.0</td>\n",
       "      <td>1.0</td>\n",
       "      <td>2.0</td>\n",
       "      <td>2.0</td>\n",
       "    </tr>\n",
       "    <tr>\n",
       "      <th>1083</th>\n",
       "      <td>1.0</td>\n",
       "      <td>2.0</td>\n",
       "      <td>2.0</td>\n",
       "      <td>1.0</td>\n",
       "      <td>1.0</td>\n",
       "    </tr>\n",
       "    <tr>\n",
       "      <th>6</th>\n",
       "      <td>1.0</td>\n",
       "      <td>2.0</td>\n",
       "      <td>1.0</td>\n",
       "      <td>2.0</td>\n",
       "      <td>2.0</td>\n",
       "    </tr>\n",
       "    <tr>\n",
       "      <th>4091</th>\n",
       "      <td>2.0</td>\n",
       "      <td>1.0</td>\n",
       "      <td>2.0</td>\n",
       "      <td>1.0</td>\n",
       "      <td>1.0</td>\n",
       "    </tr>\n",
       "    <tr>\n",
       "      <th>18</th>\n",
       "      <td>1.0</td>\n",
       "      <td>2.0</td>\n",
       "      <td>1.0</td>\n",
       "      <td>1.5</td>\n",
       "      <td>1.0</td>\n",
       "    </tr>\n",
       "  </tbody>\n",
       "</table>\n",
       "</div>"
      ],
      "text/plain": [
       "      average_rating  price  salesRankPos  fan_in  num_reviews\n",
       "1     2.0             1.0    1.0           2.0     2.0        \n",
       "1083  1.0             2.0    2.0           1.0     1.0        \n",
       "6     1.0             2.0    1.0           2.0     2.0        \n",
       "4091  2.0             1.0    2.0           1.0     1.0        \n",
       "18    1.0             2.0    1.0           1.5     1.0        "
      ]
     },
     "execution_count": 161,
     "metadata": {},
     "output_type": "execute_result"
    }
   ],
   "source": [
    "count = 0\n",
    "count_tot = 0\n",
    "cols = ['average_rating', 'price', 'salesRankPos', 'fan_in', 'num_reviews']\n",
    "data = []\n",
    "for c in cliques:\n",
    "    if len(c) >= 2:\n",
    "        df_tmp = g.df[cols].loc[c].rank()\n",
    "        data.append(df_tmp)\n",
    "res = pd.concat(data)\n",
    "print('Sample ranks from the data')\n",
    "res.head()"
   ]
  },
  {
   "cell_type": "code",
   "execution_count": 103,
   "metadata": {},
   "outputs": [
    {
     "data": {
      "image/png": "[encoded data removed]",
      "text/plain": [
       "<matplotlib.figure.Figure at 0x1e6910e02e8>"
      ]
     },
     "metadata": {},
     "output_type": "display_data"
    }
   ],
   "source": [
    "corr = res.corr()\n",
    "mask = np.zeros_like(corr, dtype=np.bool)\n",
    "mask[np.triu_indices_from(mask)] = True\n",
    "cmap = sns.diverging_palette(220, 10, as_cmap=True)\n",
    "plt.figure(figsize=(5, 5))\n",
    "_ = sns.heatmap(corr.values[1:,:-1], annot=True, mask=mask[1:,:-1], cmap=cmap,\n",
    "            xticklabels=corr.columns.values[:-1],\n",
    "            yticklabels=corr.columns.values[1:])"
   ]
  },
  {
   "cell_type": "markdown",
   "metadata": {},
   "source": [
    "The correlation analysis reveals some interesting (and expected) correlations in cliques. The fan-in has a moderate correlation with the number of reviews, and a weak correlation with the sales rank. We can also observe a weak correlation between the sales rank and the price, which makes us suppose that people tend to prefer cheaper products (note that a lower sales rank is better).\n",
    "\n",
    "To give more support to our argument, we now focus on the rest of the graph (not cliques). In the general case, we want to see if the fan-in can reliably predict the direction of an edge between two products, that is, if we have two products A and B, and $A_{fan\\_in} > B_{fan\\_in}$, then there is a directed edge from B to A. If this is true, then we can generalize this principle to cliques, where we do not have the ground truth."
   ]
  },
  {
   "cell_type": "code",
   "execution_count": 104,
   "metadata": {
    "collapsed": true
   },
   "outputs": [],
   "source": [
    "# We make sure to explicitly avoid cliques\n",
    "relations = []\n",
    "for i, a in enumerate(g.records):\n",
    "    for b_ in a['buy_after_viewing']:\n",
    "        if b_ not in g.name_id_mapping:\n",
    "            continue\n",
    "        j = g.name_id_mapping[b_]\n",
    "        b = g.records[j]\n",
    "        if a['asin'] not in b['buy_after_viewing']:\n",
    "            relations.append([i, j]) # First: worst - second: best"
   ]
  },
  {
   "cell_type": "code",
   "execution_count": 109,
   "metadata": {},
   "outputs": [
    {
     "name": "stdout",
     "output_type": "stream",
     "text": [
      "0.9668089585404362 out of 85505 relations\n"
     ]
    }
   ],
   "source": [
    "positive_matches = 0\n",
    "all_matches = 0\n",
    "for c in relations:\n",
    "    if g.df['fan_in'].loc[c[1]] > g.df['fan_in'].loc[c[0]]:\n",
    "        positive_matches += 1\n",
    "    all_matches += 1\n",
    "print(positive_matches/all_matches, 'out of', all_matches, 'relations')"
   ]
  },
  {
   "cell_type": "markdown",
   "metadata": {},
   "source": [
    "In 96% of cases, the edges point toward the product with the highest fan-in, which reinforces our argument. From now on, we will use fan-in as a metric for evaluating products, especially in cliques."
   ]
  },
  {
   "cell_type": "markdown",
   "metadata": {},
   "source": [
    "## Feature and text analysis"
   ]
  },
  {
   "cell_type": "markdown",
   "metadata": {},
   "source": [
    "Given two related products (e.g. the products in a cliques or just connected by one edge), we want to predict the preferred one (i.e. the one with the highest fan-in) by analyzing their features (both numeric and textual). Our goal is not to build a predictor, but to analyze what the model learns (interpretation) and gain some insight on how people decide.\n",
    "\n",
    "For this analysis, we focus on the *Cell Phones* subcategory, which is a field with strong competition. We do this analysis on **buy after viewing** relations, and not cliques.\n",
    "\n",
    "Our interpretation pipeline aims at comparing two products (specifically, *ranking* them). Given the features of two products, we want to feed them to a binary classifier that determines the best of the two. This approach, in the [learning to rank](https://en.wikipedia.org/wiki/Learning_to_rank) context, is referred to as the **pairwise approach**. A good reference for these models can be found [here](http://citeseerx.ist.psu.edu/viewdoc/download?doi=10.1.1.222.6261&rep=rep1&type=pdf).\n",
    "\n",
    "### Text analysis\n",
    "The text analysis pipeline works as follows:\n",
    "- Given two products, we extract their textual features from their *titles* using a tf-idf vectorizer. We also tried the description, with similar results. The title represents a more direct description of the product and is easier to interpret.\n",
    "- We subtract the feature vectors of the two products to produce the feature vector to supply to the classifier. As for the ground truth, provided that the subtraction is $A - B$, we put the label 0 if the winner is A, and 1 if the winner is B. For each sample, we also provide the opposite sample ($B - A$ with the inverted label), so that the classifier learns the commutative property and the classes are perfectly balanced.\n",
    "- We train a random forest on our data, with a fixed number of estimators (1000) and an optimal tree depth which is determined by grid search and cross-validation. Specifically, we perform a 5-fold cross-validation and select the depth that yields the best accuracy on the validation set.\n",
    "- We evaluate our model on a small test set (20% of the data) to determine whether it overfitted or not.\n",
    "- We take the most important features learned by the random forest (given by the sorted `clf.feature_importances_`), and we try to interpret them. However, this is not sufficient, as we get only an indication of their magnitude (a positive value), and not whether they affect positively or negatively the result.\n",
    "- To get an idea of their impact, we select the top 1000 features (i.e. words) in terms of importance, and we use them to train a L2-regularized logistic regressor. By analyzing the weights learned by the latter, we can observe the sign of each feature, which corresponds to the impact (negative or positive) of the feature on the result.\n",
    "\n",
    "While this process might seem convoluted, it is the result of many experiments. Initially, we tried to use L1-regularized logistic regression instead of random forests, which is expected to select only a few features (thanks to its sparsity property). Indeed, out of the thousands of features, only a few of them are selected. However, the model tends to overfit some features (e.g. the name of the model of a particular product, such as GT-I9500) in order to maximize the score, and these features are given a huge weight. As a result, it becomes impossible to interpret the model, as the useful features are buried by outliers.\n",
    "\n",
    "On the other hand, random forests average the results of many weaks predictors, and are less susceptible to this kind of overfitting. Therefore, our idea is to use random forests to perform feature selection, and interpret the useful features using logistic regression."
   ]
  },
  {
   "cell_type": "code",
   "execution_count": 179,
   "metadata": {},
   "outputs": [
    {
     "data": {
      "text/plain": [
       "5554"
      ]
     },
     "execution_count": 179,
     "metadata": {},
     "output_type": "execute_result"
    }
   ],
   "source": [
    "cat = ['Cell Phones & Accessories', 'Cell Phones']\n",
    "records = sc.textFile('data/reduced.json')\\\n",
    "    .map(json.loads)\\\n",
    "    .filter(lambda x: 'title' in x and len(x['title']) > 0 and 'price' in x and 'average_rating' in x)\\\n",
    "    .filter(lambda x: x['category'][:len(cat)] == cat)\\\n",
    "    .collect()\n",
    "len(records)"
   ]
  },
  {
   "cell_type": "code",
   "execution_count": 180,
   "metadata": {
    "collapsed": true
   },
   "outputs": [],
   "source": [
    "g = ProductGraph(records, add_edge_on='buy_after_viewing', remove_edge_on='bought_together')\n",
    "g = g.drop_singletons()"
   ]
  },
  {
   "cell_type": "code",
   "execution_count": 181,
   "metadata": {
    "collapsed": true
   },
   "outputs": [],
   "source": [
    "# Extract non-clique relations\n",
    "relations = []\n",
    "for i, a in enumerate(g.records):\n",
    "    for b_ in a['buy_after_viewing']:\n",
    "        if b_ not in g.name_id_mapping:\n",
    "            continue\n",
    "        j = g.name_id_mapping[b_]\n",
    "        b = g.records[j]\n",
    "        if a['asin'] not in b['buy_after_viewing']:\n",
    "            relations.append([i, j])"
   ]
  },
  {
   "cell_type": "markdown",
   "metadata": {},
   "source": [
    "Since the graph contains relations between products, our samples are correlated. This means that the same product may have relations with multiple other products, and as such, the same product will be present in multiple training samples. We must avoid this, as it would bias our cross-validation results. Ideally, we should make sure that the products sets in the cross-validation buckets are disjoint, that is, a certain product appears only in *one* bucket. One way to ensure this is to remove all products that have already been seen before, thereby guaranteeing their uniqueness."
   ]
  },
  {
   "cell_type": "code",
   "execution_count": 182,
   "metadata": {
    "collapsed": true
   },
   "outputs": [],
   "source": [
    "# Decorrelation\n",
    "def decorrelate(relation_list):\n",
    "    node_set = set()\n",
    "    result = []\n",
    "    for c in relation_list:\n",
    "        ok = True\n",
    "        for node in c:\n",
    "            if node in node_set:\n",
    "                ok = False\n",
    "                break\n",
    "        if ok:\n",
    "            for node in c:\n",
    "                node_set.add(node)\n",
    "            result.append(c)\n",
    "    return result"
   ]
  },
  {
   "cell_type": "code",
   "execution_count": 183,
   "metadata": {},
   "outputs": [
    {
     "data": {
      "text/plain": [
       "1427"
      ]
     },
     "execution_count": 183,
     "metadata": {},
     "output_type": "execute_result"
    }
   ],
   "source": [
    "relations = decorrelate(relations)\n",
    "len(relations)"
   ]
  },
  {
   "cell_type": "code",
   "execution_count": 184,
   "metadata": {},
   "outputs": [
    {
     "data": {
      "text/plain": [
       "1427"
      ]
     },
     "execution_count": 184,
     "metadata": {},
     "output_type": "execute_result"
    }
   ],
   "source": [
    "pairs = []\n",
    "for c in relations:\n",
    "    if len(c) >= 2:\n",
    "        pairs.append(c)\n",
    "pairs = np.array(pairs)\n",
    "len(pairs)"
   ]
  },
  {
   "cell_type": "code",
   "execution_count": 146,
   "metadata": {},
   "outputs": [
    {
     "name": "stdout",
     "output_type": "stream",
     "text": [
      "Random forests will be trained using 4 CPU cores and 1000 estimators\n"
     ]
    }
   ],
   "source": [
    "from sklearn.feature_extraction.text import TfidfVectorizer\n",
    "from sklearn.ensemble import RandomForestClassifier\n",
    "from sklearn.linear_model import LogisticRegression\n",
    "import itertools\n",
    "import multiprocessing\n",
    "\n",
    "num_estimators = 1000\n",
    "num_threads = multiprocessing.cpu_count()\n",
    "print('Random forests will be trained using', num_threads, 'CPU cores and', num_estimators, 'estimators')"
   ]
  },
  {
   "cell_type": "code",
   "execution_count": 147,
   "metadata": {
    "collapsed": true
   },
   "outputs": [],
   "source": [
    "# Train a model (and validate it) using Random Forests\n",
    "def train_model_rf(X_tr, y_tr, X_va, y_va, depth):\n",
    "    clf = RandomForestClassifier(max_depth=depth, random_state=0, n_estimators=num_estimators, n_jobs=num_threads)\n",
    "    clf.fit(X_tr, y_tr)\n",
    "    va_score = clf.score(X_va, y_va)\n",
    "    return va_score, clf\n",
    "\n",
    "# Train a model (and validate it) using L2-penalized logistic regression\n",
    "def train_model_lr(X_tr, y_tr, X_va, y_va, lambda_):\n",
    "    clf = LogisticRegression(penalty='l2', C=lambda_, fit_intercept=False)\n",
    "    clf.fit(X_tr, y_tr)\n",
    "    va_score = clf.score(X_va, y_va)\n",
    "    return va_score, clf"
   ]
  },
  {
   "cell_type": "code",
   "execution_count": 148,
   "metadata": {},
   "outputs": [
    {
     "name": "stdout",
     "output_type": "stream",
     "text": [
      "Depth: 5 - Accuracy: 0.595071547226 - std: 0.0398799800378\n",
      "Depth: 10 - Accuracy: 0.600384531886 - std: 0.0274005121685\n",
      "Depth: 15 - Accuracy: 0.594992816457 - std: 0.0318879724426\n",
      "Depth: 20 - Accuracy: 0.606192750951 - std: 0.034143930151\n",
      "Depth: 25 - Accuracy: 0.599872247678 - std: 0.0279655370407\n",
      "Best depth: 20\n"
     ]
    }
   ],
   "source": [
    "from scipy.sparse import hstack, vstack, csr_matrix\n",
    "from sklearn.model_selection import KFold, train_test_split\n",
    "\n",
    "def get_features(relation_list):\n",
    "    result = set()\n",
    "    for c in relation_list:\n",
    "        for elem in c:\n",
    "            result.add(elem)\n",
    "    \n",
    "    return g.df['title'].loc[list(result)]\n",
    "\n",
    "def build_data(relation_list):\n",
    "    X = []\n",
    "    y = []\n",
    "    for c in relation_list:\n",
    "        if len(c) >= 2:\n",
    "            # We use permutations instead of combinations because we also want elements in reversed order\n",
    "            for pair in itertools.permutations(c, 2):\n",
    "                pair = list(pair)\n",
    "                a = g.df['fan_in'].loc[pair[0]]\n",
    "                b = g.df['fan_in'].loc[pair[1]]\n",
    "                if a == b:\n",
    "                    continue # Discard ties\n",
    "                x_this = features[pair[0]] - features[pair[1]]\n",
    "                y_this = 0 if a > b else 1\n",
    "                X.append(x_this)\n",
    "                y.append(y_this)\n",
    "    return vstack(X), y\n",
    "\n",
    "data_cv, data_test = train_test_split(pairs, test_size=0.2, random_state=0, shuffle=True)\n",
    "\n",
    "k_fold = KFold(n_splits=5, shuffle=True, random_state=0)\n",
    "depths = np.arange(5, 30, 5)\n",
    "all_accuracies = []\n",
    "try:\n",
    "    for depth in depths:\n",
    "        accuracies = []\n",
    "        for train, validation in k_fold.split(data_cv):\n",
    "            vectorizer = TfidfVectorizer(token_pattern='(?u)\\\\b\\\\w[a-zA-Z0-9_-]+\\\\b')\n",
    "            vectorizer.fit(get_features(data_cv[train]))\n",
    "            features = vectorizer.transform(g.df['title'])\n",
    "            X_tr, y_tr = build_data(data_cv[train])\n",
    "            X_va, y_va = build_data(data_cv[validation])\n",
    "            va_score = train_model_rf(X_tr, y_tr, X_va, y_va, depth)[0]\n",
    "            accuracies.append(va_score)\n",
    "        print('Depth:', depth, '- Accuracy:', np.mean(accuracies), '- std:', np.std(accuracies))\n",
    "        all_accuracies.append(np.mean(accuracies))\n",
    "except KeyboardInterrupt:\n",
    "    print('Interrupted.')\n",
    "\n",
    "best_depth = depths[np.argmax(all_accuracies)]\n",
    "print('Best depth:', best_depth)"
   ]
  },
  {
   "cell_type": "code",
   "execution_count": 149,
   "metadata": {},
   "outputs": [
    {
     "name": "stdout",
     "output_type": "stream",
     "text": [
      "Test accuracy: 0.58896797153\n"
     ]
    }
   ],
   "source": [
    "# Perform evaluation on the test set\n",
    "vectorizer = TfidfVectorizer(token_pattern='(?u)\\\\b\\\\w[a-zA-Z0-9_-]+\\\\b')\n",
    "vectorizer.fit(get_features(data_cv))\n",
    "features = vectorizer.transform(g.df['title'])\n",
    "X, y = build_data(data_cv)\n",
    "X_te, y_te = build_data(data_test)\n",
    "score, clf = train_model_rf(X, y, X_te, y_te, best_depth)\n",
    "print('Test accuracy:', score)"
   ]
  },
  {
   "cell_type": "markdown",
   "metadata": {},
   "source": [
    "We get 58% of accuracy on the test set, which is not impressive. However, it is worth noting that the classes are perfectly balanced, and therefore the result is better than random. We can surely find some insights in the textual features."
   ]
  },
  {
   "cell_type": "code",
   "execution_count": 150,
   "metadata": {},
   "outputs": [
    {
     "data": {
      "text/html": [
       "<div>\n",
       "<style>\n",
       "    .dataframe thead tr:only-child th {\n",
       "        text-align: right;\n",
       "    }\n",
       "\n",
       "    .dataframe thead th {\n",
       "        text-align: left;\n",
       "    }\n",
       "\n",
       "    .dataframe tbody tr th {\n",
       "        vertical-align: top;\n",
       "    }\n",
       "</style>\n",
       "<table border=\"1\" class=\"dataframe\">\n",
       "  <thead>\n",
       "    <tr style=\"text-align: right;\">\n",
       "      <th></th>\n",
       "      <th>importance</th>\n",
       "      <th>std</th>\n",
       "    </tr>\n",
       "  </thead>\n",
       "  <tbody>\n",
       "    <tr>\n",
       "      <th>unlocked</th>\n",
       "      <td>0.028817</td>\n",
       "      <td>0.028300</td>\n",
       "    </tr>\n",
       "    <tr>\n",
       "      <th>black</th>\n",
       "      <td>0.027031</td>\n",
       "      <td>0.028810</td>\n",
       "    </tr>\n",
       "    <tr>\n",
       "      <th>android</th>\n",
       "      <td>0.019951</td>\n",
       "      <td>0.021543</td>\n",
       "    </tr>\n",
       "    <tr>\n",
       "      <th>and</th>\n",
       "      <td>0.018147</td>\n",
       "      <td>0.021599</td>\n",
       "    </tr>\n",
       "    <tr>\n",
       "      <th>phone</th>\n",
       "      <td>0.016169</td>\n",
       "      <td>0.015810</td>\n",
       "    </tr>\n",
       "    <tr>\n",
       "      <th>with</th>\n",
       "      <td>0.014900</td>\n",
       "      <td>0.016898</td>\n",
       "    </tr>\n",
       "    <tr>\n",
       "      <th>camera</th>\n",
       "      <td>0.014252</td>\n",
       "      <td>0.016952</td>\n",
       "    </tr>\n",
       "    <tr>\n",
       "      <th>gsm</th>\n",
       "      <td>0.013122</td>\n",
       "      <td>0.014085</td>\n",
       "    </tr>\n",
       "    <tr>\n",
       "      <th>cell</th>\n",
       "      <td>0.011640</td>\n",
       "      <td>0.013552</td>\n",
       "    </tr>\n",
       "    <tr>\n",
       "      <th>gps</th>\n",
       "      <td>0.011589</td>\n",
       "      <td>0.015720</td>\n",
       "    </tr>\n",
       "    <tr>\n",
       "      <th>lg</th>\n",
       "      <td>0.010736</td>\n",
       "      <td>0.014817</td>\n",
       "    </tr>\n",
       "    <tr>\n",
       "      <th>16gb</th>\n",
       "      <td>0.010339</td>\n",
       "      <td>0.014982</td>\n",
       "    </tr>\n",
       "    <tr>\n",
       "      <th>os</th>\n",
       "      <td>0.010309</td>\n",
       "      <td>0.016173</td>\n",
       "    </tr>\n",
       "    <tr>\n",
       "      <th>pink</th>\n",
       "      <td>0.010278</td>\n",
       "      <td>0.016042</td>\n",
       "    </tr>\n",
       "    <tr>\n",
       "      <th>apple</th>\n",
       "      <td>0.010177</td>\n",
       "      <td>0.016598</td>\n",
       "    </tr>\n",
       "    <tr>\n",
       "      <th>samsung</th>\n",
       "      <td>0.010160</td>\n",
       "      <td>0.013184</td>\n",
       "    </tr>\n",
       "    <tr>\n",
       "      <th>white</th>\n",
       "      <td>0.009129</td>\n",
       "      <td>0.011039</td>\n",
       "    </tr>\n",
       "    <tr>\n",
       "      <th>smartphone</th>\n",
       "      <td>0.009097</td>\n",
       "      <td>0.012028</td>\n",
       "    </tr>\n",
       "    <tr>\n",
       "      <th>mp</th>\n",
       "      <td>0.008879</td>\n",
       "      <td>0.013123</td>\n",
       "    </tr>\n",
       "    <tr>\n",
       "      <th>4g</th>\n",
       "      <td>0.008831</td>\n",
       "      <td>0.012405</td>\n",
       "    </tr>\n",
       "  </tbody>\n",
       "</table>\n",
       "</div>"
      ],
      "text/plain": [
       "            importance       std\n",
       "unlocked    0.028817    0.028300\n",
       "black       0.027031    0.028810\n",
       "android     0.019951    0.021543\n",
       "and         0.018147    0.021599\n",
       "phone       0.016169    0.015810\n",
       "with        0.014900    0.016898\n",
       "camera      0.014252    0.016952\n",
       "gsm         0.013122    0.014085\n",
       "cell        0.011640    0.013552\n",
       "gps         0.011589    0.015720\n",
       "lg          0.010736    0.014817\n",
       "16gb        0.010339    0.014982\n",
       "os          0.010309    0.016173\n",
       "pink        0.010278    0.016042\n",
       "apple       0.010177    0.016598\n",
       "samsung     0.010160    0.013184\n",
       "white       0.009129    0.011039\n",
       "smartphone  0.009097    0.012028\n",
       "mp          0.008879    0.013123\n",
       "4g          0.008831    0.012405"
      ]
     },
     "execution_count": 150,
     "metadata": {},
     "output_type": "execute_result"
    }
   ],
   "source": [
    "important_features = pd.DataFrame(clf.feature_importances_, columns=['importance'])\n",
    "important_features['std'] = np.std([tree.feature_importances_ for tree in clf.estimators_], axis=0)\n",
    "\n",
    "important_features = important_features.sort_values(by='importance', ascending=False).head(1000)\n",
    "\n",
    "mapping = np.array(vectorizer.get_feature_names())\n",
    "num_index = important_features.index\n",
    "important_features.index = important_features.index.map(lambda x: mapping[x])\n",
    "important_features.head(20)"
   ]
  },
  {
   "cell_type": "markdown",
   "metadata": {},
   "source": [
    "Some results are already starting to dealineate, but before reaching a conclusion, we move forward to the next part of the interpretation and report our findings in the end.\n",
    "\n",
    "We now select the top 1000 features and use them for training a logistic regression model."
   ]
  },
  {
   "cell_type": "code",
   "execution_count": 151,
   "metadata": {},
   "outputs": [
    {
     "name": "stdout",
     "output_type": "stream",
     "text": [
      "Test accuracy: 0.576512455516\n"
     ]
    }
   ],
   "source": [
    "X, y = build_data(data_cv)\n",
    "X_te, y_te = build_data(data_test)\n",
    "X = X.tocsr()[:, num_index.values]\n",
    "X_te = X_te.tocsr()[:, num_index.values]\n",
    "score, clf = train_model_lr(X, y, X_te, y_te, 1e1)\n",
    "print('Test accuracy:', score)"
   ]
  },
  {
   "cell_type": "markdown",
   "metadata": {},
   "source": [
    "The test accuracy is similar as with random forests, and we are sure that the classifier will not have overfitted certain features. We now show the weights corresponding the same features that we reported in the table above."
   ]
  },
  {
   "cell_type": "code",
   "execution_count": 153,
   "metadata": {},
   "outputs": [
    {
     "data": {
      "text/html": [
       "<div>\n",
       "<style>\n",
       "    .dataframe thead tr:only-child th {\n",
       "        text-align: right;\n",
       "    }\n",
       "\n",
       "    .dataframe thead th {\n",
       "        text-align: left;\n",
       "    }\n",
       "\n",
       "    .dataframe tbody tr th {\n",
       "        vertical-align: top;\n",
       "    }\n",
       "</style>\n",
       "<table border=\"1\" class=\"dataframe\">\n",
       "  <thead>\n",
       "    <tr style=\"text-align: right;\">\n",
       "      <th></th>\n",
       "      <th>importance</th>\n",
       "    </tr>\n",
       "  </thead>\n",
       "  <tbody>\n",
       "    <tr>\n",
       "      <th>unlocked</th>\n",
       "      <td>7.618841</td>\n",
       "    </tr>\n",
       "    <tr>\n",
       "      <th>black</th>\n",
       "      <td>5.478621</td>\n",
       "    </tr>\n",
       "    <tr>\n",
       "      <th>android</th>\n",
       "      <td>2.683909</td>\n",
       "    </tr>\n",
       "    <tr>\n",
       "      <th>and</th>\n",
       "      <td>1.923340</td>\n",
       "    </tr>\n",
       "    <tr>\n",
       "      <th>phone</th>\n",
       "      <td>1.242116</td>\n",
       "    </tr>\n",
       "    <tr>\n",
       "      <th>with</th>\n",
       "      <td>1.665849</td>\n",
       "    </tr>\n",
       "    <tr>\n",
       "      <th>camera</th>\n",
       "      <td>1.029032</td>\n",
       "    </tr>\n",
       "    <tr>\n",
       "      <th>gsm</th>\n",
       "      <td>1.931016</td>\n",
       "    </tr>\n",
       "    <tr>\n",
       "      <th>cell</th>\n",
       "      <td>-2.246584</td>\n",
       "    </tr>\n",
       "    <tr>\n",
       "      <th>gps</th>\n",
       "      <td>1.381554</td>\n",
       "    </tr>\n",
       "    <tr>\n",
       "      <th>lg</th>\n",
       "      <td>4.038973</td>\n",
       "    </tr>\n",
       "    <tr>\n",
       "      <th>16gb</th>\n",
       "      <td>3.019055</td>\n",
       "    </tr>\n",
       "    <tr>\n",
       "      <th>os</th>\n",
       "      <td>2.678168</td>\n",
       "    </tr>\n",
       "    <tr>\n",
       "      <th>pink</th>\n",
       "      <td>-5.561268</td>\n",
       "    </tr>\n",
       "    <tr>\n",
       "      <th>apple</th>\n",
       "      <td>4.528009</td>\n",
       "    </tr>\n",
       "    <tr>\n",
       "      <th>samsung</th>\n",
       "      <td>-2.240742</td>\n",
       "    </tr>\n",
       "    <tr>\n",
       "      <th>white</th>\n",
       "      <td>0.436424</td>\n",
       "    </tr>\n",
       "    <tr>\n",
       "      <th>smartphone</th>\n",
       "      <td>-1.347972</td>\n",
       "    </tr>\n",
       "    <tr>\n",
       "      <th>mp</th>\n",
       "      <td>1.234434</td>\n",
       "    </tr>\n",
       "    <tr>\n",
       "      <th>4g</th>\n",
       "      <td>2.535969</td>\n",
       "    </tr>\n",
       "    <tr>\n",
       "      <th>iphone</th>\n",
       "      <td>4.734669</td>\n",
       "    </tr>\n",
       "    <tr>\n",
       "      <th>galaxy</th>\n",
       "      <td>5.031030</td>\n",
       "    </tr>\n",
       "    <tr>\n",
       "      <th>warranty</th>\n",
       "      <td>-0.388924</td>\n",
       "    </tr>\n",
       "    <tr>\n",
       "      <th>bluetooth</th>\n",
       "      <td>1.530046</td>\n",
       "    </tr>\n",
       "    <tr>\n",
       "      <th>lte</th>\n",
       "      <td>1.095973</td>\n",
       "    </tr>\n",
       "  </tbody>\n",
       "</table>\n",
       "</div>"
      ],
      "text/plain": [
       "            importance\n",
       "unlocked    7.618841  \n",
       "black       5.478621  \n",
       "android     2.683909  \n",
       "and         1.923340  \n",
       "phone       1.242116  \n",
       "with        1.665849  \n",
       "camera      1.029032  \n",
       "gsm         1.931016  \n",
       "cell       -2.246584  \n",
       "gps         1.381554  \n",
       "lg          4.038973  \n",
       "16gb        3.019055  \n",
       "os          2.678168  \n",
       "pink       -5.561268  \n",
       "apple       4.528009  \n",
       "samsung    -2.240742  \n",
       "white       0.436424  \n",
       "smartphone -1.347972  \n",
       "mp          1.234434  \n",
       "4g          2.535969  \n",
       "iphone      4.734669  \n",
       "galaxy      5.031030  \n",
       "warranty   -0.388924  \n",
       "bluetooth   1.530046  \n",
       "lte         1.095973  "
      ]
     },
     "execution_count": 153,
     "metadata": {},
     "output_type": "execute_result"
    }
   ],
   "source": [
    "important_features_lr = pd.DataFrame(-clf.coef_[0], columns=['importance'])\n",
    "important_features_lr.index = important_features_lr.index.map(lambda x: important_features.index[x])\n",
    "important_features_lr.head(25)"
   ]
  },
  {
   "cell_type": "markdown",
   "metadata": {},
   "source": [
    "Intuitively, we have reported the weights in a way that positive values are \"good\" (i.e. correlate with the best product) and negative values are \"bad\".\n",
    "\n",
    "We can observe some patterns:\n",
    "- Putting the color of the product on the title (e.g. black or white, but not pink) has a beneficial effect. Clients probably are reassured by the fact that the product matches the color that they want (and this might not always be consistent with the photo).\n",
    "- Words that indicate the presence of a feature (e.g. with, gps, camera, unlocked, prepaid, bluetooth) also have a beneficial effect.\n",
    "- The most striking result, not unexpected, is that brand names also appear in this list (Apple, Samsung, iPhone, Galaxy).\n",
    "\n",
    "The best way to verify whether these weights are correct is to check some of these relations by hand. We query the graph by looking at the keywords in the title: if, in a relation A -> B, product A contains the keyword, we decrement a counter by 1. If product B contains the keyword, we increment the counter by 1 (cross-relations are automatically balanced). Eventually, we end up with a \"balance\" that describes whether people tend to escape from a product or choose it."
   ]
  },
  {
   "cell_type": "code",
   "execution_count": 208,
   "metadata": {},
   "outputs": [],
   "source": [
    "def get_balance(keyword):\n",
    "    num = 0\n",
    "    for i, a in enumerate(g.records):\n",
    "        for b_ in a['buy_after_viewing']:\n",
    "            if b_ not in g.name_id_mapping:\n",
    "                continue\n",
    "            j = g.name_id_mapping[b_]\n",
    "            b = g.records[j]\n",
    "            if a['asin'] not in b['buy_after_viewing']:\n",
    "                if keyword in g.records[i]['title']: # Worst product\n",
    "                    num -= 1\n",
    "                if keyword in g.records[j]['title']: # Best product\n",
    "                    num += 1\n",
    "    print('The balance for \"'+keyword+'\" is:', num)"
   ]
  },
  {
   "cell_type": "code",
   "execution_count": 217,
   "metadata": {},
   "outputs": [
    {
     "name": "stdout",
     "output_type": "stream",
     "text": [
      "The balance for \"Samsung\" is: -52\n",
      "The balance for \"Apple\" is: 45\n",
      "The balance for \"iPhone\" is: 66\n",
      "The balance for \"Black\" is: 753\n",
      "The balance for \"Android\" is: 297\n",
      "The balance for \"Pink\" is: -234\n",
      "The balance for \"Unlocked\" is: 1208\n"
     ]
    }
   ],
   "source": [
    "get_balance('Samsung')\n",
    "get_balance('Apple')\n",
    "get_balance('iPhone')\n",
    "get_balance('Black')\n",
    "get_balance('Android')\n",
    "get_balance('Pink')\n",
    "get_balance('Unlocked')"
   ]
  },
  {
   "cell_type": "markdown",
   "metadata": {},
   "source": [
    "These results clearly reflect those on the table. Surprisingly, Samsung is negative, but it is worth noting that the dataset is from a few years ago, and it reflects the entire history of Amazon (and not only the recent market).\n",
    "Out of the non-brand words, \"Black\" and \"Unlocked\" have the highest impact."
   ]
  },
  {
   "cell_type": "markdown",
   "metadata": {},
   "source": [
    "## Numeric feature analysis\n",
    "It would be interesting to repeat the same experiment using only some numeric features (e.g. price, rating, and number of reviews)."
   ]
  },
  {
   "cell_type": "code",
   "execution_count": 156,
   "metadata": {},
   "outputs": [
    {
     "name": "stdout",
     "output_type": "stream",
     "text": [
      "Test accuracy: 0.843416370107\n"
     ]
    }
   ],
   "source": [
    "features = csr_matrix(g.df[['num_reviews', 'average_rating']].values)\n",
    "X, y = build_data(data_cv)\n",
    "X_te, y_te = build_data(data_test)\n",
    "score, clf = train_model_rf(X, y, X_te, y_te, 10)\n",
    "print('Test accuracy:', score)"
   ]
  },
  {
   "cell_type": "markdown",
   "metadata": {},
   "source": [
    "Since we have only 2 features, it is almost impossible to overfit here, so we used a fixed tree depth of 10.\n",
    "The result is impressive, it looks like these features alone can predict many relations."
   ]
  },
  {
   "cell_type": "code",
   "execution_count": 157,
   "metadata": {},
   "outputs": [
    {
     "data": {
      "text/plain": [
       "array([ 0.80161457,  0.19838543])"
      ]
     },
     "execution_count": 157,
     "metadata": {},
     "output_type": "execute_result"
    }
   ],
   "source": [
    "clf.feature_importances_"
   ]
  },
  {
   "cell_type": "markdown",
   "metadata": {},
   "source": [
    "The number of reviews has the highest impact.\n",
    "To see what the model is learning, we plot its decision boundaries."
   ]
  },
  {
   "cell_type": "code",
   "execution_count": 174,
   "metadata": {},
   "outputs": [
    {
     "data": {
      "image/png": "[encoded data removed]",
      "text/plain": [
       "<matplotlib.figure.Figure at 0x1e691dcdc88>"
      ]
     },
     "metadata": {},
     "output_type": "display_data"
    }
   ],
   "source": [
    "x_min, x_max = X[:, 0].min() - .5, X[:, 0].max() + .5\n",
    "y_min, y_max = X[:, 1].min() - .5, X[:, 1].max() + .5\n",
    "x_min = -100\n",
    "x_max = 100\n",
    "xx, yy = np.meshgrid(np.arange(x_min, x_max, 10),\n",
    "                     np.arange(y_min, y_max, 0.1))\n",
    "\n",
    "Z = clf.predict_proba(np.c_[xx.ravel(), yy.ravel()])[:, 1]\n",
    "Z = Z.reshape(xx.shape)\n",
    "plt.contourf(xx, yy, Z, cmap=plt.cm.RdBu, alpha=.8)\n",
    "plt.xlabel('Difference in # of reviews')\n",
    "_ = plt.ylabel('Difference in rating (stars)')"
   ]
  },
  {
   "cell_type": "markdown",
   "metadata": {},
   "source": [
    "The result is surprising and unsurprising at the same time: people tend to choose a product according to the number of reviews, and the role of the actual rating is marginal (unless there is a big discrepancy between the ratings of the two products). This may be caused by the fact that ratings tend to concentrate on 4-5 stars."
   ]
  },
  {
   "cell_type": "markdown",
   "metadata": {},
   "source": [
    "# Conclusion\n",
    "During the development of this project we exposed the relations between the product so as to detect the comparable ones in a novel way. By using these relations, we discovered some non-trivial patterns that people follow when presented with different choices. In particular, we found out some of the features that affect the user in the choice of a product, e.g. some specific keywords in the title (e.g. colors), number of reviews, and, most importantly, brand names. We also proposed a suitable metric for comparing products (the fan-in of a node) in particular cases, such as inside cliques.\n",
    "\n",
    "With regard to our research questions:\n",
    "- Is our assumption founded? (Do clusters effectively represent competing products?)\n",
    " - Yes, we have checked some of them by hand, and they indeed represents product with very similar characteristics. Moreover, we ran some consistency tests that were successful.\n",
    "- Given some products with similar characteristics and use cases (e.g. a GPU for mining), can we find the best one? For instance, a suitable metric would be the rank of a product within a cluster.\n",
    " - We found out that the most appropriate metric for ranking a product within a cluster (whether a connected component or a clique) is the fan-in of the node. By analyzing the text in the titles, we can weakly predict the preferred product in a pair of competing products. Despite the accuracy being only slightly better than random, we detected some keywords that correlate with the best product, and these could provide useful suggestions for vendors. Additionally, we observed that users tend to buy products that have many reviews, and give less weight to the average rating (which presents a skewed distribution).\n",
    "- Are product choices affected by brand names?\n",
    " - Brand names indeed influence people's choices. However, we cannot know whether this is due to popularity and advertising reasons, or due to the fact that famous brands have better resources and manufacture products that are superior. Both of them might be partially true. As for the price, we did not find any evidence that suggests that \n",
    "- Could this project prove useful for users who want both to choose wisely and save time?  The same applies for vendors, who could see how their products relate to competitors' products.\n",
    " - We believe that our project reveals some useful insights, especially for vendors."
   ]
  }
 ],
 "metadata": {
  "anaconda-cloud": {},
  "kernelspec": {
   "display_name": "Python 3",
   "language": "python",
   "name": "python3"
  },
  "language_info": {
   "codemirror_mode": {
    "name": "ipython",
    "version": 3
   },
   "file_extension": ".py",
   "mimetype": "text/x-python",
   "name": "python",
   "nbconvert_exporter": "python",
   "pygments_lexer": "ipython3",
   "version": "3.6.2"
  }
 },
 "nbformat": 4,
 "nbformat_minor": 2
}
